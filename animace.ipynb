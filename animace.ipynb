{
 "cells": [
  {
   "cell_type": "markdown",
   "id": "1aa802d4-1fe9-4562-8535-fb4aab140e49",
   "metadata": {},
   "source": [
    "# Animace"
   ]
  },
  {
   "cell_type": "code",
   "execution_count": 1,
   "id": "664feace-6e12-48d3-8552-fafd941cf17e",
   "metadata": {},
   "outputs": [],
   "source": [
    "include(\"ising.jl\")\n",
    "using .Ising, LinearAlgebra, ProgressMeter, Images"
   ]
  },
  {
   "cell_type": "code",
   "execution_count": 2,
   "id": "2bb55ac2-3acc-427f-a72a-c77b15884ec3",
   "metadata": {},
   "outputs": [
    {
     "name": "stdout",
     "output_type": "stream",
     "text": [
      "Steps: 549, tries: 0\r"
     ]
    },
    {
     "name": "stderr",
     "output_type": "stream",
     "text": [
      "┌ Warning: Mapping to the storage type failed; perhaps your data had out-of-range values?\n",
      "│ Try `map(clamp01nan, img)` to clamp values to a valid range.\n",
      "└ @ ImageMagick C:\\Users\\Lukas\\.julia\\packages\\ImageMagick\\b8swT\\src\\ImageMagick.jl:180\n"
     ]
    },
    {
     "name": "stdout",
     "output_type": "stream",
     "text": [
      "Steps: 549, tries: 0\r"
     ]
    },
    {
     "name": "stderr",
     "output_type": "stream",
     "text": [
      "┌ Warning: Mapping to the storage type failed; perhaps your data had out-of-range values?\n",
      "│ Try `map(clamp01nan, img)` to clamp values to a valid range.\n",
      "└ @ ImageMagick C:\\Users\\Lukas\\.julia\\packages\\ImageMagick\\b8swT\\src\\ImageMagick.jl:180\n",
      "\u001b[32mProgress:   0%|█                                        |  ETA: 4:00:07\u001b[39m"
     ]
    },
    {
     "name": "stdout",
     "output_type": "stream",
     "text": [
      "Steps: 549, tries: 02\r"
     ]
    },
    {
     "name": "stderr",
     "output_type": "stream",
     "text": [
      "┌ Warning: Mapping to the storage type failed; perhaps your data had out-of-range values?\n",
      "│ Try `map(clamp01nan, img)` to clamp values to a valid range.\n",
      "└ @ ImageMagick C:\\Users\\Lukas\\.julia\\packages\\ImageMagick\\b8swT\\src\\ImageMagick.jl:180\n",
      "\u001b[32mProgress:   0%|█                                        |  ETA: 2:54:20\u001b[39m"
     ]
    },
    {
     "name": "stdout",
     "output_type": "stream",
     "text": [
      "Steps: 549, tries: 44\r"
     ]
    },
    {
     "name": "stderr",
     "output_type": "stream",
     "text": [
      "┌ Warning: Mapping to the storage type failed; perhaps your data had out-of-range values?\n",
      "│ Try `map(clamp01nan, img)` to clamp values to a valid range.\n",
      "└ @ ImageMagick C:\\Users\\Lukas\\.julia\\packages\\ImageMagick\\b8swT\\src\\ImageMagick.jl:180\n",
      "\u001b[32mProgress:   0%|█                                        |  ETA: 2:16:55\u001b[39m"
     ]
    },
    {
     "name": "stdout",
     "output_type": "stream",
     "text": [
      "Steps: 549, tries: 40\r"
     ]
    },
    {
     "name": "stderr",
     "output_type": "stream",
     "text": [
      "┌ Warning: Mapping to the storage type failed; perhaps your data had out-of-range values?\n",
      "│ Try `map(clamp01nan, img)` to clamp values to a valid range.\n",
      "└ @ ImageMagick C:\\Users\\Lukas\\.julia\\packages\\ImageMagick\\b8swT\\src\\ImageMagick.jl:180\n",
      "\u001b[32mProgress:   1%|█                                        |  ETA: 1:54:09\u001b[39m"
     ]
    },
    {
     "name": "stdout",
     "output_type": "stream",
     "text": [
      "Steps: 549, tries: 01\r"
     ]
    },
    {
     "name": "stderr",
     "output_type": "stream",
     "text": [
      "┌ Warning: Mapping to the storage type failed; perhaps your data had out-of-range values?\n",
      "│ Try `map(clamp01nan, img)` to clamp values to a valid range.\n",
      "└ @ ImageMagick C:\\Users\\Lukas\\.julia\\packages\\ImageMagick\\b8swT\\src\\ImageMagick.jl:180\n",
      "\u001b[32mProgress:   1%|█                                        |  ETA: 1:38:54\u001b[39m"
     ]
    },
    {
     "name": "stdout",
     "output_type": "stream",
     "text": [
      "Steps: 549, tries: 5\r"
     ]
    },
    {
     "name": "stderr",
     "output_type": "stream",
     "text": [
      "┌ Warning: Mapping to the storage type failed; perhaps your data had out-of-range values?\n",
      "│ Try `map(clamp01nan, img)` to clamp values to a valid range.\n",
      "└ @ ImageMagick C:\\Users\\Lukas\\.julia\\packages\\ImageMagick\\b8swT\\src\\ImageMagick.jl:180\n",
      "\u001b[32mProgress:   1%|█                                        |  ETA: 1:31:02\u001b[39m"
     ]
    },
    {
     "name": "stdout",
     "output_type": "stream",
     "text": [
      "Steps: 549, tries: 31\r"
     ]
    },
    {
     "name": "stderr",
     "output_type": "stream",
     "text": [
      "┌ Warning: Mapping to the storage type failed; perhaps your data had out-of-range values?\n",
      "│ Try `map(clamp01nan, img)` to clamp values to a valid range.\n",
      "└ @ ImageMagick C:\\Users\\Lukas\\.julia\\packages\\ImageMagick\\b8swT\\src\\ImageMagick.jl:180\n",
      "\u001b[32mProgress:   1%|█                                        |  ETA: 1:23:15\u001b[39m"
     ]
    },
    {
     "name": "stdout",
     "output_type": "stream",
     "text": [
      "Steps: 549, tries: 1\r"
     ]
    },
    {
     "name": "stderr",
     "output_type": "stream",
     "text": [
      "┌ Warning: Mapping to the storage type failed; perhaps your data had out-of-range values?\n",
      "│ Try `map(clamp01nan, img)` to clamp values to a valid range.\n",
      "└ @ ImageMagick C:\\Users\\Lukas\\.julia\\packages\\ImageMagick\\b8swT\\src\\ImageMagick.jl:180\n",
      "\r"
     ]
    },
    {
     "name": "stdout",
     "output_type": "stream",
     "text": [
      "Steps: 549, tries: 02\r"
     ]
    },
    {
     "name": "stderr",
     "output_type": "stream",
     "text": [
      "\u001b[32mProgress:   1%|█                                        |  ETA: 1:16:15\u001b[39m┌ Warning: Mapping to the storage type failed; perhaps your data had out-of-range values?\n",
      "│ Try `map(clamp01nan, img)` to clamp values to a valid range.\n",
      "└ @ ImageMagick C:\\Users\\Lukas\\.julia\\packages\\ImageMagick\\b8swT\\src\\ImageMagick.jl:180\n",
      "\u001b[32mProgress:   1%|█                                        |  ETA: 1:10:41\u001b[39m"
     ]
    },
    {
     "name": "stdout",
     "output_type": "stream",
     "text": [
      "Steps: 549, tries: 3\r"
     ]
    },
    {
     "name": "stderr",
     "output_type": "stream",
     "text": [
      "┌ Warning: Mapping to the storage type failed; perhaps your data had out-of-range values?\n",
      "│ Try `map(clamp01nan, img)` to clamp values to a valid range.\n",
      "└ @ ImageMagick C:\\Users\\Lukas\\.julia\\packages\\ImageMagick\\b8swT\\src\\ImageMagick.jl:180\n",
      "\u001b[32mProgress:   1%|█                                        |  ETA: 1:06:11\u001b[39m"
     ]
    },
    {
     "name": "stdout",
     "output_type": "stream",
     "text": [
      "Steps: 549, tries: 1\r"
     ]
    },
    {
     "name": "stderr",
     "output_type": "stream",
     "text": [
      "┌ Warning: Mapping to the storage type failed; perhaps your data had out-of-range values?\n",
      "│ Try `map(clamp01nan, img)` to clamp values to a valid range.\n",
      "└ @ ImageMagick C:\\Users\\Lukas\\.julia\\packages\\ImageMagick\\b8swT\\src\\ImageMagick.jl:180\n",
      "\u001b[32mProgress:   2%|█                                        |  ETA: 1:02:16\u001b[39m"
     ]
    },
    {
     "name": "stdout",
     "output_type": "stream",
     "text": [
      "Steps: 549, tries: 0\r"
     ]
    },
    {
     "name": "stderr",
     "output_type": "stream",
     "text": [
      "┌ Warning: Mapping to the storage type failed; perhaps your data had out-of-range values?\n",
      "│ Try `map(clamp01nan, img)` to clamp values to a valid range.\n",
      "└ @ ImageMagick C:\\Users\\Lukas\\.julia\\packages\\ImageMagick\\b8swT\\src\\ImageMagick.jl:180\n",
      "\u001b[32mProgress:   2%|█                                        |  ETA: 0:59:00\u001b[39m"
     ]
    },
    {
     "name": "stdout",
     "output_type": "stream",
     "text": [
      "Steps: 549, tries: 0\r"
     ]
    },
    {
     "name": "stderr",
     "output_type": "stream",
     "text": [
      "┌ Warning: Mapping to the storage type failed; perhaps your data had out-of-range values?\n",
      "│ Try `map(clamp01nan, img)` to clamp values to a valid range.\n",
      "└ @ ImageMagick C:\\Users\\Lukas\\.julia\\packages\\ImageMagick\\b8swT\\src\\ImageMagick.jl:180\n",
      "\u001b[32mProgress:   2%|█                                        |  ETA: 0:56:09\u001b[39m"
     ]
    },
    {
     "name": "stdout",
     "output_type": "stream",
     "text": [
      "Steps: 549, tries: 00\r"
     ]
    },
    {
     "name": "stderr",
     "output_type": "stream",
     "text": [
      "┌ Warning: Mapping to the storage type failed; perhaps your data had out-of-range values?\n",
      "│ Try `map(clamp01nan, img)` to clamp values to a valid range.\n",
      "└ @ ImageMagick C:\\Users\\Lukas\\.julia\\packages\\ImageMagick\\b8swT\\src\\ImageMagick.jl:180\n",
      "\u001b[32mProgress:   2%|█                                        |  ETA: 0:53:54\u001b[39m"
     ]
    },
    {
     "name": "stdout",
     "output_type": "stream",
     "text": [
      "Steps: 549, tries: 1\r"
     ]
    },
    {
     "name": "stderr",
     "output_type": "stream",
     "text": [
      "┌ Warning: Mapping to the storage type failed; perhaps your data had out-of-range values?\n",
      "│ Try `map(clamp01nan, img)` to clamp values to a valid range.\n",
      "└ @ ImageMagick C:\\Users\\Lukas\\.julia\\packages\\ImageMagick\\b8swT\\src\\ImageMagick.jl:180\n",
      "\u001b[32mProgress:   2%|█                                        |  ETA: 0:52:11\u001b[39m"
     ]
    },
    {
     "name": "stdout",
     "output_type": "stream",
     "text": [
      "Steps: 549, tries: 0\r"
     ]
    },
    {
     "name": "stderr",
     "output_type": "stream",
     "text": [
      "┌ Warning: Mapping to the storage type failed; perhaps your data had out-of-range values?\n",
      "│ Try `map(clamp01nan, img)` to clamp values to a valid range.\n",
      "└ @ ImageMagick C:\\Users\\Lukas\\.julia\\packages\\ImageMagick\\b8swT\\src\\ImageMagick.jl:180\n",
      "\u001b[32mProgress:   2%|█                                        |  ETA: 0:50:38\u001b[39m"
     ]
    },
    {
     "name": "stdout",
     "output_type": "stream",
     "text": [
      "Steps: 549, tries: 13\r"
     ]
    },
    {
     "name": "stderr",
     "output_type": "stream",
     "text": [
      "┌ Warning: Mapping to the storage type failed; perhaps your data had out-of-range values?\n",
      "│ Try `map(clamp01nan, img)` to clamp values to a valid range.\n",
      "└ @ ImageMagick C:\\Users\\Lukas\\.julia\\packages\\ImageMagick\\b8swT\\src\\ImageMagick.jl:180\n",
      "\u001b[32mProgress:   2%|█                                        |  ETA: 0:49:10\u001b[39m"
     ]
    },
    {
     "name": "stdout",
     "output_type": "stream",
     "text": [
      "Steps: 549, tries: 01\r"
     ]
    },
    {
     "name": "stderr",
     "output_type": "stream",
     "text": [
      "┌ Warning: Mapping to the storage type failed; perhaps your data had out-of-range values?\n",
      "│ Try `map(clamp01nan, img)` to clamp values to a valid range.\n",
      "└ @ ImageMagick C:\\Users\\Lukas\\.julia\\packages\\ImageMagick\\b8swT\\src\\ImageMagick.jl:180\n",
      "\u001b[32mProgress:   2%|█                                        |  ETA: 0:47:51\u001b[39m"
     ]
    },
    {
     "name": "stdout",
     "output_type": "stream",
     "text": [
      "Steps: 549, tries: 11\r"
     ]
    },
    {
     "name": "stderr",
     "output_type": "stream",
     "text": [
      "┌ Warning: Mapping to the storage type failed; perhaps your data had out-of-range values?\n",
      "│ Try `map(clamp01nan, img)` to clamp values to a valid range.\n",
      "└ @ ImageMagick C:\\Users\\Lukas\\.julia\\packages\\ImageMagick\\b8swT\\src\\ImageMagick.jl:180\n",
      "\u001b[32mProgress:   2%|██                                       |  ETA: 0:46:38\u001b[39m"
     ]
    },
    {
     "name": "stdout",
     "output_type": "stream",
     "text": [
      "Steps: 549, tries: 1\r"
     ]
    },
    {
     "name": "stderr",
     "output_type": "stream",
     "text": [
      "┌ Warning: Mapping to the storage type failed; perhaps your data had out-of-range values?\n",
      "│ Try `map(clamp01nan, img)` to clamp values to a valid range.\n",
      "└ @ ImageMagick C:\\Users\\Lukas\\.julia\\packages\\ImageMagick\\b8swT\\src\\ImageMagick.jl:180\n",
      "\u001b[32mProgress:   3%|██                                       |  ETA: 0:45:29\u001b[39m"
     ]
    },
    {
     "name": "stdout",
     "output_type": "stream",
     "text": [
      "Steps: 549, tries: 2\r"
     ]
    },
    {
     "name": "stderr",
     "output_type": "stream",
     "text": [
      "┌ Warning: Mapping to the storage type failed; perhaps your data had out-of-range values?\n",
      "│ Try `map(clamp01nan, img)` to clamp values to a valid range.\n",
      "└ @ ImageMagick C:\\Users\\Lukas\\.julia\\packages\\ImageMagick\\b8swT\\src\\ImageMagick.jl:180\n",
      "\u001b[32mProgress:   3%|██                                       |  ETA: 0:44:24\u001b[39m"
     ]
    },
    {
     "name": "stdout",
     "output_type": "stream",
     "text": [
      "Steps: 549, tries: 13\r"
     ]
    },
    {
     "name": "stderr",
     "output_type": "stream",
     "text": [
      "┌ Warning: Mapping to the storage type failed; perhaps your data had out-of-range values?\n",
      "│ Try `map(clamp01nan, img)` to clamp values to a valid range.\n",
      "└ @ ImageMagick C:\\Users\\Lukas\\.julia\\packages\\ImageMagick\\b8swT\\src\\ImageMagick.jl:180\n",
      "\u001b[32mProgress:   3%|██                                       |  ETA: 0:43:25\u001b[39m"
     ]
    },
    {
     "name": "stdout",
     "output_type": "stream",
     "text": [
      "Steps: 549, tries: 0\r"
     ]
    },
    {
     "name": "stderr",
     "output_type": "stream",
     "text": [
      "┌ Warning: Mapping to the storage type failed; perhaps your data had out-of-range values?\n",
      "│ Try `map(clamp01nan, img)` to clamp values to a valid range.\n",
      "└ @ ImageMagick C:\\Users\\Lukas\\.julia\\packages\\ImageMagick\\b8swT\\src\\ImageMagick.jl:180\n",
      "\u001b[32mProgress:   3%|██                                       |  ETA: 0:42:24\u001b[39m"
     ]
    },
    {
     "name": "stdout",
     "output_type": "stream",
     "text": [
      "Steps: 549, tries: 00\r"
     ]
    },
    {
     "name": "stderr",
     "output_type": "stream",
     "text": [
      "┌ Warning: Mapping to the storage type failed; perhaps your data had out-of-range values?\n",
      "│ Try `map(clamp01nan, img)` to clamp values to a valid range.\n",
      "└ @ ImageMagick C:\\Users\\Lukas\\.julia\\packages\\ImageMagick\\b8swT\\src\\ImageMagick.jl:180\n",
      "\u001b[32mProgress:   3%|██                                       |  ETA: 0:41:37\u001b[39m"
     ]
    },
    {
     "name": "stdout",
     "output_type": "stream",
     "text": [
      "Steps: 549, tries: 4\r"
     ]
    },
    {
     "name": "stderr",
     "output_type": "stream",
     "text": [
      "┌ Warning: Mapping to the storage type failed; perhaps your data had out-of-range values?\n",
      "│ Try `map(clamp01nan, img)` to clamp values to a valid range.\n",
      "└ @ ImageMagick C:\\Users\\Lukas\\.julia\\packages\\ImageMagick\\b8swT\\src\\ImageMagick.jl:180\n",
      "\u001b[32mProgress:   3%|██                                       |  ETA: 0:40:59\u001b[39m"
     ]
    },
    {
     "name": "stdout",
     "output_type": "stream",
     "text": [
      "Steps: 549, tries: 2\r"
     ]
    },
    {
     "name": "stderr",
     "output_type": "stream",
     "text": [
      "┌ Warning: Mapping to the storage type failed; perhaps your data had out-of-range values?\n",
      "│ Try `map(clamp01nan, img)` to clamp values to a valid range.\n",
      "└ @ ImageMagick C:\\Users\\Lukas\\.julia\\packages\\ImageMagick\\b8swT\\src\\ImageMagick.jl:180\n",
      "\u001b[32mProgress:   3%|██                                       |  ETA: 0:40:34\u001b[39m"
     ]
    },
    {
     "name": "stdout",
     "output_type": "stream",
     "text": [
      "Steps: 549, tries: 00\r"
     ]
    },
    {
     "name": "stderr",
     "output_type": "stream",
     "text": [
      "┌ Warning: Mapping to the storage type failed; perhaps your data had out-of-range values?\n",
      "│ Try `map(clamp01nan, img)` to clamp values to a valid range.\n",
      "└ @ ImageMagick C:\\Users\\Lukas\\.julia\\packages\\ImageMagick\\b8swT\\src\\ImageMagick.jl:180\n",
      "\u001b[32mProgress:   4%|██                                       |  ETA: 0:39:49\u001b[39m"
     ]
    },
    {
     "name": "stdout",
     "output_type": "stream",
     "text": [
      "Steps: 549, tries: 00\r"
     ]
    },
    {
     "name": "stderr",
     "output_type": "stream",
     "text": [
      "┌ Warning: Mapping to the storage type failed; perhaps your data had out-of-range values?\n",
      "│ Try `map(clamp01nan, img)` to clamp values to a valid range.\n",
      "└ @ ImageMagick C:\\Users\\Lukas\\.julia\\packages\\ImageMagick\\b8swT\\src\\ImageMagick.jl:180\n",
      "\u001b[32mProgress:   4%|██                                       |  ETA: 0:39:15\u001b[39m"
     ]
    },
    {
     "name": "stdout",
     "output_type": "stream",
     "text": [
      "Steps: 549, tries: 0\r"
     ]
    },
    {
     "name": "stderr",
     "output_type": "stream",
     "text": [
      "┌ Warning: Mapping to the storage type failed; perhaps your data had out-of-range values?\n",
      "│ Try `map(clamp01nan, img)` to clamp values to a valid range.\n",
      "└ @ ImageMagick C:\\Users\\Lukas\\.julia\\packages\\ImageMagick\\b8swT\\src\\ImageMagick.jl:180\n",
      "\u001b[32mProgress:   4%|██                                       |  ETA: 0:38:42\u001b[39m"
     ]
    },
    {
     "name": "stdout",
     "output_type": "stream",
     "text": [
      "Steps: 549, tries: 20\r"
     ]
    },
    {
     "name": "stderr",
     "output_type": "stream",
     "text": [
      "┌ Warning: Mapping to the storage type failed; perhaps your data had out-of-range values?\n",
      "│ Try `map(clamp01nan, img)` to clamp values to a valid range.\n",
      "└ @ ImageMagick C:\\Users\\Lukas\\.julia\\packages\\ImageMagick\\b8swT\\src\\ImageMagick.jl:180\n",
      "\u001b[32mProgress:   4%|██                                       |  ETA: 0:38:09\u001b[39m"
     ]
    },
    {
     "name": "stdout",
     "output_type": "stream",
     "text": [
      "Steps: 549, tries: 00\r"
     ]
    },
    {
     "name": "stderr",
     "output_type": "stream",
     "text": [
      "┌ Warning: Mapping to the storage type failed; perhaps your data had out-of-range values?\n",
      "│ Try `map(clamp01nan, img)` to clamp values to a valid range.\n",
      "└ @ ImageMagick C:\\Users\\Lukas\\.julia\\packages\\ImageMagick\\b8swT\\src\\ImageMagick.jl:180\n",
      "\u001b[32mProgress:   4%|██                                       |  ETA: 0:37:36\u001b[39m"
     ]
    },
    {
     "name": "stdout",
     "output_type": "stream",
     "text": [
      "Steps: 549, tries: 41\r"
     ]
    },
    {
     "name": "stderr",
     "output_type": "stream",
     "text": [
      "┌ Warning: Mapping to the storage type failed; perhaps your data had out-of-range values?\n",
      "│ Try `map(clamp01nan, img)` to clamp values to a valid range.\n",
      "└ @ ImageMagick C:\\Users\\Lukas\\.julia\\packages\\ImageMagick\\b8swT\\src\\ImageMagick.jl:180\n",
      "\u001b[32mProgress:   4%|██                                       |  ETA: 0:37:03\u001b[39m"
     ]
    },
    {
     "name": "stdout",
     "output_type": "stream",
     "text": [
      "Steps: 549, tries: 0\r"
     ]
    },
    {
     "name": "stderr",
     "output_type": "stream",
     "text": [
      "┌ Warning: Mapping to the storage type failed; perhaps your data had out-of-range values?\n",
      "│ Try `map(clamp01nan, img)` to clamp values to a valid range.\n",
      "└ @ ImageMagick C:\\Users\\Lukas\\.julia\\packages\\ImageMagick\\b8swT\\src\\ImageMagick.jl:180\n",
      "\u001b[32mProgress:   4%|██                                       |  ETA: 0:36:36\u001b[39m"
     ]
    },
    {
     "name": "stdout",
     "output_type": "stream",
     "text": [
      "Steps: 549, tries: 01\r"
     ]
    },
    {
     "name": "stderr",
     "output_type": "stream",
     "text": [
      "┌ Warning: Mapping to the storage type failed; perhaps your data had out-of-range values?\n",
      "│ Try `map(clamp01nan, img)` to clamp values to a valid range.\n",
      "└ @ ImageMagick C:\\Users\\Lukas\\.julia\\packages\\ImageMagick\\b8swT\\src\\ImageMagick.jl:180\n",
      "\u001b[32mProgress:   4%|██                                       |  ETA: 0:36:10\u001b[39m"
     ]
    },
    {
     "name": "stdout",
     "output_type": "stream",
     "text": [
      "Steps: 549, tries: 32\r"
     ]
    },
    {
     "name": "stderr",
     "output_type": "stream",
     "text": [
      "┌ Warning: Mapping to the storage type failed; perhaps your data had out-of-range values?\n",
      "│ Try `map(clamp01nan, img)` to clamp values to a valid range.\n",
      "└ @ ImageMagick C:\\Users\\Lukas\\.julia\\packages\\ImageMagick\\b8swT\\src\\ImageMagick.jl:180\n",
      "\u001b[32mProgress:   4%|██                                       |  ETA: 0:35:45\u001b[39m"
     ]
    },
    {
     "name": "stdout",
     "output_type": "stream",
     "text": [
      "Steps: 549, tries: 30\r"
     ]
    },
    {
     "name": "stderr",
     "output_type": "stream",
     "text": [
      "┌ Warning: Mapping to the storage type failed; perhaps your data had out-of-range values?\n",
      "│ Try `map(clamp01nan, img)` to clamp values to a valid range.\n",
      "└ @ ImageMagick C:\\Users\\Lukas\\.julia\\packages\\ImageMagick\\b8swT\\src\\ImageMagick.jl:180\n",
      "\u001b[32mProgress:   5%|██                                       |  ETA: 0:35:17\u001b[39m"
     ]
    },
    {
     "name": "stdout",
     "output_type": "stream",
     "text": [
      "Steps: 549, tries: 00\r"
     ]
    },
    {
     "name": "stderr",
     "output_type": "stream",
     "text": [
      "┌ Warning: Mapping to the storage type failed; perhaps your data had out-of-range values?\n",
      "│ Try `map(clamp01nan, img)` to clamp values to a valid range.\n",
      "└ @ ImageMagick C:\\Users\\Lukas\\.julia\\packages\\ImageMagick\\b8swT\\src\\ImageMagick.jl:180\n",
      "\u001b[32mProgress:   5%|██                                       |  ETA: 0:34:56\u001b[39m"
     ]
    },
    {
     "name": "stdout",
     "output_type": "stream",
     "text": [
      "Steps: 549, tries: 31\r"
     ]
    },
    {
     "name": "stderr",
     "output_type": "stream",
     "text": [
      "┌ Warning: Mapping to the storage type failed; perhaps your data had out-of-range values?\n",
      "│ Try `map(clamp01nan, img)` to clamp values to a valid range.\n",
      "└ @ ImageMagick C:\\Users\\Lukas\\.julia\\packages\\ImageMagick\\b8swT\\src\\ImageMagick.jl:180\n",
      "\u001b[32mProgress:   5%|██                                       |  ETA: 0:34:34\u001b[39m"
     ]
    },
    {
     "name": "stdout",
     "output_type": "stream",
     "text": [
      "Steps: 549, tries: 0\r"
     ]
    },
    {
     "name": "stderr",
     "output_type": "stream",
     "text": [
      "┌ Warning: Mapping to the storage type failed; perhaps your data had out-of-range values?\n",
      "│ Try `map(clamp01nan, img)` to clamp values to a valid range.\n",
      "└ @ ImageMagick C:\\Users\\Lukas\\.julia\\packages\\ImageMagick\\b8swT\\src\\ImageMagick.jl:180\n",
      "\u001b[32mProgress:   5%|███                                      |  ETA: 0:34:14\u001b[39m"
     ]
    },
    {
     "name": "stdout",
     "output_type": "stream",
     "text": [
      "Steps: 549, tries: 0\r"
     ]
    },
    {
     "name": "stderr",
     "output_type": "stream",
     "text": [
      "┌ Warning: Mapping to the storage type failed; perhaps your data had out-of-range values?\n",
      "│ Try `map(clamp01nan, img)` to clamp values to a valid range.\n",
      "└ @ ImageMagick C:\\Users\\Lukas\\.julia\\packages\\ImageMagick\\b8swT\\src\\ImageMagick.jl:180\n",
      "\u001b[32mProgress:   5%|███                                      |  ETA: 0:33:56\u001b[39m"
     ]
    },
    {
     "name": "stdout",
     "output_type": "stream",
     "text": [
      "Steps: 549, tries: 03\r"
     ]
    },
    {
     "name": "stderr",
     "output_type": "stream",
     "text": [
      "┌ Warning: Mapping to the storage type failed; perhaps your data had out-of-range values?\n",
      "│ Try `map(clamp01nan, img)` to clamp values to a valid range.\n",
      "└ @ ImageMagick C:\\Users\\Lukas\\.julia\\packages\\ImageMagick\\b8swT\\src\\ImageMagick.jl:180\n",
      "\u001b[32mProgress:   5%|███                                      |  ETA: 0:33:39\u001b[39m"
     ]
    },
    {
     "name": "stdout",
     "output_type": "stream",
     "text": [
      "Steps: 549, tries: 91\r"
     ]
    },
    {
     "name": "stderr",
     "output_type": "stream",
     "text": [
      "┌ Warning: Mapping to the storage type failed; perhaps your data had out-of-range values?\n",
      "│ Try `map(clamp01nan, img)` to clamp values to a valid range.\n",
      "└ @ ImageMagick C:\\Users\\Lukas\\.julia\\packages\\ImageMagick\\b8swT\\src\\ImageMagick.jl:180\n",
      "\u001b[32mProgress:   5%|███                                      |  ETA: 0:33:22\u001b[39m"
     ]
    },
    {
     "name": "stdout",
     "output_type": "stream",
     "text": [
      "Steps: 549, tries: 00\r"
     ]
    },
    {
     "name": "stderr",
     "output_type": "stream",
     "text": [
      "┌ Warning: Mapping to the storage type failed; perhaps your data had out-of-range values?\n",
      "│ Try `map(clamp01nan, img)` to clamp values to a valid range.\n",
      "└ @ ImageMagick C:\\Users\\Lukas\\.julia\\packages\\ImageMagick\\b8swT\\src\\ImageMagick.jl:180\n",
      "\u001b[32mProgress:   6%|███                                      |  ETA: 0:33:06\u001b[39m"
     ]
    },
    {
     "name": "stdout",
     "output_type": "stream",
     "text": [
      "Steps: 549, tries: 01\r"
     ]
    },
    {
     "name": "stderr",
     "output_type": "stream",
     "text": [
      "┌ Warning: Mapping to the storage type failed; perhaps your data had out-of-range values?\n",
      "│ Try `map(clamp01nan, img)` to clamp values to a valid range.\n",
      "└ @ ImageMagick C:\\Users\\Lukas\\.julia\\packages\\ImageMagick\\b8swT\\src\\ImageMagick.jl:180\n",
      "\u001b[32mProgress:   6%|███                                      |  ETA: 0:32:45\u001b[39m"
     ]
    },
    {
     "name": "stdout",
     "output_type": "stream",
     "text": [
      "Steps: 549, tries: 30\r"
     ]
    },
    {
     "name": "stderr",
     "output_type": "stream",
     "text": [
      "┌ Warning: Mapping to the storage type failed; perhaps your data had out-of-range values?\n",
      "│ Try `map(clamp01nan, img)` to clamp values to a valid range.\n",
      "└ @ ImageMagick C:\\Users\\Lukas\\.julia\\packages\\ImageMagick\\b8swT\\src\\ImageMagick.jl:180\n",
      "\u001b[32mProgress:   6%|███                                      |  ETA: 0:32:28\u001b[39m"
     ]
    },
    {
     "name": "stdout",
     "output_type": "stream",
     "text": [
      "Steps: 549, tries: 16\r"
     ]
    },
    {
     "name": "stderr",
     "output_type": "stream",
     "text": [
      "┌ Warning: Mapping to the storage type failed; perhaps your data had out-of-range values?\n",
      "│ Try `map(clamp01nan, img)` to clamp values to a valid range.\n",
      "└ @ ImageMagick C:\\Users\\Lukas\\.julia\\packages\\ImageMagick\\b8swT\\src\\ImageMagick.jl:180\n",
      "\u001b[32mProgress:   6%|███                                      |  ETA: 0:32:10\u001b[39m"
     ]
    },
    {
     "name": "stdout",
     "output_type": "stream",
     "text": [
      "Steps: 549, tries: 04\r"
     ]
    },
    {
     "name": "stderr",
     "output_type": "stream",
     "text": [
      "┌ Warning: Mapping to the storage type failed; perhaps your data had out-of-range values?\n",
      "│ Try `map(clamp01nan, img)` to clamp values to a valid range.\n",
      "└ @ ImageMagick C:\\Users\\Lukas\\.julia\\packages\\ImageMagick\\b8swT\\src\\ImageMagick.jl:180\n",
      "\u001b[32mProgress:   6%|███                                      |  ETA: 0:31:59\u001b[39m"
     ]
    },
    {
     "name": "stdout",
     "output_type": "stream",
     "text": [
      "Steps: 549, tries: 02\r"
     ]
    },
    {
     "name": "stderr",
     "output_type": "stream",
     "text": [
      "┌ Warning: Mapping to the storage type failed; perhaps your data had out-of-range values?\n",
      "│ Try `map(clamp01nan, img)` to clamp values to a valid range.\n",
      "└ @ ImageMagick C:\\Users\\Lukas\\.julia\\packages\\ImageMagick\\b8swT\\src\\ImageMagick.jl:180\n",
      "\u001b[32mProgress:   6%|███                                      |  ETA: 0:31:44\u001b[39m"
     ]
    },
    {
     "name": "stdout",
     "output_type": "stream",
     "text": [
      "Steps: 549, tries: 23\r"
     ]
    },
    {
     "name": "stderr",
     "output_type": "stream",
     "text": [
      "┌ Warning: Mapping to the storage type failed; perhaps your data had out-of-range values?\n",
      "│ Try `map(clamp01nan, img)` to clamp values to a valid range.\n",
      "└ @ ImageMagick C:\\Users\\Lukas\\.julia\\packages\\ImageMagick\\b8swT\\src\\ImageMagick.jl:180\n",
      "\u001b[32mProgress:   6%|███                                      |  ETA: 0:31:30\u001b[39m"
     ]
    },
    {
     "name": "stdout",
     "output_type": "stream",
     "text": [
      "Steps: 549, tries: 00\r"
     ]
    },
    {
     "name": "stderr",
     "output_type": "stream",
     "text": [
      "┌ Warning: Mapping to the storage type failed; perhaps your data had out-of-range values?\n",
      "│ Try `map(clamp01nan, img)` to clamp values to a valid range.\n",
      "└ @ ImageMagick C:\\Users\\Lukas\\.julia\\packages\\ImageMagick\\b8swT\\src\\ImageMagick.jl:180\n",
      "\u001b[32mProgress:   6%|███                                      |  ETA: 0:31:16\u001b[39m"
     ]
    },
    {
     "name": "stdout",
     "output_type": "stream",
     "text": [
      "Steps: 549, tries: 04\r"
     ]
    },
    {
     "name": "stderr",
     "output_type": "stream",
     "text": [
      "┌ Warning: Mapping to the storage type failed; perhaps your data had out-of-range values?\n",
      "│ Try `map(clamp01nan, img)` to clamp values to a valid range.\n",
      "└ @ ImageMagick C:\\Users\\Lukas\\.julia\\packages\\ImageMagick\\b8swT\\src\\ImageMagick.jl:180\n",
      "\u001b[32mProgress:   6%|███                                      |  ETA: 0:31:06\u001b[39m"
     ]
    },
    {
     "name": "stdout",
     "output_type": "stream",
     "text": [
      "Steps: 549, tries: 30\r"
     ]
    },
    {
     "name": "stderr",
     "output_type": "stream",
     "text": [
      "┌ Warning: Mapping to the storage type failed; perhaps your data had out-of-range values?\n",
      "│ Try `map(clamp01nan, img)` to clamp values to a valid range.\n",
      "└ @ ImageMagick C:\\Users\\Lukas\\.julia\\packages\\ImageMagick\\b8swT\\src\\ImageMagick.jl:180\n",
      "\u001b[32mProgress:   7%|███                                      |  ETA: 0:30:55\u001b[39m"
     ]
    },
    {
     "name": "stdout",
     "output_type": "stream",
     "text": [
      "Steps: 549, tries: 20\r"
     ]
    },
    {
     "name": "stderr",
     "output_type": "stream",
     "text": [
      "┌ Warning: Mapping to the storage type failed; perhaps your data had out-of-range values?\n",
      "│ Try `map(clamp01nan, img)` to clamp values to a valid range.\n",
      "└ @ ImageMagick C:\\Users\\Lukas\\.julia\\packages\\ImageMagick\\b8swT\\src\\ImageMagick.jl:180\n",
      "\u001b[32mProgress:   7%|███                                      |  ETA: 0:30:44\u001b[39m"
     ]
    },
    {
     "name": "stdout",
     "output_type": "stream",
     "text": [
      "Steps: 549, tries: 02\r"
     ]
    },
    {
     "name": "stderr",
     "output_type": "stream",
     "text": [
      "┌ Warning: Mapping to the storage type failed; perhaps your data had out-of-range values?\n",
      "│ Try `map(clamp01nan, img)` to clamp values to a valid range.\n",
      "└ @ ImageMagick C:\\Users\\Lukas\\.julia\\packages\\ImageMagick\\b8swT\\src\\ImageMagick.jl:180\n",
      "\u001b[32mProgress:   7%|███                                      |  ETA: 0:30:35\u001b[39m"
     ]
    },
    {
     "name": "stdout",
     "output_type": "stream",
     "text": [
      "Steps: 549, tries: 32\r"
     ]
    },
    {
     "name": "stderr",
     "output_type": "stream",
     "text": [
      "┌ Warning: Mapping to the storage type failed; perhaps your data had out-of-range values?\n",
      "│ Try `map(clamp01nan, img)` to clamp values to a valid range.\n",
      "└ @ ImageMagick C:\\Users\\Lukas\\.julia\\packages\\ImageMagick\\b8swT\\src\\ImageMagick.jl:180\n",
      "\u001b[32mProgress:   7%|███                                      |  ETA: 0:30:25\u001b[39m"
     ]
    },
    {
     "name": "stdout",
     "output_type": "stream",
     "text": [
      "Steps: 549, tries: 13\r"
     ]
    },
    {
     "name": "stderr",
     "output_type": "stream",
     "text": [
      "┌ Warning: Mapping to the storage type failed; perhaps your data had out-of-range values?\n",
      "│ Try `map(clamp01nan, img)` to clamp values to a valid range.\n",
      "└ @ ImageMagick C:\\Users\\Lukas\\.julia\\packages\\ImageMagick\\b8swT\\src\\ImageMagick.jl:180\n",
      "\u001b[32mProgress:   7%|███                                      |  ETA: 0:30:14\u001b[39m"
     ]
    },
    {
     "name": "stdout",
     "output_type": "stream",
     "text": [
      "Steps: 549, tries: 13\r"
     ]
    },
    {
     "name": "stderr",
     "output_type": "stream",
     "text": [
      "┌ Warning: Mapping to the storage type failed; perhaps your data had out-of-range values?\n",
      "│ Try `map(clamp01nan, img)` to clamp values to a valid range.\n",
      "└ @ ImageMagick C:\\Users\\Lukas\\.julia\\packages\\ImageMagick\\b8swT\\src\\ImageMagick.jl:180\n",
      "\u001b[32mProgress:   7%|███                                      |  ETA: 0:30:05\u001b[39m"
     ]
    },
    {
     "name": "stdout",
     "output_type": "stream",
     "text": [
      "Steps: 549, tries: 1\r"
     ]
    },
    {
     "name": "stderr",
     "output_type": "stream",
     "text": [
      "┌ Warning: Mapping to the storage type failed; perhaps your data had out-of-range values?\n",
      "│ Try `map(clamp01nan, img)` to clamp values to a valid range.\n",
      "└ @ ImageMagick C:\\Users\\Lukas\\.julia\\packages\\ImageMagick\\b8swT\\src\\ImageMagick.jl:180\n",
      "\u001b[32mProgress:   7%|████                                     |  ETA: 0:29:53\u001b[39m"
     ]
    },
    {
     "name": "stdout",
     "output_type": "stream",
     "text": [
      "Steps: 549, tries: 50\r"
     ]
    },
    {
     "name": "stderr",
     "output_type": "stream",
     "text": [
      "┌ Warning: Mapping to the storage type failed; perhaps your data had out-of-range values?\n",
      "│ Try `map(clamp01nan, img)` to clamp values to a valid range.\n",
      "└ @ ImageMagick C:\\Users\\Lukas\\.julia\\packages\\ImageMagick\\b8swT\\src\\ImageMagick.jl:180\n",
      "\u001b[32mProgress:   8%|████                                     |  ETA: 0:29:44\u001b[39m"
     ]
    },
    {
     "name": "stdout",
     "output_type": "stream",
     "text": [
      "Steps: 549, tries: 01\r"
     ]
    },
    {
     "name": "stderr",
     "output_type": "stream",
     "text": [
      "┌ Warning: Mapping to the storage type failed; perhaps your data had out-of-range values?\n",
      "│ Try `map(clamp01nan, img)` to clamp values to a valid range.\n",
      "└ @ ImageMagick C:\\Users\\Lukas\\.julia\\packages\\ImageMagick\\b8swT\\src\\ImageMagick.jl:180\n",
      "\u001b[32mProgress:   8%|████                                     |  ETA: 0:29:36\u001b[39m"
     ]
    },
    {
     "name": "stdout",
     "output_type": "stream",
     "text": [
      "Steps: 549, tries: 30\r"
     ]
    },
    {
     "name": "stderr",
     "output_type": "stream",
     "text": [
      "┌ Warning: Mapping to the storage type failed; perhaps your data had out-of-range values?\n",
      "│ Try `map(clamp01nan, img)` to clamp values to a valid range.\n",
      "└ @ ImageMagick C:\\Users\\Lukas\\.julia\\packages\\ImageMagick\\b8swT\\src\\ImageMagick.jl:180\n",
      "\u001b[32mProgress:   8%|████                                     |  ETA: 0:29:26\u001b[39m"
     ]
    },
    {
     "name": "stdout",
     "output_type": "stream",
     "text": [
      "Steps: 549, tries: 40\r"
     ]
    },
    {
     "name": "stderr",
     "output_type": "stream",
     "text": [
      "┌ Warning: Mapping to the storage type failed; perhaps your data had out-of-range values?\n",
      "│ Try `map(clamp01nan, img)` to clamp values to a valid range.\n",
      "└ @ ImageMagick C:\\Users\\Lukas\\.julia\\packages\\ImageMagick\\b8swT\\src\\ImageMagick.jl:180\n",
      "\u001b[32mProgress:   8%|████                                     |  ETA: 0:29:18\u001b[39m"
     ]
    },
    {
     "name": "stdout",
     "output_type": "stream",
     "text": [
      "Steps: 549, tries: 14\r"
     ]
    },
    {
     "name": "stderr",
     "output_type": "stream",
     "text": [
      "┌ Warning: Mapping to the storage type failed; perhaps your data had out-of-range values?\n",
      "│ Try `map(clamp01nan, img)` to clamp values to a valid range.\n",
      "└ @ ImageMagick C:\\Users\\Lukas\\.julia\\packages\\ImageMagick\\b8swT\\src\\ImageMagick.jl:180\n",
      "\u001b[32mProgress:   8%|████                                     |  ETA: 0:29:09\u001b[39m"
     ]
    },
    {
     "name": "stdout",
     "output_type": "stream",
     "text": [
      "Steps: 549, tries: 14\r"
     ]
    },
    {
     "name": "stderr",
     "output_type": "stream",
     "text": [
      "┌ Warning: Mapping to the storage type failed; perhaps your data had out-of-range values?\n",
      "│ Try `map(clamp01nan, img)` to clamp values to a valid range.\n",
      "└ @ ImageMagick C:\\Users\\Lukas\\.julia\\packages\\ImageMagick\\b8swT\\src\\ImageMagick.jl:180\n",
      "\u001b[32mProgress:   8%|████                                     |  ETA: 0:29:20\u001b[39m"
     ]
    },
    {
     "name": "stdout",
     "output_type": "stream",
     "text": [
      "Steps: 549, tries: 71\r"
     ]
    },
    {
     "name": "stderr",
     "output_type": "stream",
     "text": [
      "┌ Warning: Mapping to the storage type failed; perhaps your data had out-of-range values?\n",
      "│ Try `map(clamp01nan, img)` to clamp values to a valid range.\n",
      "└ @ ImageMagick C:\\Users\\Lukas\\.julia\\packages\\ImageMagick\\b8swT\\src\\ImageMagick.jl:180\n",
      "\u001b[32mProgress:   8%|████                                     |  ETA: 0:29:48\u001b[39m"
     ]
    },
    {
     "name": "stdout",
     "output_type": "stream",
     "text": [
      "Steps: 549, tries: 34\r"
     ]
    },
    {
     "name": "stderr",
     "output_type": "stream",
     "text": [
      "┌ Warning: Mapping to the storage type failed; perhaps your data had out-of-range values?\n",
      "│ Try `map(clamp01nan, img)` to clamp values to a valid range.\n",
      "└ @ ImageMagick C:\\Users\\Lukas\\.julia\\packages\\ImageMagick\\b8swT\\src\\ImageMagick.jl:180\n",
      "\u001b[32mProgress:   8%|████                                     |  ETA: 0:29:39\u001b[39m"
     ]
    },
    {
     "name": "stdout",
     "output_type": "stream",
     "text": [
      "Steps: 549, tries: 50\r"
     ]
    },
    {
     "name": "stderr",
     "output_type": "stream",
     "text": [
      "┌ Warning: Mapping to the storage type failed; perhaps your data had out-of-range values?\n",
      "│ Try `map(clamp01nan, img)` to clamp values to a valid range.\n",
      "└ @ ImageMagick C:\\Users\\Lukas\\.julia\\packages\\ImageMagick\\b8swT\\src\\ImageMagick.jl:180\n",
      "\u001b[32mProgress:   8%|████                                     |  ETA: 0:29:28\u001b[39m"
     ]
    },
    {
     "name": "stdout",
     "output_type": "stream",
     "text": [
      "Steps: 549, tries: 5\r"
     ]
    },
    {
     "name": "stderr",
     "output_type": "stream",
     "text": [
      "┌ Warning: Mapping to the storage type failed; perhaps your data had out-of-range values?\n",
      "│ Try `map(clamp01nan, img)` to clamp values to a valid range.\n",
      "└ @ ImageMagick C:\\Users\\Lukas\\.julia\\packages\\ImageMagick\\b8swT\\src\\ImageMagick.jl:180\n",
      "\u001b[32mProgress:   9%|████                                     |  ETA: 0:29:20\u001b[39m"
     ]
    },
    {
     "name": "stdout",
     "output_type": "stream",
     "text": [
      "Steps: 549, tries: 12\r"
     ]
    },
    {
     "name": "stderr",
     "output_type": "stream",
     "text": [
      "┌ Warning: Mapping to the storage type failed; perhaps your data had out-of-range values?\n",
      "│ Try `map(clamp01nan, img)` to clamp values to a valid range.\n",
      "└ @ ImageMagick C:\\Users\\Lukas\\.julia\\packages\\ImageMagick\\b8swT\\src\\ImageMagick.jl:180\n",
      "\u001b[32mProgress:   9%|████                                     |  ETA: 0:29:12\u001b[39m"
     ]
    },
    {
     "name": "stdout",
     "output_type": "stream",
     "text": [
      "Steps: 549, tries: 30\r"
     ]
    },
    {
     "name": "stderr",
     "output_type": "stream",
     "text": [
      "┌ Warning: Mapping to the storage type failed; perhaps your data had out-of-range values?\n",
      "│ Try `map(clamp01nan, img)` to clamp values to a valid range.\n",
      "└ @ ImageMagick C:\\Users\\Lukas\\.julia\\packages\\ImageMagick\\b8swT\\src\\ImageMagick.jl:180\n",
      "\u001b[32mProgress:   9%|████                                     |  ETA: 0:29:04\u001b[39m"
     ]
    },
    {
     "name": "stdout",
     "output_type": "stream",
     "text": [
      "Steps: 549, tries: 00\r"
     ]
    },
    {
     "name": "stderr",
     "output_type": "stream",
     "text": [
      "┌ Warning: Mapping to the storage type failed; perhaps your data had out-of-range values?\n",
      "│ Try `map(clamp01nan, img)` to clamp values to a valid range.\n",
      "└ @ ImageMagick C:\\Users\\Lukas\\.julia\\packages\\ImageMagick\\b8swT\\src\\ImageMagick.jl:180\n",
      "\u001b[32mProgress:   9%|████                                     |  ETA: 0:28:55\u001b[39m"
     ]
    },
    {
     "name": "stdout",
     "output_type": "stream",
     "text": [
      "Steps: 549, tries: 30\r"
     ]
    },
    {
     "name": "stderr",
     "output_type": "stream",
     "text": [
      "┌ Warning: Mapping to the storage type failed; perhaps your data had out-of-range values?\n",
      "│ Try `map(clamp01nan, img)` to clamp values to a valid range.\n",
      "└ @ ImageMagick C:\\Users\\Lukas\\.julia\\packages\\ImageMagick\\b8swT\\src\\ImageMagick.jl:180\n",
      "\u001b[32mProgress:   9%|████                                     |  ETA: 0:28:47\u001b[39m"
     ]
    },
    {
     "name": "stdout",
     "output_type": "stream",
     "text": [
      "Steps: 549, tries: 02\r"
     ]
    },
    {
     "name": "stderr",
     "output_type": "stream",
     "text": [
      "┌ Warning: Mapping to the storage type failed; perhaps your data had out-of-range values?\n",
      "│ Try `map(clamp01nan, img)` to clamp values to a valid range.\n",
      "└ @ ImageMagick C:\\Users\\Lukas\\.julia\\packages\\ImageMagick\\b8swT\\src\\ImageMagick.jl:180\n",
      "\u001b[32mProgress:   9%|████                                     |  ETA: 0:28:41\u001b[39m"
     ]
    },
    {
     "name": "stdout",
     "output_type": "stream",
     "text": [
      "Steps: 549, tries: 22\r"
     ]
    },
    {
     "name": "stderr",
     "output_type": "stream",
     "text": [
      "┌ Warning: Mapping to the storage type failed; perhaps your data had out-of-range values?\n",
      "│ Try `map(clamp01nan, img)` to clamp values to a valid range.\n",
      "└ @ ImageMagick C:\\Users\\Lukas\\.julia\\packages\\ImageMagick\\b8swT\\src\\ImageMagick.jl:180\n",
      "\u001b[32mProgress:   9%|████                                     |  ETA: 0:28:34\u001b[39m"
     ]
    },
    {
     "name": "stdout",
     "output_type": "stream",
     "text": [
      "Steps: 549, tries: 30\r"
     ]
    },
    {
     "name": "stderr",
     "output_type": "stream",
     "text": [
      "┌ Warning: Mapping to the storage type failed; perhaps your data had out-of-range values?\n",
      "│ Try `map(clamp01nan, img)` to clamp values to a valid range.\n",
      "└ @ ImageMagick C:\\Users\\Lukas\\.julia\\packages\\ImageMagick\\b8swT\\src\\ImageMagick.jl:180\n",
      "\u001b[32mProgress:  10%|████                                     |  ETA: 0:28:26\u001b[39m"
     ]
    },
    {
     "name": "stdout",
     "output_type": "stream",
     "text": [
      "Steps: 549, tries: 03\r"
     ]
    },
    {
     "name": "stderr",
     "output_type": "stream",
     "text": [
      "┌ Warning: Mapping to the storage type failed; perhaps your data had out-of-range values?\n",
      "│ Try `map(clamp01nan, img)` to clamp values to a valid range.\n",
      "└ @ ImageMagick C:\\Users\\Lukas\\.julia\\packages\\ImageMagick\\b8swT\\src\\ImageMagick.jl:180\n",
      "\u001b[32mProgress:  10%|████                                     |  ETA: 0:28:30\u001b[39m"
     ]
    },
    {
     "name": "stdout",
     "output_type": "stream",
     "text": [
      "Steps: 549, tries: 21\r"
     ]
    },
    {
     "name": "stderr",
     "output_type": "stream",
     "text": [
      "┌ Warning: Mapping to the storage type failed; perhaps your data had out-of-range values?\n",
      "│ Try `map(clamp01nan, img)` to clamp values to a valid range.\n",
      "└ @ ImageMagick C:\\Users\\Lukas\\.julia\\packages\\ImageMagick\\b8swT\\src\\ImageMagick.jl:180\n",
      "\u001b[32mProgress:  10%|████                                     |  ETA: 0:28:22\u001b[39m"
     ]
    },
    {
     "name": "stdout",
     "output_type": "stream",
     "text": [
      "Steps: 549, tries: 12\r"
     ]
    },
    {
     "name": "stderr",
     "output_type": "stream",
     "text": [
      "┌ Warning: Mapping to the storage type failed; perhaps your data had out-of-range values?\n",
      "│ Try `map(clamp01nan, img)` to clamp values to a valid range.\n",
      "└ @ ImageMagick C:\\Users\\Lukas\\.julia\\packages\\ImageMagick\\b8swT\\src\\ImageMagick.jl:180\n",
      "\u001b[32mProgress:  10%|█████                                    |  ETA: 0:28:14\u001b[39m"
     ]
    },
    {
     "name": "stdout",
     "output_type": "stream",
     "text": [
      "Steps: 549, tries: 00\r"
     ]
    },
    {
     "name": "stderr",
     "output_type": "stream",
     "text": [
      "┌ Warning: Mapping to the storage type failed; perhaps your data had out-of-range values?\n",
      "│ Try `map(clamp01nan, img)` to clamp values to a valid range.\n",
      "└ @ ImageMagick C:\\Users\\Lukas\\.julia\\packages\\ImageMagick\\b8swT\\src\\ImageMagick.jl:180\n",
      "\u001b[32mProgress:  10%|█████                                    |  ETA: 0:28:07\u001b[39m"
     ]
    },
    {
     "name": "stdout",
     "output_type": "stream",
     "text": [
      "Steps: 549, tries: 21\r"
     ]
    },
    {
     "name": "stderr",
     "output_type": "stream",
     "text": [
      "┌ Warning: Mapping to the storage type failed; perhaps your data had out-of-range values?\n",
      "│ Try `map(clamp01nan, img)` to clamp values to a valid range.\n",
      "└ @ ImageMagick C:\\Users\\Lukas\\.julia\\packages\\ImageMagick\\b8swT\\src\\ImageMagick.jl:180\n",
      "\u001b[32mProgress:  10%|█████                                    |  ETA: 0:28:01\u001b[39m"
     ]
    },
    {
     "name": "stdout",
     "output_type": "stream",
     "text": [
      "Steps: 549, tries: 42\r"
     ]
    },
    {
     "name": "stderr",
     "output_type": "stream",
     "text": [
      "┌ Warning: Mapping to the storage type failed; perhaps your data had out-of-range values?\n",
      "│ Try `map(clamp01nan, img)` to clamp values to a valid range.\n",
      "└ @ ImageMagick C:\\Users\\Lukas\\.julia\\packages\\ImageMagick\\b8swT\\src\\ImageMagick.jl:180\n",
      "\u001b[32mProgress:  10%|█████                                    |  ETA: 0:27:54\u001b[39m"
     ]
    },
    {
     "name": "stdout",
     "output_type": "stream",
     "text": [
      "Steps: 549, tries: 20\r"
     ]
    },
    {
     "name": "stderr",
     "output_type": "stream",
     "text": [
      "┌ Warning: Mapping to the storage type failed; perhaps your data had out-of-range values?\n",
      "│ Try `map(clamp01nan, img)` to clamp values to a valid range.\n",
      "└ @ ImageMagick C:\\Users\\Lukas\\.julia\\packages\\ImageMagick\\b8swT\\src\\ImageMagick.jl:180\n",
      "\u001b[32mProgress:  10%|█████                                    |  ETA: 0:27:44\u001b[39m"
     ]
    },
    {
     "name": "stdout",
     "output_type": "stream",
     "text": [
      "Steps: 549, tries: 30\r"
     ]
    },
    {
     "name": "stderr",
     "output_type": "stream",
     "text": [
      "┌ Warning: Mapping to the storage type failed; perhaps your data had out-of-range values?\n",
      "│ Try `map(clamp01nan, img)` to clamp values to a valid range.\n",
      "└ @ ImageMagick C:\\Users\\Lukas\\.julia\\packages\\ImageMagick\\b8swT\\src\\ImageMagick.jl:180\n",
      "\u001b[32mProgress:  10%|█████                                    |  ETA: 0:27:36\u001b[39m"
     ]
    },
    {
     "name": "stdout",
     "output_type": "stream",
     "text": [
      "Steps: 549, tries: 11\r"
     ]
    },
    {
     "name": "stderr",
     "output_type": "stream",
     "text": [
      "┌ Warning: Mapping to the storage type failed; perhaps your data had out-of-range values?\n",
      "│ Try `map(clamp01nan, img)` to clamp values to a valid range.\n",
      "└ @ ImageMagick C:\\Users\\Lukas\\.julia\\packages\\ImageMagick\\b8swT\\src\\ImageMagick.jl:180\n",
      "\u001b[32mProgress:  11%|█████                                    |  ETA: 0:27:29\u001b[39m"
     ]
    },
    {
     "name": "stdout",
     "output_type": "stream",
     "text": [
      "Steps: 549, tries: 32\r"
     ]
    },
    {
     "name": "stderr",
     "output_type": "stream",
     "text": [
      "┌ Warning: Mapping to the storage type failed; perhaps your data had out-of-range values?\n",
      "│ Try `map(clamp01nan, img)` to clamp values to a valid range.\n",
      "└ @ ImageMagick C:\\Users\\Lukas\\.julia\\packages\\ImageMagick\\b8swT\\src\\ImageMagick.jl:180\n",
      "\u001b[32mProgress:  11%|█████                                    |  ETA: 0:27:23\u001b[39m"
     ]
    },
    {
     "name": "stdout",
     "output_type": "stream",
     "text": [
      "Steps: 549, tries: 16\r"
     ]
    },
    {
     "name": "stderr",
     "output_type": "stream",
     "text": [
      "┌ Warning: Mapping to the storage type failed; perhaps your data had out-of-range values?\n",
      "│ Try `map(clamp01nan, img)` to clamp values to a valid range.\n",
      "└ @ ImageMagick C:\\Users\\Lukas\\.julia\\packages\\ImageMagick\\b8swT\\src\\ImageMagick.jl:180\n",
      "\u001b[32mProgress:  11%|█████                                    |  ETA: 0:27:17\u001b[39m"
     ]
    },
    {
     "name": "stdout",
     "output_type": "stream",
     "text": [
      "Steps: 549, tries: 02\r"
     ]
    },
    {
     "name": "stderr",
     "output_type": "stream",
     "text": [
      "┌ Warning: Mapping to the storage type failed; perhaps your data had out-of-range values?\n",
      "│ Try `map(clamp01nan, img)` to clamp values to a valid range.\n",
      "└ @ ImageMagick C:\\Users\\Lukas\\.julia\\packages\\ImageMagick\\b8swT\\src\\ImageMagick.jl:180\n",
      "\u001b[32mProgress:  11%|█████                                    |  ETA: 0:27:11\u001b[39m"
     ]
    },
    {
     "name": "stdout",
     "output_type": "stream",
     "text": [
      "Steps: 549, tries: 00\r"
     ]
    },
    {
     "name": "stderr",
     "output_type": "stream",
     "text": [
      "┌ Warning: Mapping to the storage type failed; perhaps your data had out-of-range values?\n",
      "│ Try `map(clamp01nan, img)` to clamp values to a valid range.\n",
      "└ @ ImageMagick C:\\Users\\Lukas\\.julia\\packages\\ImageMagick\\b8swT\\src\\ImageMagick.jl:180\n",
      "\u001b[32mProgress:  11%|█████                                    |  ETA: 0:27:05\u001b[39m"
     ]
    },
    {
     "name": "stdout",
     "output_type": "stream",
     "text": [
      "Steps: 549, tries: 04\r"
     ]
    },
    {
     "name": "stderr",
     "output_type": "stream",
     "text": [
      "┌ Warning: Mapping to the storage type failed; perhaps your data had out-of-range values?\n",
      "│ Try `map(clamp01nan, img)` to clamp values to a valid range.\n",
      "└ @ ImageMagick C:\\Users\\Lukas\\.julia\\packages\\ImageMagick\\b8swT\\src\\ImageMagick.jl:180\n",
      "\u001b[32mProgress:  11%|█████                                    |  ETA: 0:26:58\u001b[39m"
     ]
    },
    {
     "name": "stdout",
     "output_type": "stream",
     "text": [
      "Steps: 549, tries: 21\r"
     ]
    },
    {
     "name": "stderr",
     "output_type": "stream",
     "text": [
      "┌ Warning: Mapping to the storage type failed; perhaps your data had out-of-range values?\n",
      "│ Try `map(clamp01nan, img)` to clamp values to a valid range.\n",
      "└ @ ImageMagick C:\\Users\\Lukas\\.julia\\packages\\ImageMagick\\b8swT\\src\\ImageMagick.jl:180\n",
      "\u001b[32mProgress:  11%|█████                                    |  ETA: 0:26:52\u001b[39m"
     ]
    },
    {
     "name": "stdout",
     "output_type": "stream",
     "text": [
      "Steps: 549, tries: 30\r"
     ]
    },
    {
     "name": "stderr",
     "output_type": "stream",
     "text": [
      "┌ Warning: Mapping to the storage type failed; perhaps your data had out-of-range values?\n",
      "│ Try `map(clamp01nan, img)` to clamp values to a valid range.\n",
      "└ @ ImageMagick C:\\Users\\Lukas\\.julia\\packages\\ImageMagick\\b8swT\\src\\ImageMagick.jl:180\n",
      "\u001b[32mProgress:  12%|█████                                    |  ETA: 0:26:46\u001b[39m"
     ]
    },
    {
     "name": "stdout",
     "output_type": "stream",
     "text": [
      "Steps: 549, tries: 34\r"
     ]
    },
    {
     "name": "stderr",
     "output_type": "stream",
     "text": [
      "┌ Warning: Mapping to the storage type failed; perhaps your data had out-of-range values?\n",
      "│ Try `map(clamp01nan, img)` to clamp values to a valid range.\n",
      "└ @ ImageMagick C:\\Users\\Lukas\\.julia\\packages\\ImageMagick\\b8swT\\src\\ImageMagick.jl:180\n",
      "\u001b[32mProgress:  12%|█████                                    |  ETA: 0:26:41\u001b[39m"
     ]
    },
    {
     "name": "stdout",
     "output_type": "stream",
     "text": [
      "Steps: 549, tries: 32\r"
     ]
    },
    {
     "name": "stderr",
     "output_type": "stream",
     "text": [
      "┌ Warning: Mapping to the storage type failed; perhaps your data had out-of-range values?\n",
      "│ Try `map(clamp01nan, img)` to clamp values to a valid range.\n",
      "└ @ ImageMagick C:\\Users\\Lukas\\.julia\\packages\\ImageMagick\\b8swT\\src\\ImageMagick.jl:180\n",
      "\u001b[32mProgress:  12%|█████                                    |  ETA: 0:26:35\u001b[39m"
     ]
    },
    {
     "name": "stdout",
     "output_type": "stream",
     "text": [
      "Steps: 549, tries: 12\r"
     ]
    },
    {
     "name": "stderr",
     "output_type": "stream",
     "text": [
      "┌ Warning: Mapping to the storage type failed; perhaps your data had out-of-range values?\n",
      "│ Try `map(clamp01nan, img)` to clamp values to a valid range.\n",
      "└ @ ImageMagick C:\\Users\\Lukas\\.julia\\packages\\ImageMagick\\b8swT\\src\\ImageMagick.jl:180\n",
      "\u001b[32mProgress:  12%|█████                                    |  ETA: 0:26:31\u001b[39m"
     ]
    },
    {
     "name": "stdout",
     "output_type": "stream",
     "text": [
      "Steps: 549, tries: 80\r"
     ]
    },
    {
     "name": "stderr",
     "output_type": "stream",
     "text": [
      "┌ Warning: Mapping to the storage type failed; perhaps your data had out-of-range values?\n",
      "│ Try `map(clamp01nan, img)` to clamp values to a valid range.\n",
      "└ @ ImageMagick C:\\Users\\Lukas\\.julia\\packages\\ImageMagick\\b8swT\\src\\ImageMagick.jl:180\n",
      "\u001b[32mProgress:  12%|█████                                    |  ETA: 0:26:56\u001b[39m"
     ]
    },
    {
     "name": "stdout",
     "output_type": "stream",
     "text": [
      "Steps: 549, tries: 10\r"
     ]
    },
    {
     "name": "stderr",
     "output_type": "stream",
     "text": [
      "┌ Warning: Mapping to the storage type failed; perhaps your data had out-of-range values?\n",
      "│ Try `map(clamp01nan, img)` to clamp values to a valid range.\n",
      "└ @ ImageMagick C:\\Users\\Lukas\\.julia\\packages\\ImageMagick\\b8swT\\src\\ImageMagick.jl:180\n",
      "\u001b[32mProgress:  12%|█████                                    |  ETA: 0:26:50\u001b[39m"
     ]
    },
    {
     "name": "stdout",
     "output_type": "stream",
     "text": [
      "Steps: 549, tries: 11\r"
     ]
    },
    {
     "name": "stderr",
     "output_type": "stream",
     "text": [
      "┌ Warning: Mapping to the storage type failed; perhaps your data had out-of-range values?\n",
      "│ Try `map(clamp01nan, img)` to clamp values to a valid range.\n",
      "└ @ ImageMagick C:\\Users\\Lukas\\.julia\\packages\\ImageMagick\\b8swT\\src\\ImageMagick.jl:180\n",
      "\u001b[32mProgress:  12%|██████                                   |  ETA: 0:26:42\u001b[39m"
     ]
    },
    {
     "name": "stdout",
     "output_type": "stream",
     "text": [
      "Steps: 549, tries: 46\r"
     ]
    },
    {
     "name": "stderr",
     "output_type": "stream",
     "text": [
      "┌ Warning: Mapping to the storage type failed; perhaps your data had out-of-range values?\n",
      "│ Try `map(clamp01nan, img)` to clamp values to a valid range.\n",
      "└ @ ImageMagick C:\\Users\\Lukas\\.julia\\packages\\ImageMagick\\b8swT\\src\\ImageMagick.jl:180\n",
      "\u001b[32mProgress:  12%|██████                                   |  ETA: 0:26:32\u001b[39m"
     ]
    },
    {
     "name": "stdout",
     "output_type": "stream",
     "text": [
      "Steps: 549, tries: 01\r"
     ]
    },
    {
     "name": "stderr",
     "output_type": "stream",
     "text": [
      "┌ Warning: Mapping to the storage type failed; perhaps your data had out-of-range values?\n",
      "│ Try `map(clamp01nan, img)` to clamp values to a valid range.\n",
      "└ @ ImageMagick C:\\Users\\Lukas\\.julia\\packages\\ImageMagick\\b8swT\\src\\ImageMagick.jl:180\n",
      "\u001b[32mProgress:  12%|██████                                   |  ETA: 0:26:27\u001b[39m"
     ]
    },
    {
     "name": "stdout",
     "output_type": "stream",
     "text": [
      "Steps: 549, tries: 01\r"
     ]
    },
    {
     "name": "stderr",
     "output_type": "stream",
     "text": [
      "┌ Warning: Mapping to the storage type failed; perhaps your data had out-of-range values?\n",
      "│ Try `map(clamp01nan, img)` to clamp values to a valid range.\n",
      "└ @ ImageMagick C:\\Users\\Lukas\\.julia\\packages\\ImageMagick\\b8swT\\src\\ImageMagick.jl:180\n",
      "\u001b[32mProgress:  13%|██████                                   |  ETA: 0:26:21\u001b[39m"
     ]
    },
    {
     "name": "stdout",
     "output_type": "stream",
     "text": [
      "Steps: 549, tries: 55\r"
     ]
    },
    {
     "name": "stderr",
     "output_type": "stream",
     "text": [
      "┌ Warning: Mapping to the storage type failed; perhaps your data had out-of-range values?\n",
      "│ Try `map(clamp01nan, img)` to clamp values to a valid range.\n",
      "└ @ ImageMagick C:\\Users\\Lukas\\.julia\\packages\\ImageMagick\\b8swT\\src\\ImageMagick.jl:180\n",
      "\u001b[32mProgress:  13%|██████                                   |  ETA: 0:26:15\u001b[39m"
     ]
    },
    {
     "name": "stdout",
     "output_type": "stream",
     "text": [
      "Steps: 549, tries: 12\r"
     ]
    },
    {
     "name": "stderr",
     "output_type": "stream",
     "text": [
      "┌ Warning: Mapping to the storage type failed; perhaps your data had out-of-range values?\n",
      "│ Try `map(clamp01nan, img)` to clamp values to a valid range.\n",
      "└ @ ImageMagick C:\\Users\\Lukas\\.julia\\packages\\ImageMagick\\b8swT\\src\\ImageMagick.jl:180\n",
      "\r"
     ]
    },
    {
     "name": "stdout",
     "output_type": "stream",
     "text": [
      "Steps: 397, tries: 40\r"
     ]
    },
    {
     "name": "stderr",
     "output_type": "stream",
     "text": [
      "\u001b[32mProgress:  13%|██████                                   |  ETA: 0:26:09\u001b[39m"
     ]
    },
    {
     "name": "stdout",
     "output_type": "stream",
     "text": [
      "Steps: 549, tries: 02\r"
     ]
    },
    {
     "name": "stderr",
     "output_type": "stream",
     "text": [
      "┌ Warning: Mapping to the storage type failed; perhaps your data had out-of-range values?\n",
      "│ Try `map(clamp01nan, img)` to clamp values to a valid range.\n",
      "└ @ ImageMagick C:\\Users\\Lukas\\.julia\\packages\\ImageMagick\\b8swT\\src\\ImageMagick.jl:180\n",
      "\u001b[32mProgress:  13%|██████                                   |  ETA: 0:26:03\u001b[39m"
     ]
    },
    {
     "name": "stdout",
     "output_type": "stream",
     "text": [
      "Steps: 549, tries: 30\r"
     ]
    },
    {
     "name": "stderr",
     "output_type": "stream",
     "text": [
      "┌ Warning: Mapping to the storage type failed; perhaps your data had out-of-range values?\n",
      "│ Try `map(clamp01nan, img)` to clamp values to a valid range.\n",
      "└ @ ImageMagick C:\\Users\\Lukas\\.julia\\packages\\ImageMagick\\b8swT\\src\\ImageMagick.jl:180\n",
      "\u001b[32mProgress:  13%|██████                                   |  ETA: 0:25:57\u001b[39m"
     ]
    },
    {
     "name": "stdout",
     "output_type": "stream",
     "text": [
      "Steps: 549, tries: 11\r"
     ]
    },
    {
     "name": "stderr",
     "output_type": "stream",
     "text": [
      "┌ Warning: Mapping to the storage type failed; perhaps your data had out-of-range values?\n",
      "│ Try `map(clamp01nan, img)` to clamp values to a valid range.\n",
      "└ @ ImageMagick C:\\Users\\Lukas\\.julia\\packages\\ImageMagick\\b8swT\\src\\ImageMagick.jl:180\n",
      "\u001b[32mProgress:  13%|██████                                   |  ETA: 0:25:51\u001b[39m"
     ]
    },
    {
     "name": "stdout",
     "output_type": "stream",
     "text": [
      "Steps: 549, tries: 34\r"
     ]
    },
    {
     "name": "stderr",
     "output_type": "stream",
     "text": [
      "┌ Warning: Mapping to the storage type failed; perhaps your data had out-of-range values?\n",
      "│ Try `map(clamp01nan, img)` to clamp values to a valid range.\n",
      "└ @ ImageMagick C:\\Users\\Lukas\\.julia\\packages\\ImageMagick\\b8swT\\src\\ImageMagick.jl:180\n",
      "\u001b[32mProgress:  13%|██████                                   |  ETA: 0:25:44\u001b[39m"
     ]
    },
    {
     "name": "stdout",
     "output_type": "stream",
     "text": [
      "Steps: 549, tries: 11\r"
     ]
    },
    {
     "name": "stderr",
     "output_type": "stream",
     "text": [
      "┌ Warning: Mapping to the storage type failed; perhaps your data had out-of-range values?\n",
      "│ Try `map(clamp01nan, img)` to clamp values to a valid range.\n",
      "└ @ ImageMagick C:\\Users\\Lukas\\.julia\\packages\\ImageMagick\\b8swT\\src\\ImageMagick.jl:180\n",
      "\u001b[32mProgress:  14%|██████                                   |  ETA: 0:25:37\u001b[39m"
     ]
    },
    {
     "name": "stdout",
     "output_type": "stream",
     "text": [
      "Steps: 549, tries: 05\r"
     ]
    },
    {
     "name": "stderr",
     "output_type": "stream",
     "text": [
      "┌ Warning: Mapping to the storage type failed; perhaps your data had out-of-range values?\n",
      "│ Try `map(clamp01nan, img)` to clamp values to a valid range.\n",
      "└ @ ImageMagick C:\\Users\\Lukas\\.julia\\packages\\ImageMagick\\b8swT\\src\\ImageMagick.jl:180\n",
      "\u001b[32mProgress:  14%|██████                                   |  ETA: 0:25:30\u001b[39m"
     ]
    },
    {
     "name": "stdout",
     "output_type": "stream",
     "text": [
      "Steps: 549, tries: 00\r"
     ]
    },
    {
     "name": "stderr",
     "output_type": "stream",
     "text": [
      "┌ Warning: Mapping to the storage type failed; perhaps your data had out-of-range values?\n",
      "│ Try `map(clamp01nan, img)` to clamp values to a valid range.\n",
      "└ @ ImageMagick C:\\Users\\Lukas\\.julia\\packages\\ImageMagick\\b8swT\\src\\ImageMagick.jl:180\n",
      "\u001b[32mProgress:  14%|██████                                   |  ETA: 0:25:25\u001b[39m"
     ]
    },
    {
     "name": "stdout",
     "output_type": "stream",
     "text": [
      "Steps: 549, tries: 10\r"
     ]
    },
    {
     "name": "stderr",
     "output_type": "stream",
     "text": [
      "┌ Warning: Mapping to the storage type failed; perhaps your data had out-of-range values?\n",
      "│ Try `map(clamp01nan, img)` to clamp values to a valid range.\n",
      "└ @ ImageMagick C:\\Users\\Lukas\\.julia\\packages\\ImageMagick\\b8swT\\src\\ImageMagick.jl:180\n",
      "\u001b[32mProgress:  14%|██████                                   |  ETA: 0:25:19\u001b[39m"
     ]
    },
    {
     "name": "stdout",
     "output_type": "stream",
     "text": [
      "Steps: 549, tries: 75\r"
     ]
    },
    {
     "name": "stderr",
     "output_type": "stream",
     "text": [
      "┌ Warning: Mapping to the storage type failed; perhaps your data had out-of-range values?\n",
      "│ Try `map(clamp01nan, img)` to clamp values to a valid range.\n",
      "└ @ ImageMagick C:\\Users\\Lukas\\.julia\\packages\\ImageMagick\\b8swT\\src\\ImageMagick.jl:180\n",
      "\u001b[32mProgress:  14%|██████                                   |  ETA: 0:25:13\u001b[39m"
     ]
    },
    {
     "name": "stdout",
     "output_type": "stream",
     "text": [
      "Steps: 549, tries: 13\r"
     ]
    },
    {
     "name": "stderr",
     "output_type": "stream",
     "text": [
      "┌ Warning: Mapping to the storage type failed; perhaps your data had out-of-range values?\n",
      "│ Try `map(clamp01nan, img)` to clamp values to a valid range.\n",
      "└ @ ImageMagick C:\\Users\\Lukas\\.julia\\packages\\ImageMagick\\b8swT\\src\\ImageMagick.jl:180\n",
      "\u001b[32mProgress:  14%|██████                                   |  ETA: 0:25:09\u001b[39m"
     ]
    },
    {
     "name": "stdout",
     "output_type": "stream",
     "text": [
      "Steps: 549, tries: 31\r"
     ]
    },
    {
     "name": "stderr",
     "output_type": "stream",
     "text": [
      "┌ Warning: Mapping to the storage type failed; perhaps your data had out-of-range values?\n",
      "│ Try `map(clamp01nan, img)` to clamp values to a valid range.\n",
      "└ @ ImageMagick C:\\Users\\Lukas\\.julia\\packages\\ImageMagick\\b8swT\\src\\ImageMagick.jl:180\n",
      "\u001b[32mProgress:  14%|██████                                   |  ETA: 0:25:05\u001b[39m"
     ]
    },
    {
     "name": "stdout",
     "output_type": "stream",
     "text": [
      "Steps: 549, tries: 11\r"
     ]
    },
    {
     "name": "stderr",
     "output_type": "stream",
     "text": [
      "┌ Warning: Mapping to the storage type failed; perhaps your data had out-of-range values?\n",
      "│ Try `map(clamp01nan, img)` to clamp values to a valid range.\n",
      "└ @ ImageMagick C:\\Users\\Lukas\\.julia\\packages\\ImageMagick\\b8swT\\src\\ImageMagick.jl:180\n",
      "\u001b[32mProgress:  14%|██████                                   |  ETA: 0:24:58\u001b[39m"
     ]
    },
    {
     "name": "stdout",
     "output_type": "stream",
     "text": [
      "Steps: 549, tries: 20\r"
     ]
    },
    {
     "name": "stderr",
     "output_type": "stream",
     "text": [
      "┌ Warning: Mapping to the storage type failed; perhaps your data had out-of-range values?\n",
      "│ Try `map(clamp01nan, img)` to clamp values to a valid range.\n",
      "└ @ ImageMagick C:\\Users\\Lukas\\.julia\\packages\\ImageMagick\\b8swT\\src\\ImageMagick.jl:180\n",
      "\u001b[32mProgress:  14%|██████                                   |  ETA: 0:24:55\u001b[39m"
     ]
    },
    {
     "name": "stdout",
     "output_type": "stream",
     "text": [
      "Steps: 549, tries: 28\r"
     ]
    },
    {
     "name": "stderr",
     "output_type": "stream",
     "text": [
      "┌ Warning: Mapping to the storage type failed; perhaps your data had out-of-range values?\n",
      "│ Try `map(clamp01nan, img)` to clamp values to a valid range.\n",
      "└ @ ImageMagick C:\\Users\\Lukas\\.julia\\packages\\ImageMagick\\b8swT\\src\\ImageMagick.jl:180\n",
      "\u001b[32mProgress:  15%|██████                                   |  ETA: 0:24:50\u001b[39m"
     ]
    },
    {
     "name": "stdout",
     "output_type": "stream",
     "text": [
      "Steps: 549, tries: 13\r"
     ]
    },
    {
     "name": "stderr",
     "output_type": "stream",
     "text": [
      "┌ Warning: Mapping to the storage type failed; perhaps your data had out-of-range values?\n",
      "│ Try `map(clamp01nan, img)` to clamp values to a valid range.\n",
      "└ @ ImageMagick C:\\Users\\Lukas\\.julia\\packages\\ImageMagick\\b8swT\\src\\ImageMagick.jl:180\n",
      "\u001b[32mProgress:  15%|███████                                  |  ETA: 0:24:47\u001b[39m"
     ]
    },
    {
     "name": "stdout",
     "output_type": "stream",
     "text": [
      "Steps: 549, tries: 26\r"
     ]
    },
    {
     "name": "stderr",
     "output_type": "stream",
     "text": [
      "┌ Warning: Mapping to the storage type failed; perhaps your data had out-of-range values?\n",
      "│ Try `map(clamp01nan, img)` to clamp values to a valid range.\n",
      "└ @ ImageMagick C:\\Users\\Lukas\\.julia\\packages\\ImageMagick\\b8swT\\src\\ImageMagick.jl:180\n",
      "\u001b[32mProgress:  15%|███████                                  |  ETA: 0:24:42\u001b[39m"
     ]
    },
    {
     "name": "stdout",
     "output_type": "stream",
     "text": [
      "Steps: 549, tries: 80\r"
     ]
    },
    {
     "name": "stderr",
     "output_type": "stream",
     "text": [
      "┌ Warning: Mapping to the storage type failed; perhaps your data had out-of-range values?\n",
      "│ Try `map(clamp01nan, img)` to clamp values to a valid range.\n",
      "└ @ ImageMagick C:\\Users\\Lukas\\.julia\\packages\\ImageMagick\\b8swT\\src\\ImageMagick.jl:180\n",
      "\u001b[32mProgress:  15%|███████                                  |  ETA: 0:24:38\u001b[39m"
     ]
    },
    {
     "name": "stdout",
     "output_type": "stream",
     "text": [
      "Steps: 549, tries: 30\r"
     ]
    },
    {
     "name": "stderr",
     "output_type": "stream",
     "text": [
      "┌ Warning: Mapping to the storage type failed; perhaps your data had out-of-range values?\n",
      "│ Try `map(clamp01nan, img)` to clamp values to a valid range.\n",
      "└ @ ImageMagick C:\\Users\\Lukas\\.julia\\packages\\ImageMagick\\b8swT\\src\\ImageMagick.jl:180\n",
      "\u001b[32mProgress:  15%|███████                                  |  ETA: 0:24:33\u001b[39m"
     ]
    },
    {
     "name": "stdout",
     "output_type": "stream",
     "text": [
      "Steps: 549, tries: 13\r"
     ]
    },
    {
     "name": "stderr",
     "output_type": "stream",
     "text": [
      "┌ Warning: Mapping to the storage type failed; perhaps your data had out-of-range values?\n",
      "│ Try `map(clamp01nan, img)` to clamp values to a valid range.\n",
      "└ @ ImageMagick C:\\Users\\Lukas\\.julia\\packages\\ImageMagick\\b8swT\\src\\ImageMagick.jl:180\n",
      "\u001b[32mProgress:  15%|███████                                  |  ETA: 0:24:30\u001b[39m"
     ]
    },
    {
     "name": "stdout",
     "output_type": "stream",
     "text": [
      "Steps: 549, tries: 05\r"
     ]
    },
    {
     "name": "stderr",
     "output_type": "stream",
     "text": [
      "┌ Warning: Mapping to the storage type failed; perhaps your data had out-of-range values?\n",
      "│ Try `map(clamp01nan, img)` to clamp values to a valid range.\n",
      "└ @ ImageMagick C:\\Users\\Lukas\\.julia\\packages\\ImageMagick\\b8swT\\src\\ImageMagick.jl:180\n",
      "\u001b[32mProgress:  15%|███████                                  |  ETA: 0:24:26\u001b[39m"
     ]
    },
    {
     "name": "stdout",
     "output_type": "stream",
     "text": [
      "Steps: 549, tries: 20\r"
     ]
    },
    {
     "name": "stderr",
     "output_type": "stream",
     "text": [
      "┌ Warning: Mapping to the storage type failed; perhaps your data had out-of-range values?\n",
      "│ Try `map(clamp01nan, img)` to clamp values to a valid range.\n",
      "└ @ ImageMagick C:\\Users\\Lukas\\.julia\\packages\\ImageMagick\\b8swT\\src\\ImageMagick.jl:180\n",
      "\u001b[32mProgress:  16%|███████                                  |  ETA: 0:24:24\u001b[39m"
     ]
    },
    {
     "name": "stdout",
     "output_type": "stream",
     "text": [
      "Steps: 549, tries: 00\r"
     ]
    },
    {
     "name": "stderr",
     "output_type": "stream",
     "text": [
      "┌ Warning: Mapping to the storage type failed; perhaps your data had out-of-range values?\n",
      "│ Try `map(clamp01nan, img)` to clamp values to a valid range.\n",
      "└ @ ImageMagick C:\\Users\\Lukas\\.julia\\packages\\ImageMagick\\b8swT\\src\\ImageMagick.jl:180\n",
      "\u001b[32mProgress:  16%|███████                                  |  ETA: 0:24:20\u001b[39m"
     ]
    },
    {
     "name": "stdout",
     "output_type": "stream",
     "text": [
      "Steps: 549, tries: 08\r"
     ]
    },
    {
     "name": "stderr",
     "output_type": "stream",
     "text": [
      "┌ Warning: Mapping to the storage type failed; perhaps your data had out-of-range values?\n",
      "│ Try `map(clamp01nan, img)` to clamp values to a valid range.\n",
      "└ @ ImageMagick C:\\Users\\Lukas\\.julia\\packages\\ImageMagick\\b8swT\\src\\ImageMagick.jl:180\n",
      "\u001b[32mProgress:  16%|███████                                  |  ETA: 0:24:16\u001b[39m"
     ]
    },
    {
     "name": "stdout",
     "output_type": "stream",
     "text": [
      "Steps: 549, tries: 80\r"
     ]
    },
    {
     "name": "stderr",
     "output_type": "stream",
     "text": [
      "┌ Warning: Mapping to the storage type failed; perhaps your data had out-of-range values?\n",
      "│ Try `map(clamp01nan, img)` to clamp values to a valid range.\n",
      "└ @ ImageMagick C:\\Users\\Lukas\\.julia\\packages\\ImageMagick\\b8swT\\src\\ImageMagick.jl:180\n",
      "\u001b[32mProgress:  16%|███████                                  |  ETA: 0:24:12\u001b[39m"
     ]
    },
    {
     "name": "stdout",
     "output_type": "stream",
     "text": [
      "Steps: 549, tries: 00\r"
     ]
    },
    {
     "name": "stderr",
     "output_type": "stream",
     "text": [
      "┌ Warning: Mapping to the storage type failed; perhaps your data had out-of-range values?\n",
      "│ Try `map(clamp01nan, img)` to clamp values to a valid range.\n",
      "└ @ ImageMagick C:\\Users\\Lukas\\.julia\\packages\\ImageMagick\\b8swT\\src\\ImageMagick.jl:180\n",
      "\u001b[32mProgress:  16%|███████                                  |  ETA: 0:24:08\u001b[39m"
     ]
    },
    {
     "name": "stdout",
     "output_type": "stream",
     "text": [
      "Steps: 549, tries: 14\r"
     ]
    },
    {
     "name": "stderr",
     "output_type": "stream",
     "text": [
      "┌ Warning: Mapping to the storage type failed; perhaps your data had out-of-range values?\n",
      "│ Try `map(clamp01nan, img)` to clamp values to a valid range.\n",
      "└ @ ImageMagick C:\\Users\\Lukas\\.julia\\packages\\ImageMagick\\b8swT\\src\\ImageMagick.jl:180\n",
      "\u001b[32mProgress:  16%|███████                                  |  ETA: 0:24:10\u001b[39m"
     ]
    },
    {
     "name": "stdout",
     "output_type": "stream",
     "text": [
      "Steps: 549, tries: 05\r"
     ]
    },
    {
     "name": "stderr",
     "output_type": "stream",
     "text": [
      "┌ Warning: Mapping to the storage type failed; perhaps your data had out-of-range values?\n",
      "│ Try `map(clamp01nan, img)` to clamp values to a valid range.\n",
      "└ @ ImageMagick C:\\Users\\Lukas\\.julia\\packages\\ImageMagick\\b8swT\\src\\ImageMagick.jl:180\n",
      "\u001b[32mProgress:  16%|███████                                  |  ETA: 0:24:07\u001b[39m"
     ]
    },
    {
     "name": "stdout",
     "output_type": "stream",
     "text": [
      "Steps: 549, tries: 12\r"
     ]
    },
    {
     "name": "stderr",
     "output_type": "stream",
     "text": [
      "┌ Warning: Mapping to the storage type failed; perhaps your data had out-of-range values?\n",
      "│ Try `map(clamp01nan, img)` to clamp values to a valid range.\n",
      "└ @ ImageMagick C:\\Users\\Lukas\\.julia\\packages\\ImageMagick\\b8swT\\src\\ImageMagick.jl:180\n",
      "\u001b[32mProgress:  16%|███████                                  |  ETA: 0:24:03\u001b[39m"
     ]
    },
    {
     "name": "stdout",
     "output_type": "stream",
     "text": [
      "Steps: 549, tries: 09\r"
     ]
    },
    {
     "name": "stderr",
     "output_type": "stream",
     "text": [
      "┌ Warning: Mapping to the storage type failed; perhaps your data had out-of-range values?\n",
      "│ Try `map(clamp01nan, img)` to clamp values to a valid range.\n",
      "└ @ ImageMagick C:\\Users\\Lukas\\.julia\\packages\\ImageMagick\\b8swT\\src\\ImageMagick.jl:180\n",
      "\u001b[32mProgress:  16%|███████                                  |  ETA: 0:24:00\u001b[39m"
     ]
    },
    {
     "name": "stdout",
     "output_type": "stream",
     "text": [
      "Steps: 549, tries: 40\r"
     ]
    },
    {
     "name": "stderr",
     "output_type": "stream",
     "text": [
      "┌ Warning: Mapping to the storage type failed; perhaps your data had out-of-range values?\n",
      "│ Try `map(clamp01nan, img)` to clamp values to a valid range.\n",
      "└ @ ImageMagick C:\\Users\\Lukas\\.julia\\packages\\ImageMagick\\b8swT\\src\\ImageMagick.jl:180\n",
      "\u001b[32mProgress:  17%|███████                                  |  ETA: 0:23:56\u001b[39m"
     ]
    },
    {
     "name": "stdout",
     "output_type": "stream",
     "text": [
      "Steps: 549, tries: 00\r"
     ]
    },
    {
     "name": "stderr",
     "output_type": "stream",
     "text": [
      "┌ Warning: Mapping to the storage type failed; perhaps your data had out-of-range values?\n",
      "│ Try `map(clamp01nan, img)` to clamp values to a valid range.\n",
      "└ @ ImageMagick C:\\Users\\Lukas\\.julia\\packages\\ImageMagick\\b8swT\\src\\ImageMagick.jl:180\n",
      "\u001b[32mProgress:  17%|███████                                  |  ETA: 0:23:53\u001b[39m"
     ]
    },
    {
     "name": "stdout",
     "output_type": "stream",
     "text": [
      "Steps: 549, tries: 00\r"
     ]
    },
    {
     "name": "stderr",
     "output_type": "stream",
     "text": [
      "┌ Warning: Mapping to the storage type failed; perhaps your data had out-of-range values?\n",
      "│ Try `map(clamp01nan, img)` to clamp values to a valid range.\n",
      "└ @ ImageMagick C:\\Users\\Lukas\\.julia\\packages\\ImageMagick\\b8swT\\src\\ImageMagick.jl:180\n",
      "\u001b[32mProgress:  17%|███████                                  |  ETA: 0:23:49\u001b[39m"
     ]
    },
    {
     "name": "stdout",
     "output_type": "stream",
     "text": [
      "Steps: 549, tries: 11\r"
     ]
    },
    {
     "name": "stderr",
     "output_type": "stream",
     "text": [
      "┌ Warning: Mapping to the storage type failed; perhaps your data had out-of-range values?\n",
      "│ Try `map(clamp01nan, img)` to clamp values to a valid range.\n",
      "└ @ ImageMagick C:\\Users\\Lukas\\.julia\\packages\\ImageMagick\\b8swT\\src\\ImageMagick.jl:180\n",
      "\u001b[32mProgress:  17%|███████                                  |  ETA: 0:23:45\u001b[39m"
     ]
    },
    {
     "name": "stdout",
     "output_type": "stream",
     "text": [
      "Steps: 549, tries: 42\r"
     ]
    },
    {
     "name": "stderr",
     "output_type": "stream",
     "text": [
      "┌ Warning: Mapping to the storage type failed; perhaps your data had out-of-range values?\n",
      "│ Try `map(clamp01nan, img)` to clamp values to a valid range.\n",
      "└ @ ImageMagick C:\\Users\\Lukas\\.julia\\packages\\ImageMagick\\b8swT\\src\\ImageMagick.jl:180\n",
      "\u001b[32mProgress:  17%|████████                                 |  ETA: 0:23:41\u001b[39m"
     ]
    },
    {
     "name": "stdout",
     "output_type": "stream",
     "text": [
      "Steps: 549, tries: 21\r"
     ]
    },
    {
     "name": "stderr",
     "output_type": "stream",
     "text": [
      "┌ Warning: Mapping to the storage type failed; perhaps your data had out-of-range values?\n",
      "│ Try `map(clamp01nan, img)` to clamp values to a valid range.\n",
      "└ @ ImageMagick C:\\Users\\Lukas\\.julia\\packages\\ImageMagick\\b8swT\\src\\ImageMagick.jl:180\n",
      "\u001b[32mProgress:  17%|████████                                 |  ETA: 0:23:39\u001b[39m"
     ]
    },
    {
     "name": "stdout",
     "output_type": "stream",
     "text": [
      "Steps: 549, tries: 13\r"
     ]
    },
    {
     "name": "stderr",
     "output_type": "stream",
     "text": [
      "┌ Warning: Mapping to the storage type failed; perhaps your data had out-of-range values?\n",
      "│ Try `map(clamp01nan, img)` to clamp values to a valid range.\n",
      "└ @ ImageMagick C:\\Users\\Lukas\\.julia\\packages\\ImageMagick\\b8swT\\src\\ImageMagick.jl:180\n",
      "\u001b[32mProgress:  17%|████████                                 |  ETA: 0:24:02\u001b[39m"
     ]
    },
    {
     "name": "stdout",
     "output_type": "stream",
     "text": [
      "Steps: 549, tries: 01\r"
     ]
    },
    {
     "name": "stderr",
     "output_type": "stream",
     "text": [
      "┌ Warning: Mapping to the storage type failed; perhaps your data had out-of-range values?\n",
      "│ Try `map(clamp01nan, img)` to clamp values to a valid range.\n",
      "└ @ ImageMagick C:\\Users\\Lukas\\.julia\\packages\\ImageMagick\\b8swT\\src\\ImageMagick.jl:180\n",
      "\u001b[32mProgress:  18%|████████                                 |  ETA: 0:23:59\u001b[39m"
     ]
    },
    {
     "name": "stdout",
     "output_type": "stream",
     "text": [
      "Steps: 549, tries: 61\r"
     ]
    },
    {
     "name": "stderr",
     "output_type": "stream",
     "text": [
      "┌ Warning: Mapping to the storage type failed; perhaps your data had out-of-range values?\n",
      "│ Try `map(clamp01nan, img)` to clamp values to a valid range.\n",
      "└ @ ImageMagick C:\\Users\\Lukas\\.julia\\packages\\ImageMagick\\b8swT\\src\\ImageMagick.jl:180\n",
      "\u001b[32mProgress:  18%|████████                                 |  ETA: 0:23:55\u001b[39m"
     ]
    },
    {
     "name": "stdout",
     "output_type": "stream",
     "text": [
      "Steps: 549, tries: 17\r"
     ]
    },
    {
     "name": "stderr",
     "output_type": "stream",
     "text": [
      "┌ Warning: Mapping to the storage type failed; perhaps your data had out-of-range values?\n",
      "│ Try `map(clamp01nan, img)` to clamp values to a valid range.\n",
      "└ @ ImageMagick C:\\Users\\Lukas\\.julia\\packages\\ImageMagick\\b8swT\\src\\ImageMagick.jl:180\n",
      "\r"
     ]
    },
    {
     "name": "stdout",
     "output_type": "stream",
     "text": [
      "Steps: 323, tries: 21\r"
     ]
    },
    {
     "name": "stderr",
     "output_type": "stream",
     "text": [
      "\u001b[32mProgress:  18%|████████                                 |  ETA: 0:23:52\u001b[39m"
     ]
    },
    {
     "name": "stdout",
     "output_type": "stream",
     "text": [
      "Steps: 549, tries: 61\r"
     ]
    },
    {
     "name": "stderr",
     "output_type": "stream",
     "text": [
      "┌ Warning: Mapping to the storage type failed; perhaps your data had out-of-range values?\n",
      "│ Try `map(clamp01nan, img)` to clamp values to a valid range.\n",
      "└ @ ImageMagick C:\\Users\\Lukas\\.julia\\packages\\ImageMagick\\b8swT\\src\\ImageMagick.jl:180\n",
      "\u001b[32mProgress:  18%|████████                                 |  ETA: 0:23:48\u001b[39m"
     ]
    },
    {
     "name": "stdout",
     "output_type": "stream",
     "text": [
      "Steps: 549, tries: 41\r"
     ]
    },
    {
     "name": "stderr",
     "output_type": "stream",
     "text": [
      "┌ Warning: Mapping to the storage type failed; perhaps your data had out-of-range values?\n",
      "│ Try `map(clamp01nan, img)` to clamp values to a valid range.\n",
      "└ @ ImageMagick C:\\Users\\Lukas\\.julia\\packages\\ImageMagick\\b8swT\\src\\ImageMagick.jl:180\n",
      "\u001b[32mProgress:  18%|████████                                 |  ETA: 0:23:44\u001b[39m"
     ]
    },
    {
     "name": "stdout",
     "output_type": "stream",
     "text": [
      "Steps: 549, tries: 20\r"
     ]
    },
    {
     "name": "stderr",
     "output_type": "stream",
     "text": [
      "┌ Warning: Mapping to the storage type failed; perhaps your data had out-of-range values?\n",
      "│ Try `map(clamp01nan, img)` to clamp values to a valid range.\n",
      "└ @ ImageMagick C:\\Users\\Lukas\\.julia\\packages\\ImageMagick\\b8swT\\src\\ImageMagick.jl:180\n",
      "\u001b[32mProgress:  18%|████████                                 |  ETA: 0:23:41\u001b[39m"
     ]
    },
    {
     "name": "stdout",
     "output_type": "stream",
     "text": [
      "Steps: 549, tries: 12\r"
     ]
    },
    {
     "name": "stderr",
     "output_type": "stream",
     "text": [
      "┌ Warning: Mapping to the storage type failed; perhaps your data had out-of-range values?\n",
      "│ Try `map(clamp01nan, img)` to clamp values to a valid range.\n",
      "└ @ ImageMagick C:\\Users\\Lukas\\.julia\\packages\\ImageMagick\\b8swT\\src\\ImageMagick.jl:180\n",
      "\u001b[32mProgress:  18%|████████                                 |  ETA: 0:23:37\u001b[39m"
     ]
    },
    {
     "name": "stdout",
     "output_type": "stream",
     "text": [
      "Steps: 549, tries: 04\r"
     ]
    },
    {
     "name": "stderr",
     "output_type": "stream",
     "text": [
      "┌ Warning: Mapping to the storage type failed; perhaps your data had out-of-range values?\n",
      "│ Try `map(clamp01nan, img)` to clamp values to a valid range.\n",
      "└ @ ImageMagick C:\\Users\\Lukas\\.julia\\packages\\ImageMagick\\b8swT\\src\\ImageMagick.jl:180\n",
      "\u001b[32mProgress:  18%|████████                                 |  ETA: 0:23:34\u001b[39m"
     ]
    },
    {
     "name": "stdout",
     "output_type": "stream",
     "text": [
      "Steps: 549, tries: 77\r"
     ]
    },
    {
     "name": "stderr",
     "output_type": "stream",
     "text": [
      "┌ Warning: Mapping to the storage type failed; perhaps your data had out-of-range values?\n",
      "│ Try `map(clamp01nan, img)` to clamp values to a valid range.\n",
      "└ @ ImageMagick C:\\Users\\Lukas\\.julia\\packages\\ImageMagick\\b8swT\\src\\ImageMagick.jl:180\n",
      "\u001b[32mProgress:  18%|████████                                 |  ETA: 0:23:30\u001b[39m"
     ]
    },
    {
     "name": "stdout",
     "output_type": "stream",
     "text": [
      "Steps: 549, tries: 20\r"
     ]
    },
    {
     "name": "stderr",
     "output_type": "stream",
     "text": [
      "┌ Warning: Mapping to the storage type failed; perhaps your data had out-of-range values?\n",
      "│ Try `map(clamp01nan, img)` to clamp values to a valid range.\n",
      "└ @ ImageMagick C:\\Users\\Lukas\\.julia\\packages\\ImageMagick\\b8swT\\src\\ImageMagick.jl:180\n",
      "\u001b[32mProgress:  19%|████████                                 |  ETA: 0:23:27\u001b[39m"
     ]
    },
    {
     "name": "stdout",
     "output_type": "stream",
     "text": [
      "Steps: 549, tries: 11\r"
     ]
    },
    {
     "name": "stderr",
     "output_type": "stream",
     "text": [
      "┌ Warning: Mapping to the storage type failed; perhaps your data had out-of-range values?\n",
      "│ Try `map(clamp01nan, img)` to clamp values to a valid range.\n",
      "└ @ ImageMagick C:\\Users\\Lukas\\.julia\\packages\\ImageMagick\\b8swT\\src\\ImageMagick.jl:180\n",
      "\u001b[32mProgress:  19%|████████                                 |  ETA: 0:23:24\u001b[39m"
     ]
    },
    {
     "name": "stdout",
     "output_type": "stream",
     "text": [
      "Steps: 549, tries: 05\r"
     ]
    },
    {
     "name": "stderr",
     "output_type": "stream",
     "text": [
      "┌ Warning: Mapping to the storage type failed; perhaps your data had out-of-range values?\n",
      "│ Try `map(clamp01nan, img)` to clamp values to a valid range.\n",
      "└ @ ImageMagick C:\\Users\\Lukas\\.julia\\packages\\ImageMagick\\b8swT\\src\\ImageMagick.jl:180\n",
      "\u001b[32mProgress:  19%|████████                                 |  ETA: 0:23:20\u001b[39m"
     ]
    },
    {
     "name": "stdout",
     "output_type": "stream",
     "text": [
      "Steps: 549, tries: 44\r"
     ]
    },
    {
     "name": "stderr",
     "output_type": "stream",
     "text": [
      "┌ Warning: Mapping to the storage type failed; perhaps your data had out-of-range values?\n",
      "│ Try `map(clamp01nan, img)` to clamp values to a valid range.\n",
      "└ @ ImageMagick C:\\Users\\Lukas\\.julia\\packages\\ImageMagick\\b8swT\\src\\ImageMagick.jl:180\n",
      "\u001b[32mProgress:  19%|████████                                 |  ETA: 0:23:17\u001b[39m"
     ]
    },
    {
     "name": "stdout",
     "output_type": "stream",
     "text": [
      "Steps: 549, tries: 02\r"
     ]
    },
    {
     "name": "stderr",
     "output_type": "stream",
     "text": [
      "┌ Warning: Mapping to the storage type failed; perhaps your data had out-of-range values?\n",
      "│ Try `map(clamp01nan, img)` to clamp values to a valid range.\n",
      "└ @ ImageMagick C:\\Users\\Lukas\\.julia\\packages\\ImageMagick\\b8swT\\src\\ImageMagick.jl:180\n",
      "\u001b[32mProgress:  19%|████████                                 |  ETA: 0:23:13\u001b[39m"
     ]
    },
    {
     "name": "stdout",
     "output_type": "stream",
     "text": [
      "Steps: 549, tries: 13\r"
     ]
    },
    {
     "name": "stderr",
     "output_type": "stream",
     "text": [
      "┌ Warning: Mapping to the storage type failed; perhaps your data had out-of-range values?\n",
      "│ Try `map(clamp01nan, img)` to clamp values to a valid range.\n",
      "└ @ ImageMagick C:\\Users\\Lukas\\.julia\\packages\\ImageMagick\\b8swT\\src\\ImageMagick.jl:180\n",
      "\u001b[32mProgress:  19%|████████                                 |  ETA: 0:23:09\u001b[39m"
     ]
    },
    {
     "name": "stdout",
     "output_type": "stream",
     "text": [
      "Steps: 549, tries: 34\r"
     ]
    },
    {
     "name": "stderr",
     "output_type": "stream",
     "text": [
      "┌ Warning: Mapping to the storage type failed; perhaps your data had out-of-range values?\n",
      "│ Try `map(clamp01nan, img)` to clamp values to a valid range.\n",
      "└ @ ImageMagick C:\\Users\\Lukas\\.julia\\packages\\ImageMagick\\b8swT\\src\\ImageMagick.jl:180\n",
      "\u001b[32mProgress:  19%|████████                                 |  ETA: 0:23:06\u001b[39m"
     ]
    },
    {
     "name": "stdout",
     "output_type": "stream",
     "text": [
      "Steps: 549, tries: 12\r"
     ]
    },
    {
     "name": "stderr",
     "output_type": "stream",
     "text": [
      "┌ Warning: Mapping to the storage type failed; perhaps your data had out-of-range values?\n",
      "│ Try `map(clamp01nan, img)` to clamp values to a valid range.\n",
      "└ @ ImageMagick C:\\Users\\Lukas\\.julia\\packages\\ImageMagick\\b8swT\\src\\ImageMagick.jl:180\n",
      "\u001b[32mProgress:  20%|████████                                 |  ETA: 0:23:03\u001b[39m"
     ]
    },
    {
     "name": "stdout",
     "output_type": "stream",
     "text": [
      "Steps: 549, tries: 05\r"
     ]
    },
    {
     "name": "stderr",
     "output_type": "stream",
     "text": [
      "┌ Warning: Mapping to the storage type failed; perhaps your data had out-of-range values?\n",
      "│ Try `map(clamp01nan, img)` to clamp values to a valid range.\n",
      "└ @ ImageMagick C:\\Users\\Lukas\\.julia\\packages\\ImageMagick\\b8swT\\src\\ImageMagick.jl:180\n",
      "\u001b[32mProgress:  20%|█████████                                |  ETA: 0:22:59\u001b[39m"
     ]
    },
    {
     "name": "stdout",
     "output_type": "stream",
     "text": [
      "Steps: 549, tries: 26\r"
     ]
    },
    {
     "name": "stderr",
     "output_type": "stream",
     "text": [
      "┌ Warning: Mapping to the storage type failed; perhaps your data had out-of-range values?\n",
      "│ Try `map(clamp01nan, img)` to clamp values to a valid range.\n",
      "└ @ ImageMagick C:\\Users\\Lukas\\.julia\\packages\\ImageMagick\\b8swT\\src\\ImageMagick.jl:180\n",
      "\u001b[32mProgress:  20%|█████████                                |  ETA: 0:22:55\u001b[39m"
     ]
    },
    {
     "name": "stdout",
     "output_type": "stream",
     "text": [
      "Steps: 549, tries: 31\r"
     ]
    },
    {
     "name": "stderr",
     "output_type": "stream",
     "text": [
      "┌ Warning: Mapping to the storage type failed; perhaps your data had out-of-range values?\n",
      "│ Try `map(clamp01nan, img)` to clamp values to a valid range.\n",
      "└ @ ImageMagick C:\\Users\\Lukas\\.julia\\packages\\ImageMagick\\b8swT\\src\\ImageMagick.jl:180\n",
      "\u001b[32mProgress:  20%|█████████                                |  ETA: 0:22:52\u001b[39m"
     ]
    },
    {
     "name": "stdout",
     "output_type": "stream",
     "text": [
      "Steps: 549, tries: 45\r"
     ]
    },
    {
     "name": "stderr",
     "output_type": "stream",
     "text": [
      "┌ Warning: Mapping to the storage type failed; perhaps your data had out-of-range values?\n",
      "│ Try `map(clamp01nan, img)` to clamp values to a valid range.\n",
      "└ @ ImageMagick C:\\Users\\Lukas\\.julia\\packages\\ImageMagick\\b8swT\\src\\ImageMagick.jl:180\n",
      "\u001b[32mProgress:  20%|█████████                                |  ETA: 0:22:48\u001b[39m"
     ]
    },
    {
     "name": "stdout",
     "output_type": "stream",
     "text": [
      "Steps: 549, tries: 10\r"
     ]
    },
    {
     "name": "stderr",
     "output_type": "stream",
     "text": [
      "┌ Warning: Mapping to the storage type failed; perhaps your data had out-of-range values?\n",
      "│ Try `map(clamp01nan, img)` to clamp values to a valid range.\n",
      "└ @ ImageMagick C:\\Users\\Lukas\\.julia\\packages\\ImageMagick\\b8swT\\src\\ImageMagick.jl:180\n",
      "\u001b[32mProgress:  20%|█████████                                |  ETA: 0:22:45\u001b[39m"
     ]
    },
    {
     "name": "stdout",
     "output_type": "stream",
     "text": [
      "Steps: 549, tries: 25\r"
     ]
    },
    {
     "name": "stderr",
     "output_type": "stream",
     "text": [
      "┌ Warning: Mapping to the storage type failed; perhaps your data had out-of-range values?\n",
      "│ Try `map(clamp01nan, img)` to clamp values to a valid range.\n",
      "└ @ ImageMagick C:\\Users\\Lukas\\.julia\\packages\\ImageMagick\\b8swT\\src\\ImageMagick.jl:180\n",
      "\u001b[32mProgress:  20%|█████████                                |  ETA: 0:22:41\u001b[39m"
     ]
    },
    {
     "name": "stdout",
     "output_type": "stream",
     "text": [
      "Steps: 549, tries: 02\r"
     ]
    },
    {
     "name": "stderr",
     "output_type": "stream",
     "text": [
      "┌ Warning: Mapping to the storage type failed; perhaps your data had out-of-range values?\n",
      "│ Try `map(clamp01nan, img)` to clamp values to a valid range.\n",
      "└ @ ImageMagick C:\\Users\\Lukas\\.julia\\packages\\ImageMagick\\b8swT\\src\\ImageMagick.jl:180\n",
      "\u001b[32mProgress:  20%|█████████                                |  ETA: 0:22:38\u001b[39m"
     ]
    },
    {
     "name": "stdout",
     "output_type": "stream",
     "text": [
      "Steps: 549, tries: 35\r"
     ]
    },
    {
     "name": "stderr",
     "output_type": "stream",
     "text": [
      "┌ Warning: Mapping to the storage type failed; perhaps your data had out-of-range values?\n",
      "│ Try `map(clamp01nan, img)` to clamp values to a valid range.\n",
      "└ @ ImageMagick C:\\Users\\Lukas\\.julia\\packages\\ImageMagick\\b8swT\\src\\ImageMagick.jl:180\n",
      "\u001b[32mProgress:  20%|█████████                                |  ETA: 0:22:35\u001b[39m"
     ]
    },
    {
     "name": "stdout",
     "output_type": "stream",
     "text": [
      "Steps: 549, tries: 10\r"
     ]
    },
    {
     "name": "stderr",
     "output_type": "stream",
     "text": [
      "┌ Warning: Mapping to the storage type failed; perhaps your data had out-of-range values?\n",
      "│ Try `map(clamp01nan, img)` to clamp values to a valid range.\n",
      "└ @ ImageMagick C:\\Users\\Lukas\\.julia\\packages\\ImageMagick\\b8swT\\src\\ImageMagick.jl:180\n",
      "\u001b[32mProgress:  21%|█████████                                |  ETA: 0:22:31\u001b[39m"
     ]
    },
    {
     "name": "stdout",
     "output_type": "stream",
     "text": [
      "Steps: 549, tries: 30\r"
     ]
    },
    {
     "name": "stderr",
     "output_type": "stream",
     "text": [
      "┌ Warning: Mapping to the storage type failed; perhaps your data had out-of-range values?\n",
      "│ Try `map(clamp01nan, img)` to clamp values to a valid range.\n",
      "└ @ ImageMagick C:\\Users\\Lukas\\.julia\\packages\\ImageMagick\\b8swT\\src\\ImageMagick.jl:180\n",
      "\u001b[32mProgress:  21%|█████████                                |  ETA: 0:22:28\u001b[39m"
     ]
    },
    {
     "name": "stdout",
     "output_type": "stream",
     "text": [
      "Steps: 549, tries: 00\r"
     ]
    },
    {
     "name": "stderr",
     "output_type": "stream",
     "text": [
      "┌ Warning: Mapping to the storage type failed; perhaps your data had out-of-range values?\n",
      "│ Try `map(clamp01nan, img)` to clamp values to a valid range.\n",
      "└ @ ImageMagick C:\\Users\\Lukas\\.julia\\packages\\ImageMagick\\b8swT\\src\\ImageMagick.jl:180\n",
      "\u001b[32mProgress:  21%|█████████                                |  ETA: 0:22:25\u001b[39m"
     ]
    },
    {
     "name": "stdout",
     "output_type": "stream",
     "text": [
      "Steps: 549, tries: 14\r"
     ]
    },
    {
     "name": "stderr",
     "output_type": "stream",
     "text": [
      "┌ Warning: Mapping to the storage type failed; perhaps your data had out-of-range values?\n",
      "│ Try `map(clamp01nan, img)` to clamp values to a valid range.\n",
      "└ @ ImageMagick C:\\Users\\Lukas\\.julia\\packages\\ImageMagick\\b8swT\\src\\ImageMagick.jl:180\n",
      "\u001b[32mProgress:  21%|█████████                                |  ETA: 0:22:22\u001b[39m"
     ]
    },
    {
     "name": "stdout",
     "output_type": "stream",
     "text": [
      "Steps: 549, tries: 12\r"
     ]
    },
    {
     "name": "stderr",
     "output_type": "stream",
     "text": [
      "┌ Warning: Mapping to the storage type failed; perhaps your data had out-of-range values?\n",
      "│ Try `map(clamp01nan, img)` to clamp values to a valid range.\n",
      "└ @ ImageMagick C:\\Users\\Lukas\\.julia\\packages\\ImageMagick\\b8swT\\src\\ImageMagick.jl:180\n",
      "\u001b[32mProgress:  21%|█████████                                |  ETA: 0:22:19\u001b[39m"
     ]
    },
    {
     "name": "stdout",
     "output_type": "stream",
     "text": [
      "Steps: 549, tries: 21\r"
     ]
    },
    {
     "name": "stderr",
     "output_type": "stream",
     "text": [
      "┌ Warning: Mapping to the storage type failed; perhaps your data had out-of-range values?\n",
      "│ Try `map(clamp01nan, img)` to clamp values to a valid range.\n",
      "└ @ ImageMagick C:\\Users\\Lukas\\.julia\\packages\\ImageMagick\\b8swT\\src\\ImageMagick.jl:180\n",
      "\u001b[32mProgress:  21%|█████████                                |  ETA: 0:22:16\u001b[39m"
     ]
    },
    {
     "name": "stdout",
     "output_type": "stream",
     "text": [
      "Steps: 549, tries: 12\r"
     ]
    },
    {
     "name": "stderr",
     "output_type": "stream",
     "text": [
      "┌ Warning: Mapping to the storage type failed; perhaps your data had out-of-range values?\n",
      "│ Try `map(clamp01nan, img)` to clamp values to a valid range.\n",
      "└ @ ImageMagick C:\\Users\\Lukas\\.julia\\packages\\ImageMagick\\b8swT\\src\\ImageMagick.jl:180\n",
      "\u001b[32mProgress:  21%|█████████                                |  ETA: 0:22:13\u001b[39m"
     ]
    },
    {
     "name": "stdout",
     "output_type": "stream",
     "text": [
      "Steps: 549, tries: 74\r"
     ]
    },
    {
     "name": "stderr",
     "output_type": "stream",
     "text": [
      "┌ Warning: Mapping to the storage type failed; perhaps your data had out-of-range values?\n",
      "│ Try `map(clamp01nan, img)` to clamp values to a valid range.\n",
      "└ @ ImageMagick C:\\Users\\Lukas\\.julia\\packages\\ImageMagick\\b8swT\\src\\ImageMagick.jl:180\n",
      "\u001b[32mProgress:  22%|█████████                                |  ETA: 0:22:10\u001b[39m"
     ]
    },
    {
     "name": "stdout",
     "output_type": "stream",
     "text": [
      "Steps: 549, tries: 10\r"
     ]
    },
    {
     "name": "stderr",
     "output_type": "stream",
     "text": [
      "┌ Warning: Mapping to the storage type failed; perhaps your data had out-of-range values?\n",
      "│ Try `map(clamp01nan, img)` to clamp values to a valid range.\n",
      "└ @ ImageMagick C:\\Users\\Lukas\\.julia\\packages\\ImageMagick\\b8swT\\src\\ImageMagick.jl:180\n",
      "\u001b[32mProgress:  22%|█████████                                |  ETA: 0:22:07\u001b[39m"
     ]
    },
    {
     "name": "stdout",
     "output_type": "stream",
     "text": [
      "Steps: 549, tries: 03\r"
     ]
    },
    {
     "name": "stderr",
     "output_type": "stream",
     "text": [
      "┌ Warning: Mapping to the storage type failed; perhaps your data had out-of-range values?\n",
      "│ Try `map(clamp01nan, img)` to clamp values to a valid range.\n",
      "└ @ ImageMagick C:\\Users\\Lukas\\.julia\\packages\\ImageMagick\\b8swT\\src\\ImageMagick.jl:180\n",
      "\u001b[32mProgress:  22%|█████████                                |  ETA: 0:22:04\u001b[39m"
     ]
    },
    {
     "name": "stdout",
     "output_type": "stream",
     "text": [
      "Steps: 549, tries: 21\r"
     ]
    },
    {
     "name": "stderr",
     "output_type": "stream",
     "text": [
      "┌ Warning: Mapping to the storage type failed; perhaps your data had out-of-range values?\n",
      "│ Try `map(clamp01nan, img)` to clamp values to a valid range.\n",
      "└ @ ImageMagick C:\\Users\\Lukas\\.julia\\packages\\ImageMagick\\b8swT\\src\\ImageMagick.jl:180\n",
      "\u001b[32mProgress:  22%|█████████                                |  ETA: 0:22:00\u001b[39m"
     ]
    },
    {
     "name": "stdout",
     "output_type": "stream",
     "text": [
      "Steps: 549, tries: 13\r"
     ]
    },
    {
     "name": "stderr",
     "output_type": "stream",
     "text": [
      "┌ Warning: Mapping to the storage type failed; perhaps your data had out-of-range values?\n",
      "│ Try `map(clamp01nan, img)` to clamp values to a valid range.\n",
      "└ @ ImageMagick C:\\Users\\Lukas\\.julia\\packages\\ImageMagick\\b8swT\\src\\ImageMagick.jl:180\n",
      "\u001b[32mProgress:  22%|██████████                               |  ETA: 0:21:57\u001b[39m"
     ]
    },
    {
     "name": "stdout",
     "output_type": "stream",
     "text": [
      "Steps: 549, tries: 11\r"
     ]
    },
    {
     "name": "stderr",
     "output_type": "stream",
     "text": [
      "┌ Warning: Mapping to the storage type failed; perhaps your data had out-of-range values?\n",
      "│ Try `map(clamp01nan, img)` to clamp values to a valid range.\n",
      "└ @ ImageMagick C:\\Users\\Lukas\\.julia\\packages\\ImageMagick\\b8swT\\src\\ImageMagick.jl:180\n",
      "\u001b[32mProgress:  22%|██████████                               |  ETA: 0:21:53\u001b[39m"
     ]
    },
    {
     "name": "stdout",
     "output_type": "stream",
     "text": [
      "Steps: 549, tries: 11\r"
     ]
    },
    {
     "name": "stderr",
     "output_type": "stream",
     "text": [
      "┌ Warning: Mapping to the storage type failed; perhaps your data had out-of-range values?\n",
      "│ Try `map(clamp01nan, img)` to clamp values to a valid range.\n",
      "└ @ ImageMagick C:\\Users\\Lukas\\.julia\\packages\\ImageMagick\\b8swT\\src\\ImageMagick.jl:180\n",
      "\u001b[32mProgress:  22%|██████████                               |  ETA: 0:21:50\u001b[39m"
     ]
    },
    {
     "name": "stdout",
     "output_type": "stream",
     "text": [
      "Steps: 549, tries: 50\r"
     ]
    },
    {
     "name": "stderr",
     "output_type": "stream",
     "text": [
      "┌ Warning: Mapping to the storage type failed; perhaps your data had out-of-range values?\n",
      "│ Try `map(clamp01nan, img)` to clamp values to a valid range.\n",
      "└ @ ImageMagick C:\\Users\\Lukas\\.julia\\packages\\ImageMagick\\b8swT\\src\\ImageMagick.jl:180\n",
      "\u001b[32mProgress:  22%|██████████                               |  ETA: 0:21:47\u001b[39m"
     ]
    },
    {
     "name": "stdout",
     "output_type": "stream",
     "text": [
      "Steps: 549, tries: 19\r"
     ]
    },
    {
     "name": "stderr",
     "output_type": "stream",
     "text": [
      "┌ Warning: Mapping to the storage type failed; perhaps your data had out-of-range values?\n",
      "│ Try `map(clamp01nan, img)` to clamp values to a valid range.\n",
      "└ @ ImageMagick C:\\Users\\Lukas\\.julia\\packages\\ImageMagick\\b8swT\\src\\ImageMagick.jl:180\n",
      "\u001b[32mProgress:  22%|██████████                               |  ETA: 0:21:48\u001b[39m"
     ]
    },
    {
     "name": "stdout",
     "output_type": "stream",
     "text": [
      "Steps: 549, tries: 20\r"
     ]
    },
    {
     "name": "stderr",
     "output_type": "stream",
     "text": [
      "┌ Warning: Mapping to the storage type failed; perhaps your data had out-of-range values?\n",
      "│ Try `map(clamp01nan, img)` to clamp values to a valid range.\n",
      "└ @ ImageMagick C:\\Users\\Lukas\\.julia\\packages\\ImageMagick\\b8swT\\src\\ImageMagick.jl:180\n",
      "\u001b[32mProgress:  23%|██████████                               |  ETA: 0:21:45\u001b[39m"
     ]
    },
    {
     "name": "stdout",
     "output_type": "stream",
     "text": [
      "Steps: 549, tries: 15\r"
     ]
    },
    {
     "name": "stderr",
     "output_type": "stream",
     "text": [
      "┌ Warning: Mapping to the storage type failed; perhaps your data had out-of-range values?\n",
      "│ Try `map(clamp01nan, img)` to clamp values to a valid range.\n",
      "└ @ ImageMagick C:\\Users\\Lukas\\.julia\\packages\\ImageMagick\\b8swT\\src\\ImageMagick.jl:180\n",
      "\u001b[32mProgress:  23%|██████████                               |  ETA: 0:21:43\u001b[39m"
     ]
    },
    {
     "name": "stdout",
     "output_type": "stream",
     "text": [
      "Steps: 549, tries: 22\r"
     ]
    },
    {
     "name": "stderr",
     "output_type": "stream",
     "text": [
      "┌ Warning: Mapping to the storage type failed; perhaps your data had out-of-range values?\n",
      "│ Try `map(clamp01nan, img)` to clamp values to a valid range.\n",
      "└ @ ImageMagick C:\\Users\\Lukas\\.julia\\packages\\ImageMagick\\b8swT\\src\\ImageMagick.jl:180\n",
      "\u001b[32mProgress:  23%|██████████                               |  ETA: 0:21:40\u001b[39m"
     ]
    },
    {
     "name": "stdout",
     "output_type": "stream",
     "text": [
      "Steps: 549, tries: 06\r"
     ]
    },
    {
     "name": "stderr",
     "output_type": "stream",
     "text": [
      "┌ Warning: Mapping to the storage type failed; perhaps your data had out-of-range values?\n",
      "│ Try `map(clamp01nan, img)` to clamp values to a valid range.\n",
      "└ @ ImageMagick C:\\Users\\Lukas\\.julia\\packages\\ImageMagick\\b8swT\\src\\ImageMagick.jl:180\n",
      "\u001b[32mProgress:  23%|██████████                               |  ETA: 0:21:36\u001b[39m"
     ]
    },
    {
     "name": "stdout",
     "output_type": "stream",
     "text": [
      "Steps: 549, tries: 01\r"
     ]
    },
    {
     "name": "stderr",
     "output_type": "stream",
     "text": [
      "┌ Warning: Mapping to the storage type failed; perhaps your data had out-of-range values?\n",
      "│ Try `map(clamp01nan, img)` to clamp values to a valid range.\n",
      "└ @ ImageMagick C:\\Users\\Lukas\\.julia\\packages\\ImageMagick\\b8swT\\src\\ImageMagick.jl:180\n",
      "\u001b[32mProgress:  23%|██████████                               |  ETA: 0:21:33\u001b[39m"
     ]
    },
    {
     "name": "stdout",
     "output_type": "stream",
     "text": [
      "Steps: 549, tries: 41\r"
     ]
    },
    {
     "name": "stderr",
     "output_type": "stream",
     "text": [
      "┌ Warning: Mapping to the storage type failed; perhaps your data had out-of-range values?\n",
      "│ Try `map(clamp01nan, img)` to clamp values to a valid range.\n",
      "└ @ ImageMagick C:\\Users\\Lukas\\.julia\\packages\\ImageMagick\\b8swT\\src\\ImageMagick.jl:180\n",
      "\u001b[32mProgress:  23%|██████████                               |  ETA: 0:21:30\u001b[39m"
     ]
    },
    {
     "name": "stdout",
     "output_type": "stream",
     "text": [
      "Steps: 549, tries: 01\r"
     ]
    },
    {
     "name": "stderr",
     "output_type": "stream",
     "text": [
      "┌ Warning: Mapping to the storage type failed; perhaps your data had out-of-range values?\n",
      "│ Try `map(clamp01nan, img)` to clamp values to a valid range.\n",
      "└ @ ImageMagick C:\\Users\\Lukas\\.julia\\packages\\ImageMagick\\b8swT\\src\\ImageMagick.jl:180\n",
      "\u001b[32mProgress:  23%|██████████                               |  ETA: 0:21:27\u001b[39m"
     ]
    },
    {
     "name": "stdout",
     "output_type": "stream",
     "text": [
      "Steps: 549, tries: 11\r"
     ]
    },
    {
     "name": "stderr",
     "output_type": "stream",
     "text": [
      "┌ Warning: Mapping to the storage type failed; perhaps your data had out-of-range values?\n",
      "│ Try `map(clamp01nan, img)` to clamp values to a valid range.\n",
      "└ @ ImageMagick C:\\Users\\Lukas\\.julia\\packages\\ImageMagick\\b8swT\\src\\ImageMagick.jl:180\n",
      "\u001b[32mProgress:  24%|██████████                               |  ETA: 0:21:24\u001b[39m"
     ]
    },
    {
     "name": "stdout",
     "output_type": "stream",
     "text": [
      "Steps: 549, tries: 44\r"
     ]
    },
    {
     "name": "stderr",
     "output_type": "stream",
     "text": [
      "┌ Warning: Mapping to the storage type failed; perhaps your data had out-of-range values?\n",
      "│ Try `map(clamp01nan, img)` to clamp values to a valid range.\n",
      "└ @ ImageMagick C:\\Users\\Lukas\\.julia\\packages\\ImageMagick\\b8swT\\src\\ImageMagick.jl:180\n",
      "\u001b[32mProgress:  24%|██████████                               |  ETA: 0:21:21\u001b[39m"
     ]
    },
    {
     "name": "stdout",
     "output_type": "stream",
     "text": [
      "Steps: 549, tries: 70\r"
     ]
    },
    {
     "name": "stderr",
     "output_type": "stream",
     "text": [
      "┌ Warning: Mapping to the storage type failed; perhaps your data had out-of-range values?\n",
      "│ Try `map(clamp01nan, img)` to clamp values to a valid range.\n",
      "└ @ ImageMagick C:\\Users\\Lukas\\.julia\\packages\\ImageMagick\\b8swT\\src\\ImageMagick.jl:180\n",
      "\u001b[32mProgress:  24%|██████████                               |  ETA: 0:21:18\u001b[39m"
     ]
    },
    {
     "name": "stdout",
     "output_type": "stream",
     "text": [
      "Steps: 549, tries: 16\r"
     ]
    },
    {
     "name": "stderr",
     "output_type": "stream",
     "text": [
      "┌ Warning: Mapping to the storage type failed; perhaps your data had out-of-range values?\n",
      "│ Try `map(clamp01nan, img)` to clamp values to a valid range.\n",
      "└ @ ImageMagick C:\\Users\\Lukas\\.julia\\packages\\ImageMagick\\b8swT\\src\\ImageMagick.jl:180\n",
      "\u001b[32mProgress:  24%|██████████                               |  ETA: 0:21:15\u001b[39m"
     ]
    },
    {
     "name": "stdout",
     "output_type": "stream",
     "text": [
      "Steps: 549, tries: 00\r"
     ]
    },
    {
     "name": "stderr",
     "output_type": "stream",
     "text": [
      "┌ Warning: Mapping to the storage type failed; perhaps your data had out-of-range values?\n",
      "│ Try `map(clamp01nan, img)` to clamp values to a valid range.\n",
      "└ @ ImageMagick C:\\Users\\Lukas\\.julia\\packages\\ImageMagick\\b8swT\\src\\ImageMagick.jl:180\n",
      "\u001b[32mProgress:  24%|██████████                               |  ETA: 0:21:12\u001b[39m"
     ]
    },
    {
     "name": "stdout",
     "output_type": "stream",
     "text": [
      "Steps: 549, tries: 02\r"
     ]
    },
    {
     "name": "stderr",
     "output_type": "stream",
     "text": [
      "┌ Warning: Mapping to the storage type failed; perhaps your data had out-of-range values?\n",
      "│ Try `map(clamp01nan, img)` to clamp values to a valid range.\n",
      "└ @ ImageMagick C:\\Users\\Lukas\\.julia\\packages\\ImageMagick\\b8swT\\src\\ImageMagick.jl:180\n",
      "\u001b[32mProgress:  24%|██████████                               |  ETA: 0:21:09\u001b[39m"
     ]
    },
    {
     "name": "stdout",
     "output_type": "stream",
     "text": [
      "Steps: 549, tries: 26\r"
     ]
    },
    {
     "name": "stderr",
     "output_type": "stream",
     "text": [
      "┌ Warning: Mapping to the storage type failed; perhaps your data had out-of-range values?\n",
      "│ Try `map(clamp01nan, img)` to clamp values to a valid range.\n",
      "└ @ ImageMagick C:\\Users\\Lukas\\.julia\\packages\\ImageMagick\\b8swT\\src\\ImageMagick.jl:180\n",
      "\u001b[32mProgress:  24%|██████████                               |  ETA: 0:21:06\u001b[39m"
     ]
    },
    {
     "name": "stdout",
     "output_type": "stream",
     "text": [
      "Steps: 549, tries: 11\r"
     ]
    },
    {
     "name": "stderr",
     "output_type": "stream",
     "text": [
      "┌ Warning: Mapping to the storage type failed; perhaps your data had out-of-range values?\n",
      "│ Try `map(clamp01nan, img)` to clamp values to a valid range.\n",
      "└ @ ImageMagick C:\\Users\\Lukas\\.julia\\packages\\ImageMagick\\b8swT\\src\\ImageMagick.jl:180\n",
      "\u001b[32mProgress:  24%|██████████                               |  ETA: 0:21:03\u001b[39m"
     ]
    },
    {
     "name": "stdout",
     "output_type": "stream",
     "text": [
      "Steps: 549, tries: 29\r"
     ]
    },
    {
     "name": "stderr",
     "output_type": "stream",
     "text": [
      "┌ Warning: Mapping to the storage type failed; perhaps your data had out-of-range values?\n",
      "│ Try `map(clamp01nan, img)` to clamp values to a valid range.\n",
      "└ @ ImageMagick C:\\Users\\Lukas\\.julia\\packages\\ImageMagick\\b8swT\\src\\ImageMagick.jl:180\n",
      "\u001b[32mProgress:  24%|███████████                              |  ETA: 0:21:00\u001b[39m"
     ]
    },
    {
     "name": "stdout",
     "output_type": "stream",
     "text": [
      "Steps: 549, tries: 19\r"
     ]
    },
    {
     "name": "stderr",
     "output_type": "stream",
     "text": [
      "┌ Warning: Mapping to the storage type failed; perhaps your data had out-of-range values?\n",
      "│ Try `map(clamp01nan, img)` to clamp values to a valid range.\n",
      "└ @ ImageMagick C:\\Users\\Lukas\\.julia\\packages\\ImageMagick\\b8swT\\src\\ImageMagick.jl:180\n",
      "\u001b[32mProgress:  25%|███████████                              |  ETA: 0:20:57\u001b[39m"
     ]
    },
    {
     "name": "stdout",
     "output_type": "stream",
     "text": [
      "Steps: 549, tries: 09\r"
     ]
    },
    {
     "name": "stderr",
     "output_type": "stream",
     "text": [
      "┌ Warning: Mapping to the storage type failed; perhaps your data had out-of-range values?\n",
      "│ Try `map(clamp01nan, img)` to clamp values to a valid range.\n",
      "└ @ ImageMagick C:\\Users\\Lukas\\.julia\\packages\\ImageMagick\\b8swT\\src\\ImageMagick.jl:180\n",
      "\u001b[32mProgress:  25%|███████████                              |  ETA: 0:20:55\u001b[39m"
     ]
    },
    {
     "name": "stdout",
     "output_type": "stream",
     "text": [
      "Steps: 549, tries: 27\r"
     ]
    },
    {
     "name": "stderr",
     "output_type": "stream",
     "text": [
      "┌ Warning: Mapping to the storage type failed; perhaps your data had out-of-range values?\n",
      "│ Try `map(clamp01nan, img)` to clamp values to a valid range.\n",
      "└ @ ImageMagick C:\\Users\\Lukas\\.julia\\packages\\ImageMagick\\b8swT\\src\\ImageMagick.jl:180\n",
      "\u001b[32mProgress:  25%|███████████                              |  ETA: 0:20:52\u001b[39m"
     ]
    },
    {
     "name": "stdout",
     "output_type": "stream",
     "text": [
      "Steps: 549, tries: 03\r"
     ]
    },
    {
     "name": "stderr",
     "output_type": "stream",
     "text": [
      "┌ Warning: Mapping to the storage type failed; perhaps your data had out-of-range values?\n",
      "│ Try `map(clamp01nan, img)` to clamp values to a valid range.\n",
      "└ @ ImageMagick C:\\Users\\Lukas\\.julia\\packages\\ImageMagick\\b8swT\\src\\ImageMagick.jl:180\n",
      "\u001b[32mProgress:  25%|███████████                              |  ETA: 0:20:50\u001b[39m"
     ]
    },
    {
     "name": "stdout",
     "output_type": "stream",
     "text": [
      "Steps: 549, tries: 39\r"
     ]
    },
    {
     "name": "stderr",
     "output_type": "stream",
     "text": [
      "┌ Warning: Mapping to the storage type failed; perhaps your data had out-of-range values?\n",
      "│ Try `map(clamp01nan, img)` to clamp values to a valid range.\n",
      "└ @ ImageMagick C:\\Users\\Lukas\\.julia\\packages\\ImageMagick\\b8swT\\src\\ImageMagick.jl:180\n",
      "\u001b[32mProgress:  25%|███████████                              |  ETA: 0:20:47\u001b[39m"
     ]
    },
    {
     "name": "stdout",
     "output_type": "stream",
     "text": [
      "Steps: 549, tries: 24\r"
     ]
    },
    {
     "name": "stderr",
     "output_type": "stream",
     "text": [
      "┌ Warning: Mapping to the storage type failed; perhaps your data had out-of-range values?\n",
      "│ Try `map(clamp01nan, img)` to clamp values to a valid range.\n",
      "└ @ ImageMagick C:\\Users\\Lukas\\.julia\\packages\\ImageMagick\\b8swT\\src\\ImageMagick.jl:180\n",
      "\u001b[32mProgress:  25%|███████████                              |  ETA: 0:20:45\u001b[39m"
     ]
    },
    {
     "name": "stdout",
     "output_type": "stream",
     "text": [
      "Steps: 549, tries: 03\r"
     ]
    },
    {
     "name": "stderr",
     "output_type": "stream",
     "text": [
      "┌ Warning: Mapping to the storage type failed; perhaps your data had out-of-range values?\n",
      "│ Try `map(clamp01nan, img)` to clamp values to a valid range.\n",
      "└ @ ImageMagick C:\\Users\\Lukas\\.julia\\packages\\ImageMagick\\b8swT\\src\\ImageMagick.jl:180\n",
      "\u001b[32mProgress:  25%|███████████                              |  ETA: 0:20:42\u001b[39m"
     ]
    },
    {
     "name": "stdout",
     "output_type": "stream",
     "text": [
      "Steps: 549, tries: 06\r"
     ]
    },
    {
     "name": "stderr",
     "output_type": "stream",
     "text": [
      "┌ Warning: Mapping to the storage type failed; perhaps your data had out-of-range values?\n",
      "│ Try `map(clamp01nan, img)` to clamp values to a valid range.\n",
      "└ @ ImageMagick C:\\Users\\Lukas\\.julia\\packages\\ImageMagick\\b8swT\\src\\ImageMagick.jl:180\n",
      "\u001b[32mProgress:  26%|███████████                              |  ETA: 0:20:39\u001b[39m"
     ]
    },
    {
     "name": "stdout",
     "output_type": "stream",
     "text": [
      "Steps: 549, tries: 02\r"
     ]
    },
    {
     "name": "stderr",
     "output_type": "stream",
     "text": [
      "┌ Warning: Mapping to the storage type failed; perhaps your data had out-of-range values?\n",
      "│ Try `map(clamp01nan, img)` to clamp values to a valid range.\n",
      "└ @ ImageMagick C:\\Users\\Lukas\\.julia\\packages\\ImageMagick\\b8swT\\src\\ImageMagick.jl:180\n",
      "\u001b[32mProgress:  26%|███████████                              |  ETA: 0:20:37\u001b[39m"
     ]
    },
    {
     "name": "stdout",
     "output_type": "stream",
     "text": [
      "Steps: 549, tries: 60\r"
     ]
    },
    {
     "name": "stderr",
     "output_type": "stream",
     "text": [
      "┌ Warning: Mapping to the storage type failed; perhaps your data had out-of-range values?\n",
      "│ Try `map(clamp01nan, img)` to clamp values to a valid range.\n",
      "└ @ ImageMagick C:\\Users\\Lukas\\.julia\\packages\\ImageMagick\\b8swT\\src\\ImageMagick.jl:180\n",
      "\u001b[32mProgress:  26%|███████████                              |  ETA: 0:20:34\u001b[39m"
     ]
    },
    {
     "name": "stdout",
     "output_type": "stream",
     "text": [
      "Steps: 549, tries: 04\r"
     ]
    },
    {
     "name": "stderr",
     "output_type": "stream",
     "text": [
      "┌ Warning: Mapping to the storage type failed; perhaps your data had out-of-range values?\n",
      "│ Try `map(clamp01nan, img)` to clamp values to a valid range.\n",
      "└ @ ImageMagick C:\\Users\\Lukas\\.julia\\packages\\ImageMagick\\b8swT\\src\\ImageMagick.jl:180\n",
      "\u001b[32mProgress:  26%|███████████                              |  ETA: 0:20:31\u001b[39m"
     ]
    },
    {
     "name": "stdout",
     "output_type": "stream",
     "text": [
      "Steps: 549, tries: 21\r"
     ]
    },
    {
     "name": "stderr",
     "output_type": "stream",
     "text": [
      "┌ Warning: Mapping to the storage type failed; perhaps your data had out-of-range values?\n",
      "│ Try `map(clamp01nan, img)` to clamp values to a valid range.\n",
      "└ @ ImageMagick C:\\Users\\Lukas\\.julia\\packages\\ImageMagick\\b8swT\\src\\ImageMagick.jl:180\n",
      "\u001b[32mProgress:  26%|███████████                              |  ETA: 0:20:29\u001b[39m"
     ]
    },
    {
     "name": "stdout",
     "output_type": "stream",
     "text": [
      "Steps: 549, tries: 67\r"
     ]
    },
    {
     "name": "stderr",
     "output_type": "stream",
     "text": [
      "┌ Warning: Mapping to the storage type failed; perhaps your data had out-of-range values?\n",
      "│ Try `map(clamp01nan, img)` to clamp values to a valid range.\n",
      "└ @ ImageMagick C:\\Users\\Lukas\\.julia\\packages\\ImageMagick\\b8swT\\src\\ImageMagick.jl:180\n",
      "\u001b[32mProgress:  26%|███████████                              |  ETA: 0:20:26\u001b[39m"
     ]
    },
    {
     "name": "stdout",
     "output_type": "stream",
     "text": [
      "Steps: 549, tries: 41\r"
     ]
    },
    {
     "name": "stderr",
     "output_type": "stream",
     "text": [
      "┌ Warning: Mapping to the storage type failed; perhaps your data had out-of-range values?\n",
      "│ Try `map(clamp01nan, img)` to clamp values to a valid range.\n",
      "└ @ ImageMagick C:\\Users\\Lukas\\.julia\\packages\\ImageMagick\\b8swT\\src\\ImageMagick.jl:180\n",
      "\u001b[32mProgress:  26%|███████████                              |  ETA: 0:20:23\u001b[39m"
     ]
    },
    {
     "name": "stdout",
     "output_type": "stream",
     "text": [
      "Steps: 549, tries: 01\r"
     ]
    },
    {
     "name": "stderr",
     "output_type": "stream",
     "text": [
      "┌ Warning: Mapping to the storage type failed; perhaps your data had out-of-range values?\n",
      "│ Try `map(clamp01nan, img)` to clamp values to a valid range.\n",
      "└ @ ImageMagick C:\\Users\\Lukas\\.julia\\packages\\ImageMagick\\b8swT\\src\\ImageMagick.jl:180\n",
      "\u001b[32mProgress:  26%|███████████                              |  ETA: 0:20:21\u001b[39m"
     ]
    },
    {
     "name": "stdout",
     "output_type": "stream",
     "text": [
      "Steps: 549, tries: 60\r"
     ]
    },
    {
     "name": "stderr",
     "output_type": "stream",
     "text": [
      "┌ Warning: Mapping to the storage type failed; perhaps your data had out-of-range values?\n",
      "│ Try `map(clamp01nan, img)` to clamp values to a valid range.\n",
      "└ @ ImageMagick C:\\Users\\Lukas\\.julia\\packages\\ImageMagick\\b8swT\\src\\ImageMagick.jl:180\n",
      "\u001b[32mProgress:  26%|███████████                              |  ETA: 0:20:18\u001b[39m"
     ]
    },
    {
     "name": "stdout",
     "output_type": "stream",
     "text": [
      "Steps: 549, tries: 10\r"
     ]
    },
    {
     "name": "stderr",
     "output_type": "stream",
     "text": [
      "┌ Warning: Mapping to the storage type failed; perhaps your data had out-of-range values?\n",
      "│ Try `map(clamp01nan, img)` to clamp values to a valid range.\n",
      "└ @ ImageMagick C:\\Users\\Lukas\\.julia\\packages\\ImageMagick\\b8swT\\src\\ImageMagick.jl:180\n",
      "\u001b[32mProgress:  27%|███████████                              |  ETA: 0:20:16\u001b[39m"
     ]
    },
    {
     "name": "stdout",
     "output_type": "stream",
     "text": [
      "Steps: 549, tries: 62\r"
     ]
    },
    {
     "name": "stderr",
     "output_type": "stream",
     "text": [
      "┌ Warning: Mapping to the storage type failed; perhaps your data had out-of-range values?\n",
      "│ Try `map(clamp01nan, img)` to clamp values to a valid range.\n",
      "└ @ ImageMagick C:\\Users\\Lukas\\.julia\\packages\\ImageMagick\\b8swT\\src\\ImageMagick.jl:180\n",
      "\u001b[32mProgress:  27%|███████████                              |  ETA: 0:20:13\u001b[39m"
     ]
    },
    {
     "name": "stdout",
     "output_type": "stream",
     "text": [
      "Steps: 549, tries: 23\r"
     ]
    },
    {
     "name": "stderr",
     "output_type": "stream",
     "text": [
      "┌ Warning: Mapping to the storage type failed; perhaps your data had out-of-range values?\n",
      "│ Try `map(clamp01nan, img)` to clamp values to a valid range.\n",
      "└ @ ImageMagick C:\\Users\\Lukas\\.julia\\packages\\ImageMagick\\b8swT\\src\\ImageMagick.jl:180\n",
      "\u001b[32mProgress:  27%|████████████                             |  ETA: 0:20:10\u001b[39m"
     ]
    },
    {
     "name": "stdout",
     "output_type": "stream",
     "text": [
      "Steps: 549, tries: 63\r"
     ]
    },
    {
     "name": "stderr",
     "output_type": "stream",
     "text": [
      "┌ Warning: Mapping to the storage type failed; perhaps your data had out-of-range values?\n",
      "│ Try `map(clamp01nan, img)` to clamp values to a valid range.\n",
      "└ @ ImageMagick C:\\Users\\Lukas\\.julia\\packages\\ImageMagick\\b8swT\\src\\ImageMagick.jl:180\n",
      "\u001b[32mProgress:  27%|████████████                             |  ETA: 0:20:08\u001b[39m"
     ]
    },
    {
     "name": "stdout",
     "output_type": "stream",
     "text": [
      "Steps: 549, tries: 17\r"
     ]
    },
    {
     "name": "stderr",
     "output_type": "stream",
     "text": [
      "┌ Warning: Mapping to the storage type failed; perhaps your data had out-of-range values?\n",
      "│ Try `map(clamp01nan, img)` to clamp values to a valid range.\n",
      "└ @ ImageMagick C:\\Users\\Lukas\\.julia\\packages\\ImageMagick\\b8swT\\src\\ImageMagick.jl:180\n",
      "\u001b[32mProgress:  27%|████████████                             |  ETA: 0:20:05\u001b[39m"
     ]
    },
    {
     "name": "stdout",
     "output_type": "stream",
     "text": [
      "Steps: 549, tries: 52\r"
     ]
    },
    {
     "name": "stderr",
     "output_type": "stream",
     "text": [
      "┌ Warning: Mapping to the storage type failed; perhaps your data had out-of-range values?\n",
      "│ Try `map(clamp01nan, img)` to clamp values to a valid range.\n",
      "└ @ ImageMagick C:\\Users\\Lukas\\.julia\\packages\\ImageMagick\\b8swT\\src\\ImageMagick.jl:180\n",
      "\u001b[32mProgress:  27%|████████████                             |  ETA: 0:20:02\u001b[39m"
     ]
    },
    {
     "name": "stdout",
     "output_type": "stream",
     "text": [
      "Steps: 549, tries: 24\r"
     ]
    },
    {
     "name": "stderr",
     "output_type": "stream",
     "text": [
      "┌ Warning: Mapping to the storage type failed; perhaps your data had out-of-range values?\n",
      "│ Try `map(clamp01nan, img)` to clamp values to a valid range.\n",
      "└ @ ImageMagick C:\\Users\\Lukas\\.julia\\packages\\ImageMagick\\b8swT\\src\\ImageMagick.jl:180\n",
      "\u001b[32mProgress:  27%|████████████                             |  ETA: 0:20:00\u001b[39m"
     ]
    },
    {
     "name": "stdout",
     "output_type": "stream",
     "text": [
      "Steps: 549, tries: 16\r"
     ]
    },
    {
     "name": "stderr",
     "output_type": "stream",
     "text": [
      "┌ Warning: Mapping to the storage type failed; perhaps your data had out-of-range values?\n",
      "│ Try `map(clamp01nan, img)` to clamp values to a valid range.\n",
      "└ @ ImageMagick C:\\Users\\Lukas\\.julia\\packages\\ImageMagick\\b8swT\\src\\ImageMagick.jl:180\n",
      "\u001b[32mProgress:  28%|████████████                             |  ETA: 0:19:57\u001b[39m"
     ]
    },
    {
     "name": "stdout",
     "output_type": "stream",
     "text": [
      "Steps: 549, tries: 47\r"
     ]
    },
    {
     "name": "stderr",
     "output_type": "stream",
     "text": [
      "┌ Warning: Mapping to the storage type failed; perhaps your data had out-of-range values?\n",
      "│ Try `map(clamp01nan, img)` to clamp values to a valid range.\n",
      "└ @ ImageMagick C:\\Users\\Lukas\\.julia\\packages\\ImageMagick\\b8swT\\src\\ImageMagick.jl:180\n",
      "\u001b[32mProgress:  28%|████████████                             |  ETA: 0:19:55\u001b[39m"
     ]
    },
    {
     "name": "stdout",
     "output_type": "stream",
     "text": [
      "Steps: 549, tries: 20\r"
     ]
    },
    {
     "name": "stderr",
     "output_type": "stream",
     "text": [
      "┌ Warning: Mapping to the storage type failed; perhaps your data had out-of-range values?\n",
      "│ Try `map(clamp01nan, img)` to clamp values to a valid range.\n",
      "└ @ ImageMagick C:\\Users\\Lukas\\.julia\\packages\\ImageMagick\\b8swT\\src\\ImageMagick.jl:180\n",
      "\u001b[32mProgress:  28%|████████████                             |  ETA: 0:19:52\u001b[39m"
     ]
    },
    {
     "name": "stdout",
     "output_type": "stream",
     "text": [
      "Steps: 549, tries: 94\r"
     ]
    },
    {
     "name": "stderr",
     "output_type": "stream",
     "text": [
      "┌ Warning: Mapping to the storage type failed; perhaps your data had out-of-range values?\n",
      "│ Try `map(clamp01nan, img)` to clamp values to a valid range.\n",
      "└ @ ImageMagick C:\\Users\\Lukas\\.julia\\packages\\ImageMagick\\b8swT\\src\\ImageMagick.jl:180\n",
      "\u001b[32mProgress:  28%|████████████                             |  ETA: 0:19:50\u001b[39m"
     ]
    },
    {
     "name": "stdout",
     "output_type": "stream",
     "text": [
      "Steps: 549, tries: 05\r"
     ]
    },
    {
     "name": "stderr",
     "output_type": "stream",
     "text": [
      "┌ Warning: Mapping to the storage type failed; perhaps your data had out-of-range values?\n",
      "│ Try `map(clamp01nan, img)` to clamp values to a valid range.\n",
      "└ @ ImageMagick C:\\Users\\Lukas\\.julia\\packages\\ImageMagick\\b8swT\\src\\ImageMagick.jl:180\n",
      "\u001b[32mProgress:  28%|████████████                             |  ETA: 0:19:47\u001b[39m"
     ]
    },
    {
     "name": "stdout",
     "output_type": "stream",
     "text": [
      "Steps: 549, tries: 01\r"
     ]
    },
    {
     "name": "stderr",
     "output_type": "stream",
     "text": [
      "┌ Warning: Mapping to the storage type failed; perhaps your data had out-of-range values?\n",
      "│ Try `map(clamp01nan, img)` to clamp values to a valid range.\n",
      "└ @ ImageMagick C:\\Users\\Lukas\\.julia\\packages\\ImageMagick\\b8swT\\src\\ImageMagick.jl:180\n",
      "\u001b[32mProgress:  28%|████████████                             |  ETA: 0:19:44\u001b[39m"
     ]
    },
    {
     "name": "stdout",
     "output_type": "stream",
     "text": [
      "Steps: 549, tries: 42\r"
     ]
    },
    {
     "name": "stderr",
     "output_type": "stream",
     "text": [
      "┌ Warning: Mapping to the storage type failed; perhaps your data had out-of-range values?\n",
      "│ Try `map(clamp01nan, img)` to clamp values to a valid range.\n",
      "└ @ ImageMagick C:\\Users\\Lukas\\.julia\\packages\\ImageMagick\\b8swT\\src\\ImageMagick.jl:180\n",
      "\u001b[32mProgress:  28%|████████████                             |  ETA: 0:19:42\u001b[39m"
     ]
    },
    {
     "name": "stdout",
     "output_type": "stream",
     "text": [
      "Steps: 549, tries: 00\r"
     ]
    },
    {
     "name": "stderr",
     "output_type": "stream",
     "text": [
      "┌ Warning: Mapping to the storage type failed; perhaps your data had out-of-range values?\n",
      "│ Try `map(clamp01nan, img)` to clamp values to a valid range.\n",
      "└ @ ImageMagick C:\\Users\\Lukas\\.julia\\packages\\ImageMagick\\b8swT\\src\\ImageMagick.jl:180\n",
      "\u001b[32mProgress:  28%|████████████                             |  ETA: 0:19:39\u001b[39m"
     ]
    },
    {
     "name": "stdout",
     "output_type": "stream",
     "text": [
      "Steps: 549, tries: 42\r"
     ]
    },
    {
     "name": "stderr",
     "output_type": "stream",
     "text": [
      "┌ Warning: Mapping to the storage type failed; perhaps your data had out-of-range values?\n",
      "│ Try `map(clamp01nan, img)` to clamp values to a valid range.\n",
      "└ @ ImageMagick C:\\Users\\Lukas\\.julia\\packages\\ImageMagick\\b8swT\\src\\ImageMagick.jl:180\n",
      "\u001b[32mProgress:  28%|████████████                             |  ETA: 0:19:37\u001b[39m"
     ]
    },
    {
     "name": "stdout",
     "output_type": "stream",
     "text": [
      "Steps: 549, tries: 05\r"
     ]
    },
    {
     "name": "stderr",
     "output_type": "stream",
     "text": [
      "┌ Warning: Mapping to the storage type failed; perhaps your data had out-of-range values?\n",
      "│ Try `map(clamp01nan, img)` to clamp values to a valid range.\n",
      "└ @ ImageMagick C:\\Users\\Lukas\\.julia\\packages\\ImageMagick\\b8swT\\src\\ImageMagick.jl:180\n",
      "\u001b[32mProgress:  29%|████████████                             |  ETA: 0:19:34\u001b[39m"
     ]
    },
    {
     "name": "stdout",
     "output_type": "stream",
     "text": [
      "Steps: 549, tries: 07\r"
     ]
    },
    {
     "name": "stderr",
     "output_type": "stream",
     "text": [
      "┌ Warning: Mapping to the storage type failed; perhaps your data had out-of-range values?\n",
      "│ Try `map(clamp01nan, img)` to clamp values to a valid range.\n",
      "└ @ ImageMagick C:\\Users\\Lukas\\.julia\\packages\\ImageMagick\\b8swT\\src\\ImageMagick.jl:180\n",
      "\u001b[32mProgress:  29%|████████████                             |  ETA: 0:19:32\u001b[39m"
     ]
    },
    {
     "name": "stdout",
     "output_type": "stream",
     "text": [
      "Steps: 549, tries: 42\r"
     ]
    },
    {
     "name": "stderr",
     "output_type": "stream",
     "text": [
      "┌ Warning: Mapping to the storage type failed; perhaps your data had out-of-range values?\n",
      "│ Try `map(clamp01nan, img)` to clamp values to a valid range.\n",
      "└ @ ImageMagick C:\\Users\\Lukas\\.julia\\packages\\ImageMagick\\b8swT\\src\\ImageMagick.jl:180\n",
      "\u001b[32mProgress:  29%|████████████                             |  ETA: 0:19:29\u001b[39m"
     ]
    },
    {
     "name": "stdout",
     "output_type": "stream",
     "text": [
      "Steps: 549, tries: 20\r"
     ]
    },
    {
     "name": "stderr",
     "output_type": "stream",
     "text": [
      "┌ Warning: Mapping to the storage type failed; perhaps your data had out-of-range values?\n",
      "│ Try `map(clamp01nan, img)` to clamp values to a valid range.\n",
      "└ @ ImageMagick C:\\Users\\Lukas\\.julia\\packages\\ImageMagick\\b8swT\\src\\ImageMagick.jl:180\n",
      "\u001b[32mProgress:  29%|████████████                             |  ETA: 0:19:28\u001b[39m"
     ]
    },
    {
     "name": "stdout",
     "output_type": "stream",
     "text": [
      "Steps: 549, tries: 02\r"
     ]
    },
    {
     "name": "stderr",
     "output_type": "stream",
     "text": [
      "┌ Warning: Mapping to the storage type failed; perhaps your data had out-of-range values?\n",
      "│ Try `map(clamp01nan, img)` to clamp values to a valid range.\n",
      "└ @ ImageMagick C:\\Users\\Lukas\\.julia\\packages\\ImageMagick\\b8swT\\src\\ImageMagick.jl:180\n",
      "\u001b[32mProgress:  29%|████████████                             |  ETA: 0:19:26\u001b[39m"
     ]
    },
    {
     "name": "stdout",
     "output_type": "stream",
     "text": [
      "Steps: 549, tries: 40\r"
     ]
    },
    {
     "name": "stderr",
     "output_type": "stream",
     "text": [
      "┌ Warning: Mapping to the storage type failed; perhaps your data had out-of-range values?\n",
      "│ Try `map(clamp01nan, img)` to clamp values to a valid range.\n",
      "└ @ ImageMagick C:\\Users\\Lukas\\.julia\\packages\\ImageMagick\\b8swT\\src\\ImageMagick.jl:180\n",
      "\u001b[32mProgress:  29%|████████████                             |  ETA: 0:19:23\u001b[39m"
     ]
    },
    {
     "name": "stdout",
     "output_type": "stream",
     "text": [
      "Steps: 549, tries: 03\r"
     ]
    },
    {
     "name": "stderr",
     "output_type": "stream",
     "text": [
      "┌ Warning: Mapping to the storage type failed; perhaps your data had out-of-range values?\n",
      "│ Try `map(clamp01nan, img)` to clamp values to a valid range.\n",
      "└ @ ImageMagick C:\\Users\\Lukas\\.julia\\packages\\ImageMagick\\b8swT\\src\\ImageMagick.jl:180\n",
      "\u001b[32mProgress:  29%|█████████████                            |  ETA: 0:19:21\u001b[39m"
     ]
    },
    {
     "name": "stdout",
     "output_type": "stream",
     "text": [
      "Steps: 549, tries: 79\r"
     ]
    },
    {
     "name": "stderr",
     "output_type": "stream",
     "text": [
      "┌ Warning: Mapping to the storage type failed; perhaps your data had out-of-range values?\n",
      "│ Try `map(clamp01nan, img)` to clamp values to a valid range.\n",
      "└ @ ImageMagick C:\\Users\\Lukas\\.julia\\packages\\ImageMagick\\b8swT\\src\\ImageMagick.jl:180\n",
      "\u001b[32mProgress:  30%|█████████████                            |  ETA: 0:19:18\u001b[39m"
     ]
    },
    {
     "name": "stdout",
     "output_type": "stream",
     "text": [
      "Steps: 549, tries: 38\r"
     ]
    },
    {
     "name": "stderr",
     "output_type": "stream",
     "text": [
      "┌ Warning: Mapping to the storage type failed; perhaps your data had out-of-range values?\n",
      "│ Try `map(clamp01nan, img)` to clamp values to a valid range.\n",
      "└ @ ImageMagick C:\\Users\\Lukas\\.julia\\packages\\ImageMagick\\b8swT\\src\\ImageMagick.jl:180\n",
      "\u001b[32mProgress:  30%|█████████████                            |  ETA: 0:19:16\u001b[39m"
     ]
    },
    {
     "name": "stdout",
     "output_type": "stream",
     "text": [
      "Steps: 549, tries: 30\r"
     ]
    },
    {
     "name": "stderr",
     "output_type": "stream",
     "text": [
      "┌ Warning: Mapping to the storage type failed; perhaps your data had out-of-range values?\n",
      "│ Try `map(clamp01nan, img)` to clamp values to a valid range.\n",
      "└ @ ImageMagick C:\\Users\\Lukas\\.julia\\packages\\ImageMagick\\b8swT\\src\\ImageMagick.jl:180\n",
      "\u001b[32mProgress:  30%|█████████████                            |  ETA: 0:19:13\u001b[39m"
     ]
    },
    {
     "name": "stdout",
     "output_type": "stream",
     "text": [
      "Steps: 549, tries: 40\r"
     ]
    },
    {
     "name": "stderr",
     "output_type": "stream",
     "text": [
      "┌ Warning: Mapping to the storage type failed; perhaps your data had out-of-range values?\n",
      "│ Try `map(clamp01nan, img)` to clamp values to a valid range.\n",
      "└ @ ImageMagick C:\\Users\\Lukas\\.julia\\packages\\ImageMagick\\b8swT\\src\\ImageMagick.jl:180\n",
      "\u001b[32mProgress:  30%|█████████████                            |  ETA: 0:19:10\u001b[39m"
     ]
    },
    {
     "name": "stdout",
     "output_type": "stream",
     "text": [
      "Steps: 549, tries: 20\r"
     ]
    },
    {
     "name": "stderr",
     "output_type": "stream",
     "text": [
      "┌ Warning: Mapping to the storage type failed; perhaps your data had out-of-range values?\n",
      "│ Try `map(clamp01nan, img)` to clamp values to a valid range.\n",
      "└ @ ImageMagick C:\\Users\\Lukas\\.julia\\packages\\ImageMagick\\b8swT\\src\\ImageMagick.jl:180\n",
      "\u001b[32mProgress:  30%|█████████████                            |  ETA: 0:19:08\u001b[39m"
     ]
    },
    {
     "name": "stdout",
     "output_type": "stream",
     "text": [
      "Steps: 549, tries: 10\r"
     ]
    },
    {
     "name": "stderr",
     "output_type": "stream",
     "text": [
      "┌ Warning: Mapping to the storage type failed; perhaps your data had out-of-range values?\n",
      "│ Try `map(clamp01nan, img)` to clamp values to a valid range.\n",
      "└ @ ImageMagick C:\\Users\\Lukas\\.julia\\packages\\ImageMagick\\b8swT\\src\\ImageMagick.jl:180\n",
      "\u001b[32mProgress:  30%|█████████████                            |  ETA: 0:19:05\u001b[39m"
     ]
    },
    {
     "name": "stdout",
     "output_type": "stream",
     "text": [
      "Steps: 549, tries: 33\r"
     ]
    },
    {
     "name": "stderr",
     "output_type": "stream",
     "text": [
      "┌ Warning: Mapping to the storage type failed; perhaps your data had out-of-range values?\n",
      "│ Try `map(clamp01nan, img)` to clamp values to a valid range.\n",
      "└ @ ImageMagick C:\\Users\\Lukas\\.julia\\packages\\ImageMagick\\b8swT\\src\\ImageMagick.jl:180\n",
      "\u001b[32mProgress:  30%|█████████████                            |  ETA: 0:19:03\u001b[39m"
     ]
    },
    {
     "name": "stdout",
     "output_type": "stream",
     "text": [
      "Steps: 549, tries: 46\r"
     ]
    },
    {
     "name": "stderr",
     "output_type": "stream",
     "text": [
      "┌ Warning: Mapping to the storage type failed; perhaps your data had out-of-range values?\n",
      "│ Try `map(clamp01nan, img)` to clamp values to a valid range.\n",
      "└ @ ImageMagick C:\\Users\\Lukas\\.julia\\packages\\ImageMagick\\b8swT\\src\\ImageMagick.jl:180\n",
      "\u001b[32mProgress:  30%|█████████████                            |  ETA: 0:19:01\u001b[39m"
     ]
    },
    {
     "name": "stdout",
     "output_type": "stream",
     "text": [
      "Steps: 549, tries: 13\r"
     ]
    },
    {
     "name": "stderr",
     "output_type": "stream",
     "text": [
      "┌ Warning: Mapping to the storage type failed; perhaps your data had out-of-range values?\n",
      "│ Try `map(clamp01nan, img)` to clamp values to a valid range.\n",
      "└ @ ImageMagick C:\\Users\\Lukas\\.julia\\packages\\ImageMagick\\b8swT\\src\\ImageMagick.jl:180\n",
      "\u001b[32mProgress:  30%|█████████████                            |  ETA: 0:18:58\u001b[39m"
     ]
    },
    {
     "name": "stdout",
     "output_type": "stream",
     "text": [
      "Steps: 549, tries: 54\r"
     ]
    },
    {
     "name": "stderr",
     "output_type": "stream",
     "text": [
      "┌ Warning: Mapping to the storage type failed; perhaps your data had out-of-range values?\n",
      "│ Try `map(clamp01nan, img)` to clamp values to a valid range.\n",
      "└ @ ImageMagick C:\\Users\\Lukas\\.julia\\packages\\ImageMagick\\b8swT\\src\\ImageMagick.jl:180\n",
      "\u001b[32mProgress:  31%|█████████████                            |  ETA: 0:18:56\u001b[39m"
     ]
    },
    {
     "name": "stdout",
     "output_type": "stream",
     "text": [
      "Steps: 549, tries: 31\r"
     ]
    },
    {
     "name": "stderr",
     "output_type": "stream",
     "text": [
      "┌ Warning: Mapping to the storage type failed; perhaps your data had out-of-range values?\n",
      "│ Try `map(clamp01nan, img)` to clamp values to a valid range.\n",
      "└ @ ImageMagick C:\\Users\\Lukas\\.julia\\packages\\ImageMagick\\b8swT\\src\\ImageMagick.jl:180\n",
      "\u001b[32mProgress:  31%|█████████████                            |  ETA: 0:18:53\u001b[39m"
     ]
    },
    {
     "name": "stdout",
     "output_type": "stream",
     "text": [
      "Steps: 549, tries: 10\r"
     ]
    },
    {
     "name": "stderr",
     "output_type": "stream",
     "text": [
      "┌ Warning: Mapping to the storage type failed; perhaps your data had out-of-range values?\n",
      "│ Try `map(clamp01nan, img)` to clamp values to a valid range.\n",
      "└ @ ImageMagick C:\\Users\\Lukas\\.julia\\packages\\ImageMagick\\b8swT\\src\\ImageMagick.jl:180\n",
      "\u001b[32mProgress:  31%|█████████████                            |  ETA: 0:18:51\u001b[39m"
     ]
    },
    {
     "name": "stdout",
     "output_type": "stream",
     "text": [
      "Steps: 549, tries: 12\r"
     ]
    },
    {
     "name": "stderr",
     "output_type": "stream",
     "text": [
      "┌ Warning: Mapping to the storage type failed; perhaps your data had out-of-range values?\n",
      "│ Try `map(clamp01nan, img)` to clamp values to a valid range.\n",
      "└ @ ImageMagick C:\\Users\\Lukas\\.julia\\packages\\ImageMagick\\b8swT\\src\\ImageMagick.jl:180\n",
      "\u001b[32mProgress:  31%|█████████████                            |  ETA: 0:18:49\u001b[39m"
     ]
    },
    {
     "name": "stdout",
     "output_type": "stream",
     "text": [
      "Steps: 549, tries: 42\r"
     ]
    },
    {
     "name": "stderr",
     "output_type": "stream",
     "text": [
      "┌ Warning: Mapping to the storage type failed; perhaps your data had out-of-range values?\n",
      "│ Try `map(clamp01nan, img)` to clamp values to a valid range.\n",
      "└ @ ImageMagick C:\\Users\\Lukas\\.julia\\packages\\ImageMagick\\b8swT\\src\\ImageMagick.jl:180\n",
      "\u001b[32mProgress:  31%|█████████████                            |  ETA: 0:18:46\u001b[39m"
     ]
    },
    {
     "name": "stdout",
     "output_type": "stream",
     "text": [
      "Steps: 549, tries: 02\r"
     ]
    },
    {
     "name": "stderr",
     "output_type": "stream",
     "text": [
      "┌ Warning: Mapping to the storage type failed; perhaps your data had out-of-range values?\n",
      "│ Try `map(clamp01nan, img)` to clamp values to a valid range.\n",
      "└ @ ImageMagick C:\\Users\\Lukas\\.julia\\packages\\ImageMagick\\b8swT\\src\\ImageMagick.jl:180\n",
      "\u001b[32mProgress:  31%|█████████████                            |  ETA: 0:18:44\u001b[39m"
     ]
    },
    {
     "name": "stdout",
     "output_type": "stream",
     "text": [
      "Steps: 549, tries: 67\r"
     ]
    },
    {
     "name": "stderr",
     "output_type": "stream",
     "text": [
      "┌ Warning: Mapping to the storage type failed; perhaps your data had out-of-range values?\n",
      "│ Try `map(clamp01nan, img)` to clamp values to a valid range.\n",
      "└ @ ImageMagick C:\\Users\\Lukas\\.julia\\packages\\ImageMagick\\b8swT\\src\\ImageMagick.jl:180\n",
      "\u001b[32mProgress:  31%|█████████████                            |  ETA: 0:18:41\u001b[39m"
     ]
    },
    {
     "name": "stdout",
     "output_type": "stream",
     "text": [
      "Steps: 549, tries: 35\r"
     ]
    },
    {
     "name": "stderr",
     "output_type": "stream",
     "text": [
      "┌ Warning: Mapping to the storage type failed; perhaps your data had out-of-range values?\n",
      "│ Try `map(clamp01nan, img)` to clamp values to a valid range.\n",
      "└ @ ImageMagick C:\\Users\\Lukas\\.julia\\packages\\ImageMagick\\b8swT\\src\\ImageMagick.jl:180\n",
      "\u001b[32mProgress:  32%|█████████████                            |  ETA: 0:18:39\u001b[39m"
     ]
    },
    {
     "name": "stdout",
     "output_type": "stream",
     "text": [
      "Steps: 549, tries: 10\r"
     ]
    },
    {
     "name": "stderr",
     "output_type": "stream",
     "text": [
      "┌ Warning: Mapping to the storage type failed; perhaps your data had out-of-range values?\n",
      "│ Try `map(clamp01nan, img)` to clamp values to a valid range.\n",
      "└ @ ImageMagick C:\\Users\\Lukas\\.julia\\packages\\ImageMagick\\b8swT\\src\\ImageMagick.jl:180\n",
      "\u001b[32mProgress:  32%|█████████████                            |  ETA: 0:18:37\u001b[39m"
     ]
    },
    {
     "name": "stdout",
     "output_type": "stream",
     "text": [
      "Steps: 549, tries: 36\r"
     ]
    },
    {
     "name": "stderr",
     "output_type": "stream",
     "text": [
      "┌ Warning: Mapping to the storage type failed; perhaps your data had out-of-range values?\n",
      "│ Try `map(clamp01nan, img)` to clamp values to a valid range.\n",
      "└ @ ImageMagick C:\\Users\\Lukas\\.julia\\packages\\ImageMagick\\b8swT\\src\\ImageMagick.jl:180\n",
      "\u001b[32mProgress:  32%|██████████████                           |  ETA: 0:18:35\u001b[39m"
     ]
    },
    {
     "name": "stdout",
     "output_type": "stream",
     "text": [
      "Steps: 549, tries: 00\r"
     ]
    },
    {
     "name": "stderr",
     "output_type": "stream",
     "text": [
      "┌ Warning: Mapping to the storage type failed; perhaps your data had out-of-range values?\n",
      "│ Try `map(clamp01nan, img)` to clamp values to a valid range.\n",
      "└ @ ImageMagick C:\\Users\\Lukas\\.julia\\packages\\ImageMagick\\b8swT\\src\\ImageMagick.jl:180\n",
      "\u001b[32mProgress:  32%|██████████████                           |  ETA: 0:18:32\u001b[39m"
     ]
    },
    {
     "name": "stdout",
     "output_type": "stream",
     "text": [
      "Steps: 549, tries: 10\r"
     ]
    },
    {
     "name": "stderr",
     "output_type": "stream",
     "text": [
      "┌ Warning: Mapping to the storage type failed; perhaps your data had out-of-range values?\n",
      "│ Try `map(clamp01nan, img)` to clamp values to a valid range.\n",
      "└ @ ImageMagick C:\\Users\\Lukas\\.julia\\packages\\ImageMagick\\b8swT\\src\\ImageMagick.jl:180\n",
      "\u001b[32mProgress:  32%|██████████████                           |  ETA: 0:18:30\u001b[39m"
     ]
    },
    {
     "name": "stdout",
     "output_type": "stream",
     "text": [
      "Steps: 549, tries: 23\r"
     ]
    },
    {
     "name": "stderr",
     "output_type": "stream",
     "text": [
      "┌ Warning: Mapping to the storage type failed; perhaps your data had out-of-range values?\n",
      "│ Try `map(clamp01nan, img)` to clamp values to a valid range.\n",
      "└ @ ImageMagick C:\\Users\\Lukas\\.julia\\packages\\ImageMagick\\b8swT\\src\\ImageMagick.jl:180\n",
      "\u001b[32mProgress:  32%|██████████████                           |  ETA: 0:18:27\u001b[39m"
     ]
    },
    {
     "name": "stdout",
     "output_type": "stream",
     "text": [
      "Steps: 549, tries: 68\r"
     ]
    },
    {
     "name": "stderr",
     "output_type": "stream",
     "text": [
      "┌ Warning: Mapping to the storage type failed; perhaps your data had out-of-range values?\n",
      "│ Try `map(clamp01nan, img)` to clamp values to a valid range.\n",
      "└ @ ImageMagick C:\\Users\\Lukas\\.julia\\packages\\ImageMagick\\b8swT\\src\\ImageMagick.jl:180\n",
      "\u001b[32mProgress:  32%|██████████████                           |  ETA: 0:18:25\u001b[39m"
     ]
    },
    {
     "name": "stdout",
     "output_type": "stream",
     "text": [
      "Steps: 549, tries: 21\r"
     ]
    },
    {
     "name": "stderr",
     "output_type": "stream",
     "text": [
      "┌ Warning: Mapping to the storage type failed; perhaps your data had out-of-range values?\n",
      "│ Try `map(clamp01nan, img)` to clamp values to a valid range.\n",
      "└ @ ImageMagick C:\\Users\\Lukas\\.julia\\packages\\ImageMagick\\b8swT\\src\\ImageMagick.jl:180\n",
      "\u001b[32mProgress:  32%|██████████████                           |  ETA: 0:18:23\u001b[39m"
     ]
    },
    {
     "name": "stdout",
     "output_type": "stream",
     "text": [
      "Steps: 549, tries: 61\r"
     ]
    },
    {
     "name": "stderr",
     "output_type": "stream",
     "text": [
      "┌ Warning: Mapping to the storage type failed; perhaps your data had out-of-range values?\n",
      "│ Try `map(clamp01nan, img)` to clamp values to a valid range.\n",
      "└ @ ImageMagick C:\\Users\\Lukas\\.julia\\packages\\ImageMagick\\b8swT\\src\\ImageMagick.jl:180\n",
      "\u001b[32mProgress:  32%|██████████████                           |  ETA: 0:18:20\u001b[39m"
     ]
    },
    {
     "name": "stdout",
     "output_type": "stream",
     "text": [
      "Steps: 549, tries: 24\r"
     ]
    },
    {
     "name": "stderr",
     "output_type": "stream",
     "text": [
      "┌ Warning: Mapping to the storage type failed; perhaps your data had out-of-range values?\n",
      "│ Try `map(clamp01nan, img)` to clamp values to a valid range.\n",
      "└ @ ImageMagick C:\\Users\\Lukas\\.julia\\packages\\ImageMagick\\b8swT\\src\\ImageMagick.jl:180\n",
      "\u001b[32mProgress:  33%|██████████████                           |  ETA: 0:18:18\u001b[39m"
     ]
    },
    {
     "name": "stdout",
     "output_type": "stream",
     "text": [
      "Steps: 549, tries: 28\r"
     ]
    },
    {
     "name": "stderr",
     "output_type": "stream",
     "text": [
      "┌ Warning: Mapping to the storage type failed; perhaps your data had out-of-range values?\n",
      "│ Try `map(clamp01nan, img)` to clamp values to a valid range.\n",
      "└ @ ImageMagick C:\\Users\\Lukas\\.julia\\packages\\ImageMagick\\b8swT\\src\\ImageMagick.jl:180\n",
      "\u001b[32mProgress:  33%|██████████████                           |  ETA: 0:18:16\u001b[39m"
     ]
    },
    {
     "name": "stdout",
     "output_type": "stream",
     "text": [
      "Steps: 549, tries: 90\r"
     ]
    },
    {
     "name": "stderr",
     "output_type": "stream",
     "text": [
      "┌ Warning: Mapping to the storage type failed; perhaps your data had out-of-range values?\n",
      "│ Try `map(clamp01nan, img)` to clamp values to a valid range.\n",
      "└ @ ImageMagick C:\\Users\\Lukas\\.julia\\packages\\ImageMagick\\b8swT\\src\\ImageMagick.jl:180\n",
      "\u001b[32mProgress:  33%|██████████████                           |  ETA: 0:18:13\u001b[39m"
     ]
    },
    {
     "name": "stdout",
     "output_type": "stream",
     "text": [
      "Steps: 549, tries: 13\r"
     ]
    },
    {
     "name": "stderr",
     "output_type": "stream",
     "text": [
      "┌ Warning: Mapping to the storage type failed; perhaps your data had out-of-range values?\n",
      "│ Try `map(clamp01nan, img)` to clamp values to a valid range.\n",
      "└ @ ImageMagick C:\\Users\\Lukas\\.julia\\packages\\ImageMagick\\b8swT\\src\\ImageMagick.jl:180\n",
      "\u001b[32mProgress:  33%|██████████████                           |  ETA: 0:18:10\u001b[39m"
     ]
    },
    {
     "name": "stdout",
     "output_type": "stream",
     "text": [
      "Steps: 549, tries: 13\r"
     ]
    },
    {
     "name": "stderr",
     "output_type": "stream",
     "text": [
      "┌ Warning: Mapping to the storage type failed; perhaps your data had out-of-range values?\n",
      "│ Try `map(clamp01nan, img)` to clamp values to a valid range.\n",
      "└ @ ImageMagick C:\\Users\\Lukas\\.julia\\packages\\ImageMagick\\b8swT\\src\\ImageMagick.jl:180\n",
      "\u001b[32mProgress:  33%|██████████████                           |  ETA: 0:18:08\u001b[39m"
     ]
    },
    {
     "name": "stdout",
     "output_type": "stream",
     "text": [
      "Steps: 549, tries: 51\r"
     ]
    },
    {
     "name": "stderr",
     "output_type": "stream",
     "text": [
      "┌ Warning: Mapping to the storage type failed; perhaps your data had out-of-range values?\n",
      "│ Try `map(clamp01nan, img)` to clamp values to a valid range.\n",
      "└ @ ImageMagick C:\\Users\\Lukas\\.julia\\packages\\ImageMagick\\b8swT\\src\\ImageMagick.jl:180\n",
      "\u001b[32mProgress:  33%|██████████████                           |  ETA: 0:18:06\u001b[39m"
     ]
    },
    {
     "name": "stdout",
     "output_type": "stream",
     "text": [
      "Steps: 549, tries: 10\r"
     ]
    },
    {
     "name": "stderr",
     "output_type": "stream",
     "text": [
      "┌ Warning: Mapping to the storage type failed; perhaps your data had out-of-range values?\n",
      "│ Try `map(clamp01nan, img)` to clamp values to a valid range.\n",
      "└ @ ImageMagick C:\\Users\\Lukas\\.julia\\packages\\ImageMagick\\b8swT\\src\\ImageMagick.jl:180\n",
      "\u001b[32mProgress:  33%|██████████████                           |  ETA: 0:18:04\u001b[39m"
     ]
    },
    {
     "name": "stdout",
     "output_type": "stream",
     "text": [
      "Steps: 549, tries: 64\r"
     ]
    },
    {
     "name": "stderr",
     "output_type": "stream",
     "text": [
      "┌ Warning: Mapping to the storage type failed; perhaps your data had out-of-range values?\n",
      "│ Try `map(clamp01nan, img)` to clamp values to a valid range.\n",
      "└ @ ImageMagick C:\\Users\\Lukas\\.julia\\packages\\ImageMagick\\b8swT\\src\\ImageMagick.jl:180\n",
      "\u001b[32mProgress:  34%|██████████████                           |  ETA: 0:18:02\u001b[39m"
     ]
    },
    {
     "name": "stdout",
     "output_type": "stream",
     "text": [
      "Steps: 549, tries: 21\r"
     ]
    },
    {
     "name": "stderr",
     "output_type": "stream",
     "text": [
      "┌ Warning: Mapping to the storage type failed; perhaps your data had out-of-range values?\n",
      "│ Try `map(clamp01nan, img)` to clamp values to a valid range.\n",
      "└ @ ImageMagick C:\\Users\\Lukas\\.julia\\packages\\ImageMagick\\b8swT\\src\\ImageMagick.jl:180\n",
      "\u001b[32mProgress:  34%|██████████████                           |  ETA: 0:18:00\u001b[39m"
     ]
    },
    {
     "name": "stdout",
     "output_type": "stream",
     "text": [
      "Steps: 549, tries: 10\r"
     ]
    },
    {
     "name": "stderr",
     "output_type": "stream",
     "text": [
      "┌ Warning: Mapping to the storage type failed; perhaps your data had out-of-range values?\n",
      "│ Try `map(clamp01nan, img)` to clamp values to a valid range.\n",
      "└ @ ImageMagick C:\\Users\\Lukas\\.julia\\packages\\ImageMagick\\b8swT\\src\\ImageMagick.jl:180\n",
      "\u001b[32mProgress:  34%|██████████████                           |  ETA: 0:17:58\u001b[39m"
     ]
    },
    {
     "name": "stdout",
     "output_type": "stream",
     "text": [
      "Steps: 549, tries: 03\r"
     ]
    },
    {
     "name": "stderr",
     "output_type": "stream",
     "text": [
      "┌ Warning: Mapping to the storage type failed; perhaps your data had out-of-range values?\n",
      "│ Try `map(clamp01nan, img)` to clamp values to a valid range.\n",
      "└ @ ImageMagick C:\\Users\\Lukas\\.julia\\packages\\ImageMagick\\b8swT\\src\\ImageMagick.jl:180\n",
      "\u001b[32mProgress:  34%|██████████████                           |  ETA: 0:17:55\u001b[39m"
     ]
    },
    {
     "name": "stdout",
     "output_type": "stream",
     "text": [
      "Steps: 549, tries: 12\r"
     ]
    },
    {
     "name": "stderr",
     "output_type": "stream",
     "text": [
      "┌ Warning: Mapping to the storage type failed; perhaps your data had out-of-range values?\n",
      "│ Try `map(clamp01nan, img)` to clamp values to a valid range.\n",
      "└ @ ImageMagick C:\\Users\\Lukas\\.julia\\packages\\ImageMagick\\b8swT\\src\\ImageMagick.jl:180\n",
      "\u001b[32mProgress:  34%|██████████████                           |  ETA: 0:17:53\u001b[39m"
     ]
    },
    {
     "name": "stdout",
     "output_type": "stream",
     "text": [
      "Steps: 549, tries: 62\r"
     ]
    },
    {
     "name": "stderr",
     "output_type": "stream",
     "text": [
      "┌ Warning: Mapping to the storage type failed; perhaps your data had out-of-range values?\n",
      "│ Try `map(clamp01nan, img)` to clamp values to a valid range.\n",
      "└ @ ImageMagick C:\\Users\\Lukas\\.julia\\packages\\ImageMagick\\b8swT\\src\\ImageMagick.jl:180\n",
      "\u001b[32mProgress:  34%|██████████████                           |  ETA: 0:17:51\u001b[39m"
     ]
    },
    {
     "name": "stdout",
     "output_type": "stream",
     "text": [
      "Steps: 549, tries: 13\r"
     ]
    },
    {
     "name": "stderr",
     "output_type": "stream",
     "text": [
      "┌ Warning: Mapping to the storage type failed; perhaps your data had out-of-range values?\n",
      "│ Try `map(clamp01nan, img)` to clamp values to a valid range.\n",
      "└ @ ImageMagick C:\\Users\\Lukas\\.julia\\packages\\ImageMagick\\b8swT\\src\\ImageMagick.jl:180\n",
      "\u001b[32mProgress:  34%|███████████████                          |  ETA: 0:17:48\u001b[39m"
     ]
    },
    {
     "name": "stdout",
     "output_type": "stream",
     "text": [
      "Steps: 549, tries: 29\r"
     ]
    },
    {
     "name": "stderr",
     "output_type": "stream",
     "text": [
      "┌ Warning: Mapping to the storage type failed; perhaps your data had out-of-range values?\n",
      "│ Try `map(clamp01nan, img)` to clamp values to a valid range.\n",
      "└ @ ImageMagick C:\\Users\\Lukas\\.julia\\packages\\ImageMagick\\b8swT\\src\\ImageMagick.jl:180\n",
      "\u001b[32mProgress:  34%|███████████████                          |  ETA: 0:17:46\u001b[39m"
     ]
    },
    {
     "name": "stdout",
     "output_type": "stream",
     "text": [
      "Steps: 549, tries: 81\r"
     ]
    },
    {
     "name": "stderr",
     "output_type": "stream",
     "text": [
      "┌ Warning: Mapping to the storage type failed; perhaps your data had out-of-range values?\n",
      "│ Try `map(clamp01nan, img)` to clamp values to a valid range.\n",
      "└ @ ImageMagick C:\\Users\\Lukas\\.julia\\packages\\ImageMagick\\b8swT\\src\\ImageMagick.jl:180\n",
      "\u001b[32mProgress:  34%|███████████████                          |  ETA: 0:17:44\u001b[39m"
     ]
    },
    {
     "name": "stdout",
     "output_type": "stream",
     "text": [
      "Steps: 549, tries: 10\r"
     ]
    },
    {
     "name": "stderr",
     "output_type": "stream",
     "text": [
      "┌ Warning: Mapping to the storage type failed; perhaps your data had out-of-range values?\n",
      "│ Try `map(clamp01nan, img)` to clamp values to a valid range.\n",
      "└ @ ImageMagick C:\\Users\\Lukas\\.julia\\packages\\ImageMagick\\b8swT\\src\\ImageMagick.jl:180\n",
      "\u001b[32mProgress:  35%|███████████████                          |  ETA: 0:17:42\u001b[39m"
     ]
    },
    {
     "name": "stdout",
     "output_type": "stream",
     "text": [
      "Steps: 549, tries: 15\r"
     ]
    },
    {
     "name": "stderr",
     "output_type": "stream",
     "text": [
      "┌ Warning: Mapping to the storage type failed; perhaps your data had out-of-range values?\n",
      "│ Try `map(clamp01nan, img)` to clamp values to a valid range.\n",
      "└ @ ImageMagick C:\\Users\\Lukas\\.julia\\packages\\ImageMagick\\b8swT\\src\\ImageMagick.jl:180\n",
      "\u001b[32mProgress:  35%|███████████████                          |  ETA: 0:17:40\u001b[39m"
     ]
    },
    {
     "name": "stdout",
     "output_type": "stream",
     "text": [
      "Steps: 549, tries: 43\r"
     ]
    },
    {
     "name": "stderr",
     "output_type": "stream",
     "text": [
      "┌ Warning: Mapping to the storage type failed; perhaps your data had out-of-range values?\n",
      "│ Try `map(clamp01nan, img)` to clamp values to a valid range.\n",
      "└ @ ImageMagick C:\\Users\\Lukas\\.julia\\packages\\ImageMagick\\b8swT\\src\\ImageMagick.jl:180\n",
      "\u001b[32mProgress:  35%|███████████████                          |  ETA: 0:17:37\u001b[39m"
     ]
    },
    {
     "name": "stdout",
     "output_type": "stream",
     "text": [
      "Steps: 549, tries: 31\r"
     ]
    },
    {
     "name": "stderr",
     "output_type": "stream",
     "text": [
      "┌ Warning: Mapping to the storage type failed; perhaps your data had out-of-range values?\n",
      "│ Try `map(clamp01nan, img)` to clamp values to a valid range.\n",
      "└ @ ImageMagick C:\\Users\\Lukas\\.julia\\packages\\ImageMagick\\b8swT\\src\\ImageMagick.jl:180\n",
      "\u001b[32mProgress:  35%|███████████████                          |  ETA: 0:17:35\u001b[39m"
     ]
    },
    {
     "name": "stdout",
     "output_type": "stream",
     "text": [
      "Steps: 549, tries: 25\r"
     ]
    },
    {
     "name": "stderr",
     "output_type": "stream",
     "text": [
      "┌ Warning: Mapping to the storage type failed; perhaps your data had out-of-range values?\n",
      "│ Try `map(clamp01nan, img)` to clamp values to a valid range.\n",
      "└ @ ImageMagick C:\\Users\\Lukas\\.julia\\packages\\ImageMagick\\b8swT\\src\\ImageMagick.jl:180\n",
      "\u001b[32mProgress:  35%|███████████████                          |  ETA: 0:17:35\u001b[39m"
     ]
    },
    {
     "name": "stdout",
     "output_type": "stream",
     "text": [
      "Steps: 549, tries: 51\r"
     ]
    },
    {
     "name": "stderr",
     "output_type": "stream",
     "text": [
      "┌ Warning: Mapping to the storage type failed; perhaps your data had out-of-range values?\n",
      "│ Try `map(clamp01nan, img)` to clamp values to a valid range.\n",
      "└ @ ImageMagick C:\\Users\\Lukas\\.julia\\packages\\ImageMagick\\b8swT\\src\\ImageMagick.jl:180\n",
      "\u001b[32mProgress:  35%|███████████████                          |  ETA: 0:17:33\u001b[39m"
     ]
    },
    {
     "name": "stdout",
     "output_type": "stream",
     "text": [
      "Steps: 549, tries: 63\r"
     ]
    },
    {
     "name": "stderr",
     "output_type": "stream",
     "text": [
      "┌ Warning: Mapping to the storage type failed; perhaps your data had out-of-range values?\n",
      "│ Try `map(clamp01nan, img)` to clamp values to a valid range.\n",
      "└ @ ImageMagick C:\\Users\\Lukas\\.julia\\packages\\ImageMagick\\b8swT\\src\\ImageMagick.jl:180\n",
      "\u001b[32mProgress:  35%|███████████████                          |  ETA: 0:17:30\u001b[39m"
     ]
    },
    {
     "name": "stdout",
     "output_type": "stream",
     "text": [
      "Steps: 549, tries: 47\r"
     ]
    },
    {
     "name": "stderr",
     "output_type": "stream",
     "text": [
      "┌ Warning: Mapping to the storage type failed; perhaps your data had out-of-range values?\n",
      "│ Try `map(clamp01nan, img)` to clamp values to a valid range.\n",
      "└ @ ImageMagick C:\\Users\\Lukas\\.julia\\packages\\ImageMagick\\b8swT\\src\\ImageMagick.jl:180\n",
      "\u001b[32mProgress:  36%|███████████████                          |  ETA: 0:17:28\u001b[39m"
     ]
    },
    {
     "name": "stdout",
     "output_type": "stream",
     "text": [
      "Steps: 549, tries: 10\r"
     ]
    },
    {
     "name": "stderr",
     "output_type": "stream",
     "text": [
      "┌ Warning: Mapping to the storage type failed; perhaps your data had out-of-range values?\n",
      "│ Try `map(clamp01nan, img)` to clamp values to a valid range.\n",
      "└ @ ImageMagick C:\\Users\\Lukas\\.julia\\packages\\ImageMagick\\b8swT\\src\\ImageMagick.jl:180\n",
      "\u001b[32mProgress:  36%|███████████████                          |  ETA: 0:17:26\u001b[39m"
     ]
    },
    {
     "name": "stdout",
     "output_type": "stream",
     "text": [
      "Steps: 549, tries: 52\r"
     ]
    },
    {
     "name": "stderr",
     "output_type": "stream",
     "text": [
      "┌ Warning: Mapping to the storage type failed; perhaps your data had out-of-range values?\n",
      "│ Try `map(clamp01nan, img)` to clamp values to a valid range.\n",
      "└ @ ImageMagick C:\\Users\\Lukas\\.julia\\packages\\ImageMagick\\b8swT\\src\\ImageMagick.jl:180\n",
      "\r"
     ]
    },
    {
     "name": "stdout",
     "output_type": "stream",
     "text": [
      "Steps: 259, tries: 03\r"
     ]
    },
    {
     "name": "stderr",
     "output_type": "stream",
     "text": [
      "\u001b[32mProgress:  36%|███████████████                          |  ETA: 0:17:24\u001b[39m"
     ]
    },
    {
     "name": "stdout",
     "output_type": "stream",
     "text": [
      "Steps: 549, tries: 97\r"
     ]
    },
    {
     "name": "stderr",
     "output_type": "stream",
     "text": [
      "┌ Warning: Mapping to the storage type failed; perhaps your data had out-of-range values?\n",
      "│ Try `map(clamp01nan, img)` to clamp values to a valid range.\n",
      "└ @ ImageMagick C:\\Users\\Lukas\\.julia\\packages\\ImageMagick\\b8swT\\src\\ImageMagick.jl:180\n",
      "\u001b[32mProgress:  36%|███████████████                          |  ETA: 0:17:21\u001b[39m"
     ]
    },
    {
     "name": "stdout",
     "output_type": "stream",
     "text": [
      "Steps: 549, tries: 12\r"
     ]
    },
    {
     "name": "stderr",
     "output_type": "stream",
     "text": [
      "┌ Warning: Mapping to the storage type failed; perhaps your data had out-of-range values?\n",
      "│ Try `map(clamp01nan, img)` to clamp values to a valid range.\n",
      "└ @ ImageMagick C:\\Users\\Lukas\\.julia\\packages\\ImageMagick\\b8swT\\src\\ImageMagick.jl:180\n",
      "\u001b[32mProgress:  36%|███████████████                          |  ETA: 0:17:19\u001b[39m"
     ]
    },
    {
     "name": "stdout",
     "output_type": "stream",
     "text": [
      "Steps: 549, tries: 44\r"
     ]
    },
    {
     "name": "stderr",
     "output_type": "stream",
     "text": [
      "┌ Warning: Mapping to the storage type failed; perhaps your data had out-of-range values?\n",
      "│ Try `map(clamp01nan, img)` to clamp values to a valid range.\n",
      "└ @ ImageMagick C:\\Users\\Lukas\\.julia\\packages\\ImageMagick\\b8swT\\src\\ImageMagick.jl:180\n",
      "\u001b[32mProgress:  36%|███████████████                          |  ETA: 0:17:16\u001b[39m"
     ]
    },
    {
     "name": "stdout",
     "output_type": "stream",
     "text": [
      "Steps: 549, tries: 60\r"
     ]
    },
    {
     "name": "stderr",
     "output_type": "stream",
     "text": [
      "┌ Warning: Mapping to the storage type failed; perhaps your data had out-of-range values?\n",
      "│ Try `map(clamp01nan, img)` to clamp values to a valid range.\n",
      "└ @ ImageMagick C:\\Users\\Lukas\\.julia\\packages\\ImageMagick\\b8swT\\src\\ImageMagick.jl:180\n",
      "\u001b[32mProgress:  36%|███████████████                          |  ETA: 0:17:14\u001b[39m"
     ]
    },
    {
     "name": "stdout",
     "output_type": "stream",
     "text": [
      "Steps: 549, tries: 16\r"
     ]
    },
    {
     "name": "stderr",
     "output_type": "stream",
     "text": [
      "┌ Warning: Mapping to the storage type failed; perhaps your data had out-of-range values?\n",
      "│ Try `map(clamp01nan, img)` to clamp values to a valid range.\n",
      "└ @ ImageMagick C:\\Users\\Lukas\\.julia\\packages\\ImageMagick\\b8swT\\src\\ImageMagick.jl:180\n",
      "\u001b[32mProgress:  36%|███████████████                          |  ETA: 0:17:12\u001b[39m"
     ]
    },
    {
     "name": "stdout",
     "output_type": "stream",
     "text": [
      "Steps: 549, tries: 31\r"
     ]
    },
    {
     "name": "stderr",
     "output_type": "stream",
     "text": [
      "┌ Warning: Mapping to the storage type failed; perhaps your data had out-of-range values?\n",
      "│ Try `map(clamp01nan, img)` to clamp values to a valid range.\n",
      "└ @ ImageMagick C:\\Users\\Lukas\\.julia\\packages\\ImageMagick\\b8swT\\src\\ImageMagick.jl:180\n",
      "\u001b[32mProgress:  36%|███████████████                          |  ETA: 0:17:11\u001b[39m"
     ]
    },
    {
     "name": "stdout",
     "output_type": "stream",
     "text": [
      "Steps: 549, tries: 74\r"
     ]
    },
    {
     "name": "stderr",
     "output_type": "stream",
     "text": [
      "┌ Warning: Mapping to the storage type failed; perhaps your data had out-of-range values?\n",
      "│ Try `map(clamp01nan, img)` to clamp values to a valid range.\n",
      "└ @ ImageMagick C:\\Users\\Lukas\\.julia\\packages\\ImageMagick\\b8swT\\src\\ImageMagick.jl:180\n",
      "\u001b[32mProgress:  37%|████████████████                         |  ETA: 0:17:08\u001b[39m"
     ]
    },
    {
     "name": "stdout",
     "output_type": "stream",
     "text": [
      "Steps: 549, tries: 20\r"
     ]
    },
    {
     "name": "stderr",
     "output_type": "stream",
     "text": [
      "┌ Warning: Mapping to the storage type failed; perhaps your data had out-of-range values?\n",
      "│ Try `map(clamp01nan, img)` to clamp values to a valid range.\n",
      "└ @ ImageMagick C:\\Users\\Lukas\\.julia\\packages\\ImageMagick\\b8swT\\src\\ImageMagick.jl:180\n",
      "\u001b[32mProgress:  37%|████████████████                         |  ETA: 0:17:06\u001b[39m"
     ]
    },
    {
     "name": "stdout",
     "output_type": "stream",
     "text": [
      "Steps: 549, tries: 34\r"
     ]
    },
    {
     "name": "stderr",
     "output_type": "stream",
     "text": [
      "┌ Warning: Mapping to the storage type failed; perhaps your data had out-of-range values?\n",
      "│ Try `map(clamp01nan, img)` to clamp values to a valid range.\n",
      "└ @ ImageMagick C:\\Users\\Lukas\\.julia\\packages\\ImageMagick\\b8swT\\src\\ImageMagick.jl:180\n",
      "\u001b[32mProgress:  37%|████████████████                         |  ETA: 0:17:04\u001b[39m"
     ]
    },
    {
     "name": "stdout",
     "output_type": "stream",
     "text": [
      "Steps: 549, tries: 11\r"
     ]
    },
    {
     "name": "stderr",
     "output_type": "stream",
     "text": [
      "┌ Warning: Mapping to the storage type failed; perhaps your data had out-of-range values?\n",
      "│ Try `map(clamp01nan, img)` to clamp values to a valid range.\n",
      "└ @ ImageMagick C:\\Users\\Lukas\\.julia\\packages\\ImageMagick\\b8swT\\src\\ImageMagick.jl:180\n",
      "\u001b[32mProgress:  37%|████████████████                         |  ETA: 0:17:02\u001b[39m"
     ]
    },
    {
     "name": "stdout",
     "output_type": "stream",
     "text": [
      "Steps: 549, tries: 02\r"
     ]
    },
    {
     "name": "stderr",
     "output_type": "stream",
     "text": [
      "┌ Warning: Mapping to the storage type failed; perhaps your data had out-of-range values?\n",
      "│ Try `map(clamp01nan, img)` to clamp values to a valid range.\n",
      "└ @ ImageMagick C:\\Users\\Lukas\\.julia\\packages\\ImageMagick\\b8swT\\src\\ImageMagick.jl:180\n",
      "\u001b[32mProgress:  37%|████████████████                         |  ETA: 0:17:00\u001b[39m"
     ]
    },
    {
     "name": "stdout",
     "output_type": "stream",
     "text": [
      "Steps: 549, tries: 10\r"
     ]
    },
    {
     "name": "stderr",
     "output_type": "stream",
     "text": [
      "┌ Warning: Mapping to the storage type failed; perhaps your data had out-of-range values?\n",
      "│ Try `map(clamp01nan, img)` to clamp values to a valid range.\n",
      "└ @ ImageMagick C:\\Users\\Lukas\\.julia\\packages\\ImageMagick\\b8swT\\src\\ImageMagick.jl:180\n",
      "\u001b[32mProgress:  37%|████████████████                         |  ETA: 0:16:57\u001b[39m"
     ]
    },
    {
     "name": "stdout",
     "output_type": "stream",
     "text": [
      "Steps: 549, tries: 16\r"
     ]
    },
    {
     "name": "stderr",
     "output_type": "stream",
     "text": [
      "┌ Warning: Mapping to the storage type failed; perhaps your data had out-of-range values?\n",
      "│ Try `map(clamp01nan, img)` to clamp values to a valid range.\n",
      "└ @ ImageMagick C:\\Users\\Lukas\\.julia\\packages\\ImageMagick\\b8swT\\src\\ImageMagick.jl:180\n",
      "\u001b[32mProgress:  37%|████████████████                         |  ETA: 0:16:55\u001b[39m"
     ]
    },
    {
     "name": "stdout",
     "output_type": "stream",
     "text": [
      "Steps: 549, tries: 31\r"
     ]
    },
    {
     "name": "stderr",
     "output_type": "stream",
     "text": [
      "┌ Warning: Mapping to the storage type failed; perhaps your data had out-of-range values?\n",
      "│ Try `map(clamp01nan, img)` to clamp values to a valid range.\n",
      "└ @ ImageMagick C:\\Users\\Lukas\\.julia\\packages\\ImageMagick\\b8swT\\src\\ImageMagick.jl:180\n",
      "\u001b[32mProgress:  38%|████████████████                         |  ETA: 0:16:53\u001b[39m"
     ]
    },
    {
     "name": "stdout",
     "output_type": "stream",
     "text": [
      "Steps: 549, tries: 40\r"
     ]
    },
    {
     "name": "stderr",
     "output_type": "stream",
     "text": [
      "┌ Warning: Mapping to the storage type failed; perhaps your data had out-of-range values?\n",
      "│ Try `map(clamp01nan, img)` to clamp values to a valid range.\n",
      "└ @ ImageMagick C:\\Users\\Lukas\\.julia\\packages\\ImageMagick\\b8swT\\src\\ImageMagick.jl:180\n",
      "\u001b[32mProgress:  38%|████████████████                         |  ETA: 0:16:51\u001b[39m"
     ]
    },
    {
     "name": "stdout",
     "output_type": "stream",
     "text": [
      "Steps: 549, tries: 73\r"
     ]
    },
    {
     "name": "stderr",
     "output_type": "stream",
     "text": [
      "┌ Warning: Mapping to the storage type failed; perhaps your data had out-of-range values?\n",
      "│ Try `map(clamp01nan, img)` to clamp values to a valid range.\n",
      "└ @ ImageMagick C:\\Users\\Lukas\\.julia\\packages\\ImageMagick\\b8swT\\src\\ImageMagick.jl:180\n",
      "\u001b[32mProgress:  38%|████████████████                         |  ETA: 0:16:49\u001b[39m"
     ]
    },
    {
     "name": "stdout",
     "output_type": "stream",
     "text": [
      "Steps: 549, tries: 20\r"
     ]
    },
    {
     "name": "stderr",
     "output_type": "stream",
     "text": [
      "┌ Warning: Mapping to the storage type failed; perhaps your data had out-of-range values?\n",
      "│ Try `map(clamp01nan, img)` to clamp values to a valid range.\n",
      "└ @ ImageMagick C:\\Users\\Lukas\\.julia\\packages\\ImageMagick\\b8swT\\src\\ImageMagick.jl:180\n",
      "\u001b[32mProgress:  38%|████████████████                         |  ETA: 0:16:47\u001b[39m"
     ]
    },
    {
     "name": "stdout",
     "output_type": "stream",
     "text": [
      "Steps: 549, tries: 42\r"
     ]
    },
    {
     "name": "stderr",
     "output_type": "stream",
     "text": [
      "┌ Warning: Mapping to the storage type failed; perhaps your data had out-of-range values?\n",
      "│ Try `map(clamp01nan, img)` to clamp values to a valid range.\n",
      "└ @ ImageMagick C:\\Users\\Lukas\\.julia\\packages\\ImageMagick\\b8swT\\src\\ImageMagick.jl:180\n",
      "\u001b[32mProgress:  38%|████████████████                         |  ETA: 0:16:44\u001b[39m"
     ]
    },
    {
     "name": "stdout",
     "output_type": "stream",
     "text": [
      "Steps: 549, tries: 25\r"
     ]
    },
    {
     "name": "stderr",
     "output_type": "stream",
     "text": [
      "┌ Warning: Mapping to the storage type failed; perhaps your data had out-of-range values?\n",
      "│ Try `map(clamp01nan, img)` to clamp values to a valid range.\n",
      "└ @ ImageMagick C:\\Users\\Lukas\\.julia\\packages\\ImageMagick\\b8swT\\src\\ImageMagick.jl:180\n",
      "\u001b[32mProgress:  38%|████████████████                         |  ETA: 0:16:42\u001b[39m"
     ]
    },
    {
     "name": "stdout",
     "output_type": "stream",
     "text": [
      "Steps: 549, tries: 13\r"
     ]
    },
    {
     "name": "stderr",
     "output_type": "stream",
     "text": [
      "┌ Warning: Mapping to the storage type failed; perhaps your data had out-of-range values?\n",
      "│ Try `map(clamp01nan, img)` to clamp values to a valid range.\n",
      "└ @ ImageMagick C:\\Users\\Lukas\\.julia\\packages\\ImageMagick\\b8swT\\src\\ImageMagick.jl:180\n",
      "\u001b[32mProgress:  38%|████████████████                         |  ETA: 0:16:40\u001b[39m"
     ]
    },
    {
     "name": "stdout",
     "output_type": "stream",
     "text": [
      "Steps: 549, tries: 63\r"
     ]
    },
    {
     "name": "stderr",
     "output_type": "stream",
     "text": [
      "┌ Warning: Mapping to the storage type failed; perhaps your data had out-of-range values?\n",
      "│ Try `map(clamp01nan, img)` to clamp values to a valid range.\n",
      "└ @ ImageMagick C:\\Users\\Lukas\\.julia\\packages\\ImageMagick\\b8swT\\src\\ImageMagick.jl:180\n",
      "\u001b[32mProgress:  38%|████████████████                         |  ETA: 0:16:38\u001b[39m"
     ]
    },
    {
     "name": "stdout",
     "output_type": "stream",
     "text": [
      "Steps: 549, tries: 74\r"
     ]
    },
    {
     "name": "stderr",
     "output_type": "stream",
     "text": [
      "┌ Warning: Mapping to the storage type failed; perhaps your data had out-of-range values?\n",
      "│ Try `map(clamp01nan, img)` to clamp values to a valid range.\n",
      "└ @ ImageMagick C:\\Users\\Lukas\\.julia\\packages\\ImageMagick\\b8swT\\src\\ImageMagick.jl:180\n",
      "\u001b[32mProgress:  38%|████████████████                         |  ETA: 0:16:35\u001b[39m"
     ]
    },
    {
     "name": "stdout",
     "output_type": "stream",
     "text": [
      "Steps: 549, tries: 81\r"
     ]
    },
    {
     "name": "stderr",
     "output_type": "stream",
     "text": [
      "┌ Warning: Mapping to the storage type failed; perhaps your data had out-of-range values?\n",
      "│ Try `map(clamp01nan, img)` to clamp values to a valid range.\n",
      "└ @ ImageMagick C:\\Users\\Lukas\\.julia\\packages\\ImageMagick\\b8swT\\src\\ImageMagick.jl:180\n",
      "\u001b[32mProgress:  39%|████████████████                         |  ETA: 0:16:33\u001b[39m"
     ]
    },
    {
     "name": "stdout",
     "output_type": "stream",
     "text": [
      "Steps: 549, tries: 22\r"
     ]
    },
    {
     "name": "stderr",
     "output_type": "stream",
     "text": [
      "┌ Warning: Mapping to the storage type failed; perhaps your data had out-of-range values?\n",
      "│ Try `map(clamp01nan, img)` to clamp values to a valid range.\n",
      "└ @ ImageMagick C:\\Users\\Lukas\\.julia\\packages\\ImageMagick\\b8swT\\src\\ImageMagick.jl:180\n",
      "\u001b[32mProgress:  39%|████████████████                         |  ETA: 0:16:31\u001b[39m"
     ]
    },
    {
     "name": "stdout",
     "output_type": "stream",
     "text": [
      "Steps: 549, tries: 61\r"
     ]
    },
    {
     "name": "stderr",
     "output_type": "stream",
     "text": [
      "┌ Warning: Mapping to the storage type failed; perhaps your data had out-of-range values?\n",
      "│ Try `map(clamp01nan, img)` to clamp values to a valid range.\n",
      "└ @ ImageMagick C:\\Users\\Lukas\\.julia\\packages\\ImageMagick\\b8swT\\src\\ImageMagick.jl:180\n",
      "\u001b[32mProgress:  39%|████████████████                         |  ETA: 0:16:29\u001b[39m"
     ]
    },
    {
     "name": "stdout",
     "output_type": "stream",
     "text": [
      "Steps: 549, tries: 35\r"
     ]
    },
    {
     "name": "stderr",
     "output_type": "stream",
     "text": [
      "┌ Warning: Mapping to the storage type failed; perhaps your data had out-of-range values?\n",
      "│ Try `map(clamp01nan, img)` to clamp values to a valid range.\n",
      "└ @ ImageMagick C:\\Users\\Lukas\\.julia\\packages\\ImageMagick\\b8swT\\src\\ImageMagick.jl:180\n",
      "\u001b[32mProgress:  39%|████████████████                         |  ETA: 0:16:26\u001b[39m"
     ]
    },
    {
     "name": "stdout",
     "output_type": "stream",
     "text": [
      "Steps: 549, tries: 20\r"
     ]
    },
    {
     "name": "stderr",
     "output_type": "stream",
     "text": [
      "┌ Warning: Mapping to the storage type failed; perhaps your data had out-of-range values?\n",
      "│ Try `map(clamp01nan, img)` to clamp values to a valid range.\n",
      "└ @ ImageMagick C:\\Users\\Lukas\\.julia\\packages\\ImageMagick\\b8swT\\src\\ImageMagick.jl:180\n",
      "\u001b[32mProgress:  39%|█████████████████                        |  ETA: 0:16:24\u001b[39m"
     ]
    },
    {
     "name": "stdout",
     "output_type": "stream",
     "text": [
      "Steps: 549, tries: 13\r"
     ]
    },
    {
     "name": "stderr",
     "output_type": "stream",
     "text": [
      "┌ Warning: Mapping to the storage type failed; perhaps your data had out-of-range values?\n",
      "│ Try `map(clamp01nan, img)` to clamp values to a valid range.\n",
      "└ @ ImageMagick C:\\Users\\Lukas\\.julia\\packages\\ImageMagick\\b8swT\\src\\ImageMagick.jl:180\n",
      "\u001b[32mProgress:  39%|█████████████████                        |  ETA: 0:16:22\u001b[39m"
     ]
    },
    {
     "name": "stdout",
     "output_type": "stream",
     "text": [
      "Steps: 549, tries: 14\r"
     ]
    },
    {
     "name": "stderr",
     "output_type": "stream",
     "text": [
      "┌ Warning: Mapping to the storage type failed; perhaps your data had out-of-range values?\n",
      "│ Try `map(clamp01nan, img)` to clamp values to a valid range.\n",
      "└ @ ImageMagick C:\\Users\\Lukas\\.julia\\packages\\ImageMagick\\b8swT\\src\\ImageMagick.jl:180\n",
      "\u001b[32mProgress:  39%|█████████████████                        |  ETA: 0:16:20\u001b[39m"
     ]
    },
    {
     "name": "stdout",
     "output_type": "stream",
     "text": [
      "Steps: 549, tries: 90\r"
     ]
    },
    {
     "name": "stderr",
     "output_type": "stream",
     "text": [
      "┌ Warning: Mapping to the storage type failed; perhaps your data had out-of-range values?\n",
      "│ Try `map(clamp01nan, img)` to clamp values to a valid range.\n",
      "└ @ ImageMagick C:\\Users\\Lukas\\.julia\\packages\\ImageMagick\\b8swT\\src\\ImageMagick.jl:180\n",
      "\u001b[32mProgress:  40%|█████████████████                        |  ETA: 0:16:18\u001b[39m"
     ]
    },
    {
     "name": "stdout",
     "output_type": "stream",
     "text": [
      "Steps: 549, tries: 23\r"
     ]
    },
    {
     "name": "stderr",
     "output_type": "stream",
     "text": [
      "┌ Warning: Mapping to the storage type failed; perhaps your data had out-of-range values?\n",
      "│ Try `map(clamp01nan, img)` to clamp values to a valid range.\n",
      "└ @ ImageMagick C:\\Users\\Lukas\\.julia\\packages\\ImageMagick\\b8swT\\src\\ImageMagick.jl:180\n",
      "\u001b[32mProgress:  40%|█████████████████                        |  ETA: 0:16:15\u001b[39m"
     ]
    },
    {
     "name": "stdout",
     "output_type": "stream",
     "text": [
      "Steps: 549, tries: 07\r"
     ]
    },
    {
     "name": "stderr",
     "output_type": "stream",
     "text": [
      "┌ Warning: Mapping to the storage type failed; perhaps your data had out-of-range values?\n",
      "│ Try `map(clamp01nan, img)` to clamp values to a valid range.\n",
      "└ @ ImageMagick C:\\Users\\Lukas\\.julia\\packages\\ImageMagick\\b8swT\\src\\ImageMagick.jl:180\n",
      "\u001b[32mProgress:  40%|█████████████████                        |  ETA: 0:16:13\u001b[39m"
     ]
    },
    {
     "name": "stdout",
     "output_type": "stream",
     "text": [
      "Steps: 549, tries: 28\r"
     ]
    },
    {
     "name": "stderr",
     "output_type": "stream",
     "text": [
      "┌ Warning: Mapping to the storage type failed; perhaps your data had out-of-range values?\n",
      "│ Try `map(clamp01nan, img)` to clamp values to a valid range.\n",
      "└ @ ImageMagick C:\\Users\\Lukas\\.julia\\packages\\ImageMagick\\b8swT\\src\\ImageMagick.jl:180\n",
      "\u001b[32mProgress:  40%|█████████████████                        |  ETA: 0:16:11\u001b[39m"
     ]
    },
    {
     "name": "stdout",
     "output_type": "stream",
     "text": [
      "Steps: 549, tries: 84\r"
     ]
    },
    {
     "name": "stderr",
     "output_type": "stream",
     "text": [
      "┌ Warning: Mapping to the storage type failed; perhaps your data had out-of-range values?\n",
      "│ Try `map(clamp01nan, img)` to clamp values to a valid range.\n",
      "└ @ ImageMagick C:\\Users\\Lukas\\.julia\\packages\\ImageMagick\\b8swT\\src\\ImageMagick.jl:180\n",
      "\u001b[32mProgress:  40%|█████████████████                        |  ETA: 0:16:09\u001b[39m"
     ]
    },
    {
     "name": "stdout",
     "output_type": "stream",
     "text": [
      "Steps: 549, tries: 12\r"
     ]
    },
    {
     "name": "stderr",
     "output_type": "stream",
     "text": [
      "┌ Warning: Mapping to the storage type failed; perhaps your data had out-of-range values?\n",
      "│ Try `map(clamp01nan, img)` to clamp values to a valid range.\n",
      "└ @ ImageMagick C:\\Users\\Lukas\\.julia\\packages\\ImageMagick\\b8swT\\src\\ImageMagick.jl:180\n",
      "\u001b[32mProgress:  40%|█████████████████                        |  ETA: 0:16:06\u001b[39m"
     ]
    },
    {
     "name": "stdout",
     "output_type": "stream",
     "text": [
      "Steps: 549, tries: 30\r"
     ]
    },
    {
     "name": "stderr",
     "output_type": "stream",
     "text": [
      "┌ Warning: Mapping to the storage type failed; perhaps your data had out-of-range values?\n",
      "│ Try `map(clamp01nan, img)` to clamp values to a valid range.\n",
      "└ @ ImageMagick C:\\Users\\Lukas\\.julia\\packages\\ImageMagick\\b8swT\\src\\ImageMagick.jl:180\n",
      "\u001b[32mProgress:  40%|█████████████████                        |  ETA: 0:16:04\u001b[39m"
     ]
    },
    {
     "name": "stdout",
     "output_type": "stream",
     "text": [
      "Steps: 549, tries: 02\r"
     ]
    },
    {
     "name": "stderr",
     "output_type": "stream",
     "text": [
      "┌ Warning: Mapping to the storage type failed; perhaps your data had out-of-range values?\n",
      "│ Try `map(clamp01nan, img)` to clamp values to a valid range.\n",
      "└ @ ImageMagick C:\\Users\\Lukas\\.julia\\packages\\ImageMagick\\b8swT\\src\\ImageMagick.jl:180\n",
      "\u001b[32mProgress:  40%|█████████████████                        |  ETA: 0:16:02\u001b[39m"
     ]
    },
    {
     "name": "stdout",
     "output_type": "stream",
     "text": [
      "Steps: 549, tries: 71\r"
     ]
    },
    {
     "name": "stderr",
     "output_type": "stream",
     "text": [
      "┌ Warning: Mapping to the storage type failed; perhaps your data had out-of-range values?\n",
      "│ Try `map(clamp01nan, img)` to clamp values to a valid range.\n",
      "└ @ ImageMagick C:\\Users\\Lukas\\.julia\\packages\\ImageMagick\\b8swT\\src\\ImageMagick.jl:180\n",
      "\u001b[32mProgress:  40%|█████████████████                        |  ETA: 0:15:59\u001b[39m"
     ]
    },
    {
     "name": "stdout",
     "output_type": "stream",
     "text": [
      "Steps: 549, tries: 00\r"
     ]
    },
    {
     "name": "stderr",
     "output_type": "stream",
     "text": [
      "┌ Warning: Mapping to the storage type failed; perhaps your data had out-of-range values?\n",
      "│ Try `map(clamp01nan, img)` to clamp values to a valid range.\n",
      "└ @ ImageMagick C:\\Users\\Lukas\\.julia\\packages\\ImageMagick\\b8swT\\src\\ImageMagick.jl:180\n",
      "\u001b[32mProgress:  41%|█████████████████                        |  ETA: 0:15:57\u001b[39m"
     ]
    },
    {
     "name": "stdout",
     "output_type": "stream",
     "text": [
      "Steps: 549, tries: 14\r"
     ]
    },
    {
     "name": "stderr",
     "output_type": "stream",
     "text": [
      "┌ Warning: Mapping to the storage type failed; perhaps your data had out-of-range values?\n",
      "│ Try `map(clamp01nan, img)` to clamp values to a valid range.\n",
      "└ @ ImageMagick C:\\Users\\Lukas\\.julia\\packages\\ImageMagick\\b8swT\\src\\ImageMagick.jl:180\n",
      "\u001b[32mProgress:  41%|█████████████████                        |  ETA: 0:15:55\u001b[39m"
     ]
    },
    {
     "name": "stdout",
     "output_type": "stream",
     "text": [
      "Steps: 549, tries: 20\r"
     ]
    },
    {
     "name": "stderr",
     "output_type": "stream",
     "text": [
      "┌ Warning: Mapping to the storage type failed; perhaps your data had out-of-range values?\n",
      "│ Try `map(clamp01nan, img)` to clamp values to a valid range.\n",
      "└ @ ImageMagick C:\\Users\\Lukas\\.julia\\packages\\ImageMagick\\b8swT\\src\\ImageMagick.jl:180\n",
      "\u001b[32mProgress:  41%|█████████████████                        |  ETA: 0:15:53\u001b[39m"
     ]
    },
    {
     "name": "stdout",
     "output_type": "stream",
     "text": [
      "Steps: 549, tries: 20\r"
     ]
    },
    {
     "name": "stderr",
     "output_type": "stream",
     "text": [
      "┌ Warning: Mapping to the storage type failed; perhaps your data had out-of-range values?\n",
      "│ Try `map(clamp01nan, img)` to clamp values to a valid range.\n",
      "└ @ ImageMagick C:\\Users\\Lukas\\.julia\\packages\\ImageMagick\\b8swT\\src\\ImageMagick.jl:180\n",
      "\u001b[32mProgress:  41%|█████████████████                        |  ETA: 0:15:50\u001b[39m"
     ]
    },
    {
     "name": "stdout",
     "output_type": "stream",
     "text": [
      "Steps: 549, tries: 30\r"
     ]
    },
    {
     "name": "stderr",
     "output_type": "stream",
     "text": [
      "┌ Warning: Mapping to the storage type failed; perhaps your data had out-of-range values?\n",
      "│ Try `map(clamp01nan, img)` to clamp values to a valid range.\n",
      "└ @ ImageMagick C:\\Users\\Lukas\\.julia\\packages\\ImageMagick\\b8swT\\src\\ImageMagick.jl:180\n",
      "\u001b[32mProgress:  41%|█████████████████                        |  ETA: 0:15:48\u001b[39m"
     ]
    },
    {
     "name": "stdout",
     "output_type": "stream",
     "text": [
      "Steps: 549, tries: 10\r"
     ]
    },
    {
     "name": "stderr",
     "output_type": "stream",
     "text": [
      "┌ Warning: Mapping to the storage type failed; perhaps your data had out-of-range values?\n",
      "│ Try `map(clamp01nan, img)` to clamp values to a valid range.\n",
      "└ @ ImageMagick C:\\Users\\Lukas\\.julia\\packages\\ImageMagick\\b8swT\\src\\ImageMagick.jl:180\n",
      "\u001b[32mProgress:  41%|█████████████████                        |  ETA: 0:15:46\u001b[39m"
     ]
    },
    {
     "name": "stdout",
     "output_type": "stream",
     "text": [
      "Steps: 549, tries: 30\r"
     ]
    },
    {
     "name": "stderr",
     "output_type": "stream",
     "text": [
      "┌ Warning: Mapping to the storage type failed; perhaps your data had out-of-range values?\n",
      "│ Try `map(clamp01nan, img)` to clamp values to a valid range.\n",
      "└ @ ImageMagick C:\\Users\\Lukas\\.julia\\packages\\ImageMagick\\b8swT\\src\\ImageMagick.jl:180\n",
      "\u001b[32mProgress:  41%|█████████████████                        |  ETA: 0:15:44\u001b[39m"
     ]
    },
    {
     "name": "stdout",
     "output_type": "stream",
     "text": [
      "Steps: 549, tries: 40\r"
     ]
    },
    {
     "name": "stderr",
     "output_type": "stream",
     "text": [
      "┌ Warning: Mapping to the storage type failed; perhaps your data had out-of-range values?\n",
      "│ Try `map(clamp01nan, img)` to clamp values to a valid range.\n",
      "└ @ ImageMagick C:\\Users\\Lukas\\.julia\\packages\\ImageMagick\\b8swT\\src\\ImageMagick.jl:180\n",
      "\r"
     ]
    },
    {
     "name": "stdout",
     "output_type": "stream",
     "text": [
      "Steps: 191, tries: 20\r"
     ]
    },
    {
     "name": "stderr",
     "output_type": "stream",
     "text": [
      "\u001b[32mProgress:  42%|██████████████████                       |  ETA: 0:15:41\u001b[39m"
     ]
    },
    {
     "name": "stdout",
     "output_type": "stream",
     "text": [
      "Steps: 549, tries: 33\r"
     ]
    },
    {
     "name": "stderr",
     "output_type": "stream",
     "text": [
      "┌ Warning: Mapping to the storage type failed; perhaps your data had out-of-range values?\n",
      "│ Try `map(clamp01nan, img)` to clamp values to a valid range.\n",
      "└ @ ImageMagick C:\\Users\\Lukas\\.julia\\packages\\ImageMagick\\b8swT\\src\\ImageMagick.jl:180\n",
      "\u001b[32mProgress:  42%|██████████████████                       |  ETA: 0:15:39\u001b[39m"
     ]
    },
    {
     "name": "stdout",
     "output_type": "stream",
     "text": [
      "Steps: 549, tries: 98\r"
     ]
    },
    {
     "name": "stderr",
     "output_type": "stream",
     "text": [
      "┌ Warning: Mapping to the storage type failed; perhaps your data had out-of-range values?\n",
      "│ Try `map(clamp01nan, img)` to clamp values to a valid range.\n",
      "└ @ ImageMagick C:\\Users\\Lukas\\.julia\\packages\\ImageMagick\\b8swT\\src\\ImageMagick.jl:180\n",
      "\u001b[32mProgress:  42%|██████████████████                       |  ETA: 0:15:38\u001b[39m"
     ]
    },
    {
     "name": "stdout",
     "output_type": "stream",
     "text": [
      "Steps: 549, tries: 02\r"
     ]
    },
    {
     "name": "stderr",
     "output_type": "stream",
     "text": [
      "┌ Warning: Mapping to the storage type failed; perhaps your data had out-of-range values?\n",
      "│ Try `map(clamp01nan, img)` to clamp values to a valid range.\n",
      "└ @ ImageMagick C:\\Users\\Lukas\\.julia\\packages\\ImageMagick\\b8swT\\src\\ImageMagick.jl:180\n",
      "\u001b[32mProgress:  42%|██████████████████                       |  ETA: 0:15:36\u001b[39m"
     ]
    },
    {
     "name": "stdout",
     "output_type": "stream",
     "text": [
      "Steps: 549, tries: 72\r"
     ]
    },
    {
     "name": "stderr",
     "output_type": "stream",
     "text": [
      "┌ Warning: Mapping to the storage type failed; perhaps your data had out-of-range values?\n",
      "│ Try `map(clamp01nan, img)` to clamp values to a valid range.\n",
      "└ @ ImageMagick C:\\Users\\Lukas\\.julia\\packages\\ImageMagick\\b8swT\\src\\ImageMagick.jl:180\n",
      "\u001b[32mProgress:  42%|██████████████████                       |  ETA: 0:15:34\u001b[39m"
     ]
    },
    {
     "name": "stdout",
     "output_type": "stream",
     "text": [
      "Steps: 549, tries: 02\r"
     ]
    },
    {
     "name": "stderr",
     "output_type": "stream",
     "text": [
      "┌ Warning: Mapping to the storage type failed; perhaps your data had out-of-range values?\n",
      "│ Try `map(clamp01nan, img)` to clamp values to a valid range.\n",
      "└ @ ImageMagick C:\\Users\\Lukas\\.julia\\packages\\ImageMagick\\b8swT\\src\\ImageMagick.jl:180\n",
      "\u001b[32mProgress:  42%|██████████████████                       |  ETA: 0:15:32\u001b[39m"
     ]
    },
    {
     "name": "stdout",
     "output_type": "stream",
     "text": [
      "Steps: 549, tries: 13\r"
     ]
    },
    {
     "name": "stderr",
     "output_type": "stream",
     "text": [
      "┌ Warning: Mapping to the storage type failed; perhaps your data had out-of-range values?\n",
      "│ Try `map(clamp01nan, img)` to clamp values to a valid range.\n",
      "└ @ ImageMagick C:\\Users\\Lukas\\.julia\\packages\\ImageMagick\\b8swT\\src\\ImageMagick.jl:180\n",
      "\u001b[32mProgress:  42%|██████████████████                       |  ETA: 0:15:30\u001b[39m"
     ]
    },
    {
     "name": "stdout",
     "output_type": "stream",
     "text": [
      "Steps: 549, tries: 40\r"
     ]
    },
    {
     "name": "stderr",
     "output_type": "stream",
     "text": [
      "┌ Warning: Mapping to the storage type failed; perhaps your data had out-of-range values?\n",
      "│ Try `map(clamp01nan, img)` to clamp values to a valid range.\n",
      "└ @ ImageMagick C:\\Users\\Lukas\\.julia\\packages\\ImageMagick\\b8swT\\src\\ImageMagick.jl:180\n",
      "\u001b[32mProgress:  42%|██████████████████                       |  ETA: 0:15:28\u001b[39m"
     ]
    },
    {
     "name": "stdout",
     "output_type": "stream",
     "text": [
      "Steps: 549, tries: 12\r"
     ]
    },
    {
     "name": "stderr",
     "output_type": "stream",
     "text": [
      "┌ Warning: Mapping to the storage type failed; perhaps your data had out-of-range values?\n",
      "│ Try `map(clamp01nan, img)` to clamp values to a valid range.\n",
      "└ @ ImageMagick C:\\Users\\Lukas\\.julia\\packages\\ImageMagick\\b8swT\\src\\ImageMagick.jl:180\n",
      "\u001b[32mProgress:  42%|██████████████████                       |  ETA: 0:15:26\u001b[39m"
     ]
    },
    {
     "name": "stdout",
     "output_type": "stream",
     "text": [
      "Steps: 549, tries: 16\r"
     ]
    },
    {
     "name": "stderr",
     "output_type": "stream",
     "text": [
      "┌ Warning: Mapping to the storage type failed; perhaps your data had out-of-range values?\n",
      "│ Try `map(clamp01nan, img)` to clamp values to a valid range.\n",
      "└ @ ImageMagick C:\\Users\\Lukas\\.julia\\packages\\ImageMagick\\b8swT\\src\\ImageMagick.jl:180\n",
      "\u001b[32mProgress:  43%|██████████████████                       |  ETA: 0:15:24\u001b[39m"
     ]
    },
    {
     "name": "stdout",
     "output_type": "stream",
     "text": [
      "Steps: 549, tries: 11\r"
     ]
    },
    {
     "name": "stderr",
     "output_type": "stream",
     "text": [
      "┌ Warning: Mapping to the storage type failed; perhaps your data had out-of-range values?\n",
      "│ Try `map(clamp01nan, img)` to clamp values to a valid range.\n",
      "└ @ ImageMagick C:\\Users\\Lukas\\.julia\\packages\\ImageMagick\\b8swT\\src\\ImageMagick.jl:180\n",
      "\u001b[32mProgress:  43%|██████████████████                       |  ETA: 0:15:22\u001b[39m"
     ]
    },
    {
     "name": "stdout",
     "output_type": "stream",
     "text": [
      "Steps: 549, tries: 52\r"
     ]
    },
    {
     "name": "stderr",
     "output_type": "stream",
     "text": [
      "┌ Warning: Mapping to the storage type failed; perhaps your data had out-of-range values?\n",
      "│ Try `map(clamp01nan, img)` to clamp values to a valid range.\n",
      "└ @ ImageMagick C:\\Users\\Lukas\\.julia\\packages\\ImageMagick\\b8swT\\src\\ImageMagick.jl:180\n",
      "\u001b[32mProgress:  43%|██████████████████                       |  ETA: 0:15:19\u001b[39m"
     ]
    },
    {
     "name": "stdout",
     "output_type": "stream",
     "text": [
      "Steps: 549, tries: 94\r"
     ]
    },
    {
     "name": "stderr",
     "output_type": "stream",
     "text": [
      "┌ Warning: Mapping to the storage type failed; perhaps your data had out-of-range values?\n",
      "│ Try `map(clamp01nan, img)` to clamp values to a valid range.\n",
      "└ @ ImageMagick C:\\Users\\Lukas\\.julia\\packages\\ImageMagick\\b8swT\\src\\ImageMagick.jl:180\n",
      "\u001b[32mProgress:  43%|██████████████████                       |  ETA: 0:15:17\u001b[39m"
     ]
    },
    {
     "name": "stdout",
     "output_type": "stream",
     "text": [
      "Steps: 549, tries: 20\r"
     ]
    },
    {
     "name": "stderr",
     "output_type": "stream",
     "text": [
      "┌ Warning: Mapping to the storage type failed; perhaps your data had out-of-range values?\n",
      "│ Try `map(clamp01nan, img)` to clamp values to a valid range.\n",
      "└ @ ImageMagick C:\\Users\\Lukas\\.julia\\packages\\ImageMagick\\b8swT\\src\\ImageMagick.jl:180\n",
      "\u001b[32mProgress:  43%|██████████████████                       |  ETA: 0:15:15\u001b[39m"
     ]
    },
    {
     "name": "stdout",
     "output_type": "stream",
     "text": [
      "Steps: 549, tries: 10\r"
     ]
    },
    {
     "name": "stderr",
     "output_type": "stream",
     "text": [
      "┌ Warning: Mapping to the storage type failed; perhaps your data had out-of-range values?\n",
      "│ Try `map(clamp01nan, img)` to clamp values to a valid range.\n",
      "└ @ ImageMagick C:\\Users\\Lukas\\.julia\\packages\\ImageMagick\\b8swT\\src\\ImageMagick.jl:180\n",
      "\u001b[32mProgress:  43%|██████████████████                       |  ETA: 0:15:13\u001b[39m"
     ]
    },
    {
     "name": "stdout",
     "output_type": "stream",
     "text": [
      "Steps: 549, tries: 34\r"
     ]
    },
    {
     "name": "stderr",
     "output_type": "stream",
     "text": [
      "┌ Warning: Mapping to the storage type failed; perhaps your data had out-of-range values?\n",
      "│ Try `map(clamp01nan, img)` to clamp values to a valid range.\n",
      "└ @ ImageMagick C:\\Users\\Lukas\\.julia\\packages\\ImageMagick\\b8swT\\src\\ImageMagick.jl:180\n",
      "\u001b[32mProgress:  43%|██████████████████                       |  ETA: 0:15:11\u001b[39m"
     ]
    },
    {
     "name": "stdout",
     "output_type": "stream",
     "text": [
      "Steps: 549, tries: 07\r"
     ]
    },
    {
     "name": "stderr",
     "output_type": "stream",
     "text": [
      "┌ Warning: Mapping to the storage type failed; perhaps your data had out-of-range values?\n",
      "│ Try `map(clamp01nan, img)` to clamp values to a valid range.\n",
      "└ @ ImageMagick C:\\Users\\Lukas\\.julia\\packages\\ImageMagick\\b8swT\\src\\ImageMagick.jl:180\n",
      "\u001b[32mProgress:  44%|██████████████████                       |  ETA: 0:15:09\u001b[39m"
     ]
    },
    {
     "name": "stdout",
     "output_type": "stream",
     "text": [
      "Steps: 549, tries: 10\r"
     ]
    },
    {
     "name": "stderr",
     "output_type": "stream",
     "text": [
      "┌ Warning: Mapping to the storage type failed; perhaps your data had out-of-range values?\n",
      "│ Try `map(clamp01nan, img)` to clamp values to a valid range.\n",
      "└ @ ImageMagick C:\\Users\\Lukas\\.julia\\packages\\ImageMagick\\b8swT\\src\\ImageMagick.jl:180\n",
      "\u001b[32mProgress:  44%|██████████████████                       |  ETA: 0:15:10\u001b[39m"
     ]
    },
    {
     "name": "stdout",
     "output_type": "stream",
     "text": [
      "Steps: 549, tries: 35\r"
     ]
    },
    {
     "name": "stderr",
     "output_type": "stream",
     "text": [
      "┌ Warning: Mapping to the storage type failed; perhaps your data had out-of-range values?\n",
      "│ Try `map(clamp01nan, img)` to clamp values to a valid range.\n",
      "└ @ ImageMagick C:\\Users\\Lukas\\.julia\\packages\\ImageMagick\\b8swT\\src\\ImageMagick.jl:180\n",
      "\u001b[32mProgress:  44%|██████████████████                       |  ETA: 0:15:12\u001b[39m"
     ]
    },
    {
     "name": "stdout",
     "output_type": "stream",
     "text": [
      "Steps: 549, tries: 05\r"
     ]
    },
    {
     "name": "stderr",
     "output_type": "stream",
     "text": [
      "┌ Warning: Mapping to the storage type failed; perhaps your data had out-of-range values?\n",
      "│ Try `map(clamp01nan, img)` to clamp values to a valid range.\n",
      "└ @ ImageMagick C:\\Users\\Lukas\\.julia\\packages\\ImageMagick\\b8swT\\src\\ImageMagick.jl:180\n",
      "\u001b[32mProgress:  44%|██████████████████                       |  ETA: 0:15:10\u001b[39m"
     ]
    },
    {
     "name": "stdout",
     "output_type": "stream",
     "text": [
      "Steps: 549, tries: 05\r"
     ]
    },
    {
     "name": "stderr",
     "output_type": "stream",
     "text": [
      "┌ Warning: Mapping to the storage type failed; perhaps your data had out-of-range values?\n",
      "│ Try `map(clamp01nan, img)` to clamp values to a valid range.\n",
      "└ @ ImageMagick C:\\Users\\Lukas\\.julia\\packages\\ImageMagick\\b8swT\\src\\ImageMagick.jl:180\n",
      "\u001b[32mProgress:  44%|███████████████████                      |  ETA: 0:15:08\u001b[39m"
     ]
    },
    {
     "name": "stdout",
     "output_type": "stream",
     "text": [
      "Steps: 549, tries: 53\r"
     ]
    },
    {
     "name": "stderr",
     "output_type": "stream",
     "text": [
      "┌ Warning: Mapping to the storage type failed; perhaps your data had out-of-range values?\n",
      "│ Try `map(clamp01nan, img)` to clamp values to a valid range.\n",
      "└ @ ImageMagick C:\\Users\\Lukas\\.julia\\packages\\ImageMagick\\b8swT\\src\\ImageMagick.jl:180\n",
      "\u001b[32mProgress:  44%|███████████████████                      |  ETA: 0:15:06\u001b[39m"
     ]
    },
    {
     "name": "stdout",
     "output_type": "stream",
     "text": [
      "Steps: 549, tries: 25\r"
     ]
    },
    {
     "name": "stderr",
     "output_type": "stream",
     "text": [
      "┌ Warning: Mapping to the storage type failed; perhaps your data had out-of-range values?\n",
      "│ Try `map(clamp01nan, img)` to clamp values to a valid range.\n",
      "└ @ ImageMagick C:\\Users\\Lukas\\.julia\\packages\\ImageMagick\\b8swT\\src\\ImageMagick.jl:180\n",
      "\u001b[32mProgress:  44%|███████████████████                      |  ETA: 0:15:03\u001b[39m"
     ]
    },
    {
     "name": "stdout",
     "output_type": "stream",
     "text": [
      "Steps: 549, tries: 15\r"
     ]
    },
    {
     "name": "stderr",
     "output_type": "stream",
     "text": [
      "┌ Warning: Mapping to the storage type failed; perhaps your data had out-of-range values?\n",
      "│ Try `map(clamp01nan, img)` to clamp values to a valid range.\n",
      "└ @ ImageMagick C:\\Users\\Lukas\\.julia\\packages\\ImageMagick\\b8swT\\src\\ImageMagick.jl:180\n",
      "\u001b[32mProgress:  44%|███████████████████                      |  ETA: 0:15:01\u001b[39m"
     ]
    },
    {
     "name": "stdout",
     "output_type": "stream",
     "text": [
      "Steps: 549, tries: 05\r"
     ]
    },
    {
     "name": "stderr",
     "output_type": "stream",
     "text": [
      "┌ Warning: Mapping to the storage type failed; perhaps your data had out-of-range values?\n",
      "│ Try `map(clamp01nan, img)` to clamp values to a valid range.\n",
      "└ @ ImageMagick C:\\Users\\Lukas\\.julia\\packages\\ImageMagick\\b8swT\\src\\ImageMagick.jl:180\n",
      "\u001b[32mProgress:  44%|███████████████████                      |  ETA: 0:14:59\u001b[39m"
     ]
    },
    {
     "name": "stdout",
     "output_type": "stream",
     "text": [
      "Steps: 549, tries: 32\r"
     ]
    },
    {
     "name": "stderr",
     "output_type": "stream",
     "text": [
      "┌ Warning: Mapping to the storage type failed; perhaps your data had out-of-range values?\n",
      "│ Try `map(clamp01nan, img)` to clamp values to a valid range.\n",
      "└ @ ImageMagick C:\\Users\\Lukas\\.julia\\packages\\ImageMagick\\b8swT\\src\\ImageMagick.jl:180\n",
      "\u001b[32mProgress:  45%|███████████████████                      |  ETA: 0:14:57\u001b[39m"
     ]
    },
    {
     "name": "stdout",
     "output_type": "stream",
     "text": [
      "Steps: 549, tries: 31\r"
     ]
    },
    {
     "name": "stderr",
     "output_type": "stream",
     "text": [
      "┌ Warning: Mapping to the storage type failed; perhaps your data had out-of-range values?\n",
      "│ Try `map(clamp01nan, img)` to clamp values to a valid range.\n",
      "└ @ ImageMagick C:\\Users\\Lukas\\.julia\\packages\\ImageMagick\\b8swT\\src\\ImageMagick.jl:180\n",
      "\u001b[32mProgress:  45%|███████████████████                      |  ETA: 0:14:55\u001b[39m"
     ]
    },
    {
     "name": "stdout",
     "output_type": "stream",
     "text": [
      "Steps: 549, tries: 14\r"
     ]
    },
    {
     "name": "stderr",
     "output_type": "stream",
     "text": [
      "┌ Warning: Mapping to the storage type failed; perhaps your data had out-of-range values?\n",
      "│ Try `map(clamp01nan, img)` to clamp values to a valid range.\n",
      "└ @ ImageMagick C:\\Users\\Lukas\\.julia\\packages\\ImageMagick\\b8swT\\src\\ImageMagick.jl:180\n",
      "\u001b[32mProgress:  45%|███████████████████                      |  ETA: 0:14:53\u001b[39m"
     ]
    },
    {
     "name": "stdout",
     "output_type": "stream",
     "text": [
      "Steps: 549, tries: 87\r"
     ]
    },
    {
     "name": "stderr",
     "output_type": "stream",
     "text": [
      "┌ Warning: Mapping to the storage type failed; perhaps your data had out-of-range values?\n",
      "│ Try `map(clamp01nan, img)` to clamp values to a valid range.\n",
      "└ @ ImageMagick C:\\Users\\Lukas\\.julia\\packages\\ImageMagick\\b8swT\\src\\ImageMagick.jl:180\n",
      "\u001b[32mProgress:  45%|███████████████████                      |  ETA: 0:14:51\u001b[39m"
     ]
    },
    {
     "name": "stdout",
     "output_type": "stream",
     "text": [
      "Steps: 549, tries: 02\r"
     ]
    },
    {
     "name": "stderr",
     "output_type": "stream",
     "text": [
      "┌ Warning: Mapping to the storage type failed; perhaps your data had out-of-range values?\n",
      "│ Try `map(clamp01nan, img)` to clamp values to a valid range.\n",
      "└ @ ImageMagick C:\\Users\\Lukas\\.julia\\packages\\ImageMagick\\b8swT\\src\\ImageMagick.jl:180\n",
      "\r"
     ]
    },
    {
     "name": "stdout",
     "output_type": "stream",
     "text": [
      "Steps: 208, tries: 58\r"
     ]
    },
    {
     "name": "stderr",
     "output_type": "stream",
     "text": [
      "\u001b[32mProgress:  45%|███████████████████                      |  ETA: 0:14:48\u001b[39m"
     ]
    },
    {
     "name": "stdout",
     "output_type": "stream",
     "text": [
      "Steps: 549, tries: 28\r"
     ]
    },
    {
     "name": "stderr",
     "output_type": "stream",
     "text": [
      "┌ Warning: Mapping to the storage type failed; perhaps your data had out-of-range values?\n",
      "│ Try `map(clamp01nan, img)` to clamp values to a valid range.\n",
      "└ @ ImageMagick C:\\Users\\Lukas\\.julia\\packages\\ImageMagick\\b8swT\\src\\ImageMagick.jl:180\n",
      "\u001b[32mProgress:  45%|███████████████████                      |  ETA: 0:14:46\u001b[39m"
     ]
    },
    {
     "name": "stdout",
     "output_type": "stream",
     "text": [
      "Steps: 549, tries: 51\r"
     ]
    },
    {
     "name": "stderr",
     "output_type": "stream",
     "text": [
      "┌ Warning: Mapping to the storage type failed; perhaps your data had out-of-range values?\n",
      "│ Try `map(clamp01nan, img)` to clamp values to a valid range.\n",
      "└ @ ImageMagick C:\\Users\\Lukas\\.julia\\packages\\ImageMagick\\b8swT\\src\\ImageMagick.jl:180\n",
      "\u001b[32mProgress:  45%|███████████████████                      |  ETA: 0:14:44\u001b[39m"
     ]
    },
    {
     "name": "stdout",
     "output_type": "stream",
     "text": [
      "Steps: 549, tries: 55\r"
     ]
    },
    {
     "name": "stderr",
     "output_type": "stream",
     "text": [
      "┌ Warning: Mapping to the storage type failed; perhaps your data had out-of-range values?\n",
      "│ Try `map(clamp01nan, img)` to clamp values to a valid range.\n",
      "└ @ ImageMagick C:\\Users\\Lukas\\.julia\\packages\\ImageMagick\\b8swT\\src\\ImageMagick.jl:180\n",
      "\u001b[32mProgress:  46%|███████████████████                      |  ETA: 0:14:42\u001b[39m"
     ]
    },
    {
     "name": "stdout",
     "output_type": "stream",
     "text": [
      "Steps: 549, tries: 53\r"
     ]
    },
    {
     "name": "stderr",
     "output_type": "stream",
     "text": [
      "┌ Warning: Mapping to the storage type failed; perhaps your data had out-of-range values?\n",
      "│ Try `map(clamp01nan, img)` to clamp values to a valid range.\n",
      "└ @ ImageMagick C:\\Users\\Lukas\\.julia\\packages\\ImageMagick\\b8swT\\src\\ImageMagick.jl:180\n",
      "\u001b[32mProgress:  46%|███████████████████                      |  ETA: 0:14:39\u001b[39m"
     ]
    },
    {
     "name": "stdout",
     "output_type": "stream",
     "text": [
      "Steps: 549, tries: 44\r"
     ]
    },
    {
     "name": "stderr",
     "output_type": "stream",
     "text": [
      "┌ Warning: Mapping to the storage type failed; perhaps your data had out-of-range values?\n",
      "│ Try `map(clamp01nan, img)` to clamp values to a valid range.\n",
      "└ @ ImageMagick C:\\Users\\Lukas\\.julia\\packages\\ImageMagick\\b8swT\\src\\ImageMagick.jl:180\n",
      "\u001b[32mProgress:  46%|███████████████████                      |  ETA: 0:14:37\u001b[39m"
     ]
    },
    {
     "name": "stdout",
     "output_type": "stream",
     "text": [
      "Steps: 549, tries: 32\r"
     ]
    },
    {
     "name": "stderr",
     "output_type": "stream",
     "text": [
      "┌ Warning: Mapping to the storage type failed; perhaps your data had out-of-range values?\n",
      "│ Try `map(clamp01nan, img)` to clamp values to a valid range.\n",
      "└ @ ImageMagick C:\\Users\\Lukas\\.julia\\packages\\ImageMagick\\b8swT\\src\\ImageMagick.jl:180\n",
      "\u001b[32mProgress:  46%|███████████████████                      |  ETA: 0:14:35\u001b[39m"
     ]
    },
    {
     "name": "stdout",
     "output_type": "stream",
     "text": [
      "Steps: 549, tries: 36\r"
     ]
    },
    {
     "name": "stderr",
     "output_type": "stream",
     "text": [
      "┌ Warning: Mapping to the storage type failed; perhaps your data had out-of-range values?\n",
      "│ Try `map(clamp01nan, img)` to clamp values to a valid range.\n",
      "└ @ ImageMagick C:\\Users\\Lukas\\.julia\\packages\\ImageMagick\\b8swT\\src\\ImageMagick.jl:180\n",
      "\u001b[32mProgress:  46%|███████████████████                      |  ETA: 0:14:33\u001b[39m"
     ]
    },
    {
     "name": "stdout",
     "output_type": "stream",
     "text": [
      "Steps: 549, tries: 28\r"
     ]
    },
    {
     "name": "stderr",
     "output_type": "stream",
     "text": [
      "┌ Warning: Mapping to the storage type failed; perhaps your data had out-of-range values?\n",
      "│ Try `map(clamp01nan, img)` to clamp values to a valid range.\n",
      "└ @ ImageMagick C:\\Users\\Lukas\\.julia\\packages\\ImageMagick\\b8swT\\src\\ImageMagick.jl:180\n",
      "\u001b[32mProgress:  46%|███████████████████                      |  ETA: 0:14:31\u001b[39m"
     ]
    },
    {
     "name": "stdout",
     "output_type": "stream",
     "text": [
      "Steps: 549, tries: 10\r"
     ]
    },
    {
     "name": "stderr",
     "output_type": "stream",
     "text": [
      "┌ Warning: Mapping to the storage type failed; perhaps your data had out-of-range values?\n",
      "│ Try `map(clamp01nan, img)` to clamp values to a valid range.\n",
      "└ @ ImageMagick C:\\Users\\Lukas\\.julia\\packages\\ImageMagick\\b8swT\\src\\ImageMagick.jl:180\n",
      "\u001b[32mProgress:  46%|███████████████████                      |  ETA: 0:14:29\u001b[39m"
     ]
    },
    {
     "name": "stdout",
     "output_type": "stream",
     "text": [
      "Steps: 549, tries: 33\r"
     ]
    },
    {
     "name": "stderr",
     "output_type": "stream",
     "text": [
      "┌ Warning: Mapping to the storage type failed; perhaps your data had out-of-range values?\n",
      "│ Try `map(clamp01nan, img)` to clamp values to a valid range.\n",
      "└ @ ImageMagick C:\\Users\\Lukas\\.julia\\packages\\ImageMagick\\b8swT\\src\\ImageMagick.jl:180\n",
      "\u001b[32mProgress:  46%|████████████████████                     |  ETA: 0:14:27\u001b[39m"
     ]
    },
    {
     "name": "stdout",
     "output_type": "stream",
     "text": [
      "Steps: 549, tries: 26\r"
     ]
    },
    {
     "name": "stderr",
     "output_type": "stream",
     "text": [
      "┌ Warning: Mapping to the storage type failed; perhaps your data had out-of-range values?\n",
      "│ Try `map(clamp01nan, img)` to clamp values to a valid range.\n",
      "└ @ ImageMagick C:\\Users\\Lukas\\.julia\\packages\\ImageMagick\\b8swT\\src\\ImageMagick.jl:180\n",
      "\u001b[32mProgress:  46%|████████████████████                     |  ETA: 0:14:25\u001b[39m"
     ]
    },
    {
     "name": "stdout",
     "output_type": "stream",
     "text": [
      "Steps: 549, tries: 76\r"
     ]
    },
    {
     "name": "stderr",
     "output_type": "stream",
     "text": [
      "┌ Warning: Mapping to the storage type failed; perhaps your data had out-of-range values?\n",
      "│ Try `map(clamp01nan, img)` to clamp values to a valid range.\n",
      "└ @ ImageMagick C:\\Users\\Lukas\\.julia\\packages\\ImageMagick\\b8swT\\src\\ImageMagick.jl:180\n",
      "\u001b[32mProgress:  47%|████████████████████                     |  ETA: 0:14:23\u001b[39m"
     ]
    },
    {
     "name": "stdout",
     "output_type": "stream",
     "text": [
      "Steps: 549, tries: 00\r"
     ]
    },
    {
     "name": "stderr",
     "output_type": "stream",
     "text": [
      "┌ Warning: Mapping to the storage type failed; perhaps your data had out-of-range values?\n",
      "│ Try `map(clamp01nan, img)` to clamp values to a valid range.\n",
      "└ @ ImageMagick C:\\Users\\Lukas\\.julia\\packages\\ImageMagick\\b8swT\\src\\ImageMagick.jl:180\n",
      "\u001b[32mProgress:  47%|████████████████████                     |  ETA: 0:14:21\u001b[39m"
     ]
    },
    {
     "name": "stdout",
     "output_type": "stream",
     "text": [
      "Steps: 549, tries: 45\r"
     ]
    },
    {
     "name": "stderr",
     "output_type": "stream",
     "text": [
      "┌ Warning: Mapping to the storage type failed; perhaps your data had out-of-range values?\n",
      "│ Try `map(clamp01nan, img)` to clamp values to a valid range.\n",
      "└ @ ImageMagick C:\\Users\\Lukas\\.julia\\packages\\ImageMagick\\b8swT\\src\\ImageMagick.jl:180\n",
      "\u001b[32mProgress:  47%|████████████████████                     |  ETA: 0:14:19\u001b[39m"
     ]
    },
    {
     "name": "stdout",
     "output_type": "stream",
     "text": [
      "Steps: 549, tries: 12\r"
     ]
    },
    {
     "name": "stderr",
     "output_type": "stream",
     "text": [
      "┌ Warning: Mapping to the storage type failed; perhaps your data had out-of-range values?\n",
      "│ Try `map(clamp01nan, img)` to clamp values to a valid range.\n",
      "└ @ ImageMagick C:\\Users\\Lukas\\.julia\\packages\\ImageMagick\\b8swT\\src\\ImageMagick.jl:180\n",
      "\u001b[32mProgress:  47%|████████████████████                     |  ETA: 0:14:17\u001b[39m"
     ]
    },
    {
     "name": "stdout",
     "output_type": "stream",
     "text": [
      "Steps: 549, tries: 12\r"
     ]
    },
    {
     "name": "stderr",
     "output_type": "stream",
     "text": [
      "┌ Warning: Mapping to the storage type failed; perhaps your data had out-of-range values?\n",
      "│ Try `map(clamp01nan, img)` to clamp values to a valid range.\n",
      "└ @ ImageMagick C:\\Users\\Lukas\\.julia\\packages\\ImageMagick\\b8swT\\src\\ImageMagick.jl:180\n",
      "\u001b[32mProgress:  47%|████████████████████                     |  ETA: 0:14:15\u001b[39m"
     ]
    },
    {
     "name": "stdout",
     "output_type": "stream",
     "text": [
      "Steps: 549, tries: 13\r"
     ]
    },
    {
     "name": "stderr",
     "output_type": "stream",
     "text": [
      "┌ Warning: Mapping to the storage type failed; perhaps your data had out-of-range values?\n",
      "│ Try `map(clamp01nan, img)` to clamp values to a valid range.\n",
      "└ @ ImageMagick C:\\Users\\Lukas\\.julia\\packages\\ImageMagick\\b8swT\\src\\ImageMagick.jl:180\n",
      "\u001b[32mProgress:  47%|████████████████████                     |  ETA: 0:14:13\u001b[39m"
     ]
    },
    {
     "name": "stdout",
     "output_type": "stream",
     "text": [
      "Steps: 549, tries: 11\r"
     ]
    },
    {
     "name": "stderr",
     "output_type": "stream",
     "text": [
      "┌ Warning: Mapping to the storage type failed; perhaps your data had out-of-range values?\n",
      "│ Try `map(clamp01nan, img)` to clamp values to a valid range.\n",
      "└ @ ImageMagick C:\\Users\\Lukas\\.julia\\packages\\ImageMagick\\b8swT\\src\\ImageMagick.jl:180\n",
      "\u001b[32mProgress:  47%|████████████████████                     |  ETA: 0:14:12\u001b[39m"
     ]
    },
    {
     "name": "stdout",
     "output_type": "stream",
     "text": [
      "Steps: 549, tries: 28\r"
     ]
    },
    {
     "name": "stderr",
     "output_type": "stream",
     "text": [
      "┌ Warning: Mapping to the storage type failed; perhaps your data had out-of-range values?\n",
      "│ Try `map(clamp01nan, img)` to clamp values to a valid range.\n",
      "└ @ ImageMagick C:\\Users\\Lukas\\.julia\\packages\\ImageMagick\\b8swT\\src\\ImageMagick.jl:180\n",
      "\u001b[32mProgress:  48%|████████████████████                     |  ETA: 0:14:09\u001b[39m"
     ]
    },
    {
     "name": "stdout",
     "output_type": "stream",
     "text": [
      "Steps: 549, tries: 63\r"
     ]
    },
    {
     "name": "stderr",
     "output_type": "stream",
     "text": [
      "┌ Warning: Mapping to the storage type failed; perhaps your data had out-of-range values?\n",
      "│ Try `map(clamp01nan, img)` to clamp values to a valid range.\n",
      "└ @ ImageMagick C:\\Users\\Lukas\\.julia\\packages\\ImageMagick\\b8swT\\src\\ImageMagick.jl:180\n",
      "\u001b[32mProgress:  48%|████████████████████                     |  ETA: 0:14:07\u001b[39m"
     ]
    },
    {
     "name": "stdout",
     "output_type": "stream",
     "text": [
      "Steps: 549, tries: 29\r"
     ]
    },
    {
     "name": "stderr",
     "output_type": "stream",
     "text": [
      "┌ Warning: Mapping to the storage type failed; perhaps your data had out-of-range values?\n",
      "│ Try `map(clamp01nan, img)` to clamp values to a valid range.\n",
      "└ @ ImageMagick C:\\Users\\Lukas\\.julia\\packages\\ImageMagick\\b8swT\\src\\ImageMagick.jl:180\n",
      "\u001b[32mProgress:  48%|████████████████████                     |  ETA: 0:14:05\u001b[39m"
     ]
    },
    {
     "name": "stdout",
     "output_type": "stream",
     "text": [
      "Steps: 549, tries: 00\r"
     ]
    },
    {
     "name": "stderr",
     "output_type": "stream",
     "text": [
      "┌ Warning: Mapping to the storage type failed; perhaps your data had out-of-range values?\n",
      "│ Try `map(clamp01nan, img)` to clamp values to a valid range.\n",
      "└ @ ImageMagick C:\\Users\\Lukas\\.julia\\packages\\ImageMagick\\b8swT\\src\\ImageMagick.jl:180\n",
      "\u001b[32mProgress:  48%|████████████████████                     |  ETA: 0:14:03\u001b[39m"
     ]
    },
    {
     "name": "stdout",
     "output_type": "stream",
     "text": [
      "Steps: 549, tries: 20\r"
     ]
    },
    {
     "name": "stderr",
     "output_type": "stream",
     "text": [
      "┌ Warning: Mapping to the storage type failed; perhaps your data had out-of-range values?\n",
      "│ Try `map(clamp01nan, img)` to clamp values to a valid range.\n",
      "└ @ ImageMagick C:\\Users\\Lukas\\.julia\\packages\\ImageMagick\\b8swT\\src\\ImageMagick.jl:180\n",
      "\u001b[32mProgress:  48%|████████████████████                     |  ETA: 0:14:01\u001b[39m"
     ]
    },
    {
     "name": "stdout",
     "output_type": "stream",
     "text": [
      "Steps: 549, tries: 10\r"
     ]
    },
    {
     "name": "stderr",
     "output_type": "stream",
     "text": [
      "┌ Warning: Mapping to the storage type failed; perhaps your data had out-of-range values?\n",
      "│ Try `map(clamp01nan, img)` to clamp values to a valid range.\n",
      "└ @ ImageMagick C:\\Users\\Lukas\\.julia\\packages\\ImageMagick\\b8swT\\src\\ImageMagick.jl:180\n",
      "\u001b[32mProgress:  48%|████████████████████                     |  ETA: 0:14:01\u001b[39m"
     ]
    },
    {
     "name": "stdout",
     "output_type": "stream",
     "text": [
      "Steps: 549, tries: 03\r"
     ]
    },
    {
     "name": "stderr",
     "output_type": "stream",
     "text": [
      "┌ Warning: Mapping to the storage type failed; perhaps your data had out-of-range values?\n",
      "│ Try `map(clamp01nan, img)` to clamp values to a valid range.\n",
      "└ @ ImageMagick C:\\Users\\Lukas\\.julia\\packages\\ImageMagick\\b8swT\\src\\ImageMagick.jl:180\n",
      "\u001b[32mProgress:  48%|████████████████████                     |  ETA: 0:13:59\u001b[39m"
     ]
    },
    {
     "name": "stdout",
     "output_type": "stream",
     "text": [
      "Steps: 549, tries: 71\r"
     ]
    },
    {
     "name": "stderr",
     "output_type": "stream",
     "text": [
      "┌ Warning: Mapping to the storage type failed; perhaps your data had out-of-range values?\n",
      "│ Try `map(clamp01nan, img)` to clamp values to a valid range.\n",
      "└ @ ImageMagick C:\\Users\\Lukas\\.julia\\packages\\ImageMagick\\b8swT\\src\\ImageMagick.jl:180\n",
      "\u001b[32mProgress:  48%|████████████████████                     |  ETA: 0:13:57\u001b[39m"
     ]
    },
    {
     "name": "stdout",
     "output_type": "stream",
     "text": [
      "Steps: 549, tries: 37\r"
     ]
    },
    {
     "name": "stderr",
     "output_type": "stream",
     "text": [
      "┌ Warning: Mapping to the storage type failed; perhaps your data had out-of-range values?\n",
      "│ Try `map(clamp01nan, img)` to clamp values to a valid range.\n",
      "└ @ ImageMagick C:\\Users\\Lukas\\.julia\\packages\\ImageMagick\\b8swT\\src\\ImageMagick.jl:180\n",
      "\u001b[32mProgress:  48%|████████████████████                     |  ETA: 0:13:55\u001b[39m"
     ]
    },
    {
     "name": "stdout",
     "output_type": "stream",
     "text": [
      "Steps: 549, tries: 45\r"
     ]
    },
    {
     "name": "stderr",
     "output_type": "stream",
     "text": [
      "┌ Warning: Mapping to the storage type failed; perhaps your data had out-of-range values?\n",
      "│ Try `map(clamp01nan, img)` to clamp values to a valid range.\n",
      "└ @ ImageMagick C:\\Users\\Lukas\\.julia\\packages\\ImageMagick\\b8swT\\src\\ImageMagick.jl:180\n",
      "\u001b[32mProgress:  49%|████████████████████                     |  ETA: 0:13:53\u001b[39m"
     ]
    },
    {
     "name": "stdout",
     "output_type": "stream",
     "text": [
      "Steps: 549, tries: 22\r"
     ]
    },
    {
     "name": "stderr",
     "output_type": "stream",
     "text": [
      "┌ Warning: Mapping to the storage type failed; perhaps your data had out-of-range values?\n",
      "│ Try `map(clamp01nan, img)` to clamp values to a valid range.\n",
      "└ @ ImageMagick C:\\Users\\Lukas\\.julia\\packages\\ImageMagick\\b8swT\\src\\ImageMagick.jl:180\n",
      "\u001b[32mProgress:  49%|████████████████████                     |  ETA: 0:13:50\u001b[39m"
     ]
    },
    {
     "name": "stdout",
     "output_type": "stream",
     "text": [
      "Steps: 549, tries: 44\r"
     ]
    },
    {
     "name": "stderr",
     "output_type": "stream",
     "text": [
      "┌ Warning: Mapping to the storage type failed; perhaps your data had out-of-range values?\n",
      "│ Try `map(clamp01nan, img)` to clamp values to a valid range.\n",
      "└ @ ImageMagick C:\\Users\\Lukas\\.julia\\packages\\ImageMagick\\b8swT\\src\\ImageMagick.jl:180\n",
      "\u001b[32mProgress:  49%|█████████████████████                    |  ETA: 0:13:48\u001b[39m"
     ]
    },
    {
     "name": "stdout",
     "output_type": "stream",
     "text": [
      "Steps: 549, tries: 01\r"
     ]
    },
    {
     "name": "stderr",
     "output_type": "stream",
     "text": [
      "┌ Warning: Mapping to the storage type failed; perhaps your data had out-of-range values?\n",
      "│ Try `map(clamp01nan, img)` to clamp values to a valid range.\n",
      "└ @ ImageMagick C:\\Users\\Lukas\\.julia\\packages\\ImageMagick\\b8swT\\src\\ImageMagick.jl:180\n",
      "\u001b[32mProgress:  49%|█████████████████████                    |  ETA: 0:13:46\u001b[39m"
     ]
    },
    {
     "name": "stdout",
     "output_type": "stream",
     "text": [
      "Steps: 549, tries: 96\r"
     ]
    },
    {
     "name": "stderr",
     "output_type": "stream",
     "text": [
      "┌ Warning: Mapping to the storage type failed; perhaps your data had out-of-range values?\n",
      "│ Try `map(clamp01nan, img)` to clamp values to a valid range.\n",
      "└ @ ImageMagick C:\\Users\\Lukas\\.julia\\packages\\ImageMagick\\b8swT\\src\\ImageMagick.jl:180\n",
      "\u001b[32mProgress:  49%|█████████████████████                    |  ETA: 0:13:44\u001b[39m"
     ]
    },
    {
     "name": "stdout",
     "output_type": "stream",
     "text": [
      "Steps: 549, tries: 29\r"
     ]
    },
    {
     "name": "stderr",
     "output_type": "stream",
     "text": [
      "┌ Warning: Mapping to the storage type failed; perhaps your data had out-of-range values?\n",
      "│ Try `map(clamp01nan, img)` to clamp values to a valid range.\n",
      "└ @ ImageMagick C:\\Users\\Lukas\\.julia\\packages\\ImageMagick\\b8swT\\src\\ImageMagick.jl:180\n",
      "\u001b[32mProgress:  49%|█████████████████████                    |  ETA: 0:13:42\u001b[39m"
     ]
    },
    {
     "name": "stdout",
     "output_type": "stream",
     "text": [
      "Steps: 549, tries: 45\r"
     ]
    },
    {
     "name": "stderr",
     "output_type": "stream",
     "text": [
      "┌ Warning: Mapping to the storage type failed; perhaps your data had out-of-range values?\n",
      "│ Try `map(clamp01nan, img)` to clamp values to a valid range.\n",
      "└ @ ImageMagick C:\\Users\\Lukas\\.julia\\packages\\ImageMagick\\b8swT\\src\\ImageMagick.jl:180\n",
      "\u001b[32mProgress:  49%|█████████████████████                    |  ETA: 0:13:40\u001b[39m"
     ]
    },
    {
     "name": "stdout",
     "output_type": "stream",
     "text": [
      "Steps: 549, tries: 25\r"
     ]
    },
    {
     "name": "stderr",
     "output_type": "stream",
     "text": [
      "┌ Warning: Mapping to the storage type failed; perhaps your data had out-of-range values?\n",
      "│ Try `map(clamp01nan, img)` to clamp values to a valid range.\n",
      "└ @ ImageMagick C:\\Users\\Lukas\\.julia\\packages\\ImageMagick\\b8swT\\src\\ImageMagick.jl:180\n",
      "\u001b[32mProgress:  50%|█████████████████████                    |  ETA: 0:13:38\u001b[39m"
     ]
    },
    {
     "name": "stdout",
     "output_type": "stream",
     "text": [
      "Steps: 549, tries: 10\r"
     ]
    },
    {
     "name": "stderr",
     "output_type": "stream",
     "text": [
      "┌ Warning: Mapping to the storage type failed; perhaps your data had out-of-range values?\n",
      "│ Try `map(clamp01nan, img)` to clamp values to a valid range.\n",
      "└ @ ImageMagick C:\\Users\\Lukas\\.julia\\packages\\ImageMagick\\b8swT\\src\\ImageMagick.jl:180\n",
      "\u001b[32mProgress:  50%|█████████████████████                    |  ETA: 0:13:36\u001b[39m"
     ]
    },
    {
     "name": "stdout",
     "output_type": "stream",
     "text": [
      "Steps: 549, tries: 23\r"
     ]
    },
    {
     "name": "stderr",
     "output_type": "stream",
     "text": [
      "┌ Warning: Mapping to the storage type failed; perhaps your data had out-of-range values?\n",
      "│ Try `map(clamp01nan, img)` to clamp values to a valid range.\n",
      "└ @ ImageMagick C:\\Users\\Lukas\\.julia\\packages\\ImageMagick\\b8swT\\src\\ImageMagick.jl:180\n",
      "\u001b[32mProgress:  50%|█████████████████████                    |  ETA: 0:13:34\u001b[39m"
     ]
    },
    {
     "name": "stdout",
     "output_type": "stream",
     "text": [
      "Steps: 549, tries: 10\r"
     ]
    },
    {
     "name": "stderr",
     "output_type": "stream",
     "text": [
      "┌ Warning: Mapping to the storage type failed; perhaps your data had out-of-range values?\n",
      "│ Try `map(clamp01nan, img)` to clamp values to a valid range.\n",
      "└ @ ImageMagick C:\\Users\\Lukas\\.julia\\packages\\ImageMagick\\b8swT\\src\\ImageMagick.jl:180\n",
      "\u001b[32mProgress:  50%|█████████████████████                    |  ETA: 0:13:32\u001b[39m"
     ]
    },
    {
     "name": "stdout",
     "output_type": "stream",
     "text": [
      "Steps: 549, tries: 64\r"
     ]
    },
    {
     "name": "stderr",
     "output_type": "stream",
     "text": [
      "┌ Warning: Mapping to the storage type failed; perhaps your data had out-of-range values?\n",
      "│ Try `map(clamp01nan, img)` to clamp values to a valid range.\n",
      "└ @ ImageMagick C:\\Users\\Lukas\\.julia\\packages\\ImageMagick\\b8swT\\src\\ImageMagick.jl:180\n",
      "\u001b[32mProgress:  50%|█████████████████████                    |  ETA: 0:13:30\u001b[39m"
     ]
    },
    {
     "name": "stdout",
     "output_type": "stream",
     "text": [
      "Steps: 549, tries: 11\r"
     ]
    },
    {
     "name": "stderr",
     "output_type": "stream",
     "text": [
      "┌ Warning: Mapping to the storage type failed; perhaps your data had out-of-range values?\n",
      "│ Try `map(clamp01nan, img)` to clamp values to a valid range.\n",
      "└ @ ImageMagick C:\\Users\\Lukas\\.julia\\packages\\ImageMagick\\b8swT\\src\\ImageMagick.jl:180\n",
      "\u001b[32mProgress:  50%|█████████████████████                    |  ETA: 0:13:28\u001b[39m"
     ]
    },
    {
     "name": "stdout",
     "output_type": "stream",
     "text": [
      "Steps: 549, tries: 12\r"
     ]
    },
    {
     "name": "stderr",
     "output_type": "stream",
     "text": [
      "┌ Warning: Mapping to the storage type failed; perhaps your data had out-of-range values?\n",
      "│ Try `map(clamp01nan, img)` to clamp values to a valid range.\n",
      "└ @ ImageMagick C:\\Users\\Lukas\\.julia\\packages\\ImageMagick\\b8swT\\src\\ImageMagick.jl:180\n",
      "\u001b[32mProgress:  50%|█████████████████████                    |  ETA: 0:13:26\u001b[39m"
     ]
    },
    {
     "name": "stdout",
     "output_type": "stream",
     "text": [
      "Steps: 549, tries: 86\r"
     ]
    },
    {
     "name": "stderr",
     "output_type": "stream",
     "text": [
      "┌ Warning: Mapping to the storage type failed; perhaps your data had out-of-range values?\n",
      "│ Try `map(clamp01nan, img)` to clamp values to a valid range.\n",
      "└ @ ImageMagick C:\\Users\\Lukas\\.julia\\packages\\ImageMagick\\b8swT\\src\\ImageMagick.jl:180\n",
      "\u001b[32mProgress:  50%|█████████████████████                    |  ETA: 0:13:24\u001b[39m"
     ]
    },
    {
     "name": "stdout",
     "output_type": "stream",
     "text": [
      "Steps: 549, tries: 00\r"
     ]
    },
    {
     "name": "stderr",
     "output_type": "stream",
     "text": [
      "┌ Warning: Mapping to the storage type failed; perhaps your data had out-of-range values?\n",
      "│ Try `map(clamp01nan, img)` to clamp values to a valid range.\n",
      "└ @ ImageMagick C:\\Users\\Lukas\\.julia\\packages\\ImageMagick\\b8swT\\src\\ImageMagick.jl:180\n",
      "\u001b[32mProgress:  50%|█████████████████████                    |  ETA: 0:13:22\u001b[39m"
     ]
    },
    {
     "name": "stdout",
     "output_type": "stream",
     "text": [
      "Steps: 549, tries: 28\r"
     ]
    },
    {
     "name": "stderr",
     "output_type": "stream",
     "text": [
      "┌ Warning: Mapping to the storage type failed; perhaps your data had out-of-range values?\n",
      "│ Try `map(clamp01nan, img)` to clamp values to a valid range.\n",
      "└ @ ImageMagick C:\\Users\\Lukas\\.julia\\packages\\ImageMagick\\b8swT\\src\\ImageMagick.jl:180\n",
      "\u001b[32mProgress:  51%|█████████████████████                    |  ETA: 0:13:20\u001b[39m"
     ]
    },
    {
     "name": "stdout",
     "output_type": "stream",
     "text": [
      "Steps: 549, tries: 21\r"
     ]
    },
    {
     "name": "stderr",
     "output_type": "stream",
     "text": [
      "┌ Warning: Mapping to the storage type failed; perhaps your data had out-of-range values?\n",
      "│ Try `map(clamp01nan, img)` to clamp values to a valid range.\n",
      "└ @ ImageMagick C:\\Users\\Lukas\\.julia\\packages\\ImageMagick\\b8swT\\src\\ImageMagick.jl:180\n",
      "\u001b[32mProgress:  51%|█████████████████████                    |  ETA: 0:13:18\u001b[39m"
     ]
    },
    {
     "name": "stdout",
     "output_type": "stream",
     "text": [
      "Steps: 549, tries: 17\r"
     ]
    },
    {
     "name": "stderr",
     "output_type": "stream",
     "text": [
      "┌ Warning: Mapping to the storage type failed; perhaps your data had out-of-range values?\n",
      "│ Try `map(clamp01nan, img)` to clamp values to a valid range.\n",
      "└ @ ImageMagick C:\\Users\\Lukas\\.julia\\packages\\ImageMagick\\b8swT\\src\\ImageMagick.jl:180\n",
      "\u001b[32mProgress:  51%|█████████████████████                    |  ETA: 0:13:16\u001b[39m"
     ]
    },
    {
     "name": "stdout",
     "output_type": "stream",
     "text": [
      "Steps: 549, tries: 62\r"
     ]
    },
    {
     "name": "stderr",
     "output_type": "stream",
     "text": [
      "┌ Warning: Mapping to the storage type failed; perhaps your data had out-of-range values?\n",
      "│ Try `map(clamp01nan, img)` to clamp values to a valid range.\n",
      "└ @ ImageMagick C:\\Users\\Lukas\\.julia\\packages\\ImageMagick\\b8swT\\src\\ImageMagick.jl:180\n",
      "\u001b[32mProgress:  51%|█████████████████████                    |  ETA: 0:13:14\u001b[39m"
     ]
    },
    {
     "name": "stdout",
     "output_type": "stream",
     "text": [
      "Steps: 549, tries: 10\r"
     ]
    },
    {
     "name": "stderr",
     "output_type": "stream",
     "text": [
      "┌ Warning: Mapping to the storage type failed; perhaps your data had out-of-range values?\n",
      "│ Try `map(clamp01nan, img)` to clamp values to a valid range.\n",
      "└ @ ImageMagick C:\\Users\\Lukas\\.julia\\packages\\ImageMagick\\b8swT\\src\\ImageMagick.jl:180\n",
      "\u001b[32mProgress:  51%|█████████████████████                    |  ETA: 0:13:12\u001b[39m"
     ]
    },
    {
     "name": "stdout",
     "output_type": "stream",
     "text": [
      "Steps: 549, tries: 22\r"
     ]
    },
    {
     "name": "stderr",
     "output_type": "stream",
     "text": [
      "┌ Warning: Mapping to the storage type failed; perhaps your data had out-of-range values?\n",
      "│ Try `map(clamp01nan, img)` to clamp values to a valid range.\n",
      "└ @ ImageMagick C:\\Users\\Lukas\\.julia\\packages\\ImageMagick\\b8swT\\src\\ImageMagick.jl:180\n",
      "\u001b[32mProgress:  51%|██████████████████████                   |  ETA: 0:13:09\u001b[39m"
     ]
    },
    {
     "name": "stdout",
     "output_type": "stream",
     "text": [
      "Steps: 549, tries: 03\r"
     ]
    },
    {
     "name": "stderr",
     "output_type": "stream",
     "text": [
      "┌ Warning: Mapping to the storage type failed; perhaps your data had out-of-range values?\n",
      "│ Try `map(clamp01nan, img)` to clamp values to a valid range.\n",
      "└ @ ImageMagick C:\\Users\\Lukas\\.julia\\packages\\ImageMagick\\b8swT\\src\\ImageMagick.jl:180\n",
      "\u001b[32mProgress:  51%|██████████████████████                   |  ETA: 0:13:07\u001b[39m"
     ]
    },
    {
     "name": "stdout",
     "output_type": "stream",
     "text": [
      "Steps: 549, tries: 40\r"
     ]
    },
    {
     "name": "stderr",
     "output_type": "stream",
     "text": [
      "┌ Warning: Mapping to the storage type failed; perhaps your data had out-of-range values?\n",
      "│ Try `map(clamp01nan, img)` to clamp values to a valid range.\n",
      "└ @ ImageMagick C:\\Users\\Lukas\\.julia\\packages\\ImageMagick\\b8swT\\src\\ImageMagick.jl:180\n",
      "\u001b[32mProgress:  52%|██████████████████████                   |  ETA: 0:13:05\u001b[39m"
     ]
    },
    {
     "name": "stdout",
     "output_type": "stream",
     "text": [
      "Steps: 549, tries: 12\r"
     ]
    },
    {
     "name": "stderr",
     "output_type": "stream",
     "text": [
      "┌ Warning: Mapping to the storage type failed; perhaps your data had out-of-range values?\n",
      "│ Try `map(clamp01nan, img)` to clamp values to a valid range.\n",
      "└ @ ImageMagick C:\\Users\\Lukas\\.julia\\packages\\ImageMagick\\b8swT\\src\\ImageMagick.jl:180\n",
      "\u001b[32mProgress:  52%|██████████████████████                   |  ETA: 0:13:04\u001b[39m"
     ]
    },
    {
     "name": "stdout",
     "output_type": "stream",
     "text": [
      "Steps: 549, tries: 16\r"
     ]
    },
    {
     "name": "stderr",
     "output_type": "stream",
     "text": [
      "┌ Warning: Mapping to the storage type failed; perhaps your data had out-of-range values?\n",
      "│ Try `map(clamp01nan, img)` to clamp values to a valid range.\n",
      "└ @ ImageMagick C:\\Users\\Lukas\\.julia\\packages\\ImageMagick\\b8swT\\src\\ImageMagick.jl:180\n",
      "\u001b[32mProgress:  52%|██████████████████████                   |  ETA: 0:13:02\u001b[39m"
     ]
    },
    {
     "name": "stdout",
     "output_type": "stream",
     "text": [
      "Steps: 549, tries: 10\r"
     ]
    },
    {
     "name": "stderr",
     "output_type": "stream",
     "text": [
      "┌ Warning: Mapping to the storage type failed; perhaps your data had out-of-range values?\n",
      "│ Try `map(clamp01nan, img)` to clamp values to a valid range.\n",
      "└ @ ImageMagick C:\\Users\\Lukas\\.julia\\packages\\ImageMagick\\b8swT\\src\\ImageMagick.jl:180\n",
      "\u001b[32mProgress:  52%|██████████████████████                   |  ETA: 0:13:00\u001b[39m"
     ]
    },
    {
     "name": "stdout",
     "output_type": "stream",
     "text": [
      "Steps: 549, tries: 51\r"
     ]
    },
    {
     "name": "stderr",
     "output_type": "stream",
     "text": [
      "┌ Warning: Mapping to the storage type failed; perhaps your data had out-of-range values?\n",
      "│ Try `map(clamp01nan, img)` to clamp values to a valid range.\n",
      "└ @ ImageMagick C:\\Users\\Lukas\\.julia\\packages\\ImageMagick\\b8swT\\src\\ImageMagick.jl:180\n",
      "\u001b[32mProgress:  52%|██████████████████████                   |  ETA: 0:12:58\u001b[39m"
     ]
    },
    {
     "name": "stdout",
     "output_type": "stream",
     "text": [
      "Steps: 549, tries: 11\r"
     ]
    },
    {
     "name": "stderr",
     "output_type": "stream",
     "text": [
      "┌ Warning: Mapping to the storage type failed; perhaps your data had out-of-range values?\n",
      "│ Try `map(clamp01nan, img)` to clamp values to a valid range.\n",
      "└ @ ImageMagick C:\\Users\\Lukas\\.julia\\packages\\ImageMagick\\b8swT\\src\\ImageMagick.jl:180\n",
      "\u001b[32mProgress:  52%|██████████████████████                   |  ETA: 0:12:56\u001b[39m"
     ]
    },
    {
     "name": "stdout",
     "output_type": "stream",
     "text": [
      "Steps: 549, tries: 60\r"
     ]
    },
    {
     "name": "stderr",
     "output_type": "stream",
     "text": [
      "┌ Warning: Mapping to the storage type failed; perhaps your data had out-of-range values?\n",
      "│ Try `map(clamp01nan, img)` to clamp values to a valid range.\n",
      "└ @ ImageMagick C:\\Users\\Lukas\\.julia\\packages\\ImageMagick\\b8swT\\src\\ImageMagick.jl:180\n",
      "\u001b[32mProgress:  52%|██████████████████████                   |  ETA: 0:12:54\u001b[39m"
     ]
    },
    {
     "name": "stdout",
     "output_type": "stream",
     "text": [
      "Steps: 549, tries: 32\r"
     ]
    },
    {
     "name": "stderr",
     "output_type": "stream",
     "text": [
      "┌ Warning: Mapping to the storage type failed; perhaps your data had out-of-range values?\n",
      "│ Try `map(clamp01nan, img)` to clamp values to a valid range.\n",
      "└ @ ImageMagick C:\\Users\\Lukas\\.julia\\packages\\ImageMagick\\b8swT\\src\\ImageMagick.jl:180\n",
      "\u001b[32mProgress:  52%|██████████████████████                   |  ETA: 0:12:52\u001b[39m"
     ]
    },
    {
     "name": "stdout",
     "output_type": "stream",
     "text": [
      "Steps: 549, tries: 70\r"
     ]
    },
    {
     "name": "stderr",
     "output_type": "stream",
     "text": [
      "┌ Warning: Mapping to the storage type failed; perhaps your data had out-of-range values?\n",
      "│ Try `map(clamp01nan, img)` to clamp values to a valid range.\n",
      "└ @ ImageMagick C:\\Users\\Lukas\\.julia\\packages\\ImageMagick\\b8swT\\src\\ImageMagick.jl:180\n",
      "\u001b[32mProgress:  52%|██████████████████████                   |  ETA: 0:12:50\u001b[39m"
     ]
    },
    {
     "name": "stdout",
     "output_type": "stream",
     "text": [
      "Steps: 549, tries: 17\r"
     ]
    },
    {
     "name": "stderr",
     "output_type": "stream",
     "text": [
      "┌ Warning: Mapping to the storage type failed; perhaps your data had out-of-range values?\n",
      "│ Try `map(clamp01nan, img)` to clamp values to a valid range.\n",
      "└ @ ImageMagick C:\\Users\\Lukas\\.julia\\packages\\ImageMagick\\b8swT\\src\\ImageMagick.jl:180\n",
      "\u001b[32mProgress:  53%|██████████████████████                   |  ETA: 0:12:48\u001b[39m"
     ]
    },
    {
     "name": "stdout",
     "output_type": "stream",
     "text": [
      "Steps: 549, tries: 36\r"
     ]
    },
    {
     "name": "stderr",
     "output_type": "stream",
     "text": [
      "┌ Warning: Mapping to the storage type failed; perhaps your data had out-of-range values?\n",
      "│ Try `map(clamp01nan, img)` to clamp values to a valid range.\n",
      "└ @ ImageMagick C:\\Users\\Lukas\\.julia\\packages\\ImageMagick\\b8swT\\src\\ImageMagick.jl:180\n",
      "\u001b[32mProgress:  53%|██████████████████████                   |  ETA: 0:12:46\u001b[39m"
     ]
    },
    {
     "name": "stdout",
     "output_type": "stream",
     "text": [
      "Steps: 549, tries: 08\r"
     ]
    },
    {
     "name": "stderr",
     "output_type": "stream",
     "text": [
      "┌ Warning: Mapping to the storage type failed; perhaps your data had out-of-range values?\n",
      "│ Try `map(clamp01nan, img)` to clamp values to a valid range.\n",
      "└ @ ImageMagick C:\\Users\\Lukas\\.julia\\packages\\ImageMagick\\b8swT\\src\\ImageMagick.jl:180\n",
      "\u001b[32mProgress:  53%|██████████████████████                   |  ETA: 0:12:43\u001b[39m"
     ]
    },
    {
     "name": "stdout",
     "output_type": "stream",
     "text": [
      "Steps: 549, tries: 25\r"
     ]
    },
    {
     "name": "stderr",
     "output_type": "stream",
     "text": [
      "┌ Warning: Mapping to the storage type failed; perhaps your data had out-of-range values?\n",
      "│ Try `map(clamp01nan, img)` to clamp values to a valid range.\n",
      "└ @ ImageMagick C:\\Users\\Lukas\\.julia\\packages\\ImageMagick\\b8swT\\src\\ImageMagick.jl:180\n",
      "\u001b[32mProgress:  53%|██████████████████████                   |  ETA: 0:12:42\u001b[39m"
     ]
    },
    {
     "name": "stdout",
     "output_type": "stream",
     "text": [
      "Steps: 549, tries: 39\r"
     ]
    },
    {
     "name": "stderr",
     "output_type": "stream",
     "text": [
      "┌ Warning: Mapping to the storage type failed; perhaps your data had out-of-range values?\n",
      "│ Try `map(clamp01nan, img)` to clamp values to a valid range.\n",
      "└ @ ImageMagick C:\\Users\\Lukas\\.julia\\packages\\ImageMagick\\b8swT\\src\\ImageMagick.jl:180\n",
      "\r"
     ]
    },
    {
     "name": "stdout",
     "output_type": "stream",
     "text": [
      "Steps: 145, tries: 06\r"
     ]
    },
    {
     "name": "stderr",
     "output_type": "stream",
     "text": [
      "\u001b[32mProgress:  53%|██████████████████████                   |  ETA: 0:12:40\u001b[39m"
     ]
    },
    {
     "name": "stdout",
     "output_type": "stream",
     "text": [
      "Steps: 549, tries: 51\r"
     ]
    },
    {
     "name": "stderr",
     "output_type": "stream",
     "text": [
      "┌ Warning: Mapping to the storage type failed; perhaps your data had out-of-range values?\n",
      "│ Try `map(clamp01nan, img)` to clamp values to a valid range.\n",
      "└ @ ImageMagick C:\\Users\\Lukas\\.julia\\packages\\ImageMagick\\b8swT\\src\\ImageMagick.jl:180\n",
      "\u001b[32mProgress:  53%|██████████████████████                   |  ETA: 0:12:38\u001b[39m"
     ]
    },
    {
     "name": "stdout",
     "output_type": "stream",
     "text": [
      "Steps: 549, tries: 08\r"
     ]
    },
    {
     "name": "stderr",
     "output_type": "stream",
     "text": [
      "┌ Warning: Mapping to the storage type failed; perhaps your data had out-of-range values?\n",
      "│ Try `map(clamp01nan, img)` to clamp values to a valid range.\n",
      "└ @ ImageMagick C:\\Users\\Lukas\\.julia\\packages\\ImageMagick\\b8swT\\src\\ImageMagick.jl:180\n",
      "\u001b[32mProgress:  53%|██████████████████████                   |  ETA: 0:12:36\u001b[39m"
     ]
    },
    {
     "name": "stdout",
     "output_type": "stream",
     "text": [
      "Steps: 549, tries: 03\r"
     ]
    },
    {
     "name": "stderr",
     "output_type": "stream",
     "text": [
      "┌ Warning: Mapping to the storage type failed; perhaps your data had out-of-range values?\n",
      "│ Try `map(clamp01nan, img)` to clamp values to a valid range.\n",
      "└ @ ImageMagick C:\\Users\\Lukas\\.julia\\packages\\ImageMagick\\b8swT\\src\\ImageMagick.jl:180\n",
      "\u001b[32mProgress:  54%|██████████████████████                   |  ETA: 0:12:34\u001b[39m"
     ]
    },
    {
     "name": "stdout",
     "output_type": "stream",
     "text": [
      "Steps: 549, tries: 28\r"
     ]
    },
    {
     "name": "stderr",
     "output_type": "stream",
     "text": [
      "┌ Warning: Mapping to the storage type failed; perhaps your data had out-of-range values?\n",
      "│ Try `map(clamp01nan, img)` to clamp values to a valid range.\n",
      "└ @ ImageMagick C:\\Users\\Lukas\\.julia\\packages\\ImageMagick\\b8swT\\src\\ImageMagick.jl:180\n",
      "\u001b[32mProgress:  54%|██████████████████████                   |  ETA: 0:12:31\u001b[39m"
     ]
    },
    {
     "name": "stdout",
     "output_type": "stream",
     "text": [
      "Steps: 549, tries: 20\r"
     ]
    },
    {
     "name": "stderr",
     "output_type": "stream",
     "text": [
      "┌ Warning: Mapping to the storage type failed; perhaps your data had out-of-range values?\n",
      "│ Try `map(clamp01nan, img)` to clamp values to a valid range.\n",
      "└ @ ImageMagick C:\\Users\\Lukas\\.julia\\packages\\ImageMagick\\b8swT\\src\\ImageMagick.jl:180\n",
      "\u001b[32mProgress:  54%|███████████████████████                  |  ETA: 0:12:29\u001b[39m"
     ]
    },
    {
     "name": "stdout",
     "output_type": "stream",
     "text": [
      "Steps: 549, tries: 08\r"
     ]
    },
    {
     "name": "stderr",
     "output_type": "stream",
     "text": [
      "┌ Warning: Mapping to the storage type failed; perhaps your data had out-of-range values?\n",
      "│ Try `map(clamp01nan, img)` to clamp values to a valid range.\n",
      "└ @ ImageMagick C:\\Users\\Lukas\\.julia\\packages\\ImageMagick\\b8swT\\src\\ImageMagick.jl:180\n",
      "\u001b[32mProgress:  54%|███████████████████████                  |  ETA: 0:12:27\u001b[39m"
     ]
    },
    {
     "name": "stdout",
     "output_type": "stream",
     "text": [
      "Steps: 549, tries: 01\r"
     ]
    },
    {
     "name": "stderr",
     "output_type": "stream",
     "text": [
      "┌ Warning: Mapping to the storage type failed; perhaps your data had out-of-range values?\n",
      "│ Try `map(clamp01nan, img)` to clamp values to a valid range.\n",
      "└ @ ImageMagick C:\\Users\\Lukas\\.julia\\packages\\ImageMagick\\b8swT\\src\\ImageMagick.jl:180\n",
      "\u001b[32mProgress:  54%|███████████████████████                  |  ETA: 0:12:25\u001b[39m"
     ]
    },
    {
     "name": "stdout",
     "output_type": "stream",
     "text": [
      "Steps: 549, tries: 78\r"
     ]
    },
    {
     "name": "stderr",
     "output_type": "stream",
     "text": [
      "┌ Warning: Mapping to the storage type failed; perhaps your data had out-of-range values?\n",
      "│ Try `map(clamp01nan, img)` to clamp values to a valid range.\n",
      "└ @ ImageMagick C:\\Users\\Lukas\\.julia\\packages\\ImageMagick\\b8swT\\src\\ImageMagick.jl:180\n",
      "\u001b[32mProgress:  54%|███████████████████████                  |  ETA: 0:12:23\u001b[39m"
     ]
    },
    {
     "name": "stdout",
     "output_type": "stream",
     "text": [
      "Steps: 549, tries: 79\r"
     ]
    },
    {
     "name": "stderr",
     "output_type": "stream",
     "text": [
      "┌ Warning: Mapping to the storage type failed; perhaps your data had out-of-range values?\n",
      "│ Try `map(clamp01nan, img)` to clamp values to a valid range.\n",
      "└ @ ImageMagick C:\\Users\\Lukas\\.julia\\packages\\ImageMagick\\b8swT\\src\\ImageMagick.jl:180\n",
      "\u001b[32mProgress:  54%|███████████████████████                  |  ETA: 0:12:21\u001b[39m"
     ]
    },
    {
     "name": "stdout",
     "output_type": "stream",
     "text": [
      "Steps: 549, tries: 47\r"
     ]
    },
    {
     "name": "stderr",
     "output_type": "stream",
     "text": [
      "┌ Warning: Mapping to the storage type failed; perhaps your data had out-of-range values?\n",
      "│ Try `map(clamp01nan, img)` to clamp values to a valid range.\n",
      "└ @ ImageMagick C:\\Users\\Lukas\\.julia\\packages\\ImageMagick\\b8swT\\src\\ImageMagick.jl:180\n",
      "\u001b[32mProgress:  54%|███████████████████████                  |  ETA: 0:12:19\u001b[39m"
     ]
    },
    {
     "name": "stdout",
     "output_type": "stream",
     "text": [
      "Steps: 549, tries: 56\r"
     ]
    },
    {
     "name": "stderr",
     "output_type": "stream",
     "text": [
      "┌ Warning: Mapping to the storage type failed; perhaps your data had out-of-range values?\n",
      "│ Try `map(clamp01nan, img)` to clamp values to a valid range.\n",
      "└ @ ImageMagick C:\\Users\\Lukas\\.julia\\packages\\ImageMagick\\b8swT\\src\\ImageMagick.jl:180\n",
      "\u001b[32mProgress:  54%|███████████████████████                  |  ETA: 0:12:17\u001b[39m"
     ]
    },
    {
     "name": "stdout",
     "output_type": "stream",
     "text": [
      "Steps: 549, tries: 14\r"
     ]
    },
    {
     "name": "stderr",
     "output_type": "stream",
     "text": [
      "┌ Warning: Mapping to the storage type failed; perhaps your data had out-of-range values?\n",
      "│ Try `map(clamp01nan, img)` to clamp values to a valid range.\n",
      "└ @ ImageMagick C:\\Users\\Lukas\\.julia\\packages\\ImageMagick\\b8swT\\src\\ImageMagick.jl:180\n",
      "\u001b[32mProgress:  55%|███████████████████████                  |  ETA: 0:12:15\u001b[39m"
     ]
    },
    {
     "name": "stdout",
     "output_type": "stream",
     "text": [
      "Steps: 549, tries: 25\r"
     ]
    },
    {
     "name": "stderr",
     "output_type": "stream",
     "text": [
      "┌ Warning: Mapping to the storage type failed; perhaps your data had out-of-range values?\n",
      "│ Try `map(clamp01nan, img)` to clamp values to a valid range.\n",
      "└ @ ImageMagick C:\\Users\\Lukas\\.julia\\packages\\ImageMagick\\b8swT\\src\\ImageMagick.jl:180\n",
      "\u001b[32mProgress:  55%|███████████████████████                  |  ETA: 0:12:14\u001b[39m"
     ]
    },
    {
     "name": "stdout",
     "output_type": "stream",
     "text": [
      "Steps: 549, tries: 37\r"
     ]
    },
    {
     "name": "stderr",
     "output_type": "stream",
     "text": [
      "┌ Warning: Mapping to the storage type failed; perhaps your data had out-of-range values?\n",
      "│ Try `map(clamp01nan, img)` to clamp values to a valid range.\n",
      "└ @ ImageMagick C:\\Users\\Lukas\\.julia\\packages\\ImageMagick\\b8swT\\src\\ImageMagick.jl:180\n",
      "\u001b[32mProgress:  55%|███████████████████████                  |  ETA: 0:12:12\u001b[39m"
     ]
    },
    {
     "name": "stdout",
     "output_type": "stream",
     "text": [
      "Steps: 549, tries: 12\r"
     ]
    },
    {
     "name": "stderr",
     "output_type": "stream",
     "text": [
      "┌ Warning: Mapping to the storage type failed; perhaps your data had out-of-range values?\n",
      "│ Try `map(clamp01nan, img)` to clamp values to a valid range.\n",
      "└ @ ImageMagick C:\\Users\\Lukas\\.julia\\packages\\ImageMagick\\b8swT\\src\\ImageMagick.jl:180\n",
      "\u001b[32mProgress:  55%|███████████████████████                  |  ETA: 0:12:09\u001b[39m"
     ]
    },
    {
     "name": "stdout",
     "output_type": "stream",
     "text": [
      "Steps: 549, tries: 43\r"
     ]
    },
    {
     "name": "stderr",
     "output_type": "stream",
     "text": [
      "┌ Warning: Mapping to the storage type failed; perhaps your data had out-of-range values?\n",
      "│ Try `map(clamp01nan, img)` to clamp values to a valid range.\n",
      "└ @ ImageMagick C:\\Users\\Lukas\\.julia\\packages\\ImageMagick\\b8swT\\src\\ImageMagick.jl:180\n",
      "\u001b[32mProgress:  55%|███████████████████████                  |  ETA: 0:12:07\u001b[39m"
     ]
    },
    {
     "name": "stdout",
     "output_type": "stream",
     "text": [
      "Steps: 549, tries: 23\r"
     ]
    },
    {
     "name": "stderr",
     "output_type": "stream",
     "text": [
      "┌ Warning: Mapping to the storage type failed; perhaps your data had out-of-range values?\n",
      "│ Try `map(clamp01nan, img)` to clamp values to a valid range.\n",
      "└ @ ImageMagick C:\\Users\\Lukas\\.julia\\packages\\ImageMagick\\b8swT\\src\\ImageMagick.jl:180\n",
      "\u001b[32mProgress:  55%|███████████████████████                  |  ETA: 0:12:05\u001b[39m"
     ]
    },
    {
     "name": "stdout",
     "output_type": "stream",
     "text": [
      "Steps: 549, tries: 13\r"
     ]
    },
    {
     "name": "stderr",
     "output_type": "stream",
     "text": [
      "┌ Warning: Mapping to the storage type failed; perhaps your data had out-of-range values?\n",
      "│ Try `map(clamp01nan, img)` to clamp values to a valid range.\n",
      "└ @ ImageMagick C:\\Users\\Lukas\\.julia\\packages\\ImageMagick\\b8swT\\src\\ImageMagick.jl:180\n",
      "\u001b[32mProgress:  55%|███████████████████████                  |  ETA: 0:12:03\u001b[39m"
     ]
    },
    {
     "name": "stdout",
     "output_type": "stream",
     "text": [
      "Steps: 549, tries: 21\r"
     ]
    },
    {
     "name": "stderr",
     "output_type": "stream",
     "text": [
      "┌ Warning: Mapping to the storage type failed; perhaps your data had out-of-range values?\n",
      "│ Try `map(clamp01nan, img)` to clamp values to a valid range.\n",
      "└ @ ImageMagick C:\\Users\\Lukas\\.julia\\packages\\ImageMagick\\b8swT\\src\\ImageMagick.jl:180\n",
      "\u001b[32mProgress:  56%|███████████████████████                  |  ETA: 0:12:01\u001b[39m"
     ]
    },
    {
     "name": "stdout",
     "output_type": "stream",
     "text": [
      "Steps: 549, tries: 30\r"
     ]
    },
    {
     "name": "stderr",
     "output_type": "stream",
     "text": [
      "┌ Warning: Mapping to the storage type failed; perhaps your data had out-of-range values?\n",
      "│ Try `map(clamp01nan, img)` to clamp values to a valid range.\n",
      "└ @ ImageMagick C:\\Users\\Lukas\\.julia\\packages\\ImageMagick\\b8swT\\src\\ImageMagick.jl:180\n",
      "\u001b[32mProgress:  56%|███████████████████████                  |  ETA: 0:11:59\u001b[39m"
     ]
    },
    {
     "name": "stdout",
     "output_type": "stream",
     "text": [
      "Steps: 549, tries: 16\r"
     ]
    },
    {
     "name": "stderr",
     "output_type": "stream",
     "text": [
      "┌ Warning: Mapping to the storage type failed; perhaps your data had out-of-range values?\n",
      "│ Try `map(clamp01nan, img)` to clamp values to a valid range.\n",
      "└ @ ImageMagick C:\\Users\\Lukas\\.julia\\packages\\ImageMagick\\b8swT\\src\\ImageMagick.jl:180\n",
      "\u001b[32mProgress:  56%|███████████████████████                  |  ETA: 0:11:57\u001b[39m"
     ]
    },
    {
     "name": "stdout",
     "output_type": "stream",
     "text": [
      "Steps: 549, tries: 60\r"
     ]
    },
    {
     "name": "stderr",
     "output_type": "stream",
     "text": [
      "┌ Warning: Mapping to the storage type failed; perhaps your data had out-of-range values?\n",
      "│ Try `map(clamp01nan, img)` to clamp values to a valid range.\n",
      "└ @ ImageMagick C:\\Users\\Lukas\\.julia\\packages\\ImageMagick\\b8swT\\src\\ImageMagick.jl:180\n",
      "\u001b[32mProgress:  56%|███████████████████████                  |  ETA: 0:11:55\u001b[39m"
     ]
    },
    {
     "name": "stdout",
     "output_type": "stream",
     "text": [
      "Steps: 549, tries: 10\r"
     ]
    },
    {
     "name": "stderr",
     "output_type": "stream",
     "text": [
      "┌ Warning: Mapping to the storage type failed; perhaps your data had out-of-range values?\n",
      "│ Try `map(clamp01nan, img)` to clamp values to a valid range.\n",
      "└ @ ImageMagick C:\\Users\\Lukas\\.julia\\packages\\ImageMagick\\b8swT\\src\\ImageMagick.jl:180\n",
      "\u001b[32mProgress:  56%|███████████████████████                  |  ETA: 0:11:53\u001b[39m"
     ]
    },
    {
     "name": "stdout",
     "output_type": "stream",
     "text": [
      "Steps: 549, tries: 02\r"
     ]
    },
    {
     "name": "stderr",
     "output_type": "stream",
     "text": [
      "┌ Warning: Mapping to the storage type failed; perhaps your data had out-of-range values?\n",
      "│ Try `map(clamp01nan, img)` to clamp values to a valid range.\n",
      "└ @ ImageMagick C:\\Users\\Lukas\\.julia\\packages\\ImageMagick\\b8swT\\src\\ImageMagick.jl:180\n",
      "\u001b[32mProgress:  56%|████████████████████████                 |  ETA: 0:11:51\u001b[39m"
     ]
    },
    {
     "name": "stdout",
     "output_type": "stream",
     "text": [
      "Steps: 549, tries: 62\r"
     ]
    },
    {
     "name": "stderr",
     "output_type": "stream",
     "text": [
      "┌ Warning: Mapping to the storage type failed; perhaps your data had out-of-range values?\n",
      "│ Try `map(clamp01nan, img)` to clamp values to a valid range.\n",
      "└ @ ImageMagick C:\\Users\\Lukas\\.julia\\packages\\ImageMagick\\b8swT\\src\\ImageMagick.jl:180\n",
      "\u001b[32mProgress:  56%|████████████████████████                 |  ETA: 0:11:49\u001b[39m"
     ]
    },
    {
     "name": "stdout",
     "output_type": "stream",
     "text": [
      "Steps: 549, tries: 42\r"
     ]
    },
    {
     "name": "stderr",
     "output_type": "stream",
     "text": [
      "┌ Warning: Mapping to the storage type failed; perhaps your data had out-of-range values?\n",
      "│ Try `map(clamp01nan, img)` to clamp values to a valid range.\n",
      "└ @ ImageMagick C:\\Users\\Lukas\\.julia\\packages\\ImageMagick\\b8swT\\src\\ImageMagick.jl:180\n",
      "\u001b[32mProgress:  56%|████████████████████████                 |  ETA: 0:11:47\u001b[39m"
     ]
    },
    {
     "name": "stdout",
     "output_type": "stream",
     "text": [
      "Steps: 549, tries: 83\r"
     ]
    },
    {
     "name": "stderr",
     "output_type": "stream",
     "text": [
      "┌ Warning: Mapping to the storage type failed; perhaps your data had out-of-range values?\n",
      "│ Try `map(clamp01nan, img)` to clamp values to a valid range.\n",
      "└ @ ImageMagick C:\\Users\\Lukas\\.julia\\packages\\ImageMagick\\b8swT\\src\\ImageMagick.jl:180\n",
      "\u001b[32mProgress:  56%|████████████████████████                 |  ETA: 0:11:45\u001b[39m"
     ]
    },
    {
     "name": "stdout",
     "output_type": "stream",
     "text": [
      "Steps: 549, tries: 14\r"
     ]
    },
    {
     "name": "stderr",
     "output_type": "stream",
     "text": [
      "┌ Warning: Mapping to the storage type failed; perhaps your data had out-of-range values?\n",
      "│ Try `map(clamp01nan, img)` to clamp values to a valid range.\n",
      "└ @ ImageMagick C:\\Users\\Lukas\\.julia\\packages\\ImageMagick\\b8swT\\src\\ImageMagick.jl:180\n",
      "\u001b[32mProgress:  57%|████████████████████████                 |  ETA: 0:11:43\u001b[39m"
     ]
    },
    {
     "name": "stdout",
     "output_type": "stream",
     "text": [
      "Steps: 549, tries: 28\r"
     ]
    },
    {
     "name": "stderr",
     "output_type": "stream",
     "text": [
      "┌ Warning: Mapping to the storage type failed; perhaps your data had out-of-range values?\n",
      "│ Try `map(clamp01nan, img)` to clamp values to a valid range.\n",
      "└ @ ImageMagick C:\\Users\\Lukas\\.julia\\packages\\ImageMagick\\b8swT\\src\\ImageMagick.jl:180\n",
      "\u001b[32mProgress:  57%|████████████████████████                 |  ETA: 0:11:41\u001b[39m"
     ]
    },
    {
     "name": "stdout",
     "output_type": "stream",
     "text": [
      "Steps: 549, tries: 15\r"
     ]
    },
    {
     "name": "stderr",
     "output_type": "stream",
     "text": [
      "┌ Warning: Mapping to the storage type failed; perhaps your data had out-of-range values?\n",
      "│ Try `map(clamp01nan, img)` to clamp values to a valid range.\n",
      "└ @ ImageMagick C:\\Users\\Lukas\\.julia\\packages\\ImageMagick\\b8swT\\src\\ImageMagick.jl:180\n",
      "\u001b[32mProgress:  57%|████████████████████████                 |  ETA: 0:11:39\u001b[39m"
     ]
    },
    {
     "name": "stdout",
     "output_type": "stream",
     "text": [
      "Steps: 549, tries: 31\r"
     ]
    },
    {
     "name": "stderr",
     "output_type": "stream",
     "text": [
      "┌ Warning: Mapping to the storage type failed; perhaps your data had out-of-range values?\n",
      "│ Try `map(clamp01nan, img)` to clamp values to a valid range.\n",
      "└ @ ImageMagick C:\\Users\\Lukas\\.julia\\packages\\ImageMagick\\b8swT\\src\\ImageMagick.jl:180\n",
      "\u001b[32mProgress:  57%|████████████████████████                 |  ETA: 0:11:37\u001b[39m"
     ]
    },
    {
     "name": "stdout",
     "output_type": "stream",
     "text": [
      "Steps: 549, tries: 30\r"
     ]
    },
    {
     "name": "stderr",
     "output_type": "stream",
     "text": [
      "┌ Warning: Mapping to the storage type failed; perhaps your data had out-of-range values?\n",
      "│ Try `map(clamp01nan, img)` to clamp values to a valid range.\n",
      "└ @ ImageMagick C:\\Users\\Lukas\\.julia\\packages\\ImageMagick\\b8swT\\src\\ImageMagick.jl:180\n",
      "\u001b[32mProgress:  57%|████████████████████████                 |  ETA: 0:11:35\u001b[39m"
     ]
    },
    {
     "name": "stdout",
     "output_type": "stream",
     "text": [
      "Steps: 549, tries: 62\r"
     ]
    },
    {
     "name": "stderr",
     "output_type": "stream",
     "text": [
      "┌ Warning: Mapping to the storage type failed; perhaps your data had out-of-range values?\n",
      "│ Try `map(clamp01nan, img)` to clamp values to a valid range.\n",
      "└ @ ImageMagick C:\\Users\\Lukas\\.julia\\packages\\ImageMagick\\b8swT\\src\\ImageMagick.jl:180\n",
      "\u001b[32mProgress:  57%|████████████████████████                 |  ETA: 0:11:33\u001b[39m"
     ]
    },
    {
     "name": "stdout",
     "output_type": "stream",
     "text": [
      "Steps: 549, tries: 73\r"
     ]
    },
    {
     "name": "stderr",
     "output_type": "stream",
     "text": [
      "┌ Warning: Mapping to the storage type failed; perhaps your data had out-of-range values?\n",
      "│ Try `map(clamp01nan, img)` to clamp values to a valid range.\n",
      "└ @ ImageMagick C:\\Users\\Lukas\\.julia\\packages\\ImageMagick\\b8swT\\src\\ImageMagick.jl:180\n",
      "\u001b[32mProgress:  57%|████████████████████████                 |  ETA: 0:11:31\u001b[39m"
     ]
    },
    {
     "name": "stdout",
     "output_type": "stream",
     "text": [
      "Steps: 549, tries: 39\r"
     ]
    },
    {
     "name": "stderr",
     "output_type": "stream",
     "text": [
      "┌ Warning: Mapping to the storage type failed; perhaps your data had out-of-range values?\n",
      "│ Try `map(clamp01nan, img)` to clamp values to a valid range.\n",
      "└ @ ImageMagick C:\\Users\\Lukas\\.julia\\packages\\ImageMagick\\b8swT\\src\\ImageMagick.jl:180\n",
      "\u001b[32mProgress:  58%|████████████████████████                 |  ETA: 0:11:29\u001b[39m"
     ]
    },
    {
     "name": "stdout",
     "output_type": "stream",
     "text": [
      "Steps: 549, tries: 14\r"
     ]
    },
    {
     "name": "stderr",
     "output_type": "stream",
     "text": [
      "┌ Warning: Mapping to the storage type failed; perhaps your data had out-of-range values?\n",
      "│ Try `map(clamp01nan, img)` to clamp values to a valid range.\n",
      "└ @ ImageMagick C:\\Users\\Lukas\\.julia\\packages\\ImageMagick\\b8swT\\src\\ImageMagick.jl:180\n",
      "\u001b[32mProgress:  58%|████████████████████████                 |  ETA: 0:11:26\u001b[39m"
     ]
    },
    {
     "name": "stdout",
     "output_type": "stream",
     "text": [
      "Steps: 549, tries: 14\r"
     ]
    },
    {
     "name": "stderr",
     "output_type": "stream",
     "text": [
      "┌ Warning: Mapping to the storage type failed; perhaps your data had out-of-range values?\n",
      "│ Try `map(clamp01nan, img)` to clamp values to a valid range.\n",
      "└ @ ImageMagick C:\\Users\\Lukas\\.julia\\packages\\ImageMagick\\b8swT\\src\\ImageMagick.jl:180\n",
      "\u001b[32mProgress:  58%|████████████████████████                 |  ETA: 0:11:24\u001b[39m"
     ]
    },
    {
     "name": "stdout",
     "output_type": "stream",
     "text": [
      "Steps: 549, tries: 14\r"
     ]
    },
    {
     "name": "stderr",
     "output_type": "stream",
     "text": [
      "┌ Warning: Mapping to the storage type failed; perhaps your data had out-of-range values?\n",
      "│ Try `map(clamp01nan, img)` to clamp values to a valid range.\n",
      "└ @ ImageMagick C:\\Users\\Lukas\\.julia\\packages\\ImageMagick\\b8swT\\src\\ImageMagick.jl:180\n",
      "\u001b[32mProgress:  58%|████████████████████████                 |  ETA: 0:11:23\u001b[39m"
     ]
    },
    {
     "name": "stdout",
     "output_type": "stream",
     "text": [
      "Steps: 549, tries: 77\r"
     ]
    },
    {
     "name": "stderr",
     "output_type": "stream",
     "text": [
      "┌ Warning: Mapping to the storage type failed; perhaps your data had out-of-range values?\n",
      "│ Try `map(clamp01nan, img)` to clamp values to a valid range.\n",
      "└ @ ImageMagick C:\\Users\\Lukas\\.julia\\packages\\ImageMagick\\b8swT\\src\\ImageMagick.jl:180\n",
      "\u001b[32mProgress:  58%|████████████████████████                 |  ETA: 0:11:20\u001b[39m"
     ]
    },
    {
     "name": "stdout",
     "output_type": "stream",
     "text": [
      "Steps: 549, tries: 13\r"
     ]
    },
    {
     "name": "stderr",
     "output_type": "stream",
     "text": [
      "┌ Warning: Mapping to the storage type failed; perhaps your data had out-of-range values?\n",
      "│ Try `map(clamp01nan, img)` to clamp values to a valid range.\n",
      "└ @ ImageMagick C:\\Users\\Lukas\\.julia\\packages\\ImageMagick\\b8swT\\src\\ImageMagick.jl:180\n",
      "\u001b[32mProgress:  58%|████████████████████████                 |  ETA: 0:11:18\u001b[39m"
     ]
    },
    {
     "name": "stdout",
     "output_type": "stream",
     "text": [
      "Steps: 549, tries: 16\r"
     ]
    },
    {
     "name": "stderr",
     "output_type": "stream",
     "text": [
      "┌ Warning: Mapping to the storage type failed; perhaps your data had out-of-range values?\n",
      "│ Try `map(clamp01nan, img)` to clamp values to a valid range.\n",
      "└ @ ImageMagick C:\\Users\\Lukas\\.julia\\packages\\ImageMagick\\b8swT\\src\\ImageMagick.jl:180\n",
      "\u001b[32mProgress:  58%|████████████████████████                 |  ETA: 0:11:17\u001b[39m"
     ]
    },
    {
     "name": "stdout",
     "output_type": "stream",
     "text": [
      "Steps: 549, tries: 26\r"
     ]
    },
    {
     "name": "stderr",
     "output_type": "stream",
     "text": [
      "┌ Warning: Mapping to the storage type failed; perhaps your data had out-of-range values?\n",
      "│ Try `map(clamp01nan, img)` to clamp values to a valid range.\n",
      "└ @ ImageMagick C:\\Users\\Lukas\\.julia\\packages\\ImageMagick\\b8swT\\src\\ImageMagick.jl:180\n",
      "\u001b[32mProgress:  58%|████████████████████████                 |  ETA: 0:11:14\u001b[39m"
     ]
    },
    {
     "name": "stdout",
     "output_type": "stream",
     "text": [
      "Steps: 549, tries: 10\r"
     ]
    },
    {
     "name": "stderr",
     "output_type": "stream",
     "text": [
      "┌ Warning: Mapping to the storage type failed; perhaps your data had out-of-range values?\n",
      "│ Try `map(clamp01nan, img)` to clamp values to a valid range.\n",
      "└ @ ImageMagick C:\\Users\\Lukas\\.julia\\packages\\ImageMagick\\b8swT\\src\\ImageMagick.jl:180\n",
      "\u001b[32mProgress:  58%|████████████████████████                 |  ETA: 0:11:12\u001b[39m"
     ]
    },
    {
     "name": "stdout",
     "output_type": "stream",
     "text": [
      "Steps: 549, tries: 61\r"
     ]
    },
    {
     "name": "stderr",
     "output_type": "stream",
     "text": [
      "┌ Warning: Mapping to the storage type failed; perhaps your data had out-of-range values?\n",
      "│ Try `map(clamp01nan, img)` to clamp values to a valid range.\n",
      "└ @ ImageMagick C:\\Users\\Lukas\\.julia\\packages\\ImageMagick\\b8swT\\src\\ImageMagick.jl:180\n",
      "\u001b[32mProgress:  59%|█████████████████████████                |  ETA: 0:11:10\u001b[39m"
     ]
    },
    {
     "name": "stdout",
     "output_type": "stream",
     "text": [
      "Steps: 549, tries: 30\r"
     ]
    },
    {
     "name": "stderr",
     "output_type": "stream",
     "text": [
      "┌ Warning: Mapping to the storage type failed; perhaps your data had out-of-range values?\n",
      "│ Try `map(clamp01nan, img)` to clamp values to a valid range.\n",
      "└ @ ImageMagick C:\\Users\\Lukas\\.julia\\packages\\ImageMagick\\b8swT\\src\\ImageMagick.jl:180\n",
      "\u001b[32mProgress:  59%|█████████████████████████                |  ETA: 0:11:08\u001b[39m"
     ]
    },
    {
     "name": "stdout",
     "output_type": "stream",
     "text": [
      "Steps: 549, tries: 53\r"
     ]
    },
    {
     "name": "stderr",
     "output_type": "stream",
     "text": [
      "┌ Warning: Mapping to the storage type failed; perhaps your data had out-of-range values?\n",
      "│ Try `map(clamp01nan, img)` to clamp values to a valid range.\n",
      "└ @ ImageMagick C:\\Users\\Lukas\\.julia\\packages\\ImageMagick\\b8swT\\src\\ImageMagick.jl:180\n",
      "\u001b[32mProgress:  59%|█████████████████████████                |  ETA: 0:11:06\u001b[39m"
     ]
    },
    {
     "name": "stdout",
     "output_type": "stream",
     "text": [
      "Steps: 549, tries: 24\r"
     ]
    },
    {
     "name": "stderr",
     "output_type": "stream",
     "text": [
      "┌ Warning: Mapping to the storage type failed; perhaps your data had out-of-range values?\n",
      "│ Try `map(clamp01nan, img)` to clamp values to a valid range.\n",
      "└ @ ImageMagick C:\\Users\\Lukas\\.julia\\packages\\ImageMagick\\b8swT\\src\\ImageMagick.jl:180\n",
      "\u001b[32mProgress:  59%|█████████████████████████                |  ETA: 0:11:04\u001b[39m"
     ]
    },
    {
     "name": "stdout",
     "output_type": "stream",
     "text": [
      "Steps: 549, tries: 33\r"
     ]
    },
    {
     "name": "stderr",
     "output_type": "stream",
     "text": [
      "┌ Warning: Mapping to the storage type failed; perhaps your data had out-of-range values?\n",
      "│ Try `map(clamp01nan, img)` to clamp values to a valid range.\n",
      "└ @ ImageMagick C:\\Users\\Lukas\\.julia\\packages\\ImageMagick\\b8swT\\src\\ImageMagick.jl:180\n",
      "\u001b[32mProgress:  59%|█████████████████████████                |  ETA: 0:11:02\u001b[39m"
     ]
    },
    {
     "name": "stdout",
     "output_type": "stream",
     "text": [
      "Steps: 549, tries: 25\r"
     ]
    },
    {
     "name": "stderr",
     "output_type": "stream",
     "text": [
      "┌ Warning: Mapping to the storage type failed; perhaps your data had out-of-range values?\n",
      "│ Try `map(clamp01nan, img)` to clamp values to a valid range.\n",
      "└ @ ImageMagick C:\\Users\\Lukas\\.julia\\packages\\ImageMagick\\b8swT\\src\\ImageMagick.jl:180\n",
      "\u001b[32mProgress:  59%|█████████████████████████                |  ETA: 0:11:00\u001b[39m"
     ]
    },
    {
     "name": "stdout",
     "output_type": "stream",
     "text": [
      "Steps: 549, tries: 28\r"
     ]
    },
    {
     "name": "stderr",
     "output_type": "stream",
     "text": [
      "┌ Warning: Mapping to the storage type failed; perhaps your data had out-of-range values?\n",
      "│ Try `map(clamp01nan, img)` to clamp values to a valid range.\n",
      "└ @ ImageMagick C:\\Users\\Lukas\\.julia\\packages\\ImageMagick\\b8swT\\src\\ImageMagick.jl:180\n",
      "\u001b[32mProgress:  59%|█████████████████████████                |  ETA: 0:10:58\u001b[39m"
     ]
    },
    {
     "name": "stdout",
     "output_type": "stream",
     "text": [
      "Steps: 549, tries: 23\r"
     ]
    },
    {
     "name": "stderr",
     "output_type": "stream",
     "text": [
      "┌ Warning: Mapping to the storage type failed; perhaps your data had out-of-range values?\n",
      "│ Try `map(clamp01nan, img)` to clamp values to a valid range.\n",
      "└ @ ImageMagick C:\\Users\\Lukas\\.julia\\packages\\ImageMagick\\b8swT\\src\\ImageMagick.jl:180\n",
      "\u001b[32mProgress:  60%|█████████████████████████                |  ETA: 0:10:56\u001b[39m"
     ]
    },
    {
     "name": "stdout",
     "output_type": "stream",
     "text": [
      "Steps: 549, tries: 19\r"
     ]
    },
    {
     "name": "stderr",
     "output_type": "stream",
     "text": [
      "┌ Warning: Mapping to the storage type failed; perhaps your data had out-of-range values?\n",
      "│ Try `map(clamp01nan, img)` to clamp values to a valid range.\n",
      "└ @ ImageMagick C:\\Users\\Lukas\\.julia\\packages\\ImageMagick\\b8swT\\src\\ImageMagick.jl:180\n",
      "\u001b[32mProgress:  60%|█████████████████████████                |  ETA: 0:10:54\u001b[39m"
     ]
    },
    {
     "name": "stdout",
     "output_type": "stream",
     "text": [
      "Steps: 549, tries: 07\r"
     ]
    },
    {
     "name": "stderr",
     "output_type": "stream",
     "text": [
      "┌ Warning: Mapping to the storage type failed; perhaps your data had out-of-range values?\n",
      "│ Try `map(clamp01nan, img)` to clamp values to a valid range.\n",
      "└ @ ImageMagick C:\\Users\\Lukas\\.julia\\packages\\ImageMagick\\b8swT\\src\\ImageMagick.jl:180\n",
      "\u001b[32mProgress:  60%|█████████████████████████                |  ETA: 0:10:52\u001b[39m"
     ]
    },
    {
     "name": "stdout",
     "output_type": "stream",
     "text": [
      "Steps: 549, tries: 17\r"
     ]
    },
    {
     "name": "stderr",
     "output_type": "stream",
     "text": [
      "┌ Warning: Mapping to the storage type failed; perhaps your data had out-of-range values?\n",
      "│ Try `map(clamp01nan, img)` to clamp values to a valid range.\n",
      "└ @ ImageMagick C:\\Users\\Lukas\\.julia\\packages\\ImageMagick\\b8swT\\src\\ImageMagick.jl:180\n",
      "\u001b[32mProgress:  60%|█████████████████████████                |  ETA: 0:10:50\u001b[39m"
     ]
    },
    {
     "name": "stdout",
     "output_type": "stream",
     "text": [
      "Steps: 549, tries: 30\r"
     ]
    },
    {
     "name": "stderr",
     "output_type": "stream",
     "text": [
      "┌ Warning: Mapping to the storage type failed; perhaps your data had out-of-range values?\n",
      "│ Try `map(clamp01nan, img)` to clamp values to a valid range.\n",
      "└ @ ImageMagick C:\\Users\\Lukas\\.julia\\packages\\ImageMagick\\b8swT\\src\\ImageMagick.jl:180\n",
      "\u001b[32mProgress:  60%|█████████████████████████                |  ETA: 0:10:48\u001b[39m"
     ]
    },
    {
     "name": "stdout",
     "output_type": "stream",
     "text": [
      "Steps: 549, tries: 04\r"
     ]
    },
    {
     "name": "stderr",
     "output_type": "stream",
     "text": [
      "┌ Warning: Mapping to the storage type failed; perhaps your data had out-of-range values?\n",
      "│ Try `map(clamp01nan, img)` to clamp values to a valid range.\n",
      "└ @ ImageMagick C:\\Users\\Lukas\\.julia\\packages\\ImageMagick\\b8swT\\src\\ImageMagick.jl:180\n",
      "\u001b[32mProgress:  60%|█████████████████████████                |  ETA: 0:10:46\u001b[39m"
     ]
    },
    {
     "name": "stdout",
     "output_type": "stream",
     "text": [
      "Steps: 549, tries: 97\r"
     ]
    },
    {
     "name": "stderr",
     "output_type": "stream",
     "text": [
      "┌ Warning: Mapping to the storage type failed; perhaps your data had out-of-range values?\n",
      "│ Try `map(clamp01nan, img)` to clamp values to a valid range.\n",
      "└ @ ImageMagick C:\\Users\\Lukas\\.julia\\packages\\ImageMagick\\b8swT\\src\\ImageMagick.jl:180\n",
      "\u001b[32mProgress:  60%|█████████████████████████                |  ETA: 0:10:44\u001b[39m"
     ]
    },
    {
     "name": "stdout",
     "output_type": "stream",
     "text": [
      "Steps: 549, tries: 29\r"
     ]
    },
    {
     "name": "stderr",
     "output_type": "stream",
     "text": [
      "┌ Warning: Mapping to the storage type failed; perhaps your data had out-of-range values?\n",
      "│ Try `map(clamp01nan, img)` to clamp values to a valid range.\n",
      "└ @ ImageMagick C:\\Users\\Lukas\\.julia\\packages\\ImageMagick\\b8swT\\src\\ImageMagick.jl:180\n",
      "\u001b[32mProgress:  60%|█████████████████████████                |  ETA: 0:10:42\u001b[39m"
     ]
    },
    {
     "name": "stdout",
     "output_type": "stream",
     "text": [
      "Steps: 549, tries: 07\r"
     ]
    },
    {
     "name": "stderr",
     "output_type": "stream",
     "text": [
      "┌ Warning: Mapping to the storage type failed; perhaps your data had out-of-range values?\n",
      "│ Try `map(clamp01nan, img)` to clamp values to a valid range.\n",
      "└ @ ImageMagick C:\\Users\\Lukas\\.julia\\packages\\ImageMagick\\b8swT\\src\\ImageMagick.jl:180\n",
      "\u001b[32mProgress:  60%|█████████████████████████                |  ETA: 0:10:40\u001b[39m"
     ]
    },
    {
     "name": "stdout",
     "output_type": "stream",
     "text": [
      "Steps: 549, tries: 10\r"
     ]
    },
    {
     "name": "stderr",
     "output_type": "stream",
     "text": [
      "┌ Warning: Mapping to the storage type failed; perhaps your data had out-of-range values?\n",
      "│ Try `map(clamp01nan, img)` to clamp values to a valid range.\n",
      "└ @ ImageMagick C:\\Users\\Lukas\\.julia\\packages\\ImageMagick\\b8swT\\src\\ImageMagick.jl:180\n",
      "\u001b[32mProgress:  61%|█████████████████████████                |  ETA: 0:10:38\u001b[39m"
     ]
    },
    {
     "name": "stdout",
     "output_type": "stream",
     "text": [
      "Steps: 549, tries: 82\r"
     ]
    },
    {
     "name": "stderr",
     "output_type": "stream",
     "text": [
      "┌ Warning: Mapping to the storage type failed; perhaps your data had out-of-range values?\n",
      "│ Try `map(clamp01nan, img)` to clamp values to a valid range.\n",
      "└ @ ImageMagick C:\\Users\\Lukas\\.julia\\packages\\ImageMagick\\b8swT\\src\\ImageMagick.jl:180\n",
      "\u001b[32mProgress:  61%|█████████████████████████                |  ETA: 0:10:36\u001b[39m"
     ]
    },
    {
     "name": "stdout",
     "output_type": "stream",
     "text": [
      "Steps: 549, tries: 18\r"
     ]
    },
    {
     "name": "stderr",
     "output_type": "stream",
     "text": [
      "┌ Warning: Mapping to the storage type failed; perhaps your data had out-of-range values?\n",
      "│ Try `map(clamp01nan, img)` to clamp values to a valid range.\n",
      "└ @ ImageMagick C:\\Users\\Lukas\\.julia\\packages\\ImageMagick\\b8swT\\src\\ImageMagick.jl:180\n",
      "\u001b[32mProgress:  61%|█████████████████████████                |  ETA: 0:10:34\u001b[39m"
     ]
    },
    {
     "name": "stdout",
     "output_type": "stream",
     "text": [
      "Steps: 549, tries: 24\r"
     ]
    },
    {
     "name": "stderr",
     "output_type": "stream",
     "text": [
      "┌ Warning: Mapping to the storage type failed; perhaps your data had out-of-range values?\n",
      "│ Try `map(clamp01nan, img)` to clamp values to a valid range.\n",
      "└ @ ImageMagick C:\\Users\\Lukas\\.julia\\packages\\ImageMagick\\b8swT\\src\\ImageMagick.jl:180\n",
      "\u001b[32mProgress:  61%|██████████████████████████               |  ETA: 0:10:32\u001b[39m"
     ]
    },
    {
     "name": "stdout",
     "output_type": "stream",
     "text": [
      "Steps: 549, tries: 68\r"
     ]
    },
    {
     "name": "stderr",
     "output_type": "stream",
     "text": [
      "┌ Warning: Mapping to the storage type failed; perhaps your data had out-of-range values?\n",
      "│ Try `map(clamp01nan, img)` to clamp values to a valid range.\n",
      "└ @ ImageMagick C:\\Users\\Lukas\\.julia\\packages\\ImageMagick\\b8swT\\src\\ImageMagick.jl:180\n",
      "\u001b[32mProgress:  61%|██████████████████████████               |  ETA: 0:10:30\u001b[39m"
     ]
    },
    {
     "name": "stdout",
     "output_type": "stream",
     "text": [
      "Steps: 549, tries: 71\r"
     ]
    },
    {
     "name": "stderr",
     "output_type": "stream",
     "text": [
      "┌ Warning: Mapping to the storage type failed; perhaps your data had out-of-range values?\n",
      "│ Try `map(clamp01nan, img)` to clamp values to a valid range.\n",
      "└ @ ImageMagick C:\\Users\\Lukas\\.julia\\packages\\ImageMagick\\b8swT\\src\\ImageMagick.jl:180\n",
      "\u001b[32mProgress:  61%|██████████████████████████               |  ETA: 0:10:28\u001b[39m"
     ]
    },
    {
     "name": "stdout",
     "output_type": "stream",
     "text": [
      "Steps: 549, tries: 43\r"
     ]
    },
    {
     "name": "stderr",
     "output_type": "stream",
     "text": [
      "┌ Warning: Mapping to the storage type failed; perhaps your data had out-of-range values?\n",
      "│ Try `map(clamp01nan, img)` to clamp values to a valid range.\n",
      "└ @ ImageMagick C:\\Users\\Lukas\\.julia\\packages\\ImageMagick\\b8swT\\src\\ImageMagick.jl:180\n",
      "\u001b[32mProgress:  61%|██████████████████████████               |  ETA: 0:10:26\u001b[39m"
     ]
    },
    {
     "name": "stdout",
     "output_type": "stream",
     "text": [
      "Steps: 549, tries: 13\r"
     ]
    },
    {
     "name": "stderr",
     "output_type": "stream",
     "text": [
      "┌ Warning: Mapping to the storage type failed; perhaps your data had out-of-range values?\n",
      "│ Try `map(clamp01nan, img)` to clamp values to a valid range.\n",
      "└ @ ImageMagick C:\\Users\\Lukas\\.julia\\packages\\ImageMagick\\b8swT\\src\\ImageMagick.jl:180\n",
      "\u001b[32mProgress:  62%|██████████████████████████               |  ETA: 0:10:24\u001b[39m"
     ]
    },
    {
     "name": "stdout",
     "output_type": "stream",
     "text": [
      "Steps: 549, tries: 71\r"
     ]
    },
    {
     "name": "stderr",
     "output_type": "stream",
     "text": [
      "┌ Warning: Mapping to the storage type failed; perhaps your data had out-of-range values?\n",
      "│ Try `map(clamp01nan, img)` to clamp values to a valid range.\n",
      "└ @ ImageMagick C:\\Users\\Lukas\\.julia\\packages\\ImageMagick\\b8swT\\src\\ImageMagick.jl:180\n",
      "\u001b[32mProgress:  62%|██████████████████████████               |  ETA: 0:10:22\u001b[39m"
     ]
    },
    {
     "name": "stdout",
     "output_type": "stream",
     "text": [
      "Steps: 549, tries: 12\r"
     ]
    },
    {
     "name": "stderr",
     "output_type": "stream",
     "text": [
      "┌ Warning: Mapping to the storage type failed; perhaps your data had out-of-range values?\n",
      "│ Try `map(clamp01nan, img)` to clamp values to a valid range.\n",
      "└ @ ImageMagick C:\\Users\\Lukas\\.julia\\packages\\ImageMagick\\b8swT\\src\\ImageMagick.jl:180\n",
      "\u001b[32mProgress:  62%|██████████████████████████               |  ETA: 0:10:20\u001b[39m"
     ]
    },
    {
     "name": "stdout",
     "output_type": "stream",
     "text": [
      "Steps: 549, tries: 05\r"
     ]
    },
    {
     "name": "stderr",
     "output_type": "stream",
     "text": [
      "┌ Warning: Mapping to the storage type failed; perhaps your data had out-of-range values?\n",
      "│ Try `map(clamp01nan, img)` to clamp values to a valid range.\n",
      "└ @ ImageMagick C:\\Users\\Lukas\\.julia\\packages\\ImageMagick\\b8swT\\src\\ImageMagick.jl:180\n",
      "\u001b[32mProgress:  62%|██████████████████████████               |  ETA: 0:10:18\u001b[39m"
     ]
    },
    {
     "name": "stdout",
     "output_type": "stream",
     "text": [
      "Steps: 549, tries: 10\r"
     ]
    },
    {
     "name": "stderr",
     "output_type": "stream",
     "text": [
      "┌ Warning: Mapping to the storage type failed; perhaps your data had out-of-range values?\n",
      "│ Try `map(clamp01nan, img)` to clamp values to a valid range.\n",
      "└ @ ImageMagick C:\\Users\\Lukas\\.julia\\packages\\ImageMagick\\b8swT\\src\\ImageMagick.jl:180\n",
      "\u001b[32mProgress:  62%|██████████████████████████               |  ETA: 0:10:16\u001b[39m"
     ]
    },
    {
     "name": "stdout",
     "output_type": "stream",
     "text": [
      "Steps: 549, tries: 54\r"
     ]
    },
    {
     "name": "stderr",
     "output_type": "stream",
     "text": [
      "┌ Warning: Mapping to the storage type failed; perhaps your data had out-of-range values?\n",
      "│ Try `map(clamp01nan, img)` to clamp values to a valid range.\n",
      "└ @ ImageMagick C:\\Users\\Lukas\\.julia\\packages\\ImageMagick\\b8swT\\src\\ImageMagick.jl:180\n",
      "\u001b[32mProgress:  62%|██████████████████████████               |  ETA: 0:10:14\u001b[39m"
     ]
    },
    {
     "name": "stdout",
     "output_type": "stream",
     "text": [
      "Steps: 549, tries: 69\r"
     ]
    },
    {
     "name": "stderr",
     "output_type": "stream",
     "text": [
      "┌ Warning: Mapping to the storage type failed; perhaps your data had out-of-range values?\n",
      "│ Try `map(clamp01nan, img)` to clamp values to a valid range.\n",
      "└ @ ImageMagick C:\\Users\\Lukas\\.julia\\packages\\ImageMagick\\b8swT\\src\\ImageMagick.jl:180\n",
      "\u001b[32mProgress:  62%|██████████████████████████               |  ETA: 0:10:11\u001b[39m"
     ]
    },
    {
     "name": "stdout",
     "output_type": "stream",
     "text": [
      "Steps: 549, tries: 11\r"
     ]
    },
    {
     "name": "stderr",
     "output_type": "stream",
     "text": [
      "┌ Warning: Mapping to the storage type failed; perhaps your data had out-of-range values?\n",
      "│ Try `map(clamp01nan, img)` to clamp values to a valid range.\n",
      "└ @ ImageMagick C:\\Users\\Lukas\\.julia\\packages\\ImageMagick\\b8swT\\src\\ImageMagick.jl:180\n",
      "\u001b[32mProgress:  62%|██████████████████████████               |  ETA: 0:10:09\u001b[39m"
     ]
    },
    {
     "name": "stdout",
     "output_type": "stream",
     "text": [
      "Steps: 549, tries: 02\r"
     ]
    },
    {
     "name": "stderr",
     "output_type": "stream",
     "text": [
      "┌ Warning: Mapping to the storage type failed; perhaps your data had out-of-range values?\n",
      "│ Try `map(clamp01nan, img)` to clamp values to a valid range.\n",
      "└ @ ImageMagick C:\\Users\\Lukas\\.julia\\packages\\ImageMagick\\b8swT\\src\\ImageMagick.jl:180\n",
      "\u001b[32mProgress:  62%|██████████████████████████               |  ETA: 0:10:07\u001b[39m"
     ]
    },
    {
     "name": "stdout",
     "output_type": "stream",
     "text": [
      "Steps: 549, tries: 07\r"
     ]
    },
    {
     "name": "stderr",
     "output_type": "stream",
     "text": [
      "┌ Warning: Mapping to the storage type failed; perhaps your data had out-of-range values?\n",
      "│ Try `map(clamp01nan, img)` to clamp values to a valid range.\n",
      "└ @ ImageMagick C:\\Users\\Lukas\\.julia\\packages\\ImageMagick\\b8swT\\src\\ImageMagick.jl:180\n",
      "\u001b[32mProgress:  63%|██████████████████████████               |  ETA: 0:10:05\u001b[39m"
     ]
    },
    {
     "name": "stdout",
     "output_type": "stream",
     "text": [
      "Steps: 549, tries: 55\r"
     ]
    },
    {
     "name": "stderr",
     "output_type": "stream",
     "text": [
      "┌ Warning: Mapping to the storage type failed; perhaps your data had out-of-range values?\n",
      "│ Try `map(clamp01nan, img)` to clamp values to a valid range.\n",
      "└ @ ImageMagick C:\\Users\\Lukas\\.julia\\packages\\ImageMagick\\b8swT\\src\\ImageMagick.jl:180\n",
      "\u001b[32mProgress:  63%|██████████████████████████               |  ETA: 0:10:03\u001b[39m"
     ]
    },
    {
     "name": "stdout",
     "output_type": "stream",
     "text": [
      "Steps: 549, tries: 13\r"
     ]
    },
    {
     "name": "stderr",
     "output_type": "stream",
     "text": [
      "┌ Warning: Mapping to the storage type failed; perhaps your data had out-of-range values?\n",
      "│ Try `map(clamp01nan, img)` to clamp values to a valid range.\n",
      "└ @ ImageMagick C:\\Users\\Lukas\\.julia\\packages\\ImageMagick\\b8swT\\src\\ImageMagick.jl:180\n",
      "\u001b[32mProgress:  63%|██████████████████████████               |  ETA: 0:10:01\u001b[39m"
     ]
    },
    {
     "name": "stdout",
     "output_type": "stream",
     "text": [
      "Steps: 549, tries: 44\r"
     ]
    },
    {
     "name": "stderr",
     "output_type": "stream",
     "text": [
      "┌ Warning: Mapping to the storage type failed; perhaps your data had out-of-range values?\n",
      "│ Try `map(clamp01nan, img)` to clamp values to a valid range.\n",
      "└ @ ImageMagick C:\\Users\\Lukas\\.julia\\packages\\ImageMagick\\b8swT\\src\\ImageMagick.jl:180\n",
      "\u001b[32mProgress:  63%|██████████████████████████               |  ETA: 0:09:59\u001b[39m"
     ]
    },
    {
     "name": "stdout",
     "output_type": "stream",
     "text": [
      "Steps: 549, tries: 40\r"
     ]
    },
    {
     "name": "stderr",
     "output_type": "stream",
     "text": [
      "┌ Warning: Mapping to the storage type failed; perhaps your data had out-of-range values?\n",
      "│ Try `map(clamp01nan, img)` to clamp values to a valid range.\n",
      "└ @ ImageMagick C:\\Users\\Lukas\\.julia\\packages\\ImageMagick\\b8swT\\src\\ImageMagick.jl:180\n",
      "\u001b[32mProgress:  63%|██████████████████████████               |  ETA: 0:09:57\u001b[39m"
     ]
    },
    {
     "name": "stdout",
     "output_type": "stream",
     "text": [
      "Steps: 549, tries: 06\r"
     ]
    },
    {
     "name": "stderr",
     "output_type": "stream",
     "text": [
      "┌ Warning: Mapping to the storage type failed; perhaps your data had out-of-range values?\n",
      "│ Try `map(clamp01nan, img)` to clamp values to a valid range.\n",
      "└ @ ImageMagick C:\\Users\\Lukas\\.julia\\packages\\ImageMagick\\b8swT\\src\\ImageMagick.jl:180\n",
      "\u001b[32mProgress:  63%|██████████████████████████               |  ETA: 0:09:55\u001b[39m"
     ]
    },
    {
     "name": "stdout",
     "output_type": "stream",
     "text": [
      "Steps: 549, tries: 72\r"
     ]
    },
    {
     "name": "stderr",
     "output_type": "stream",
     "text": [
      "┌ Warning: Mapping to the storage type failed; perhaps your data had out-of-range values?\n",
      "│ Try `map(clamp01nan, img)` to clamp values to a valid range.\n",
      "└ @ ImageMagick C:\\Users\\Lukas\\.julia\\packages\\ImageMagick\\b8swT\\src\\ImageMagick.jl:180\n",
      "\u001b[32mProgress:  63%|██████████████████████████               |  ETA: 0:09:53\u001b[39m"
     ]
    },
    {
     "name": "stdout",
     "output_type": "stream",
     "text": [
      "Steps: 549, tries: 32\r"
     ]
    },
    {
     "name": "stderr",
     "output_type": "stream",
     "text": [
      "┌ Warning: Mapping to the storage type failed; perhaps your data had out-of-range values?\n",
      "│ Try `map(clamp01nan, img)` to clamp values to a valid range.\n",
      "└ @ ImageMagick C:\\Users\\Lukas\\.julia\\packages\\ImageMagick\\b8swT\\src\\ImageMagick.jl:180\n",
      "\u001b[32mProgress:  64%|███████████████████████████              |  ETA: 0:09:51\u001b[39m"
     ]
    },
    {
     "name": "stdout",
     "output_type": "stream",
     "text": [
      "Steps: 549, tries: 11\r"
     ]
    },
    {
     "name": "stderr",
     "output_type": "stream",
     "text": [
      "┌ Warning: Mapping to the storage type failed; perhaps your data had out-of-range values?\n",
      "│ Try `map(clamp01nan, img)` to clamp values to a valid range.\n",
      "└ @ ImageMagick C:\\Users\\Lukas\\.julia\\packages\\ImageMagick\\b8swT\\src\\ImageMagick.jl:180\n",
      "\u001b[32mProgress:  64%|███████████████████████████              |  ETA: 0:09:49\u001b[39m"
     ]
    },
    {
     "name": "stdout",
     "output_type": "stream",
     "text": [
      "Steps: 549, tries: 60\r"
     ]
    },
    {
     "name": "stderr",
     "output_type": "stream",
     "text": [
      "┌ Warning: Mapping to the storage type failed; perhaps your data had out-of-range values?\n",
      "│ Try `map(clamp01nan, img)` to clamp values to a valid range.\n",
      "└ @ ImageMagick C:\\Users\\Lukas\\.julia\\packages\\ImageMagick\\b8swT\\src\\ImageMagick.jl:180\n",
      "\u001b[32mProgress:  64%|███████████████████████████              |  ETA: 0:09:47\u001b[39m"
     ]
    },
    {
     "name": "stdout",
     "output_type": "stream",
     "text": [
      "Steps: 549, tries: 32\r"
     ]
    },
    {
     "name": "stderr",
     "output_type": "stream",
     "text": [
      "┌ Warning: Mapping to the storage type failed; perhaps your data had out-of-range values?\n",
      "│ Try `map(clamp01nan, img)` to clamp values to a valid range.\n",
      "└ @ ImageMagick C:\\Users\\Lukas\\.julia\\packages\\ImageMagick\\b8swT\\src\\ImageMagick.jl:180\n",
      "\u001b[32mProgress:  64%|███████████████████████████              |  ETA: 0:09:45\u001b[39m"
     ]
    },
    {
     "name": "stdout",
     "output_type": "stream",
     "text": [
      "Steps: 549, tries: 90\r"
     ]
    },
    {
     "name": "stderr",
     "output_type": "stream",
     "text": [
      "┌ Warning: Mapping to the storage type failed; perhaps your data had out-of-range values?\n",
      "│ Try `map(clamp01nan, img)` to clamp values to a valid range.\n",
      "└ @ ImageMagick C:\\Users\\Lukas\\.julia\\packages\\ImageMagick\\b8swT\\src\\ImageMagick.jl:180\n",
      "\u001b[32mProgress:  64%|███████████████████████████              |  ETA: 0:09:43\u001b[39m"
     ]
    },
    {
     "name": "stdout",
     "output_type": "stream",
     "text": [
      "Steps: 549, tries: 87\r"
     ]
    },
    {
     "name": "stderr",
     "output_type": "stream",
     "text": [
      "┌ Warning: Mapping to the storage type failed; perhaps your data had out-of-range values?\n",
      "│ Try `map(clamp01nan, img)` to clamp values to a valid range.\n",
      "└ @ ImageMagick C:\\Users\\Lukas\\.julia\\packages\\ImageMagick\\b8swT\\src\\ImageMagick.jl:180\n",
      "\u001b[32mProgress:  64%|███████████████████████████              |  ETA: 0:09:41\u001b[39m"
     ]
    },
    {
     "name": "stdout",
     "output_type": "stream",
     "text": [
      "Steps: 549, tries: 11\r"
     ]
    },
    {
     "name": "stderr",
     "output_type": "stream",
     "text": [
      "┌ Warning: Mapping to the storage type failed; perhaps your data had out-of-range values?\n",
      "│ Try `map(clamp01nan, img)` to clamp values to a valid range.\n",
      "└ @ ImageMagick C:\\Users\\Lukas\\.julia\\packages\\ImageMagick\\b8swT\\src\\ImageMagick.jl:180\n",
      "\u001b[32mProgress:  64%|███████████████████████████              |  ETA: 0:09:39\u001b[39m"
     ]
    },
    {
     "name": "stdout",
     "output_type": "stream",
     "text": [
      "Steps: 549, tries: 18\r"
     ]
    },
    {
     "name": "stderr",
     "output_type": "stream",
     "text": [
      "┌ Warning: Mapping to the storage type failed; perhaps your data had out-of-range values?\n",
      "│ Try `map(clamp01nan, img)` to clamp values to a valid range.\n",
      "└ @ ImageMagick C:\\Users\\Lukas\\.julia\\packages\\ImageMagick\\b8swT\\src\\ImageMagick.jl:180\n",
      "\u001b[32mProgress:  64%|███████████████████████████              |  ETA: 0:09:37\u001b[39m"
     ]
    },
    {
     "name": "stdout",
     "output_type": "stream",
     "text": [
      "Steps: 549, tries: 21\r"
     ]
    },
    {
     "name": "stderr",
     "output_type": "stream",
     "text": [
      "┌ Warning: Mapping to the storage type failed; perhaps your data had out-of-range values?\n",
      "│ Try `map(clamp01nan, img)` to clamp values to a valid range.\n",
      "└ @ ImageMagick C:\\Users\\Lukas\\.julia\\packages\\ImageMagick\\b8swT\\src\\ImageMagick.jl:180\n",
      "\u001b[32mProgress:  64%|███████████████████████████              |  ETA: 0:09:35\u001b[39m"
     ]
    },
    {
     "name": "stdout",
     "output_type": "stream",
     "text": [
      "Steps: 549, tries: 25\r"
     ]
    },
    {
     "name": "stderr",
     "output_type": "stream",
     "text": [
      "┌ Warning: Mapping to the storage type failed; perhaps your data had out-of-range values?\n",
      "│ Try `map(clamp01nan, img)` to clamp values to a valid range.\n",
      "└ @ ImageMagick C:\\Users\\Lukas\\.julia\\packages\\ImageMagick\\b8swT\\src\\ImageMagick.jl:180\n",
      "\u001b[32mProgress:  65%|███████████████████████████              |  ETA: 0:09:33\u001b[39m"
     ]
    },
    {
     "name": "stdout",
     "output_type": "stream",
     "text": [
      "Steps: 549, tries: 45\r"
     ]
    },
    {
     "name": "stderr",
     "output_type": "stream",
     "text": [
      "┌ Warning: Mapping to the storage type failed; perhaps your data had out-of-range values?\n",
      "│ Try `map(clamp01nan, img)` to clamp values to a valid range.\n",
      "└ @ ImageMagick C:\\Users\\Lukas\\.julia\\packages\\ImageMagick\\b8swT\\src\\ImageMagick.jl:180\n",
      "\u001b[32mProgress:  65%|███████████████████████████              |  ETA: 0:09:31\u001b[39m"
     ]
    },
    {
     "name": "stdout",
     "output_type": "stream",
     "text": [
      "Steps: 549, tries: 54\r"
     ]
    },
    {
     "name": "stderr",
     "output_type": "stream",
     "text": [
      "┌ Warning: Mapping to the storage type failed; perhaps your data had out-of-range values?\n",
      "│ Try `map(clamp01nan, img)` to clamp values to a valid range.\n",
      "└ @ ImageMagick C:\\Users\\Lukas\\.julia\\packages\\ImageMagick\\b8swT\\src\\ImageMagick.jl:180\n",
      "\u001b[32mProgress:  65%|███████████████████████████              |  ETA: 0:09:29\u001b[39m"
     ]
    },
    {
     "name": "stdout",
     "output_type": "stream",
     "text": [
      "Steps: 549, tries: 12\r"
     ]
    },
    {
     "name": "stderr",
     "output_type": "stream",
     "text": [
      "┌ Warning: Mapping to the storage type failed; perhaps your data had out-of-range values?\n",
      "│ Try `map(clamp01nan, img)` to clamp values to a valid range.\n",
      "└ @ ImageMagick C:\\Users\\Lukas\\.julia\\packages\\ImageMagick\\b8swT\\src\\ImageMagick.jl:180\n",
      "\u001b[32mProgress:  65%|███████████████████████████              |  ETA: 0:09:27\u001b[39m"
     ]
    },
    {
     "name": "stdout",
     "output_type": "stream",
     "text": [
      "Steps: 549, tries: 21\r"
     ]
    },
    {
     "name": "stderr",
     "output_type": "stream",
     "text": [
      "┌ Warning: Mapping to the storage type failed; perhaps your data had out-of-range values?\n",
      "│ Try `map(clamp01nan, img)` to clamp values to a valid range.\n",
      "└ @ ImageMagick C:\\Users\\Lukas\\.julia\\packages\\ImageMagick\\b8swT\\src\\ImageMagick.jl:180\n",
      "\u001b[32mProgress:  65%|███████████████████████████              |  ETA: 0:09:25\u001b[39m"
     ]
    },
    {
     "name": "stdout",
     "output_type": "stream",
     "text": [
      "Steps: 549, tries: 02\r"
     ]
    },
    {
     "name": "stderr",
     "output_type": "stream",
     "text": [
      "┌ Warning: Mapping to the storage type failed; perhaps your data had out-of-range values?\n",
      "│ Try `map(clamp01nan, img)` to clamp values to a valid range.\n",
      "└ @ ImageMagick C:\\Users\\Lukas\\.julia\\packages\\ImageMagick\\b8swT\\src\\ImageMagick.jl:180\n",
      "\u001b[32mProgress:  65%|███████████████████████████              |  ETA: 0:09:23\u001b[39m"
     ]
    },
    {
     "name": "stdout",
     "output_type": "stream",
     "text": [
      "Steps: 549, tries: 03\r"
     ]
    },
    {
     "name": "stderr",
     "output_type": "stream",
     "text": [
      "┌ Warning: Mapping to the storage type failed; perhaps your data had out-of-range values?\n",
      "│ Try `map(clamp01nan, img)` to clamp values to a valid range.\n",
      "└ @ ImageMagick C:\\Users\\Lukas\\.julia\\packages\\ImageMagick\\b8swT\\src\\ImageMagick.jl:180\n",
      "\u001b[32mProgress:  65%|███████████████████████████              |  ETA: 0:09:21\u001b[39m"
     ]
    },
    {
     "name": "stdout",
     "output_type": "stream",
     "text": [
      "Steps: 549, tries: 13\r"
     ]
    },
    {
     "name": "stderr",
     "output_type": "stream",
     "text": [
      "┌ Warning: Mapping to the storage type failed; perhaps your data had out-of-range values?\n",
      "│ Try `map(clamp01nan, img)` to clamp values to a valid range.\n",
      "└ @ ImageMagick C:\\Users\\Lukas\\.julia\\packages\\ImageMagick\\b8swT\\src\\ImageMagick.jl:180\n",
      "\u001b[32mProgress:  66%|███████████████████████████              |  ETA: 0:09:19\u001b[39m"
     ]
    },
    {
     "name": "stdout",
     "output_type": "stream",
     "text": [
      "Steps: 549, tries: 32\r"
     ]
    },
    {
     "name": "stderr",
     "output_type": "stream",
     "text": [
      "┌ Warning: Mapping to the storage type failed; perhaps your data had out-of-range values?\n",
      "│ Try `map(clamp01nan, img)` to clamp values to a valid range.\n",
      "└ @ ImageMagick C:\\Users\\Lukas\\.julia\\packages\\ImageMagick\\b8swT\\src\\ImageMagick.jl:180\n",
      "\r"
     ]
    },
    {
     "name": "stdout",
     "output_type": "stream",
     "text": [
      "Steps: 212, tries: 03\r"
     ]
    },
    {
     "name": "stderr",
     "output_type": "stream",
     "text": [
      "\u001b[32mProgress:  66%|███████████████████████████              |  ETA: 0:09:17\u001b[39m"
     ]
    },
    {
     "name": "stdout",
     "output_type": "stream",
     "text": [
      "Steps: 549, tries: 01\r"
     ]
    },
    {
     "name": "stderr",
     "output_type": "stream",
     "text": [
      "┌ Warning: Mapping to the storage type failed; perhaps your data had out-of-range values?\n",
      "│ Try `map(clamp01nan, img)` to clamp values to a valid range.\n",
      "└ @ ImageMagick C:\\Users\\Lukas\\.julia\\packages\\ImageMagick\\b8swT\\src\\ImageMagick.jl:180\n",
      "\u001b[32mProgress:  66%|███████████████████████████              |  ETA: 0:09:15\u001b[39m"
     ]
    },
    {
     "name": "stdout",
     "output_type": "stream",
     "text": [
      "Steps: 549, tries: 13\r"
     ]
    },
    {
     "name": "stderr",
     "output_type": "stream",
     "text": [
      "┌ Warning: Mapping to the storage type failed; perhaps your data had out-of-range values?\n",
      "│ Try `map(clamp01nan, img)` to clamp values to a valid range.\n",
      "└ @ ImageMagick C:\\Users\\Lukas\\.julia\\packages\\ImageMagick\\b8swT\\src\\ImageMagick.jl:180\n",
      "\u001b[32mProgress:  66%|████████████████████████████             |  ETA: 0:09:13\u001b[39m"
     ]
    },
    {
     "name": "stdout",
     "output_type": "stream",
     "text": [
      "Steps: 549, tries: 02\r"
     ]
    },
    {
     "name": "stderr",
     "output_type": "stream",
     "text": [
      "┌ Warning: Mapping to the storage type failed; perhaps your data had out-of-range values?\n",
      "│ Try `map(clamp01nan, img)` to clamp values to a valid range.\n",
      "└ @ ImageMagick C:\\Users\\Lukas\\.julia\\packages\\ImageMagick\\b8swT\\src\\ImageMagick.jl:180\n",
      "\r"
     ]
    },
    {
     "name": "stdout",
     "output_type": "stream",
     "text": [
      "Steps: 138, tries: 60\r"
     ]
    },
    {
     "name": "stderr",
     "output_type": "stream",
     "text": [
      "\u001b[32mProgress:  66%|████████████████████████████             |  ETA: 0:09:11\u001b[39m"
     ]
    },
    {
     "name": "stdout",
     "output_type": "stream",
     "text": [
      "Steps: 549, tries: 45\r"
     ]
    },
    {
     "name": "stderr",
     "output_type": "stream",
     "text": [
      "┌ Warning: Mapping to the storage type failed; perhaps your data had out-of-range values?\n",
      "│ Try `map(clamp01nan, img)` to clamp values to a valid range.\n",
      "└ @ ImageMagick C:\\Users\\Lukas\\.julia\\packages\\ImageMagick\\b8swT\\src\\ImageMagick.jl:180\n",
      "\u001b[32mProgress:  66%|████████████████████████████             |  ETA: 0:09:09\u001b[39m"
     ]
    },
    {
     "name": "stdout",
     "output_type": "stream",
     "text": [
      "Steps: 549, tries: 02\r"
     ]
    },
    {
     "name": "stderr",
     "output_type": "stream",
     "text": [
      "┌ Warning: Mapping to the storage type failed; perhaps your data had out-of-range values?\n",
      "│ Try `map(clamp01nan, img)` to clamp values to a valid range.\n",
      "└ @ ImageMagick C:\\Users\\Lukas\\.julia\\packages\\ImageMagick\\b8swT\\src\\ImageMagick.jl:180\n",
      "\u001b[32mProgress:  66%|████████████████████████████             |  ETA: 0:09:07\u001b[39m"
     ]
    },
    {
     "name": "stdout",
     "output_type": "stream",
     "text": [
      "Steps: 549, tries: 55\r"
     ]
    },
    {
     "name": "stderr",
     "output_type": "stream",
     "text": [
      "┌ Warning: Mapping to the storage type failed; perhaps your data had out-of-range values?\n",
      "│ Try `map(clamp01nan, img)` to clamp values to a valid range.\n",
      "└ @ ImageMagick C:\\Users\\Lukas\\.julia\\packages\\ImageMagick\\b8swT\\src\\ImageMagick.jl:180\n",
      "\u001b[32mProgress:  66%|████████████████████████████             |  ETA: 0:09:05\u001b[39m"
     ]
    },
    {
     "name": "stdout",
     "output_type": "stream",
     "text": [
      "Steps: 549, tries: 33\r"
     ]
    },
    {
     "name": "stderr",
     "output_type": "stream",
     "text": [
      "┌ Warning: Mapping to the storage type failed; perhaps your data had out-of-range values?\n",
      "│ Try `map(clamp01nan, img)` to clamp values to a valid range.\n",
      "└ @ ImageMagick C:\\Users\\Lukas\\.julia\\packages\\ImageMagick\\b8swT\\src\\ImageMagick.jl:180\n",
      "\u001b[32mProgress:  66%|████████████████████████████             |  ETA: 0:09:03\u001b[39m"
     ]
    },
    {
     "name": "stdout",
     "output_type": "stream",
     "text": [
      "Steps: 549, tries: 13\r"
     ]
    },
    {
     "name": "stderr",
     "output_type": "stream",
     "text": [
      "┌ Warning: Mapping to the storage type failed; perhaps your data had out-of-range values?\n",
      "│ Try `map(clamp01nan, img)` to clamp values to a valid range.\n",
      "└ @ ImageMagick C:\\Users\\Lukas\\.julia\\packages\\ImageMagick\\b8swT\\src\\ImageMagick.jl:180\n",
      "\u001b[32mProgress:  67%|████████████████████████████             |  ETA: 0:09:01\u001b[39m"
     ]
    },
    {
     "name": "stdout",
     "output_type": "stream",
     "text": [
      "Steps: 549, tries: 12\r"
     ]
    },
    {
     "name": "stderr",
     "output_type": "stream",
     "text": [
      "┌ Warning: Mapping to the storage type failed; perhaps your data had out-of-range values?\n",
      "│ Try `map(clamp01nan, img)` to clamp values to a valid range.\n",
      "└ @ ImageMagick C:\\Users\\Lukas\\.julia\\packages\\ImageMagick\\b8swT\\src\\ImageMagick.jl:180\n",
      "\u001b[32mProgress:  67%|████████████████████████████             |  ETA: 0:08:59\u001b[39m"
     ]
    },
    {
     "name": "stdout",
     "output_type": "stream",
     "text": [
      "Steps: 549, tries: 21\r"
     ]
    },
    {
     "name": "stderr",
     "output_type": "stream",
     "text": [
      "┌ Warning: Mapping to the storage type failed; perhaps your data had out-of-range values?\n",
      "│ Try `map(clamp01nan, img)` to clamp values to a valid range.\n",
      "└ @ ImageMagick C:\\Users\\Lukas\\.julia\\packages\\ImageMagick\\b8swT\\src\\ImageMagick.jl:180\n",
      "\u001b[32mProgress:  67%|████████████████████████████             |  ETA: 0:08:57\u001b[39m"
     ]
    },
    {
     "name": "stdout",
     "output_type": "stream",
     "text": [
      "Steps: 549, tries: 15\r"
     ]
    },
    {
     "name": "stderr",
     "output_type": "stream",
     "text": [
      "┌ Warning: Mapping to the storage type failed; perhaps your data had out-of-range values?\n",
      "│ Try `map(clamp01nan, img)` to clamp values to a valid range.\n",
      "└ @ ImageMagick C:\\Users\\Lukas\\.julia\\packages\\ImageMagick\\b8swT\\src\\ImageMagick.jl:180\n",
      "\u001b[32mProgress:  67%|████████████████████████████             |  ETA: 0:08:55\u001b[39m"
     ]
    },
    {
     "name": "stdout",
     "output_type": "stream",
     "text": [
      "Steps: 549, tries: 61\r"
     ]
    },
    {
     "name": "stderr",
     "output_type": "stream",
     "text": [
      "┌ Warning: Mapping to the storage type failed; perhaps your data had out-of-range values?\n",
      "│ Try `map(clamp01nan, img)` to clamp values to a valid range.\n",
      "└ @ ImageMagick C:\\Users\\Lukas\\.julia\\packages\\ImageMagick\\b8swT\\src\\ImageMagick.jl:180\n",
      "\u001b[32mProgress:  67%|████████████████████████████             |  ETA: 0:08:53\u001b[39m"
     ]
    },
    {
     "name": "stdout",
     "output_type": "stream",
     "text": [
      "Steps: 549, tries: 23\r"
     ]
    },
    {
     "name": "stderr",
     "output_type": "stream",
     "text": [
      "┌ Warning: Mapping to the storage type failed; perhaps your data had out-of-range values?\n",
      "│ Try `map(clamp01nan, img)` to clamp values to a valid range.\n",
      "└ @ ImageMagick C:\\Users\\Lukas\\.julia\\packages\\ImageMagick\\b8swT\\src\\ImageMagick.jl:180\n",
      "\u001b[32mProgress:  67%|████████████████████████████             |  ETA: 0:08:51\u001b[39m"
     ]
    },
    {
     "name": "stdout",
     "output_type": "stream",
     "text": [
      "Steps: 549, tries: 11\r"
     ]
    },
    {
     "name": "stderr",
     "output_type": "stream",
     "text": [
      "┌ Warning: Mapping to the storage type failed; perhaps your data had out-of-range values?\n",
      "│ Try `map(clamp01nan, img)` to clamp values to a valid range.\n",
      "└ @ ImageMagick C:\\Users\\Lukas\\.julia\\packages\\ImageMagick\\b8swT\\src\\ImageMagick.jl:180\n",
      "\u001b[32mProgress:  67%|████████████████████████████             |  ETA: 0:08:49\u001b[39m"
     ]
    },
    {
     "name": "stdout",
     "output_type": "stream",
     "text": [
      "Steps: 549, tries: 07\r"
     ]
    },
    {
     "name": "stderr",
     "output_type": "stream",
     "text": [
      "┌ Warning: Mapping to the storage type failed; perhaps your data had out-of-range values?\n",
      "│ Try `map(clamp01nan, img)` to clamp values to a valid range.\n",
      "└ @ ImageMagick C:\\Users\\Lukas\\.julia\\packages\\ImageMagick\\b8swT\\src\\ImageMagick.jl:180\n",
      "\u001b[32mProgress:  68%|████████████████████████████             |  ETA: 0:08:46\u001b[39m"
     ]
    },
    {
     "name": "stdout",
     "output_type": "stream",
     "text": [
      "Steps: 549, tries: 41\r"
     ]
    },
    {
     "name": "stderr",
     "output_type": "stream",
     "text": [
      "┌ Warning: Mapping to the storage type failed; perhaps your data had out-of-range values?\n",
      "│ Try `map(clamp01nan, img)` to clamp values to a valid range.\n",
      "└ @ ImageMagick C:\\Users\\Lukas\\.julia\\packages\\ImageMagick\\b8swT\\src\\ImageMagick.jl:180\n",
      "\u001b[32mProgress:  68%|████████████████████████████             |  ETA: 0:08:44\u001b[39m"
     ]
    },
    {
     "name": "stdout",
     "output_type": "stream",
     "text": [
      "Steps: 549, tries: 02\r"
     ]
    },
    {
     "name": "stderr",
     "output_type": "stream",
     "text": [
      "┌ Warning: Mapping to the storage type failed; perhaps your data had out-of-range values?\n",
      "│ Try `map(clamp01nan, img)` to clamp values to a valid range.\n",
      "└ @ ImageMagick C:\\Users\\Lukas\\.julia\\packages\\ImageMagick\\b8swT\\src\\ImageMagick.jl:180\n",
      "\u001b[32mProgress:  68%|████████████████████████████             |  ETA: 0:08:42\u001b[39m"
     ]
    },
    {
     "name": "stdout",
     "output_type": "stream",
     "text": [
      "Steps: 549, tries: 09\r"
     ]
    },
    {
     "name": "stderr",
     "output_type": "stream",
     "text": [
      "┌ Warning: Mapping to the storage type failed; perhaps your data had out-of-range values?\n",
      "│ Try `map(clamp01nan, img)` to clamp values to a valid range.\n",
      "└ @ ImageMagick C:\\Users\\Lukas\\.julia\\packages\\ImageMagick\\b8swT\\src\\ImageMagick.jl:180\n",
      "\u001b[32mProgress:  68%|████████████████████████████             |  ETA: 0:08:41\u001b[39m"
     ]
    },
    {
     "name": "stdout",
     "output_type": "stream",
     "text": [
      "Steps: 549, tries: 35\r"
     ]
    },
    {
     "name": "stderr",
     "output_type": "stream",
     "text": [
      "┌ Warning: Mapping to the storage type failed; perhaps your data had out-of-range values?\n",
      "│ Try `map(clamp01nan, img)` to clamp values to a valid range.\n",
      "└ @ ImageMagick C:\\Users\\Lukas\\.julia\\packages\\ImageMagick\\b8swT\\src\\ImageMagick.jl:180\n",
      "\u001b[32mProgress:  68%|████████████████████████████             |  ETA: 0:08:39\u001b[39m"
     ]
    },
    {
     "name": "stdout",
     "output_type": "stream",
     "text": [
      "Steps: 549, tries: 36\r"
     ]
    },
    {
     "name": "stderr",
     "output_type": "stream",
     "text": [
      "┌ Warning: Mapping to the storage type failed; perhaps your data had out-of-range values?\n",
      "│ Try `map(clamp01nan, img)` to clamp values to a valid range.\n",
      "└ @ ImageMagick C:\\Users\\Lukas\\.julia\\packages\\ImageMagick\\b8swT\\src\\ImageMagick.jl:180\n",
      "\u001b[32mProgress:  68%|████████████████████████████             |  ETA: 0:08:36\u001b[39m"
     ]
    },
    {
     "name": "stdout",
     "output_type": "stream",
     "text": [
      "Steps: 549, tries: 11\r"
     ]
    },
    {
     "name": "stderr",
     "output_type": "stream",
     "text": [
      "┌ Warning: Mapping to the storage type failed; perhaps your data had out-of-range values?\n",
      "│ Try `map(clamp01nan, img)` to clamp values to a valid range.\n",
      "└ @ ImageMagick C:\\Users\\Lukas\\.julia\\packages\\ImageMagick\\b8swT\\src\\ImageMagick.jl:180\n",
      "\u001b[32mProgress:  68%|████████████████████████████             |  ETA: 0:08:34\u001b[39m"
     ]
    },
    {
     "name": "stdout",
     "output_type": "stream",
     "text": [
      "Steps: 549, tries: 21\r"
     ]
    },
    {
     "name": "stderr",
     "output_type": "stream",
     "text": [
      "┌ Warning: Mapping to the storage type failed; perhaps your data had out-of-range values?\n",
      "│ Try `map(clamp01nan, img)` to clamp values to a valid range.\n",
      "└ @ ImageMagick C:\\Users\\Lukas\\.julia\\packages\\ImageMagick\\b8swT\\src\\ImageMagick.jl:180\n",
      "\u001b[32mProgress:  68%|█████████████████████████████            |  ETA: 0:08:32\u001b[39m"
     ]
    },
    {
     "name": "stdout",
     "output_type": "stream",
     "text": [
      "Steps: 549, tries: 41\r"
     ]
    },
    {
     "name": "stderr",
     "output_type": "stream",
     "text": [
      "┌ Warning: Mapping to the storage type failed; perhaps your data had out-of-range values?\n",
      "│ Try `map(clamp01nan, img)` to clamp values to a valid range.\n",
      "└ @ ImageMagick C:\\Users\\Lukas\\.julia\\packages\\ImageMagick\\b8swT\\src\\ImageMagick.jl:180\n",
      "\u001b[32mProgress:  68%|█████████████████████████████            |  ETA: 0:08:30\u001b[39m"
     ]
    },
    {
     "name": "stdout",
     "output_type": "stream",
     "text": [
      "Steps: 549, tries: 15\r"
     ]
    },
    {
     "name": "stderr",
     "output_type": "stream",
     "text": [
      "┌ Warning: Mapping to the storage type failed; perhaps your data had out-of-range values?\n",
      "│ Try `map(clamp01nan, img)` to clamp values to a valid range.\n",
      "└ @ ImageMagick C:\\Users\\Lukas\\.julia\\packages\\ImageMagick\\b8swT\\src\\ImageMagick.jl:180\n",
      "\u001b[32mProgress:  69%|█████████████████████████████            |  ETA: 0:08:28\u001b[39m"
     ]
    },
    {
     "name": "stdout",
     "output_type": "stream",
     "text": [
      "Steps: 549, tries: 57\r"
     ]
    },
    {
     "name": "stderr",
     "output_type": "stream",
     "text": [
      "┌ Warning: Mapping to the storage type failed; perhaps your data had out-of-range values?\n",
      "│ Try `map(clamp01nan, img)` to clamp values to a valid range.\n",
      "└ @ ImageMagick C:\\Users\\Lukas\\.julia\\packages\\ImageMagick\\b8swT\\src\\ImageMagick.jl:180\n",
      "\u001b[32mProgress:  69%|█████████████████████████████            |  ETA: 0:08:26\u001b[39m"
     ]
    },
    {
     "name": "stdout",
     "output_type": "stream",
     "text": [
      "Steps: 549, tries: 09\r"
     ]
    },
    {
     "name": "stderr",
     "output_type": "stream",
     "text": [
      "┌ Warning: Mapping to the storage type failed; perhaps your data had out-of-range values?\n",
      "│ Try `map(clamp01nan, img)` to clamp values to a valid range.\n",
      "└ @ ImageMagick C:\\Users\\Lukas\\.julia\\packages\\ImageMagick\\b8swT\\src\\ImageMagick.jl:180\n",
      "\u001b[32mProgress:  69%|█████████████████████████████            |  ETA: 0:08:24\u001b[39m"
     ]
    },
    {
     "name": "stdout",
     "output_type": "stream",
     "text": [
      "Steps: 549, tries: 28\r"
     ]
    },
    {
     "name": "stderr",
     "output_type": "stream",
     "text": [
      "┌ Warning: Mapping to the storage type failed; perhaps your data had out-of-range values?\n",
      "│ Try `map(clamp01nan, img)` to clamp values to a valid range.\n",
      "└ @ ImageMagick C:\\Users\\Lukas\\.julia\\packages\\ImageMagick\\b8swT\\src\\ImageMagick.jl:180\n",
      "\u001b[32mProgress:  69%|█████████████████████████████            |  ETA: 0:08:22\u001b[39m"
     ]
    },
    {
     "name": "stdout",
     "output_type": "stream",
     "text": [
      "Steps: 549, tries: 67\r"
     ]
    },
    {
     "name": "stderr",
     "output_type": "stream",
     "text": [
      "┌ Warning: Mapping to the storage type failed; perhaps your data had out-of-range values?\n",
      "│ Try `map(clamp01nan, img)` to clamp values to a valid range.\n",
      "└ @ ImageMagick C:\\Users\\Lukas\\.julia\\packages\\ImageMagick\\b8swT\\src\\ImageMagick.jl:180\n",
      "\u001b[32mProgress:  69%|█████████████████████████████            |  ETA: 0:08:20\u001b[39m"
     ]
    },
    {
     "name": "stdout",
     "output_type": "stream",
     "text": [
      "Steps: 549, tries: 61\r"
     ]
    },
    {
     "name": "stderr",
     "output_type": "stream",
     "text": [
      "┌ Warning: Mapping to the storage type failed; perhaps your data had out-of-range values?\n",
      "│ Try `map(clamp01nan, img)` to clamp values to a valid range.\n",
      "└ @ ImageMagick C:\\Users\\Lukas\\.julia\\packages\\ImageMagick\\b8swT\\src\\ImageMagick.jl:180\n",
      "\u001b[32mProgress:  69%|█████████████████████████████            |  ETA: 0:08:18\u001b[39m"
     ]
    },
    {
     "name": "stdout",
     "output_type": "stream",
     "text": [
      "Steps: 549, tries: 46\r"
     ]
    },
    {
     "name": "stderr",
     "output_type": "stream",
     "text": [
      "┌ Warning: Mapping to the storage type failed; perhaps your data had out-of-range values?\n",
      "│ Try `map(clamp01nan, img)` to clamp values to a valid range.\n",
      "└ @ ImageMagick C:\\Users\\Lukas\\.julia\\packages\\ImageMagick\\b8swT\\src\\ImageMagick.jl:180\n",
      "\u001b[32mProgress:  69%|█████████████████████████████            |  ETA: 0:08:16\u001b[39m"
     ]
    },
    {
     "name": "stdout",
     "output_type": "stream",
     "text": [
      "Steps: 549, tries: 02\r"
     ]
    },
    {
     "name": "stderr",
     "output_type": "stream",
     "text": [
      "┌ Warning: Mapping to the storage type failed; perhaps your data had out-of-range values?\n",
      "│ Try `map(clamp01nan, img)` to clamp values to a valid range.\n",
      "└ @ ImageMagick C:\\Users\\Lukas\\.julia\\packages\\ImageMagick\\b8swT\\src\\ImageMagick.jl:180\n",
      "\u001b[32mProgress:  70%|█████████████████████████████            |  ETA: 0:08:14\u001b[39m"
     ]
    },
    {
     "name": "stdout",
     "output_type": "stream",
     "text": [
      "Steps: 549, tries: 40\r"
     ]
    },
    {
     "name": "stderr",
     "output_type": "stream",
     "text": [
      "┌ Warning: Mapping to the storage type failed; perhaps your data had out-of-range values?\n",
      "│ Try `map(clamp01nan, img)` to clamp values to a valid range.\n",
      "└ @ ImageMagick C:\\Users\\Lukas\\.julia\\packages\\ImageMagick\\b8swT\\src\\ImageMagick.jl:180\n",
      "\u001b[32mProgress:  70%|█████████████████████████████            |  ETA: 0:08:12\u001b[39m"
     ]
    },
    {
     "name": "stdout",
     "output_type": "stream",
     "text": [
      "Steps: 549, tries: 76\r"
     ]
    },
    {
     "name": "stderr",
     "output_type": "stream",
     "text": [
      "┌ Warning: Mapping to the storage type failed; perhaps your data had out-of-range values?\n",
      "│ Try `map(clamp01nan, img)` to clamp values to a valid range.\n",
      "└ @ ImageMagick C:\\Users\\Lukas\\.julia\\packages\\ImageMagick\\b8swT\\src\\ImageMagick.jl:180\n",
      "\u001b[32mProgress:  70%|█████████████████████████████            |  ETA: 0:08:10\u001b[39m"
     ]
    },
    {
     "name": "stdout",
     "output_type": "stream",
     "text": [
      "Steps: 549, tries: 12\r"
     ]
    },
    {
     "name": "stderr",
     "output_type": "stream",
     "text": [
      "┌ Warning: Mapping to the storage type failed; perhaps your data had out-of-range values?\n",
      "│ Try `map(clamp01nan, img)` to clamp values to a valid range.\n",
      "└ @ ImageMagick C:\\Users\\Lukas\\.julia\\packages\\ImageMagick\\b8swT\\src\\ImageMagick.jl:180\n",
      "\u001b[32mProgress:  70%|█████████████████████████████            |  ETA: 0:08:08\u001b[39m"
     ]
    },
    {
     "name": "stdout",
     "output_type": "stream",
     "text": [
      "Steps: 549, tries: 28\r"
     ]
    },
    {
     "name": "stderr",
     "output_type": "stream",
     "text": [
      "┌ Warning: Mapping to the storage type failed; perhaps your data had out-of-range values?\n",
      "│ Try `map(clamp01nan, img)` to clamp values to a valid range.\n",
      "└ @ ImageMagick C:\\Users\\Lukas\\.julia\\packages\\ImageMagick\\b8swT\\src\\ImageMagick.jl:180\n",
      "\u001b[32mProgress:  70%|█████████████████████████████            |  ETA: 0:08:06\u001b[39m"
     ]
    },
    {
     "name": "stdout",
     "output_type": "stream",
     "text": [
      "Steps: 549, tries: 10\r"
     ]
    },
    {
     "name": "stderr",
     "output_type": "stream",
     "text": [
      "┌ Warning: Mapping to the storage type failed; perhaps your data had out-of-range values?\n",
      "│ Try `map(clamp01nan, img)` to clamp values to a valid range.\n",
      "└ @ ImageMagick C:\\Users\\Lukas\\.julia\\packages\\ImageMagick\\b8swT\\src\\ImageMagick.jl:180\n",
      "\u001b[32mProgress:  70%|█████████████████████████████            |  ETA: 0:08:04\u001b[39m"
     ]
    },
    {
     "name": "stdout",
     "output_type": "stream",
     "text": [
      "Steps: 549, tries: 34\r"
     ]
    },
    {
     "name": "stderr",
     "output_type": "stream",
     "text": [
      "┌ Warning: Mapping to the storage type failed; perhaps your data had out-of-range values?\n",
      "│ Try `map(clamp01nan, img)` to clamp values to a valid range.\n",
      "└ @ ImageMagick C:\\Users\\Lukas\\.julia\\packages\\ImageMagick\\b8swT\\src\\ImageMagick.jl:180\n",
      "\u001b[32mProgress:  70%|█████████████████████████████            |  ETA: 0:08:02\u001b[39m"
     ]
    },
    {
     "name": "stdout",
     "output_type": "stream",
     "text": [
      "Steps: 549, tries: 25\r"
     ]
    },
    {
     "name": "stderr",
     "output_type": "stream",
     "text": [
      "┌ Warning: Mapping to the storage type failed; perhaps your data had out-of-range values?\n",
      "│ Try `map(clamp01nan, img)` to clamp values to a valid range.\n",
      "└ @ ImageMagick C:\\Users\\Lukas\\.julia\\packages\\ImageMagick\\b8swT\\src\\ImageMagick.jl:180\n",
      "\u001b[32mProgress:  70%|█████████████████████████████            |  ETA: 0:08:00\u001b[39m"
     ]
    },
    {
     "name": "stdout",
     "output_type": "stream",
     "text": [
      "Steps: 549, tries: 12\r"
     ]
    },
    {
     "name": "stderr",
     "output_type": "stream",
     "text": [
      "┌ Warning: Mapping to the storage type failed; perhaps your data had out-of-range values?\n",
      "│ Try `map(clamp01nan, img)` to clamp values to a valid range.\n",
      "└ @ ImageMagick C:\\Users\\Lukas\\.julia\\packages\\ImageMagick\\b8swT\\src\\ImageMagick.jl:180\n",
      "\u001b[32mProgress:  70%|█████████████████████████████            |  ETA: 0:07:58\u001b[39m"
     ]
    },
    {
     "name": "stdout",
     "output_type": "stream",
     "text": [
      "Steps: 549, tries: 26\r"
     ]
    },
    {
     "name": "stderr",
     "output_type": "stream",
     "text": [
      "┌ Warning: Mapping to the storage type failed; perhaps your data had out-of-range values?\n",
      "│ Try `map(clamp01nan, img)` to clamp values to a valid range.\n",
      "└ @ ImageMagick C:\\Users\\Lukas\\.julia\\packages\\ImageMagick\\b8swT\\src\\ImageMagick.jl:180\n",
      "\u001b[32mProgress:  71%|█████████████████████████████            |  ETA: 0:07:55\u001b[39m"
     ]
    },
    {
     "name": "stdout",
     "output_type": "stream",
     "text": [
      "Steps: 549, tries: 11\r"
     ]
    },
    {
     "name": "stderr",
     "output_type": "stream",
     "text": [
      "┌ Warning: Mapping to the storage type failed; perhaps your data had out-of-range values?\n",
      "│ Try `map(clamp01nan, img)` to clamp values to a valid range.\n",
      "└ @ ImageMagick C:\\Users\\Lukas\\.julia\\packages\\ImageMagick\\b8swT\\src\\ImageMagick.jl:180\n",
      "\r"
     ]
    },
    {
     "name": "stdout",
     "output_type": "stream",
     "text": [
      "Steps: 130, tries: 13\r"
     ]
    },
    {
     "name": "stderr",
     "output_type": "stream",
     "text": [
      "\u001b[32mProgress:  71%|██████████████████████████████           |  ETA: 0:07:53\u001b[39m"
     ]
    },
    {
     "name": "stdout",
     "output_type": "stream",
     "text": [
      "Steps: 549, tries: 90\r"
     ]
    },
    {
     "name": "stderr",
     "output_type": "stream",
     "text": [
      "┌ Warning: Mapping to the storage type failed; perhaps your data had out-of-range values?\n",
      "│ Try `map(clamp01nan, img)` to clamp values to a valid range.\n",
      "└ @ ImageMagick C:\\Users\\Lukas\\.julia\\packages\\ImageMagick\\b8swT\\src\\ImageMagick.jl:180\n",
      "\u001b[32mProgress:  71%|██████████████████████████████           |  ETA: 0:07:51\u001b[39m"
     ]
    },
    {
     "name": "stdout",
     "output_type": "stream",
     "text": [
      "Steps: 549, tries: 43\r"
     ]
    },
    {
     "name": "stderr",
     "output_type": "stream",
     "text": [
      "┌ Warning: Mapping to the storage type failed; perhaps your data had out-of-range values?\n",
      "│ Try `map(clamp01nan, img)` to clamp values to a valid range.\n",
      "└ @ ImageMagick C:\\Users\\Lukas\\.julia\\packages\\ImageMagick\\b8swT\\src\\ImageMagick.jl:180\n",
      "\u001b[32mProgress:  71%|██████████████████████████████           |  ETA: 0:07:50\u001b[39m"
     ]
    },
    {
     "name": "stdout",
     "output_type": "stream",
     "text": [
      "Steps: 549, tries: 86\r"
     ]
    },
    {
     "name": "stderr",
     "output_type": "stream",
     "text": [
      "┌ Warning: Mapping to the storage type failed; perhaps your data had out-of-range values?\n",
      "│ Try `map(clamp01nan, img)` to clamp values to a valid range.\n",
      "└ @ ImageMagick C:\\Users\\Lukas\\.julia\\packages\\ImageMagick\\b8swT\\src\\ImageMagick.jl:180\n",
      "\u001b[32mProgress:  71%|██████████████████████████████           |  ETA: 0:07:48\u001b[39m"
     ]
    },
    {
     "name": "stdout",
     "output_type": "stream",
     "text": [
      "Steps: 549, tries: 33\r"
     ]
    },
    {
     "name": "stderr",
     "output_type": "stream",
     "text": [
      "┌ Warning: Mapping to the storage type failed; perhaps your data had out-of-range values?\n",
      "│ Try `map(clamp01nan, img)` to clamp values to a valid range.\n",
      "└ @ ImageMagick C:\\Users\\Lukas\\.julia\\packages\\ImageMagick\\b8swT\\src\\ImageMagick.jl:180\n",
      "\u001b[32mProgress:  71%|██████████████████████████████           |  ETA: 0:07:46\u001b[39m"
     ]
    },
    {
     "name": "stdout",
     "output_type": "stream",
     "text": [
      "Steps: 549, tries: 15\r"
     ]
    },
    {
     "name": "stderr",
     "output_type": "stream",
     "text": [
      "┌ Warning: Mapping to the storage type failed; perhaps your data had out-of-range values?\n",
      "│ Try `map(clamp01nan, img)` to clamp values to a valid range.\n",
      "└ @ ImageMagick C:\\Users\\Lukas\\.julia\\packages\\ImageMagick\\b8swT\\src\\ImageMagick.jl:180\n",
      "\u001b[32mProgress:  71%|██████████████████████████████           |  ETA: 0:07:44\u001b[39m"
     ]
    },
    {
     "name": "stdout",
     "output_type": "stream",
     "text": [
      "Steps: 549, tries: 22\r"
     ]
    },
    {
     "name": "stderr",
     "output_type": "stream",
     "text": [
      "┌ Warning: Mapping to the storage type failed; perhaps your data had out-of-range values?\n",
      "│ Try `map(clamp01nan, img)` to clamp values to a valid range.\n",
      "└ @ ImageMagick C:\\Users\\Lukas\\.julia\\packages\\ImageMagick\\b8swT\\src\\ImageMagick.jl:180\n",
      "\u001b[32mProgress:  72%|██████████████████████████████           |  ETA: 0:07:42\u001b[39m"
     ]
    },
    {
     "name": "stdout",
     "output_type": "stream",
     "text": [
      "Steps: 549, tries: 70\r"
     ]
    },
    {
     "name": "stderr",
     "output_type": "stream",
     "text": [
      "┌ Warning: Mapping to the storage type failed; perhaps your data had out-of-range values?\n",
      "│ Try `map(clamp01nan, img)` to clamp values to a valid range.\n",
      "└ @ ImageMagick C:\\Users\\Lukas\\.julia\\packages\\ImageMagick\\b8swT\\src\\ImageMagick.jl:180\n",
      "\u001b[32mProgress:  72%|██████████████████████████████           |  ETA: 0:07:40\u001b[39m"
     ]
    },
    {
     "name": "stdout",
     "output_type": "stream",
     "text": [
      "Steps: 549, tries: 20\r"
     ]
    },
    {
     "name": "stderr",
     "output_type": "stream",
     "text": [
      "┌ Warning: Mapping to the storage type failed; perhaps your data had out-of-range values?\n",
      "│ Try `map(clamp01nan, img)` to clamp values to a valid range.\n",
      "└ @ ImageMagick C:\\Users\\Lukas\\.julia\\packages\\ImageMagick\\b8swT\\src\\ImageMagick.jl:180\n",
      "\u001b[32mProgress:  72%|██████████████████████████████           |  ETA: 0:07:38\u001b[39m"
     ]
    },
    {
     "name": "stdout",
     "output_type": "stream",
     "text": [
      "Steps: 549, tries: 15\r"
     ]
    },
    {
     "name": "stderr",
     "output_type": "stream",
     "text": [
      "┌ Warning: Mapping to the storage type failed; perhaps your data had out-of-range values?\n",
      "│ Try `map(clamp01nan, img)` to clamp values to a valid range.\n",
      "└ @ ImageMagick C:\\Users\\Lukas\\.julia\\packages\\ImageMagick\\b8swT\\src\\ImageMagick.jl:180\n",
      "\u001b[32mProgress:  72%|██████████████████████████████           |  ETA: 0:07:36\u001b[39m"
     ]
    },
    {
     "name": "stdout",
     "output_type": "stream",
     "text": [
      "Steps: 549, tries: 11\r"
     ]
    },
    {
     "name": "stderr",
     "output_type": "stream",
     "text": [
      "┌ Warning: Mapping to the storage type failed; perhaps your data had out-of-range values?\n",
      "│ Try `map(clamp01nan, img)` to clamp values to a valid range.\n",
      "└ @ ImageMagick C:\\Users\\Lukas\\.julia\\packages\\ImageMagick\\b8swT\\src\\ImageMagick.jl:180\n",
      "\u001b[32mProgress:  72%|██████████████████████████████           |  ETA: 0:07:34\u001b[39m"
     ]
    },
    {
     "name": "stdout",
     "output_type": "stream",
     "text": [
      "Steps: 549, tries: 47\r"
     ]
    },
    {
     "name": "stderr",
     "output_type": "stream",
     "text": [
      "┌ Warning: Mapping to the storage type failed; perhaps your data had out-of-range values?\n",
      "│ Try `map(clamp01nan, img)` to clamp values to a valid range.\n",
      "└ @ ImageMagick C:\\Users\\Lukas\\.julia\\packages\\ImageMagick\\b8swT\\src\\ImageMagick.jl:180\n",
      "\r"
     ]
    },
    {
     "name": "stdout",
     "output_type": "stream",
     "text": [
      "Steps: 121, tries: 15\r"
     ]
    },
    {
     "name": "stderr",
     "output_type": "stream",
     "text": [
      "\u001b[32mProgress:  72%|██████████████████████████████           |  ETA: 0:07:32\u001b[39m"
     ]
    },
    {
     "name": "stdout",
     "output_type": "stream",
     "text": [
      "Steps: 549, tries: 73\r"
     ]
    },
    {
     "name": "stderr",
     "output_type": "stream",
     "text": [
      "┌ Warning: Mapping to the storage type failed; perhaps your data had out-of-range values?\n",
      "│ Try `map(clamp01nan, img)` to clamp values to a valid range.\n",
      "└ @ ImageMagick C:\\Users\\Lukas\\.julia\\packages\\ImageMagick\\b8swT\\src\\ImageMagick.jl:180\n",
      "\u001b[32mProgress:  72%|██████████████████████████████           |  ETA: 0:07:30\u001b[39m"
     ]
    },
    {
     "name": "stdout",
     "output_type": "stream",
     "text": [
      "Steps: 549, tries: 11\r"
     ]
    },
    {
     "name": "stderr",
     "output_type": "stream",
     "text": [
      "┌ Warning: Mapping to the storage type failed; perhaps your data had out-of-range values?\n",
      "│ Try `map(clamp01nan, img)` to clamp values to a valid range.\n",
      "└ @ ImageMagick C:\\Users\\Lukas\\.julia\\packages\\ImageMagick\\b8swT\\src\\ImageMagick.jl:180\n",
      "\u001b[32mProgress:  72%|██████████████████████████████           |  ETA: 0:07:28\u001b[39m"
     ]
    },
    {
     "name": "stdout",
     "output_type": "stream",
     "text": [
      "Steps: 549, tries: 44\r"
     ]
    },
    {
     "name": "stderr",
     "output_type": "stream",
     "text": [
      "┌ Warning: Mapping to the storage type failed; perhaps your data had out-of-range values?\n",
      "│ Try `map(clamp01nan, img)` to clamp values to a valid range.\n",
      "└ @ ImageMagick C:\\Users\\Lukas\\.julia\\packages\\ImageMagick\\b8swT\\src\\ImageMagick.jl:180\n",
      "\u001b[32mProgress:  72%|██████████████████████████████           |  ETA: 0:07:26\u001b[39m"
     ]
    },
    {
     "name": "stdout",
     "output_type": "stream",
     "text": [
      "Steps: 549, tries: 15\r"
     ]
    },
    {
     "name": "stderr",
     "output_type": "stream",
     "text": [
      "┌ Warning: Mapping to the storage type failed; perhaps your data had out-of-range values?\n",
      "│ Try `map(clamp01nan, img)` to clamp values to a valid range.\n",
      "└ @ ImageMagick C:\\Users\\Lukas\\.julia\\packages\\ImageMagick\\b8swT\\src\\ImageMagick.jl:180\n",
      "\u001b[32mProgress:  73%|██████████████████████████████           |  ETA: 0:07:24\u001b[39m"
     ]
    },
    {
     "name": "stdout",
     "output_type": "stream",
     "text": [
      "Steps: 549, tries: 86\r"
     ]
    },
    {
     "name": "stderr",
     "output_type": "stream",
     "text": [
      "┌ Warning: Mapping to the storage type failed; perhaps your data had out-of-range values?\n",
      "│ Try `map(clamp01nan, img)` to clamp values to a valid range.\n",
      "└ @ ImageMagick C:\\Users\\Lukas\\.julia\\packages\\ImageMagick\\b8swT\\src\\ImageMagick.jl:180\n",
      "\u001b[32mProgress:  73%|██████████████████████████████           |  ETA: 0:07:22\u001b[39m"
     ]
    },
    {
     "name": "stdout",
     "output_type": "stream",
     "text": [
      "Steps: 549, tries: 67\r"
     ]
    },
    {
     "name": "stderr",
     "output_type": "stream",
     "text": [
      "┌ Warning: Mapping to the storage type failed; perhaps your data had out-of-range values?\n",
      "│ Try `map(clamp01nan, img)` to clamp values to a valid range.\n",
      "└ @ ImageMagick C:\\Users\\Lukas\\.julia\\packages\\ImageMagick\\b8swT\\src\\ImageMagick.jl:180\n",
      "\u001b[32mProgress:  73%|██████████████████████████████           |  ETA: 0:07:20\u001b[39m"
     ]
    },
    {
     "name": "stdout",
     "output_type": "stream",
     "text": [
      "Steps: 549, tries: 81\r"
     ]
    },
    {
     "name": "stderr",
     "output_type": "stream",
     "text": [
      "┌ Warning: Mapping to the storage type failed; perhaps your data had out-of-range values?\n",
      "│ Try `map(clamp01nan, img)` to clamp values to a valid range.\n",
      "└ @ ImageMagick C:\\Users\\Lukas\\.julia\\packages\\ImageMagick\\b8swT\\src\\ImageMagick.jl:180\n",
      "\u001b[32mProgress:  73%|██████████████████████████████           |  ETA: 0:07:18\u001b[39m"
     ]
    },
    {
     "name": "stdout",
     "output_type": "stream",
     "text": [
      "Steps: 549, tries: 14\r"
     ]
    },
    {
     "name": "stderr",
     "output_type": "stream",
     "text": [
      "┌ Warning: Mapping to the storage type failed; perhaps your data had out-of-range values?\n",
      "│ Try `map(clamp01nan, img)` to clamp values to a valid range.\n",
      "└ @ ImageMagick C:\\Users\\Lukas\\.julia\\packages\\ImageMagick\\b8swT\\src\\ImageMagick.jl:180\n",
      "\u001b[32mProgress:  73%|██████████████████████████████           |  ETA: 0:07:16\u001b[39m"
     ]
    },
    {
     "name": "stdout",
     "output_type": "stream",
     "text": [
      "Steps: 549, tries: 35\r"
     ]
    },
    {
     "name": "stderr",
     "output_type": "stream",
     "text": [
      "┌ Warning: Mapping to the storage type failed; perhaps your data had out-of-range values?\n",
      "│ Try `map(clamp01nan, img)` to clamp values to a valid range.\n",
      "└ @ ImageMagick C:\\Users\\Lukas\\.julia\\packages\\ImageMagick\\b8swT\\src\\ImageMagick.jl:180\n",
      "\u001b[32mProgress:  73%|███████████████████████████████          |  ETA: 0:07:14\u001b[39m"
     ]
    },
    {
     "name": "stdout",
     "output_type": "stream",
     "text": [
      "Steps: 549, tries: 97\r"
     ]
    },
    {
     "name": "stderr",
     "output_type": "stream",
     "text": [
      "┌ Warning: Mapping to the storage type failed; perhaps your data had out-of-range values?\n",
      "│ Try `map(clamp01nan, img)` to clamp values to a valid range.\n",
      "└ @ ImageMagick C:\\Users\\Lukas\\.julia\\packages\\ImageMagick\\b8swT\\src\\ImageMagick.jl:180\n",
      "\u001b[32mProgress:  73%|███████████████████████████████          |  ETA: 0:07:12\u001b[39m"
     ]
    },
    {
     "name": "stdout",
     "output_type": "stream",
     "text": [
      "Steps: 549, tries: 16\r"
     ]
    },
    {
     "name": "stderr",
     "output_type": "stream",
     "text": [
      "┌ Warning: Mapping to the storage type failed; perhaps your data had out-of-range values?\n",
      "│ Try `map(clamp01nan, img)` to clamp values to a valid range.\n",
      "└ @ ImageMagick C:\\Users\\Lukas\\.julia\\packages\\ImageMagick\\b8swT\\src\\ImageMagick.jl:180\n",
      "\u001b[32mProgress:  74%|███████████████████████████████          |  ETA: 0:07:10\u001b[39m"
     ]
    },
    {
     "name": "stdout",
     "output_type": "stream",
     "text": [
      "Steps: 549, tries: 62\r"
     ]
    },
    {
     "name": "stderr",
     "output_type": "stream",
     "text": [
      "┌ Warning: Mapping to the storage type failed; perhaps your data had out-of-range values?\n",
      "│ Try `map(clamp01nan, img)` to clamp values to a valid range.\n",
      "└ @ ImageMagick C:\\Users\\Lukas\\.julia\\packages\\ImageMagick\\b8swT\\src\\ImageMagick.jl:180\n",
      "\u001b[32mProgress:  74%|███████████████████████████████          |  ETA: 0:07:08\u001b[39m"
     ]
    },
    {
     "name": "stdout",
     "output_type": "stream",
     "text": [
      "Steps: 549, tries: 11\r"
     ]
    },
    {
     "name": "stderr",
     "output_type": "stream",
     "text": [
      "┌ Warning: Mapping to the storage type failed; perhaps your data had out-of-range values?\n",
      "│ Try `map(clamp01nan, img)` to clamp values to a valid range.\n",
      "└ @ ImageMagick C:\\Users\\Lukas\\.julia\\packages\\ImageMagick\\b8swT\\src\\ImageMagick.jl:180\n",
      "\u001b[32mProgress:  74%|███████████████████████████████          |  ETA: 0:07:06\u001b[39m"
     ]
    },
    {
     "name": "stdout",
     "output_type": "stream",
     "text": [
      "Steps: 549, tries: 75\r"
     ]
    },
    {
     "name": "stderr",
     "output_type": "stream",
     "text": [
      "┌ Warning: Mapping to the storage type failed; perhaps your data had out-of-range values?\n",
      "│ Try `map(clamp01nan, img)` to clamp values to a valid range.\n",
      "└ @ ImageMagick C:\\Users\\Lukas\\.julia\\packages\\ImageMagick\\b8swT\\src\\ImageMagick.jl:180\n",
      "\u001b[32mProgress:  74%|███████████████████████████████          |  ETA: 0:07:04\u001b[39m"
     ]
    },
    {
     "name": "stdout",
     "output_type": "stream",
     "text": [
      "Steps: 549, tries: 64\r"
     ]
    },
    {
     "name": "stderr",
     "output_type": "stream",
     "text": [
      "┌ Warning: Mapping to the storage type failed; perhaps your data had out-of-range values?\n",
      "│ Try `map(clamp01nan, img)` to clamp values to a valid range.\n",
      "└ @ ImageMagick C:\\Users\\Lukas\\.julia\\packages\\ImageMagick\\b8swT\\src\\ImageMagick.jl:180\n",
      "\u001b[32mProgress:  74%|███████████████████████████████          |  ETA: 0:07:02\u001b[39m"
     ]
    },
    {
     "name": "stdout",
     "output_type": "stream",
     "text": [
      "Steps: 549, tries: 33\r"
     ]
    },
    {
     "name": "stderr",
     "output_type": "stream",
     "text": [
      "┌ Warning: Mapping to the storage type failed; perhaps your data had out-of-range values?\n",
      "│ Try `map(clamp01nan, img)` to clamp values to a valid range.\n",
      "└ @ ImageMagick C:\\Users\\Lukas\\.julia\\packages\\ImageMagick\\b8swT\\src\\ImageMagick.jl:180\n",
      "\u001b[32mProgress:  74%|███████████████████████████████          |  ETA: 0:07:00\u001b[39m"
     ]
    },
    {
     "name": "stdout",
     "output_type": "stream",
     "text": [
      "Steps: 549, tries: 01\r"
     ]
    },
    {
     "name": "stderr",
     "output_type": "stream",
     "text": [
      "┌ Warning: Mapping to the storage type failed; perhaps your data had out-of-range values?\n",
      "│ Try `map(clamp01nan, img)` to clamp values to a valid range.\n",
      "└ @ ImageMagick C:\\Users\\Lukas\\.julia\\packages\\ImageMagick\\b8swT\\src\\ImageMagick.jl:180\n",
      "\u001b[32mProgress:  74%|███████████████████████████████          |  ETA: 0:06:58\u001b[39m"
     ]
    },
    {
     "name": "stdout",
     "output_type": "stream",
     "text": [
      "Steps: 549, tries: 12\r"
     ]
    },
    {
     "name": "stderr",
     "output_type": "stream",
     "text": [
      "┌ Warning: Mapping to the storage type failed; perhaps your data had out-of-range values?\n",
      "│ Try `map(clamp01nan, img)` to clamp values to a valid range.\n",
      "└ @ ImageMagick C:\\Users\\Lukas\\.julia\\packages\\ImageMagick\\b8swT\\src\\ImageMagick.jl:180\n",
      "\u001b[32mProgress:  74%|███████████████████████████████          |  ETA: 0:06:56\u001b[39m"
     ]
    },
    {
     "name": "stdout",
     "output_type": "stream",
     "text": [
      "Steps: 549, tries: 38\r"
     ]
    },
    {
     "name": "stderr",
     "output_type": "stream",
     "text": [
      "┌ Warning: Mapping to the storage type failed; perhaps your data had out-of-range values?\n",
      "│ Try `map(clamp01nan, img)` to clamp values to a valid range.\n",
      "└ @ ImageMagick C:\\Users\\Lukas\\.julia\\packages\\ImageMagick\\b8swT\\src\\ImageMagick.jl:180\n",
      "\u001b[32mProgress:  74%|███████████████████████████████          |  ETA: 0:06:54\u001b[39m"
     ]
    },
    {
     "name": "stdout",
     "output_type": "stream",
     "text": [
      "Steps: 549, tries: 30\r"
     ]
    },
    {
     "name": "stderr",
     "output_type": "stream",
     "text": [
      "┌ Warning: Mapping to the storage type failed; perhaps your data had out-of-range values?\n",
      "│ Try `map(clamp01nan, img)` to clamp values to a valid range.\n",
      "└ @ ImageMagick C:\\Users\\Lukas\\.julia\\packages\\ImageMagick\\b8swT\\src\\ImageMagick.jl:180\n",
      "\u001b[32mProgress:  75%|███████████████████████████████          |  ETA: 0:06:52\u001b[39m"
     ]
    },
    {
     "name": "stdout",
     "output_type": "stream",
     "text": [
      "Steps: 549, tries: 54\r"
     ]
    },
    {
     "name": "stderr",
     "output_type": "stream",
     "text": [
      "┌ Warning: Mapping to the storage type failed; perhaps your data had out-of-range values?\n",
      "│ Try `map(clamp01nan, img)` to clamp values to a valid range.\n",
      "└ @ ImageMagick C:\\Users\\Lukas\\.julia\\packages\\ImageMagick\\b8swT\\src\\ImageMagick.jl:180\n",
      "\u001b[32mProgress:  75%|███████████████████████████████          |  ETA: 0:06:50\u001b[39m"
     ]
    },
    {
     "name": "stdout",
     "output_type": "stream",
     "text": [
      "Steps: 549, tries: 61\r"
     ]
    },
    {
     "name": "stderr",
     "output_type": "stream",
     "text": [
      "┌ Warning: Mapping to the storage type failed; perhaps your data had out-of-range values?\n",
      "│ Try `map(clamp01nan, img)` to clamp values to a valid range.\n",
      "└ @ ImageMagick C:\\Users\\Lukas\\.julia\\packages\\ImageMagick\\b8swT\\src\\ImageMagick.jl:180\n",
      "\u001b[32mProgress:  75%|███████████████████████████████          |  ETA: 0:06:48\u001b[39m"
     ]
    },
    {
     "name": "stdout",
     "output_type": "stream",
     "text": [
      "Steps: 549, tries: 85\r"
     ]
    },
    {
     "name": "stderr",
     "output_type": "stream",
     "text": [
      "┌ Warning: Mapping to the storage type failed; perhaps your data had out-of-range values?\n",
      "│ Try `map(clamp01nan, img)` to clamp values to a valid range.\n",
      "└ @ ImageMagick C:\\Users\\Lukas\\.julia\\packages\\ImageMagick\\b8swT\\src\\ImageMagick.jl:180\n",
      "\u001b[32mProgress:  75%|███████████████████████████████          |  ETA: 0:06:47\u001b[39m"
     ]
    },
    {
     "name": "stdout",
     "output_type": "stream",
     "text": [
      "Steps: 549, tries: 11\r"
     ]
    },
    {
     "name": "stderr",
     "output_type": "stream",
     "text": [
      "┌ Warning: Mapping to the storage type failed; perhaps your data had out-of-range values?\n",
      "│ Try `map(clamp01nan, img)` to clamp values to a valid range.\n",
      "└ @ ImageMagick C:\\Users\\Lukas\\.julia\\packages\\ImageMagick\\b8swT\\src\\ImageMagick.jl:180\n",
      "\u001b[32mProgress:  75%|███████████████████████████████          |  ETA: 0:06:45\u001b[39m"
     ]
    },
    {
     "name": "stdout",
     "output_type": "stream",
     "text": [
      "Steps: 549, tries: 44\r"
     ]
    },
    {
     "name": "stderr",
     "output_type": "stream",
     "text": [
      "┌ Warning: Mapping to the storage type failed; perhaps your data had out-of-range values?\n",
      "│ Try `map(clamp01nan, img)` to clamp values to a valid range.\n",
      "└ @ ImageMagick C:\\Users\\Lukas\\.julia\\packages\\ImageMagick\\b8swT\\src\\ImageMagick.jl:180\n",
      "\u001b[32mProgress:  75%|███████████████████████████████          |  ETA: 0:06:43\u001b[39m"
     ]
    },
    {
     "name": "stdout",
     "output_type": "stream",
     "text": [
      "Steps: 549, tries: 13\r"
     ]
    },
    {
     "name": "stderr",
     "output_type": "stream",
     "text": [
      "┌ Warning: Mapping to the storage type failed; perhaps your data had out-of-range values?\n",
      "│ Try `map(clamp01nan, img)` to clamp values to a valid range.\n",
      "└ @ ImageMagick C:\\Users\\Lukas\\.julia\\packages\\ImageMagick\\b8swT\\src\\ImageMagick.jl:180\n",
      "\u001b[32mProgress:  75%|███████████████████████████████          |  ETA: 0:06:41\u001b[39m"
     ]
    },
    {
     "name": "stdout",
     "output_type": "stream",
     "text": [
      "Steps: 549, tries: 07\r"
     ]
    },
    {
     "name": "stderr",
     "output_type": "stream",
     "text": [
      "┌ Warning: Mapping to the storage type failed; perhaps your data had out-of-range values?\n",
      "│ Try `map(clamp01nan, img)` to clamp values to a valid range.\n",
      "└ @ ImageMagick C:\\Users\\Lukas\\.julia\\packages\\ImageMagick\\b8swT\\src\\ImageMagick.jl:180\n",
      "\u001b[32mProgress:  76%|███████████████████████████████          |  ETA: 0:06:39\u001b[39m"
     ]
    },
    {
     "name": "stdout",
     "output_type": "stream",
     "text": [
      "Steps: 549, tries: 33\r"
     ]
    },
    {
     "name": "stderr",
     "output_type": "stream",
     "text": [
      "┌ Warning: Mapping to the storage type failed; perhaps your data had out-of-range values?\n",
      "│ Try `map(clamp01nan, img)` to clamp values to a valid range.\n",
      "└ @ ImageMagick C:\\Users\\Lukas\\.julia\\packages\\ImageMagick\\b8swT\\src\\ImageMagick.jl:180\n",
      "\u001b[32mProgress:  76%|████████████████████████████████         |  ETA: 0:06:37\u001b[39m"
     ]
    },
    {
     "name": "stdout",
     "output_type": "stream",
     "text": [
      "Steps: 549, tries: 24\r"
     ]
    },
    {
     "name": "stderr",
     "output_type": "stream",
     "text": [
      "┌ Warning: Mapping to the storage type failed; perhaps your data had out-of-range values?\n",
      "│ Try `map(clamp01nan, img)` to clamp values to a valid range.\n",
      "└ @ ImageMagick C:\\Users\\Lukas\\.julia\\packages\\ImageMagick\\b8swT\\src\\ImageMagick.jl:180\n",
      "\u001b[32mProgress:  76%|████████████████████████████████         |  ETA: 0:06:35\u001b[39m"
     ]
    },
    {
     "name": "stdout",
     "output_type": "stream",
     "text": [
      "Steps: 549, tries: 00\r"
     ]
    },
    {
     "name": "stderr",
     "output_type": "stream",
     "text": [
      "┌ Warning: Mapping to the storage type failed; perhaps your data had out-of-range values?\n",
      "│ Try `map(clamp01nan, img)` to clamp values to a valid range.\n",
      "└ @ ImageMagick C:\\Users\\Lukas\\.julia\\packages\\ImageMagick\\b8swT\\src\\ImageMagick.jl:180\n",
      "\r"
     ]
    },
    {
     "name": "stdout",
     "output_type": "stream",
     "text": [
      "Steps: 114, tries: 75\r"
     ]
    },
    {
     "name": "stderr",
     "output_type": "stream",
     "text": [
      "\u001b[32mProgress:  76%|████████████████████████████████         |  ETA: 0:06:33\u001b[39m"
     ]
    },
    {
     "name": "stdout",
     "output_type": "stream",
     "text": [
      "Steps: 549, tries: 07\r"
     ]
    },
    {
     "name": "stderr",
     "output_type": "stream",
     "text": [
      "┌ Warning: Mapping to the storage type failed; perhaps your data had out-of-range values?\n",
      "│ Try `map(clamp01nan, img)` to clamp values to a valid range.\n",
      "└ @ ImageMagick C:\\Users\\Lukas\\.julia\\packages\\ImageMagick\\b8swT\\src\\ImageMagick.jl:180\n",
      "\u001b[32mProgress:  76%|████████████████████████████████         |  ETA: 0:06:31\u001b[39m"
     ]
    },
    {
     "name": "stdout",
     "output_type": "stream",
     "text": [
      "Steps: 549, tries: 63\r"
     ]
    },
    {
     "name": "stderr",
     "output_type": "stream",
     "text": [
      "┌ Warning: Mapping to the storage type failed; perhaps your data had out-of-range values?\n",
      "│ Try `map(clamp01nan, img)` to clamp values to a valid range.\n",
      "└ @ ImageMagick C:\\Users\\Lukas\\.julia\\packages\\ImageMagick\\b8swT\\src\\ImageMagick.jl:180\n",
      "\u001b[32mProgress:  76%|████████████████████████████████         |  ETA: 0:06:29\u001b[39m"
     ]
    },
    {
     "name": "stdout",
     "output_type": "stream",
     "text": [
      "Steps: 549, tries: 10\r"
     ]
    },
    {
     "name": "stderr",
     "output_type": "stream",
     "text": [
      "┌ Warning: Mapping to the storage type failed; perhaps your data had out-of-range values?\n",
      "│ Try `map(clamp01nan, img)` to clamp values to a valid range.\n",
      "└ @ ImageMagick C:\\Users\\Lukas\\.julia\\packages\\ImageMagick\\b8swT\\src\\ImageMagick.jl:180\n",
      "\r"
     ]
    },
    {
     "name": "stdout",
     "output_type": "stream",
     "text": [
      "Steps: 84, tries: 29\r"
     ]
    },
    {
     "name": "stderr",
     "output_type": "stream",
     "text": [
      "\u001b[32mProgress:  76%|████████████████████████████████         |  ETA: 0:06:27\u001b[39m"
     ]
    },
    {
     "name": "stdout",
     "output_type": "stream",
     "text": [
      "Steps: 549, tries: 14\r"
     ]
    },
    {
     "name": "stderr",
     "output_type": "stream",
     "text": [
      "┌ Warning: Mapping to the storage type failed; perhaps your data had out-of-range values?\n",
      "│ Try `map(clamp01nan, img)` to clamp values to a valid range.\n",
      "└ @ ImageMagick C:\\Users\\Lukas\\.julia\\packages\\ImageMagick\\b8swT\\src\\ImageMagick.jl:180\n",
      "\u001b[32mProgress:  76%|████████████████████████████████         |  ETA: 0:06:25\u001b[39m"
     ]
    },
    {
     "name": "stdout",
     "output_type": "stream",
     "text": [
      "Steps: 549, tries: 10\r"
     ]
    },
    {
     "name": "stderr",
     "output_type": "stream",
     "text": [
      "┌ Warning: Mapping to the storage type failed; perhaps your data had out-of-range values?\n",
      "│ Try `map(clamp01nan, img)` to clamp values to a valid range.\n",
      "└ @ ImageMagick C:\\Users\\Lukas\\.julia\\packages\\ImageMagick\\b8swT\\src\\ImageMagick.jl:180\n",
      "\u001b[32mProgress:  76%|████████████████████████████████         |  ETA: 0:06:23\u001b[39m"
     ]
    },
    {
     "name": "stdout",
     "output_type": "stream",
     "text": [
      "Steps: 549, tries: 02\r"
     ]
    },
    {
     "name": "stderr",
     "output_type": "stream",
     "text": [
      "┌ Warning: Mapping to the storage type failed; perhaps your data had out-of-range values?\n",
      "│ Try `map(clamp01nan, img)` to clamp values to a valid range.\n",
      "└ @ ImageMagick C:\\Users\\Lukas\\.julia\\packages\\ImageMagick\\b8swT\\src\\ImageMagick.jl:180\n",
      "\u001b[32mProgress:  77%|████████████████████████████████         |  ETA: 0:06:21\u001b[39m"
     ]
    },
    {
     "name": "stdout",
     "output_type": "stream",
     "text": [
      "Steps: 89, tries: 99\r"
     ]
    },
    {
     "name": "stderr",
     "output_type": "stream",
     "text": [
      "┌ Warning: Mapping to the storage type failed; perhaps your data had out-of-range values?\n",
      "│ Try `map(clamp01nan, img)` to clamp values to a valid range.\n",
      "└ @ ImageMagick C:\\Users\\Lukas\\.julia\\packages\\ImageMagick\\b8swT\\src\\ImageMagick.jl:180\n",
      "\u001b[32mProgress:  77%|████████████████████████████████         |  ETA: 0:06:18\u001b[39m"
     ]
    },
    {
     "name": "stdout",
     "output_type": "stream",
     "text": [
      "Steps: 549, tries: 18\r"
     ]
    },
    {
     "name": "stderr",
     "output_type": "stream",
     "text": [
      "┌ Warning: Mapping to the storage type failed; perhaps your data had out-of-range values?\n",
      "│ Try `map(clamp01nan, img)` to clamp values to a valid range.\n",
      "└ @ ImageMagick C:\\Users\\Lukas\\.julia\\packages\\ImageMagick\\b8swT\\src\\ImageMagick.jl:180\n",
      "\u001b[32mProgress:  77%|████████████████████████████████         |  ETA: 0:06:16\u001b[39m"
     ]
    },
    {
     "name": "stdout",
     "output_type": "stream",
     "text": [
      "Steps: 549, tries: 18\r"
     ]
    },
    {
     "name": "stderr",
     "output_type": "stream",
     "text": [
      "┌ Warning: Mapping to the storage type failed; perhaps your data had out-of-range values?\n",
      "│ Try `map(clamp01nan, img)` to clamp values to a valid range.\n",
      "└ @ ImageMagick C:\\Users\\Lukas\\.julia\\packages\\ImageMagick\\b8swT\\src\\ImageMagick.jl:180\n",
      "\u001b[32mProgress:  77%|████████████████████████████████         |  ETA: 0:06:14\u001b[39m"
     ]
    },
    {
     "name": "stdout",
     "output_type": "stream",
     "text": [
      "Steps: 549, tries: 10\r"
     ]
    },
    {
     "name": "stderr",
     "output_type": "stream",
     "text": [
      "┌ Warning: Mapping to the storage type failed; perhaps your data had out-of-range values?\n",
      "│ Try `map(clamp01nan, img)` to clamp values to a valid range.\n",
      "└ @ ImageMagick C:\\Users\\Lukas\\.julia\\packages\\ImageMagick\\b8swT\\src\\ImageMagick.jl:180\n",
      "\u001b[32mProgress:  77%|████████████████████████████████         |  ETA: 0:06:12\u001b[39m"
     ]
    },
    {
     "name": "stdout",
     "output_type": "stream",
     "text": [
      "Steps: 549, tries: 20\r"
     ]
    },
    {
     "name": "stderr",
     "output_type": "stream",
     "text": [
      "┌ Warning: Mapping to the storage type failed; perhaps your data had out-of-range values?\n",
      "│ Try `map(clamp01nan, img)` to clamp values to a valid range.\n",
      "└ @ ImageMagick C:\\Users\\Lukas\\.julia\\packages\\ImageMagick\\b8swT\\src\\ImageMagick.jl:180\n",
      "\u001b[32mProgress:  77%|████████████████████████████████         |  ETA: 0:06:10\u001b[39m"
     ]
    },
    {
     "name": "stdout",
     "output_type": "stream",
     "text": [
      "Steps: 549, tries: 22\r"
     ]
    },
    {
     "name": "stderr",
     "output_type": "stream",
     "text": [
      "┌ Warning: Mapping to the storage type failed; perhaps your data had out-of-range values?\n",
      "│ Try `map(clamp01nan, img)` to clamp values to a valid range.\n",
      "└ @ ImageMagick C:\\Users\\Lukas\\.julia\\packages\\ImageMagick\\b8swT\\src\\ImageMagick.jl:180\n",
      "\u001b[32mProgress:  77%|████████████████████████████████         |  ETA: 0:06:08\u001b[39m"
     ]
    },
    {
     "name": "stdout",
     "output_type": "stream",
     "text": [
      "Steps: 549, tries: 24\r"
     ]
    },
    {
     "name": "stderr",
     "output_type": "stream",
     "text": [
      "┌ Warning: Mapping to the storage type failed; perhaps your data had out-of-range values?\n",
      "│ Try `map(clamp01nan, img)` to clamp values to a valid range.\n",
      "└ @ ImageMagick C:\\Users\\Lukas\\.julia\\packages\\ImageMagick\\b8swT\\src\\ImageMagick.jl:180\n",
      "\u001b[32mProgress:  78%|████████████████████████████████         |  ETA: 0:06:06\u001b[39m"
     ]
    },
    {
     "name": "stdout",
     "output_type": "stream",
     "text": [
      "Steps: 549, tries: 61\r"
     ]
    },
    {
     "name": "stderr",
     "output_type": "stream",
     "text": [
      "┌ Warning: Mapping to the storage type failed; perhaps your data had out-of-range values?\n",
      "│ Try `map(clamp01nan, img)` to clamp values to a valid range.\n",
      "└ @ ImageMagick C:\\Users\\Lukas\\.julia\\packages\\ImageMagick\\b8swT\\src\\ImageMagick.jl:180\n",
      "\u001b[32mProgress:  78%|████████████████████████████████         |  ETA: 0:06:04\u001b[39m"
     ]
    },
    {
     "name": "stdout",
     "output_type": "stream",
     "text": [
      "Steps: 549, tries: 21\r"
     ]
    },
    {
     "name": "stderr",
     "output_type": "stream",
     "text": [
      "┌ Warning: Mapping to the storage type failed; perhaps your data had out-of-range values?\n",
      "│ Try `map(clamp01nan, img)` to clamp values to a valid range.\n",
      "└ @ ImageMagick C:\\Users\\Lukas\\.julia\\packages\\ImageMagick\\b8swT\\src\\ImageMagick.jl:180\n",
      "\u001b[32mProgress:  78%|████████████████████████████████         |  ETA: 0:06:02\u001b[39m"
     ]
    },
    {
     "name": "stdout",
     "output_type": "stream",
     "text": [
      "Steps: 549, tries: 21\r"
     ]
    },
    {
     "name": "stderr",
     "output_type": "stream",
     "text": [
      "┌ Warning: Mapping to the storage type failed; perhaps your data had out-of-range values?\n",
      "│ Try `map(clamp01nan, img)` to clamp values to a valid range.\n",
      "└ @ ImageMagick C:\\Users\\Lukas\\.julia\\packages\\ImageMagick\\b8swT\\src\\ImageMagick.jl:180\n",
      "\u001b[32mProgress:  78%|████████████████████████████████         |  ETA: 0:06:00\u001b[39m"
     ]
    },
    {
     "name": "stdout",
     "output_type": "stream",
     "text": [
      "Steps: 549, tries: 15\r"
     ]
    },
    {
     "name": "stderr",
     "output_type": "stream",
     "text": [
      "┌ Warning: Mapping to the storage type failed; perhaps your data had out-of-range values?\n",
      "│ Try `map(clamp01nan, img)` to clamp values to a valid range.\n",
      "└ @ ImageMagick C:\\Users\\Lukas\\.julia\\packages\\ImageMagick\\b8swT\\src\\ImageMagick.jl:180\n",
      "\u001b[32mProgress:  78%|████████████████████████████████         |  ETA: 0:05:58\u001b[39m"
     ]
    },
    {
     "name": "stdout",
     "output_type": "stream",
     "text": [
      "Steps: 549, tries: 28\r"
     ]
    },
    {
     "name": "stderr",
     "output_type": "stream",
     "text": [
      "┌ Warning: Mapping to the storage type failed; perhaps your data had out-of-range values?\n",
      "│ Try `map(clamp01nan, img)` to clamp values to a valid range.\n",
      "└ @ ImageMagick C:\\Users\\Lukas\\.julia\\packages\\ImageMagick\\b8swT\\src\\ImageMagick.jl:180\n",
      "\u001b[32mProgress:  78%|█████████████████████████████████        |  ETA: 0:05:56\u001b[39m"
     ]
    },
    {
     "name": "stdout",
     "output_type": "stream",
     "text": [
      "Steps: 549, tries: 70\r"
     ]
    },
    {
     "name": "stderr",
     "output_type": "stream",
     "text": [
      "┌ Warning: Mapping to the storage type failed; perhaps your data had out-of-range values?\n",
      "│ Try `map(clamp01nan, img)` to clamp values to a valid range.\n",
      "└ @ ImageMagick C:\\Users\\Lukas\\.julia\\packages\\ImageMagick\\b8swT\\src\\ImageMagick.jl:180\n",
      "\u001b[32mProgress:  78%|█████████████████████████████████        |  ETA: 0:05:54\u001b[39m"
     ]
    },
    {
     "name": "stdout",
     "output_type": "stream",
     "text": [
      "Steps: 549, tries: 80\r"
     ]
    },
    {
     "name": "stderr",
     "output_type": "stream",
     "text": [
      "┌ Warning: Mapping to the storage type failed; perhaps your data had out-of-range values?\n",
      "│ Try `map(clamp01nan, img)` to clamp values to a valid range.\n",
      "└ @ ImageMagick C:\\Users\\Lukas\\.julia\\packages\\ImageMagick\\b8swT\\src\\ImageMagick.jl:180\n",
      "\u001b[32mProgress:  78%|█████████████████████████████████        |  ETA: 0:05:52\u001b[39m"
     ]
    },
    {
     "name": "stdout",
     "output_type": "stream",
     "text": [
      "Steps: 549, tries: 19\r"
     ]
    },
    {
     "name": "stderr",
     "output_type": "stream",
     "text": [
      "┌ Warning: Mapping to the storage type failed; perhaps your data had out-of-range values?\n",
      "│ Try `map(clamp01nan, img)` to clamp values to a valid range.\n",
      "└ @ ImageMagick C:\\Users\\Lukas\\.julia\\packages\\ImageMagick\\b8swT\\src\\ImageMagick.jl:180\n",
      "\u001b[32mProgress:  78%|█████████████████████████████████        |  ETA: 0:05:50\u001b[39m"
     ]
    },
    {
     "name": "stdout",
     "output_type": "stream",
     "text": [
      "Steps: 549, tries: 23\r"
     ]
    },
    {
     "name": "stderr",
     "output_type": "stream",
     "text": [
      "┌ Warning: Mapping to the storage type failed; perhaps your data had out-of-range values?\n",
      "│ Try `map(clamp01nan, img)` to clamp values to a valid range.\n",
      "└ @ ImageMagick C:\\Users\\Lukas\\.julia\\packages\\ImageMagick\\b8swT\\src\\ImageMagick.jl:180\n",
      "\u001b[32mProgress:  79%|█████████████████████████████████        |  ETA: 0:05:48\u001b[39m"
     ]
    },
    {
     "name": "stdout",
     "output_type": "stream",
     "text": [
      "Steps: 549, tries: 82\r"
     ]
    },
    {
     "name": "stderr",
     "output_type": "stream",
     "text": [
      "┌ Warning: Mapping to the storage type failed; perhaps your data had out-of-range values?\n",
      "│ Try `map(clamp01nan, img)` to clamp values to a valid range.\n",
      "└ @ ImageMagick C:\\Users\\Lukas\\.julia\\packages\\ImageMagick\\b8swT\\src\\ImageMagick.jl:180\n",
      "\u001b[32mProgress:  79%|█████████████████████████████████        |  ETA: 0:05:46\u001b[39m"
     ]
    },
    {
     "name": "stdout",
     "output_type": "stream",
     "text": [
      "Steps: 549, tries: 61\r"
     ]
    },
    {
     "name": "stderr",
     "output_type": "stream",
     "text": [
      "┌ Warning: Mapping to the storage type failed; perhaps your data had out-of-range values?\n",
      "│ Try `map(clamp01nan, img)` to clamp values to a valid range.\n",
      "└ @ ImageMagick C:\\Users\\Lukas\\.julia\\packages\\ImageMagick\\b8swT\\src\\ImageMagick.jl:180\n",
      "\u001b[32mProgress:  79%|█████████████████████████████████        |  ETA: 0:05:44\u001b[39m"
     ]
    },
    {
     "name": "stdout",
     "output_type": "stream",
     "text": [
      "Steps: 549, tries: 77\r"
     ]
    },
    {
     "name": "stderr",
     "output_type": "stream",
     "text": [
      "┌ Warning: Mapping to the storage type failed; perhaps your data had out-of-range values?\n",
      "│ Try `map(clamp01nan, img)` to clamp values to a valid range.\n",
      "└ @ ImageMagick C:\\Users\\Lukas\\.julia\\packages\\ImageMagick\\b8swT\\src\\ImageMagick.jl:180\n",
      "\u001b[32mProgress:  79%|█████████████████████████████████        |  ETA: 0:05:42\u001b[39m"
     ]
    },
    {
     "name": "stdout",
     "output_type": "stream",
     "text": [
      "Steps: 549, tries: 11\r"
     ]
    },
    {
     "name": "stderr",
     "output_type": "stream",
     "text": [
      "┌ Warning: Mapping to the storage type failed; perhaps your data had out-of-range values?\n",
      "│ Try `map(clamp01nan, img)` to clamp values to a valid range.\n",
      "└ @ ImageMagick C:\\Users\\Lukas\\.julia\\packages\\ImageMagick\\b8swT\\src\\ImageMagick.jl:180\n",
      "\u001b[32mProgress:  79%|█████████████████████████████████        |  ETA: 0:05:40\u001b[39m"
     ]
    },
    {
     "name": "stdout",
     "output_type": "stream",
     "text": [
      "Steps: 549, tries: 24\r"
     ]
    },
    {
     "name": "stderr",
     "output_type": "stream",
     "text": [
      "┌ Warning: Mapping to the storage type failed; perhaps your data had out-of-range values?\n",
      "│ Try `map(clamp01nan, img)` to clamp values to a valid range.\n",
      "└ @ ImageMagick C:\\Users\\Lukas\\.julia\\packages\\ImageMagick\\b8swT\\src\\ImageMagick.jl:180\n",
      "\u001b[32mProgress:  79%|█████████████████████████████████        |  ETA: 0:05:38\u001b[39m"
     ]
    },
    {
     "name": "stdout",
     "output_type": "stream",
     "text": [
      "Steps: 549, tries: 03\r"
     ]
    },
    {
     "name": "stderr",
     "output_type": "stream",
     "text": [
      "┌ Warning: Mapping to the storage type failed; perhaps your data had out-of-range values?\n",
      "│ Try `map(clamp01nan, img)` to clamp values to a valid range.\n",
      "└ @ ImageMagick C:\\Users\\Lukas\\.julia\\packages\\ImageMagick\\b8swT\\src\\ImageMagick.jl:180\n",
      "\r"
     ]
    },
    {
     "name": "stdout",
     "output_type": "stream",
     "text": [
      "Steps: 105, tries: 64\r"
     ]
    },
    {
     "name": "stderr",
     "output_type": "stream",
     "text": [
      "\u001b[32mProgress:  79%|█████████████████████████████████        |  ETA: 0:05:36\u001b[39m"
     ]
    },
    {
     "name": "stdout",
     "output_type": "stream",
     "text": [
      "Steps: 549, tries: 46\r"
     ]
    },
    {
     "name": "stderr",
     "output_type": "stream",
     "text": [
      "┌ Warning: Mapping to the storage type failed; perhaps your data had out-of-range values?\n",
      "│ Try `map(clamp01nan, img)` to clamp values to a valid range.\n",
      "└ @ ImageMagick C:\\Users\\Lukas\\.julia\\packages\\ImageMagick\\b8swT\\src\\ImageMagick.jl:180\n",
      "\u001b[32mProgress:  80%|█████████████████████████████████        |  ETA: 0:05:34\u001b[39m"
     ]
    },
    {
     "name": "stdout",
     "output_type": "stream",
     "text": [
      "Steps: 549, tries: 11\r"
     ]
    },
    {
     "name": "stderr",
     "output_type": "stream",
     "text": [
      "┌ Warning: Mapping to the storage type failed; perhaps your data had out-of-range values?\n",
      "│ Try `map(clamp01nan, img)` to clamp values to a valid range.\n",
      "└ @ ImageMagick C:\\Users\\Lukas\\.julia\\packages\\ImageMagick\\b8swT\\src\\ImageMagick.jl:180\n",
      "\r"
     ]
    },
    {
     "name": "stdout",
     "output_type": "stream",
     "text": [
      "Steps: 94, tries: 11\r"
     ]
    },
    {
     "name": "stderr",
     "output_type": "stream",
     "text": [
      "\u001b[32mProgress:  80%|█████████████████████████████████        |  ETA: 0:05:32\u001b[39m"
     ]
    },
    {
     "name": "stdout",
     "output_type": "stream",
     "text": [
      "Steps: 549, tries: 11\r"
     ]
    },
    {
     "name": "stderr",
     "output_type": "stream",
     "text": [
      "┌ Warning: Mapping to the storage type failed; perhaps your data had out-of-range values?\n",
      "│ Try `map(clamp01nan, img)` to clamp values to a valid range.\n",
      "└ @ ImageMagick C:\\Users\\Lukas\\.julia\\packages\\ImageMagick\\b8swT\\src\\ImageMagick.jl:180\n",
      "\u001b[32mProgress:  80%|█████████████████████████████████        |  ETA: 0:05:30\u001b[39m"
     ]
    },
    {
     "name": "stdout",
     "output_type": "stream",
     "text": [
      "Steps: 549, tries: 30\r"
     ]
    },
    {
     "name": "stderr",
     "output_type": "stream",
     "text": [
      "┌ Warning: Mapping to the storage type failed; perhaps your data had out-of-range values?\n",
      "│ Try `map(clamp01nan, img)` to clamp values to a valid range.\n",
      "└ @ ImageMagick C:\\Users\\Lukas\\.julia\\packages\\ImageMagick\\b8swT\\src\\ImageMagick.jl:180\n",
      "\u001b[32mProgress:  80%|█████████████████████████████████        |  ETA: 0:05:28\u001b[39m"
     ]
    },
    {
     "name": "stdout",
     "output_type": "stream",
     "text": [
      "Steps: 549, tries: 12\r"
     ]
    },
    {
     "name": "stderr",
     "output_type": "stream",
     "text": [
      "┌ Warning: Mapping to the storage type failed; perhaps your data had out-of-range values?\n",
      "│ Try `map(clamp01nan, img)` to clamp values to a valid range.\n",
      "└ @ ImageMagick C:\\Users\\Lukas\\.julia\\packages\\ImageMagick\\b8swT\\src\\ImageMagick.jl:180\n",
      "\u001b[32mProgress:  80%|█████████████████████████████████        |  ETA: 0:05:26\u001b[39m"
     ]
    },
    {
     "name": "stdout",
     "output_type": "stream",
     "text": [
      "Steps: 549, tries: 15\r"
     ]
    },
    {
     "name": "stderr",
     "output_type": "stream",
     "text": [
      "┌ Warning: Mapping to the storage type failed; perhaps your data had out-of-range values?\n",
      "│ Try `map(clamp01nan, img)` to clamp values to a valid range.\n",
      "└ @ ImageMagick C:\\Users\\Lukas\\.julia\\packages\\ImageMagick\\b8swT\\src\\ImageMagick.jl:180\n",
      "\u001b[32mProgress:  80%|█████████████████████████████████        |  ETA: 0:05:24\u001b[39m"
     ]
    },
    {
     "name": "stdout",
     "output_type": "stream",
     "text": [
      "Steps: 549, tries: 56\r"
     ]
    },
    {
     "name": "stderr",
     "output_type": "stream",
     "text": [
      "┌ Warning: Mapping to the storage type failed; perhaps your data had out-of-range values?\n",
      "│ Try `map(clamp01nan, img)` to clamp values to a valid range.\n",
      "└ @ ImageMagick C:\\Users\\Lukas\\.julia\\packages\\ImageMagick\\b8swT\\src\\ImageMagick.jl:180\n",
      "\u001b[32mProgress:  80%|█████████████████████████████████        |  ETA: 0:05:22\u001b[39m"
     ]
    },
    {
     "name": "stdout",
     "output_type": "stream",
     "text": [
      "Steps: 549, tries: 60\r"
     ]
    },
    {
     "name": "stderr",
     "output_type": "stream",
     "text": [
      "┌ Warning: Mapping to the storage type failed; perhaps your data had out-of-range values?\n",
      "│ Try `map(clamp01nan, img)` to clamp values to a valid range.\n",
      "└ @ ImageMagick C:\\Users\\Lukas\\.julia\\packages\\ImageMagick\\b8swT\\src\\ImageMagick.jl:180\n",
      "\u001b[32mProgress:  80%|█████████████████████████████████        |  ETA: 0:05:20\u001b[39m"
     ]
    },
    {
     "name": "stdout",
     "output_type": "stream",
     "text": [
      "Steps: 549, tries: 01\r"
     ]
    },
    {
     "name": "stderr",
     "output_type": "stream",
     "text": [
      "┌ Warning: Mapping to the storage type failed; perhaps your data had out-of-range values?\n",
      "│ Try `map(clamp01nan, img)` to clamp values to a valid range.\n",
      "└ @ ImageMagick C:\\Users\\Lukas\\.julia\\packages\\ImageMagick\\b8swT\\src\\ImageMagick.jl:180\n",
      "\u001b[32mProgress:  80%|██████████████████████████████████       |  ETA: 0:05:18\u001b[39m"
     ]
    },
    {
     "name": "stdout",
     "output_type": "stream",
     "text": [
      "Steps: 549, tries: 11\r"
     ]
    },
    {
     "name": "stderr",
     "output_type": "stream",
     "text": [
      "┌ Warning: Mapping to the storage type failed; perhaps your data had out-of-range values?\n",
      "│ Try `map(clamp01nan, img)` to clamp values to a valid range.\n",
      "└ @ ImageMagick C:\\Users\\Lukas\\.julia\\packages\\ImageMagick\\b8swT\\src\\ImageMagick.jl:180\n",
      "\u001b[32mProgress:  81%|██████████████████████████████████       |  ETA: 0:05:16\u001b[39m"
     ]
    },
    {
     "name": "stdout",
     "output_type": "stream",
     "text": [
      "Steps: 549, tries: 25\r"
     ]
    },
    {
     "name": "stderr",
     "output_type": "stream",
     "text": [
      "┌ Warning: Mapping to the storage type failed; perhaps your data had out-of-range values?\n",
      "│ Try `map(clamp01nan, img)` to clamp values to a valid range.\n",
      "└ @ ImageMagick C:\\Users\\Lukas\\.julia\\packages\\ImageMagick\\b8swT\\src\\ImageMagick.jl:180\n",
      "\u001b[32mProgress:  81%|██████████████████████████████████       |  ETA: 0:05:14\u001b[39m"
     ]
    },
    {
     "name": "stdout",
     "output_type": "stream",
     "text": [
      "Steps: 549, tries: 06\r"
     ]
    },
    {
     "name": "stderr",
     "output_type": "stream",
     "text": [
      "┌ Warning: Mapping to the storage type failed; perhaps your data had out-of-range values?\n",
      "│ Try `map(clamp01nan, img)` to clamp values to a valid range.\n",
      "└ @ ImageMagick C:\\Users\\Lukas\\.julia\\packages\\ImageMagick\\b8swT\\src\\ImageMagick.jl:180\n",
      "\r"
     ]
    },
    {
     "name": "stdout",
     "output_type": "stream",
     "text": [
      "Steps: 101, tries: 29\r"
     ]
    },
    {
     "name": "stderr",
     "output_type": "stream",
     "text": [
      "\u001b[32mProgress:  81%|██████████████████████████████████       |  ETA: 0:05:12\u001b[39m"
     ]
    },
    {
     "name": "stdout",
     "output_type": "stream",
     "text": [
      "Steps: 549, tries: 40\r"
     ]
    },
    {
     "name": "stderr",
     "output_type": "stream",
     "text": [
      "┌ Warning: Mapping to the storage type failed; perhaps your data had out-of-range values?\n",
      "│ Try `map(clamp01nan, img)` to clamp values to a valid range.\n",
      "└ @ ImageMagick C:\\Users\\Lukas\\.julia\\packages\\ImageMagick\\b8swT\\src\\ImageMagick.jl:180\n",
      "\u001b[32mProgress:  81%|██████████████████████████████████       |  ETA: 0:05:10\u001b[39m"
     ]
    },
    {
     "name": "stdout",
     "output_type": "stream",
     "text": [
      "Steps: 549, tries: 38\r"
     ]
    },
    {
     "name": "stderr",
     "output_type": "stream",
     "text": [
      "┌ Warning: Mapping to the storage type failed; perhaps your data had out-of-range values?\n",
      "│ Try `map(clamp01nan, img)` to clamp values to a valid range.\n",
      "└ @ ImageMagick C:\\Users\\Lukas\\.julia\\packages\\ImageMagick\\b8swT\\src\\ImageMagick.jl:180\n",
      "\u001b[32mProgress:  81%|██████████████████████████████████       |  ETA: 0:05:08\u001b[39m"
     ]
    },
    {
     "name": "stdout",
     "output_type": "stream",
     "text": [
      "Steps: 549, tries: 21\r"
     ]
    },
    {
     "name": "stderr",
     "output_type": "stream",
     "text": [
      "┌ Warning: Mapping to the storage type failed; perhaps your data had out-of-range values?\n",
      "│ Try `map(clamp01nan, img)` to clamp values to a valid range.\n",
      "└ @ ImageMagick C:\\Users\\Lukas\\.julia\\packages\\ImageMagick\\b8swT\\src\\ImageMagick.jl:180\n",
      "\r"
     ]
    },
    {
     "name": "stdout",
     "output_type": "stream",
     "text": [
      "Steps: 103, tries: 10\r"
     ]
    },
    {
     "name": "stderr",
     "output_type": "stream",
     "text": [
      "\u001b[32mProgress:  81%|██████████████████████████████████       |  ETA: 0:05:06\u001b[39m"
     ]
    },
    {
     "name": "stdout",
     "output_type": "stream",
     "text": [
      "Steps: 549, tries: 13\r"
     ]
    },
    {
     "name": "stderr",
     "output_type": "stream",
     "text": [
      "┌ Warning: Mapping to the storage type failed; perhaps your data had out-of-range values?\n",
      "│ Try `map(clamp01nan, img)` to clamp values to a valid range.\n",
      "└ @ ImageMagick C:\\Users\\Lukas\\.julia\\packages\\ImageMagick\\b8swT\\src\\ImageMagick.jl:180\n",
      "\u001b[32mProgress:  81%|██████████████████████████████████       |  ETA: 0:05:04\u001b[39m"
     ]
    },
    {
     "name": "stdout",
     "output_type": "stream",
     "text": [
      "Steps: 549, tries: 81\r"
     ]
    },
    {
     "name": "stderr",
     "output_type": "stream",
     "text": [
      "┌ Warning: Mapping to the storage type failed; perhaps your data had out-of-range values?\n",
      "│ Try `map(clamp01nan, img)` to clamp values to a valid range.\n",
      "└ @ ImageMagick C:\\Users\\Lukas\\.julia\\packages\\ImageMagick\\b8swT\\src\\ImageMagick.jl:180\n",
      "\u001b[32mProgress:  82%|██████████████████████████████████       |  ETA: 0:05:02\u001b[39m"
     ]
    },
    {
     "name": "stdout",
     "output_type": "stream",
     "text": [
      "Steps: 549, tries: 21\r"
     ]
    },
    {
     "name": "stderr",
     "output_type": "stream",
     "text": [
      "┌ Warning: Mapping to the storage type failed; perhaps your data had out-of-range values?\n",
      "│ Try `map(clamp01nan, img)` to clamp values to a valid range.\n",
      "└ @ ImageMagick C:\\Users\\Lukas\\.julia\\packages\\ImageMagick\\b8swT\\src\\ImageMagick.jl:180\n",
      "\u001b[32mProgress:  82%|██████████████████████████████████       |  ETA: 0:05:00\u001b[39m"
     ]
    },
    {
     "name": "stdout",
     "output_type": "stream",
     "text": [
      "Steps: 549, tries: 49\r"
     ]
    },
    {
     "name": "stderr",
     "output_type": "stream",
     "text": [
      "┌ Warning: Mapping to the storage type failed; perhaps your data had out-of-range values?\n",
      "│ Try `map(clamp01nan, img)` to clamp values to a valid range.\n",
      "└ @ ImageMagick C:\\Users\\Lukas\\.julia\\packages\\ImageMagick\\b8swT\\src\\ImageMagick.jl:180\n",
      "\u001b[32mProgress:  82%|██████████████████████████████████       |  ETA: 0:04:58\u001b[39m"
     ]
    },
    {
     "name": "stdout",
     "output_type": "stream",
     "text": [
      "Steps: 549, tries: 10\r"
     ]
    },
    {
     "name": "stderr",
     "output_type": "stream",
     "text": [
      "┌ Warning: Mapping to the storage type failed; perhaps your data had out-of-range values?\n",
      "│ Try `map(clamp01nan, img)` to clamp values to a valid range.\n",
      "└ @ ImageMagick C:\\Users\\Lukas\\.julia\\packages\\ImageMagick\\b8swT\\src\\ImageMagick.jl:180\n",
      "\u001b[32mProgress:  82%|██████████████████████████████████       |  ETA: 0:04:56\u001b[39m"
     ]
    },
    {
     "name": "stdout",
     "output_type": "stream",
     "text": [
      "Steps: 549, tries: 70\r"
     ]
    },
    {
     "name": "stderr",
     "output_type": "stream",
     "text": [
      "┌ Warning: Mapping to the storage type failed; perhaps your data had out-of-range values?\n",
      "│ Try `map(clamp01nan, img)` to clamp values to a valid range.\n",
      "└ @ ImageMagick C:\\Users\\Lukas\\.julia\\packages\\ImageMagick\\b8swT\\src\\ImageMagick.jl:180\n",
      "\u001b[32mProgress:  82%|██████████████████████████████████       |  ETA: 0:04:54\u001b[39m"
     ]
    },
    {
     "name": "stdout",
     "output_type": "stream",
     "text": [
      "Steps: 549, tries: 02\r"
     ]
    },
    {
     "name": "stderr",
     "output_type": "stream",
     "text": [
      "┌ Warning: Mapping to the storage type failed; perhaps your data had out-of-range values?\n",
      "│ Try `map(clamp01nan, img)` to clamp values to a valid range.\n",
      "└ @ ImageMagick C:\\Users\\Lukas\\.julia\\packages\\ImageMagick\\b8swT\\src\\ImageMagick.jl:180\n",
      "\u001b[32mProgress:  82%|██████████████████████████████████       |  ETA: 0:04:52\u001b[39m"
     ]
    },
    {
     "name": "stdout",
     "output_type": "stream",
     "text": [
      "Steps: 549, tries: 97\r"
     ]
    },
    {
     "name": "stderr",
     "output_type": "stream",
     "text": [
      "┌ Warning: Mapping to the storage type failed; perhaps your data had out-of-range values?\n",
      "│ Try `map(clamp01nan, img)` to clamp values to a valid range.\n",
      "└ @ ImageMagick C:\\Users\\Lukas\\.julia\\packages\\ImageMagick\\b8swT\\src\\ImageMagick.jl:180\n",
      "\u001b[32mProgress:  82%|██████████████████████████████████       |  ETA: 0:04:50\u001b[39m"
     ]
    },
    {
     "name": "stdout",
     "output_type": "stream",
     "text": [
      "Steps: 549, tries: 02\r"
     ]
    },
    {
     "name": "stderr",
     "output_type": "stream",
     "text": [
      "┌ Warning: Mapping to the storage type failed; perhaps your data had out-of-range values?\n",
      "│ Try `map(clamp01nan, img)` to clamp values to a valid range.\n",
      "└ @ ImageMagick C:\\Users\\Lukas\\.julia\\packages\\ImageMagick\\b8swT\\src\\ImageMagick.jl:180\n",
      "\u001b[32mProgress:  82%|██████████████████████████████████       |  ETA: 0:04:48\u001b[39m"
     ]
    },
    {
     "name": "stdout",
     "output_type": "stream",
     "text": [
      "Steps: 549, tries: 18\r"
     ]
    },
    {
     "name": "stderr",
     "output_type": "stream",
     "text": [
      "┌ Warning: Mapping to the storage type failed; perhaps your data had out-of-range values?\n",
      "│ Try `map(clamp01nan, img)` to clamp values to a valid range.\n",
      "└ @ ImageMagick C:\\Users\\Lukas\\.julia\\packages\\ImageMagick\\b8swT\\src\\ImageMagick.jl:180\n",
      "\u001b[32mProgress:  82%|██████████████████████████████████       |  ETA: 0:04:46\u001b[39m"
     ]
    },
    {
     "name": "stdout",
     "output_type": "stream",
     "text": [
      "Steps: 549, tries: 43\r"
     ]
    },
    {
     "name": "stderr",
     "output_type": "stream",
     "text": [
      "┌ Warning: Mapping to the storage type failed; perhaps your data had out-of-range values?\n",
      "│ Try `map(clamp01nan, img)` to clamp values to a valid range.\n",
      "└ @ ImageMagick C:\\Users\\Lukas\\.julia\\packages\\ImageMagick\\b8swT\\src\\ImageMagick.jl:180\n",
      "\u001b[32mProgress:  83%|██████████████████████████████████       |  ETA: 0:04:44\u001b[39m"
     ]
    },
    {
     "name": "stdout",
     "output_type": "stream",
     "text": [
      "Steps: 549, tries: 24\r"
     ]
    },
    {
     "name": "stderr",
     "output_type": "stream",
     "text": [
      "┌ Warning: Mapping to the storage type failed; perhaps your data had out-of-range values?\n",
      "│ Try `map(clamp01nan, img)` to clamp values to a valid range.\n",
      "└ @ ImageMagick C:\\Users\\Lukas\\.julia\\packages\\ImageMagick\\b8swT\\src\\ImageMagick.jl:180\n",
      "\u001b[32mProgress:  83%|██████████████████████████████████       |  ETA: 0:04:42\u001b[39m"
     ]
    },
    {
     "name": "stdout",
     "output_type": "stream",
     "text": [
      "Steps: 549, tries: 16\r"
     ]
    },
    {
     "name": "stderr",
     "output_type": "stream",
     "text": [
      "┌ Warning: Mapping to the storage type failed; perhaps your data had out-of-range values?\n",
      "│ Try `map(clamp01nan, img)` to clamp values to a valid range.\n",
      "└ @ ImageMagick C:\\Users\\Lukas\\.julia\\packages\\ImageMagick\\b8swT\\src\\ImageMagick.jl:180\n",
      "\u001b[32mProgress:  83%|██████████████████████████████████       |  ETA: 0:04:40\u001b[39m"
     ]
    },
    {
     "name": "stdout",
     "output_type": "stream",
     "text": [
      "Steps: 549, tries: 41\r"
     ]
    },
    {
     "name": "stderr",
     "output_type": "stream",
     "text": [
      "┌ Warning: Mapping to the storage type failed; perhaps your data had out-of-range values?\n",
      "│ Try `map(clamp01nan, img)` to clamp values to a valid range.\n",
      "└ @ ImageMagick C:\\Users\\Lukas\\.julia\\packages\\ImageMagick\\b8swT\\src\\ImageMagick.jl:180\n",
      "\u001b[32mProgress:  83%|███████████████████████████████████      |  ETA: 0:04:38\u001b[39m"
     ]
    },
    {
     "name": "stdout",
     "output_type": "stream",
     "text": [
      "Steps: 549, tries: 12\r"
     ]
    },
    {
     "name": "stderr",
     "output_type": "stream",
     "text": [
      "┌ Warning: Mapping to the storage type failed; perhaps your data had out-of-range values?\n",
      "│ Try `map(clamp01nan, img)` to clamp values to a valid range.\n",
      "└ @ ImageMagick C:\\Users\\Lukas\\.julia\\packages\\ImageMagick\\b8swT\\src\\ImageMagick.jl:180\n",
      "\u001b[32mProgress:  83%|███████████████████████████████████      |  ETA: 0:04:36\u001b[39m"
     ]
    },
    {
     "name": "stdout",
     "output_type": "stream",
     "text": [
      "Steps: 549, tries: 18\r"
     ]
    },
    {
     "name": "stderr",
     "output_type": "stream",
     "text": [
      "┌ Warning: Mapping to the storage type failed; perhaps your data had out-of-range values?\n",
      "│ Try `map(clamp01nan, img)` to clamp values to a valid range.\n",
      "└ @ ImageMagick C:\\Users\\Lukas\\.julia\\packages\\ImageMagick\\b8swT\\src\\ImageMagick.jl:180\n",
      "\u001b[32mProgress:  83%|███████████████████████████████████      |  ETA: 0:04:34\u001b[39m"
     ]
    },
    {
     "name": "stdout",
     "output_type": "stream",
     "text": [
      "Steps: 549, tries: 75\r"
     ]
    },
    {
     "name": "stderr",
     "output_type": "stream",
     "text": [
      "┌ Warning: Mapping to the storage type failed; perhaps your data had out-of-range values?\n",
      "│ Try `map(clamp01nan, img)` to clamp values to a valid range.\n",
      "└ @ ImageMagick C:\\Users\\Lukas\\.julia\\packages\\ImageMagick\\b8swT\\src\\ImageMagick.jl:180\n",
      "\u001b[32mProgress:  83%|███████████████████████████████████      |  ETA: 0:04:32\u001b[39m"
     ]
    },
    {
     "name": "stdout",
     "output_type": "stream",
     "text": [
      "Steps: 549, tries: 03\r"
     ]
    },
    {
     "name": "stderr",
     "output_type": "stream",
     "text": [
      "┌ Warning: Mapping to the storage type failed; perhaps your data had out-of-range values?\n",
      "│ Try `map(clamp01nan, img)` to clamp values to a valid range.\n",
      "└ @ ImageMagick C:\\Users\\Lukas\\.julia\\packages\\ImageMagick\\b8swT\\src\\ImageMagick.jl:180\n",
      "\u001b[32mProgress:  84%|███████████████████████████████████      |  ETA: 0:04:30\u001b[39m"
     ]
    },
    {
     "name": "stdout",
     "output_type": "stream",
     "text": [
      "Steps: 549, tries: 30\r"
     ]
    },
    {
     "name": "stderr",
     "output_type": "stream",
     "text": [
      "┌ Warning: Mapping to the storage type failed; perhaps your data had out-of-range values?\n",
      "│ Try `map(clamp01nan, img)` to clamp values to a valid range.\n",
      "└ @ ImageMagick C:\\Users\\Lukas\\.julia\\packages\\ImageMagick\\b8swT\\src\\ImageMagick.jl:180\n",
      "\u001b[32mProgress:  84%|███████████████████████████████████      |  ETA: 0:04:28\u001b[39m"
     ]
    },
    {
     "name": "stdout",
     "output_type": "stream",
     "text": [
      "Steps: 549, tries: 10\r"
     ]
    },
    {
     "name": "stderr",
     "output_type": "stream",
     "text": [
      "┌ Warning: Mapping to the storage type failed; perhaps your data had out-of-range values?\n",
      "│ Try `map(clamp01nan, img)` to clamp values to a valid range.\n",
      "└ @ ImageMagick C:\\Users\\Lukas\\.julia\\packages\\ImageMagick\\b8swT\\src\\ImageMagick.jl:180\n",
      "\u001b[32mProgress:  84%|███████████████████████████████████      |  ETA: 0:04:26\u001b[39m"
     ]
    },
    {
     "name": "stdout",
     "output_type": "stream",
     "text": [
      "Steps: 549, tries: 15\r"
     ]
    },
    {
     "name": "stderr",
     "output_type": "stream",
     "text": [
      "┌ Warning: Mapping to the storage type failed; perhaps your data had out-of-range values?\n",
      "│ Try `map(clamp01nan, img)` to clamp values to a valid range.\n",
      "└ @ ImageMagick C:\\Users\\Lukas\\.julia\\packages\\ImageMagick\\b8swT\\src\\ImageMagick.jl:180\n",
      "\u001b[32mProgress:  84%|███████████████████████████████████      |  ETA: 0:04:24\u001b[39m"
     ]
    },
    {
     "name": "stdout",
     "output_type": "stream",
     "text": [
      "Steps: 549, tries: 06\r"
     ]
    },
    {
     "name": "stderr",
     "output_type": "stream",
     "text": [
      "┌ Warning: Mapping to the storage type failed; perhaps your data had out-of-range values?\n",
      "│ Try `map(clamp01nan, img)` to clamp values to a valid range.\n",
      "└ @ ImageMagick C:\\Users\\Lukas\\.julia\\packages\\ImageMagick\\b8swT\\src\\ImageMagick.jl:180\n",
      "\u001b[32mProgress:  84%|███████████████████████████████████      |  ETA: 0:04:22\u001b[39m"
     ]
    },
    {
     "name": "stdout",
     "output_type": "stream",
     "text": [
      "Steps: 549, tries: 12\r"
     ]
    },
    {
     "name": "stderr",
     "output_type": "stream",
     "text": [
      "┌ Warning: Mapping to the storage type failed; perhaps your data had out-of-range values?\n",
      "│ Try `map(clamp01nan, img)` to clamp values to a valid range.\n",
      "└ @ ImageMagick C:\\Users\\Lukas\\.julia\\packages\\ImageMagick\\b8swT\\src\\ImageMagick.jl:180\n",
      "\u001b[32mProgress:  84%|███████████████████████████████████      |  ETA: 0:04:20\u001b[39m"
     ]
    },
    {
     "name": "stdout",
     "output_type": "stream",
     "text": [
      "Steps: 549, tries: 10\r"
     ]
    },
    {
     "name": "stderr",
     "output_type": "stream",
     "text": [
      "┌ Warning: Mapping to the storage type failed; perhaps your data had out-of-range values?\n",
      "│ Try `map(clamp01nan, img)` to clamp values to a valid range.\n",
      "└ @ ImageMagick C:\\Users\\Lukas\\.julia\\packages\\ImageMagick\\b8swT\\src\\ImageMagick.jl:180\n",
      "\u001b[32mProgress:  84%|███████████████████████████████████      |  ETA: 0:04:18\u001b[39m"
     ]
    },
    {
     "name": "stdout",
     "output_type": "stream",
     "text": [
      "Steps: 549, tries: 03\r"
     ]
    },
    {
     "name": "stderr",
     "output_type": "stream",
     "text": [
      "┌ Warning: Mapping to the storage type failed; perhaps your data had out-of-range values?\n",
      "│ Try `map(clamp01nan, img)` to clamp values to a valid range.\n",
      "└ @ ImageMagick C:\\Users\\Lukas\\.julia\\packages\\ImageMagick\\b8swT\\src\\ImageMagick.jl:180\n",
      "\u001b[32mProgress:  84%|███████████████████████████████████      |  ETA: 0:04:16\u001b[39m"
     ]
    },
    {
     "name": "stdout",
     "output_type": "stream",
     "text": [
      "Steps: 549, tries: 27\r"
     ]
    },
    {
     "name": "stderr",
     "output_type": "stream",
     "text": [
      "┌ Warning: Mapping to the storage type failed; perhaps your data had out-of-range values?\n",
      "│ Try `map(clamp01nan, img)` to clamp values to a valid range.\n",
      "└ @ ImageMagick C:\\Users\\Lukas\\.julia\\packages\\ImageMagick\\b8swT\\src\\ImageMagick.jl:180\n",
      "\u001b[32mProgress:  84%|███████████████████████████████████      |  ETA: 0:04:14\u001b[39m"
     ]
    },
    {
     "name": "stdout",
     "output_type": "stream",
     "text": [
      "Steps: 549, tries: 21\r"
     ]
    },
    {
     "name": "stderr",
     "output_type": "stream",
     "text": [
      "┌ Warning: Mapping to the storage type failed; perhaps your data had out-of-range values?\n",
      "│ Try `map(clamp01nan, img)` to clamp values to a valid range.\n",
      "└ @ ImageMagick C:\\Users\\Lukas\\.julia\\packages\\ImageMagick\\b8swT\\src\\ImageMagick.jl:180\n",
      "\u001b[32mProgress:  85%|███████████████████████████████████      |  ETA: 0:04:12\u001b[39m"
     ]
    },
    {
     "name": "stdout",
     "output_type": "stream",
     "text": [
      "Steps: 549, tries: 11\r"
     ]
    },
    {
     "name": "stderr",
     "output_type": "stream",
     "text": [
      "┌ Warning: Mapping to the storage type failed; perhaps your data had out-of-range values?\n",
      "│ Try `map(clamp01nan, img)` to clamp values to a valid range.\n",
      "└ @ ImageMagick C:\\Users\\Lukas\\.julia\\packages\\ImageMagick\\b8swT\\src\\ImageMagick.jl:180\n",
      "\u001b[32mProgress:  85%|███████████████████████████████████      |  ETA: 0:04:10\u001b[39m"
     ]
    },
    {
     "name": "stdout",
     "output_type": "stream",
     "text": [
      "Steps: 549, tries: 02\r"
     ]
    },
    {
     "name": "stderr",
     "output_type": "stream",
     "text": [
      "┌ Warning: Mapping to the storage type failed; perhaps your data had out-of-range values?\n",
      "│ Try `map(clamp01nan, img)` to clamp values to a valid range.\n",
      "└ @ ImageMagick C:\\Users\\Lukas\\.julia\\packages\\ImageMagick\\b8swT\\src\\ImageMagick.jl:180\n",
      "\u001b[32mProgress:  85%|███████████████████████████████████      |  ETA: 0:04:07\u001b[39m"
     ]
    },
    {
     "name": "stdout",
     "output_type": "stream",
     "text": [
      "Steps: 549, tries: 56\r"
     ]
    },
    {
     "name": "stderr",
     "output_type": "stream",
     "text": [
      "┌ Warning: Mapping to the storage type failed; perhaps your data had out-of-range values?\n",
      "│ Try `map(clamp01nan, img)` to clamp values to a valid range.\n",
      "└ @ ImageMagick C:\\Users\\Lukas\\.julia\\packages\\ImageMagick\\b8swT\\src\\ImageMagick.jl:180\n",
      "\u001b[32mProgress:  85%|███████████████████████████████████      |  ETA: 0:04:05\u001b[39m"
     ]
    },
    {
     "name": "stdout",
     "output_type": "stream",
     "text": [
      "Steps: 549, tries: 40\r"
     ]
    },
    {
     "name": "stderr",
     "output_type": "stream",
     "text": [
      "┌ Warning: Mapping to the storage type failed; perhaps your data had out-of-range values?\n",
      "│ Try `map(clamp01nan, img)` to clamp values to a valid range.\n",
      "└ @ ImageMagick C:\\Users\\Lukas\\.julia\\packages\\ImageMagick\\b8swT\\src\\ImageMagick.jl:180\n",
      "\u001b[32mProgress:  85%|███████████████████████████████████      |  ETA: 0:04:03\u001b[39m"
     ]
    },
    {
     "name": "stdout",
     "output_type": "stream",
     "text": [
      "Steps: 549, tries: 14\r"
     ]
    },
    {
     "name": "stderr",
     "output_type": "stream",
     "text": [
      "┌ Warning: Mapping to the storage type failed; perhaps your data had out-of-range values?\n",
      "│ Try `map(clamp01nan, img)` to clamp values to a valid range.\n",
      "└ @ ImageMagick C:\\Users\\Lukas\\.julia\\packages\\ImageMagick\\b8swT\\src\\ImageMagick.jl:180\n",
      "\u001b[32mProgress:  85%|███████████████████████████████████      |  ETA: 0:04:01\u001b[39m"
     ]
    },
    {
     "name": "stdout",
     "output_type": "stream",
     "text": [
      "Steps: 549, tries: 78\r"
     ]
    },
    {
     "name": "stderr",
     "output_type": "stream",
     "text": [
      "┌ Warning: Mapping to the storage type failed; perhaps your data had out-of-range values?\n",
      "│ Try `map(clamp01nan, img)` to clamp values to a valid range.\n",
      "└ @ ImageMagick C:\\Users\\Lukas\\.julia\\packages\\ImageMagick\\b8swT\\src\\ImageMagick.jl:180\n",
      "\u001b[32mProgress:  85%|████████████████████████████████████     |  ETA: 0:03:59\u001b[39m"
     ]
    },
    {
     "name": "stdout",
     "output_type": "stream",
     "text": [
      "Steps: 549, tries: 14\r"
     ]
    },
    {
     "name": "stderr",
     "output_type": "stream",
     "text": [
      "┌ Warning: Mapping to the storage type failed; perhaps your data had out-of-range values?\n",
      "│ Try `map(clamp01nan, img)` to clamp values to a valid range.\n",
      "└ @ ImageMagick C:\\Users\\Lukas\\.julia\\packages\\ImageMagick\\b8swT\\src\\ImageMagick.jl:180\n",
      "\u001b[32mProgress:  86%|████████████████████████████████████     |  ETA: 0:03:57\u001b[39m"
     ]
    },
    {
     "name": "stdout",
     "output_type": "stream",
     "text": [
      "Steps: 549, tries: 20\r"
     ]
    },
    {
     "name": "stderr",
     "output_type": "stream",
     "text": [
      "┌ Warning: Mapping to the storage type failed; perhaps your data had out-of-range values?\n",
      "│ Try `map(clamp01nan, img)` to clamp values to a valid range.\n",
      "└ @ ImageMagick C:\\Users\\Lukas\\.julia\\packages\\ImageMagick\\b8swT\\src\\ImageMagick.jl:180\n",
      "\u001b[32mProgress:  86%|████████████████████████████████████     |  ETA: 0:03:55\u001b[39m"
     ]
    },
    {
     "name": "stdout",
     "output_type": "stream",
     "text": [
      "Steps: 549, tries: 60\r"
     ]
    },
    {
     "name": "stderr",
     "output_type": "stream",
     "text": [
      "┌ Warning: Mapping to the storage type failed; perhaps your data had out-of-range values?\n",
      "│ Try `map(clamp01nan, img)` to clamp values to a valid range.\n",
      "└ @ ImageMagick C:\\Users\\Lukas\\.julia\\packages\\ImageMagick\\b8swT\\src\\ImageMagick.jl:180\n",
      "\u001b[32mProgress:  86%|████████████████████████████████████     |  ETA: 0:03:53\u001b[39m"
     ]
    },
    {
     "name": "stdout",
     "output_type": "stream",
     "text": [
      "Steps: 549, tries: 14\r"
     ]
    },
    {
     "name": "stderr",
     "output_type": "stream",
     "text": [
      "┌ Warning: Mapping to the storage type failed; perhaps your data had out-of-range values?\n",
      "│ Try `map(clamp01nan, img)` to clamp values to a valid range.\n",
      "└ @ ImageMagick C:\\Users\\Lukas\\.julia\\packages\\ImageMagick\\b8swT\\src\\ImageMagick.jl:180\n",
      "\u001b[32mProgress:  86%|████████████████████████████████████     |  ETA: 0:03:51\u001b[39m"
     ]
    },
    {
     "name": "stdout",
     "output_type": "stream",
     "text": [
      "Steps: 549, tries: 21\r"
     ]
    },
    {
     "name": "stderr",
     "output_type": "stream",
     "text": [
      "┌ Warning: Mapping to the storage type failed; perhaps your data had out-of-range values?\n",
      "│ Try `map(clamp01nan, img)` to clamp values to a valid range.\n",
      "└ @ ImageMagick C:\\Users\\Lukas\\.julia\\packages\\ImageMagick\\b8swT\\src\\ImageMagick.jl:180\n",
      "\u001b[32mProgress:  86%|████████████████████████████████████     |  ETA: 0:03:49\u001b[39m"
     ]
    },
    {
     "name": "stdout",
     "output_type": "stream",
     "text": [
      "Steps: 549, tries: 85\r"
     ]
    },
    {
     "name": "stderr",
     "output_type": "stream",
     "text": [
      "┌ Warning: Mapping to the storage type failed; perhaps your data had out-of-range values?\n",
      "│ Try `map(clamp01nan, img)` to clamp values to a valid range.\n",
      "└ @ ImageMagick C:\\Users\\Lukas\\.julia\\packages\\ImageMagick\\b8swT\\src\\ImageMagick.jl:180\n",
      "\u001b[32mProgress:  86%|████████████████████████████████████     |  ETA: 0:03:47\u001b[39m"
     ]
    },
    {
     "name": "stdout",
     "output_type": "stream",
     "text": [
      "Steps: 549, tries: 28\r"
     ]
    },
    {
     "name": "stderr",
     "output_type": "stream",
     "text": [
      "┌ Warning: Mapping to the storage type failed; perhaps your data had out-of-range values?\n",
      "│ Try `map(clamp01nan, img)` to clamp values to a valid range.\n",
      "└ @ ImageMagick C:\\Users\\Lukas\\.julia\\packages\\ImageMagick\\b8swT\\src\\ImageMagick.jl:180\n",
      "\u001b[32mProgress:  86%|████████████████████████████████████     |  ETA: 0:03:45\u001b[39m"
     ]
    },
    {
     "name": "stdout",
     "output_type": "stream",
     "text": [
      "Steps: 549, tries: 14\r"
     ]
    },
    {
     "name": "stderr",
     "output_type": "stream",
     "text": [
      "┌ Warning: Mapping to the storage type failed; perhaps your data had out-of-range values?\n",
      "│ Try `map(clamp01nan, img)` to clamp values to a valid range.\n",
      "└ @ ImageMagick C:\\Users\\Lukas\\.julia\\packages\\ImageMagick\\b8swT\\src\\ImageMagick.jl:180\n",
      "\u001b[32mProgress:  86%|████████████████████████████████████     |  ETA: 0:03:43\u001b[39m"
     ]
    },
    {
     "name": "stdout",
     "output_type": "stream",
     "text": [
      "Steps: 549, tries: 40\r"
     ]
    },
    {
     "name": "stderr",
     "output_type": "stream",
     "text": [
      "┌ Warning: Mapping to the storage type failed; perhaps your data had out-of-range values?\n",
      "│ Try `map(clamp01nan, img)` to clamp values to a valid range.\n",
      "└ @ ImageMagick C:\\Users\\Lukas\\.julia\\packages\\ImageMagick\\b8swT\\src\\ImageMagick.jl:180\n",
      "\u001b[32mProgress:  86%|████████████████████████████████████     |  ETA: 0:03:41\u001b[39m"
     ]
    },
    {
     "name": "stdout",
     "output_type": "stream",
     "text": [
      "Steps: 549, tries: 80\r"
     ]
    },
    {
     "name": "stderr",
     "output_type": "stream",
     "text": [
      "┌ Warning: Mapping to the storage type failed; perhaps your data had out-of-range values?\n",
      "│ Try `map(clamp01nan, img)` to clamp values to a valid range.\n",
      "└ @ ImageMagick C:\\Users\\Lukas\\.julia\\packages\\ImageMagick\\b8swT\\src\\ImageMagick.jl:180\n",
      "\u001b[32mProgress:  87%|████████████████████████████████████     |  ETA: 0:03:39\u001b[39m"
     ]
    },
    {
     "name": "stdout",
     "output_type": "stream",
     "text": [
      "Steps: 549, tries: 16\r"
     ]
    },
    {
     "name": "stderr",
     "output_type": "stream",
     "text": [
      "┌ Warning: Mapping to the storage type failed; perhaps your data had out-of-range values?\n",
      "│ Try `map(clamp01nan, img)` to clamp values to a valid range.\n",
      "└ @ ImageMagick C:\\Users\\Lukas\\.julia\\packages\\ImageMagick\\b8swT\\src\\ImageMagick.jl:180\n",
      "\u001b[32mProgress:  87%|████████████████████████████████████     |  ETA: 0:03:37\u001b[39m"
     ]
    },
    {
     "name": "stdout",
     "output_type": "stream",
     "text": [
      "Steps: 549, tries: 11\r"
     ]
    },
    {
     "name": "stderr",
     "output_type": "stream",
     "text": [
      "┌ Warning: Mapping to the storage type failed; perhaps your data had out-of-range values?\n",
      "│ Try `map(clamp01nan, img)` to clamp values to a valid range.\n",
      "└ @ ImageMagick C:\\Users\\Lukas\\.julia\\packages\\ImageMagick\\b8swT\\src\\ImageMagick.jl:180\n",
      "\u001b[32mProgress:  87%|████████████████████████████████████     |  ETA: 0:03:35\u001b[39m"
     ]
    },
    {
     "name": "stdout",
     "output_type": "stream",
     "text": [
      "Steps: 549, tries: 27\r"
     ]
    },
    {
     "name": "stderr",
     "output_type": "stream",
     "text": [
      "┌ Warning: Mapping to the storage type failed; perhaps your data had out-of-range values?\n",
      "│ Try `map(clamp01nan, img)` to clamp values to a valid range.\n",
      "└ @ ImageMagick C:\\Users\\Lukas\\.julia\\packages\\ImageMagick\\b8swT\\src\\ImageMagick.jl:180\n",
      "\u001b[32mProgress:  87%|████████████████████████████████████     |  ETA: 0:03:33\u001b[39m"
     ]
    },
    {
     "name": "stdout",
     "output_type": "stream",
     "text": [
      "Steps: 549, tries: 10\r"
     ]
    },
    {
     "name": "stderr",
     "output_type": "stream",
     "text": [
      "┌ Warning: Mapping to the storage type failed; perhaps your data had out-of-range values?\n",
      "│ Try `map(clamp01nan, img)` to clamp values to a valid range.\n",
      "└ @ ImageMagick C:\\Users\\Lukas\\.julia\\packages\\ImageMagick\\b8swT\\src\\ImageMagick.jl:180\n",
      "\u001b[32mProgress:  87%|████████████████████████████████████     |  ETA: 0:03:31\u001b[39m"
     ]
    },
    {
     "name": "stdout",
     "output_type": "stream",
     "text": [
      "Steps: 549, tries: 07\r"
     ]
    },
    {
     "name": "stderr",
     "output_type": "stream",
     "text": [
      "┌ Warning: Mapping to the storage type failed; perhaps your data had out-of-range values?\n",
      "│ Try `map(clamp01nan, img)` to clamp values to a valid range.\n",
      "└ @ ImageMagick C:\\Users\\Lukas\\.julia\\packages\\ImageMagick\\b8swT\\src\\ImageMagick.jl:180\n",
      "\u001b[32mProgress:  87%|████████████████████████████████████     |  ETA: 0:03:29\u001b[39m"
     ]
    },
    {
     "name": "stdout",
     "output_type": "stream",
     "text": [
      "Steps: 549, tries: 10\r"
     ]
    },
    {
     "name": "stderr",
     "output_type": "stream",
     "text": [
      "┌ Warning: Mapping to the storage type failed; perhaps your data had out-of-range values?\n",
      "│ Try `map(clamp01nan, img)` to clamp values to a valid range.\n",
      "└ @ ImageMagick C:\\Users\\Lukas\\.julia\\packages\\ImageMagick\\b8swT\\src\\ImageMagick.jl:180\n",
      "\u001b[32mProgress:  87%|████████████████████████████████████     |  ETA: 0:03:27\u001b[39m"
     ]
    },
    {
     "name": "stdout",
     "output_type": "stream",
     "text": [
      "Steps: 549, tries: 13\r"
     ]
    },
    {
     "name": "stderr",
     "output_type": "stream",
     "text": [
      "┌ Warning: Mapping to the storage type failed; perhaps your data had out-of-range values?\n",
      "│ Try `map(clamp01nan, img)` to clamp values to a valid range.\n",
      "└ @ ImageMagick C:\\Users\\Lukas\\.julia\\packages\\ImageMagick\\b8swT\\src\\ImageMagick.jl:180\n",
      "\u001b[32mProgress:  88%|████████████████████████████████████     |  ETA: 0:03:25\u001b[39m"
     ]
    },
    {
     "name": "stdout",
     "output_type": "stream",
     "text": [
      "Steps: 148, tries: 99\r"
     ]
    },
    {
     "name": "stderr",
     "output_type": "stream",
     "text": [
      "┌ Warning: Mapping to the storage type failed; perhaps your data had out-of-range values?\n",
      "│ Try `map(clamp01nan, img)` to clamp values to a valid range.\n",
      "└ @ ImageMagick C:\\Users\\Lukas\\.julia\\packages\\ImageMagick\\b8swT\\src\\ImageMagick.jl:180\n",
      "\u001b[32mProgress:  88%|████████████████████████████████████     |  ETA: 0:03:23\u001b[39m"
     ]
    },
    {
     "name": "stdout",
     "output_type": "stream",
     "text": [
      "Steps: 549, tries: 23\r"
     ]
    },
    {
     "name": "stderr",
     "output_type": "stream",
     "text": [
      "┌ Warning: Mapping to the storage type failed; perhaps your data had out-of-range values?\n",
      "│ Try `map(clamp01nan, img)` to clamp values to a valid range.\n",
      "└ @ ImageMagick C:\\Users\\Lukas\\.julia\\packages\\ImageMagick\\b8swT\\src\\ImageMagick.jl:180\n",
      "\u001b[32mProgress:  88%|████████████████████████████████████     |  ETA: 0:03:21\u001b[39m"
     ]
    },
    {
     "name": "stdout",
     "output_type": "stream",
     "text": [
      "Steps: 248, tries: 99\r"
     ]
    },
    {
     "name": "stderr",
     "output_type": "stream",
     "text": [
      "┌ Warning: Mapping to the storage type failed; perhaps your data had out-of-range values?\n",
      "│ Try `map(clamp01nan, img)` to clamp values to a valid range.\n",
      "└ @ ImageMagick C:\\Users\\Lukas\\.julia\\packages\\ImageMagick\\b8swT\\src\\ImageMagick.jl:180\n",
      "\u001b[32mProgress:  88%|█████████████████████████████████████    |  ETA: 0:03:19\u001b[39m"
     ]
    },
    {
     "name": "stdout",
     "output_type": "stream",
     "text": [
      "Steps: 549, tries: 63\r"
     ]
    },
    {
     "name": "stderr",
     "output_type": "stream",
     "text": [
      "┌ Warning: Mapping to the storage type failed; perhaps your data had out-of-range values?\n",
      "│ Try `map(clamp01nan, img)` to clamp values to a valid range.\n",
      "└ @ ImageMagick C:\\Users\\Lukas\\.julia\\packages\\ImageMagick\\b8swT\\src\\ImageMagick.jl:180\n",
      "\u001b[32mProgress:  88%|█████████████████████████████████████    |  ETA: 0:03:17\u001b[39m"
     ]
    },
    {
     "name": "stdout",
     "output_type": "stream",
     "text": [
      "Steps: 549, tries: 75\r"
     ]
    },
    {
     "name": "stderr",
     "output_type": "stream",
     "text": [
      "┌ Warning: Mapping to the storage type failed; perhaps your data had out-of-range values?\n",
      "│ Try `map(clamp01nan, img)` to clamp values to a valid range.\n",
      "└ @ ImageMagick C:\\Users\\Lukas\\.julia\\packages\\ImageMagick\\b8swT\\src\\ImageMagick.jl:180\n",
      "\u001b[32mProgress:  88%|█████████████████████████████████████    |  ETA: 0:03:15\u001b[39m"
     ]
    },
    {
     "name": "stdout",
     "output_type": "stream",
     "text": [
      "Steps: 549, tries: 16\r"
     ]
    },
    {
     "name": "stderr",
     "output_type": "stream",
     "text": [
      "┌ Warning: Mapping to the storage type failed; perhaps your data had out-of-range values?\n",
      "│ Try `map(clamp01nan, img)` to clamp values to a valid range.\n",
      "└ @ ImageMagick C:\\Users\\Lukas\\.julia\\packages\\ImageMagick\\b8swT\\src\\ImageMagick.jl:180\n",
      "\u001b[32mProgress:  88%|█████████████████████████████████████    |  ETA: 0:03:13\u001b[39m"
     ]
    },
    {
     "name": "stdout",
     "output_type": "stream",
     "text": [
      "Steps: 549, tries: 46\r"
     ]
    },
    {
     "name": "stderr",
     "output_type": "stream",
     "text": [
      "┌ Warning: Mapping to the storage type failed; perhaps your data had out-of-range values?\n",
      "│ Try `map(clamp01nan, img)` to clamp values to a valid range.\n",
      "└ @ ImageMagick C:\\Users\\Lukas\\.julia\\packages\\ImageMagick\\b8swT\\src\\ImageMagick.jl:180\n",
      "\u001b[32mProgress:  88%|█████████████████████████████████████    |  ETA: 0:03:11\u001b[39m"
     ]
    },
    {
     "name": "stdout",
     "output_type": "stream",
     "text": [
      "Steps: 549, tries: 71\r"
     ]
    },
    {
     "name": "stderr",
     "output_type": "stream",
     "text": [
      "┌ Warning: Mapping to the storage type failed; perhaps your data had out-of-range values?\n",
      "│ Try `map(clamp01nan, img)` to clamp values to a valid range.\n",
      "└ @ ImageMagick C:\\Users\\Lukas\\.julia\\packages\\ImageMagick\\b8swT\\src\\ImageMagick.jl:180\n",
      "\u001b[32mProgress:  88%|█████████████████████████████████████    |  ETA: 0:03:09\u001b[39m"
     ]
    },
    {
     "name": "stdout",
     "output_type": "stream",
     "text": [
      "Steps: 549, tries: 15\r"
     ]
    },
    {
     "name": "stderr",
     "output_type": "stream",
     "text": [
      "┌ Warning: Mapping to the storage type failed; perhaps your data had out-of-range values?\n",
      "│ Try `map(clamp01nan, img)` to clamp values to a valid range.\n",
      "└ @ ImageMagick C:\\Users\\Lukas\\.julia\\packages\\ImageMagick\\b8swT\\src\\ImageMagick.jl:180\n",
      "\r"
     ]
    },
    {
     "name": "stdout",
     "output_type": "stream",
     "text": [
      "Steps: 112, tries: 48\r"
     ]
    },
    {
     "name": "stderr",
     "output_type": "stream",
     "text": [
      "\u001b[32mProgress:  89%|█████████████████████████████████████    |  ETA: 0:03:07\u001b[39m"
     ]
    },
    {
     "name": "stdout",
     "output_type": "stream",
     "text": [
      "Steps: 549, tries: 96\r"
     ]
    },
    {
     "name": "stderr",
     "output_type": "stream",
     "text": [
      "┌ Warning: Mapping to the storage type failed; perhaps your data had out-of-range values?\n",
      "│ Try `map(clamp01nan, img)` to clamp values to a valid range.\n",
      "└ @ ImageMagick C:\\Users\\Lukas\\.julia\\packages\\ImageMagick\\b8swT\\src\\ImageMagick.jl:180\n",
      "\u001b[32mProgress:  89%|█████████████████████████████████████    |  ETA: 0:03:05\u001b[39m"
     ]
    },
    {
     "name": "stdout",
     "output_type": "stream",
     "text": [
      "Steps: 549, tries: 28\r"
     ]
    },
    {
     "name": "stderr",
     "output_type": "stream",
     "text": [
      "┌ Warning: Mapping to the storage type failed; perhaps your data had out-of-range values?\n",
      "│ Try `map(clamp01nan, img)` to clamp values to a valid range.\n",
      "└ @ ImageMagick C:\\Users\\Lukas\\.julia\\packages\\ImageMagick\\b8swT\\src\\ImageMagick.jl:180\n",
      "\r"
     ]
    },
    {
     "name": "stdout",
     "output_type": "stream",
     "text": [
      "Steps: 128, tries: 23\r"
     ]
    },
    {
     "name": "stderr",
     "output_type": "stream",
     "text": [
      "\u001b[32mProgress:  89%|█████████████████████████████████████    |  ETA: 0:03:03\u001b[39m"
     ]
    },
    {
     "name": "stdout",
     "output_type": "stream",
     "text": [
      "Steps: 549, tries: 12\r"
     ]
    },
    {
     "name": "stderr",
     "output_type": "stream",
     "text": [
      "┌ Warning: Mapping to the storage type failed; perhaps your data had out-of-range values?\n",
      "│ Try `map(clamp01nan, img)` to clamp values to a valid range.\n",
      "└ @ ImageMagick C:\\Users\\Lukas\\.julia\\packages\\ImageMagick\\b8swT\\src\\ImageMagick.jl:180\n",
      "\u001b[32mProgress:  89%|█████████████████████████████████████    |  ETA: 0:03:01\u001b[39m"
     ]
    },
    {
     "name": "stdout",
     "output_type": "stream",
     "text": [
      "Steps: 549, tries: 74\r"
     ]
    },
    {
     "name": "stderr",
     "output_type": "stream",
     "text": [
      "┌ Warning: Mapping to the storage type failed; perhaps your data had out-of-range values?\n",
      "│ Try `map(clamp01nan, img)` to clamp values to a valid range.\n",
      "└ @ ImageMagick C:\\Users\\Lukas\\.julia\\packages\\ImageMagick\\b8swT\\src\\ImageMagick.jl:180\n",
      "\u001b[32mProgress:  89%|█████████████████████████████████████    |  ETA: 0:02:59\u001b[39m"
     ]
    },
    {
     "name": "stdout",
     "output_type": "stream",
     "text": [
      "Steps: 549, tries: 01\r"
     ]
    },
    {
     "name": "stderr",
     "output_type": "stream",
     "text": [
      "┌ Warning: Mapping to the storage type failed; perhaps your data had out-of-range values?\n",
      "│ Try `map(clamp01nan, img)` to clamp values to a valid range.\n",
      "└ @ ImageMagick C:\\Users\\Lukas\\.julia\\packages\\ImageMagick\\b8swT\\src\\ImageMagick.jl:180\n",
      "\u001b[32mProgress:  89%|█████████████████████████████████████    |  ETA: 0:02:57\u001b[39m"
     ]
    },
    {
     "name": "stdout",
     "output_type": "stream",
     "text": [
      "Steps: 549, tries: 13\r"
     ]
    },
    {
     "name": "stderr",
     "output_type": "stream",
     "text": [
      "┌ Warning: Mapping to the storage type failed; perhaps your data had out-of-range values?\n",
      "│ Try `map(clamp01nan, img)` to clamp values to a valid range.\n",
      "└ @ ImageMagick C:\\Users\\Lukas\\.julia\\packages\\ImageMagick\\b8swT\\src\\ImageMagick.jl:180\n",
      "\u001b[32mProgress:  89%|█████████████████████████████████████    |  ETA: 0:02:55\u001b[39m"
     ]
    },
    {
     "name": "stdout",
     "output_type": "stream",
     "text": [
      "Steps: 549, tries: 14\r"
     ]
    },
    {
     "name": "stderr",
     "output_type": "stream",
     "text": [
      "┌ Warning: Mapping to the storage type failed; perhaps your data had out-of-range values?\n",
      "│ Try `map(clamp01nan, img)` to clamp values to a valid range.\n",
      "└ @ ImageMagick C:\\Users\\Lukas\\.julia\\packages\\ImageMagick\\b8swT\\src\\ImageMagick.jl:180\n",
      "\u001b[32mProgress:  90%|█████████████████████████████████████    |  ETA: 0:02:52\u001b[39m"
     ]
    },
    {
     "name": "stdout",
     "output_type": "stream",
     "text": [
      "Steps: 549, tries: 51\r"
     ]
    },
    {
     "name": "stderr",
     "output_type": "stream",
     "text": [
      "┌ Warning: Mapping to the storage type failed; perhaps your data had out-of-range values?\n",
      "│ Try `map(clamp01nan, img)` to clamp values to a valid range.\n",
      "└ @ ImageMagick C:\\Users\\Lukas\\.julia\\packages\\ImageMagick\\b8swT\\src\\ImageMagick.jl:180\n",
      "\u001b[32mProgress:  90%|█████████████████████████████████████    |  ETA: 0:02:50\u001b[39m"
     ]
    },
    {
     "name": "stdout",
     "output_type": "stream",
     "text": [
      "Steps: 549, tries: 10\r"
     ]
    },
    {
     "name": "stderr",
     "output_type": "stream",
     "text": [
      "┌ Warning: Mapping to the storage type failed; perhaps your data had out-of-range values?\n",
      "│ Try `map(clamp01nan, img)` to clamp values to a valid range.\n",
      "└ @ ImageMagick C:\\Users\\Lukas\\.julia\\packages\\ImageMagick\\b8swT\\src\\ImageMagick.jl:180\n",
      "\u001b[32mProgress:  90%|█████████████████████████████████████    |  ETA: 0:02:48\u001b[39m"
     ]
    },
    {
     "name": "stdout",
     "output_type": "stream",
     "text": [
      "Steps: 549, tries: 79\r"
     ]
    },
    {
     "name": "stderr",
     "output_type": "stream",
     "text": [
      "┌ Warning: Mapping to the storage type failed; perhaps your data had out-of-range values?\n",
      "│ Try `map(clamp01nan, img)` to clamp values to a valid range.\n",
      "└ @ ImageMagick C:\\Users\\Lukas\\.julia\\packages\\ImageMagick\\b8swT\\src\\ImageMagick.jl:180\n",
      "\u001b[32mProgress:  90%|█████████████████████████████████████    |  ETA: 0:02:46\u001b[39m"
     ]
    },
    {
     "name": "stdout",
     "output_type": "stream",
     "text": [
      "Steps: 549, tries: 11\r"
     ]
    },
    {
     "name": "stderr",
     "output_type": "stream",
     "text": [
      "┌ Warning: Mapping to the storage type failed; perhaps your data had out-of-range values?\n",
      "│ Try `map(clamp01nan, img)` to clamp values to a valid range.\n",
      "└ @ ImageMagick C:\\Users\\Lukas\\.julia\\packages\\ImageMagick\\b8swT\\src\\ImageMagick.jl:180\n",
      "\u001b[32mProgress:  90%|█████████████████████████████████████    |  ETA: 0:02:44\u001b[39m"
     ]
    },
    {
     "name": "stdout",
     "output_type": "stream",
     "text": [
      "Steps: 549, tries: 71\r"
     ]
    },
    {
     "name": "stderr",
     "output_type": "stream",
     "text": [
      "┌ Warning: Mapping to the storage type failed; perhaps your data had out-of-range values?\n",
      "│ Try `map(clamp01nan, img)` to clamp values to a valid range.\n",
      "└ @ ImageMagick C:\\Users\\Lukas\\.julia\\packages\\ImageMagick\\b8swT\\src\\ImageMagick.jl:180\n",
      "\u001b[32mProgress:  90%|█████████████████████████████████████    |  ETA: 0:02:42\u001b[39m"
     ]
    },
    {
     "name": "stdout",
     "output_type": "stream",
     "text": [
      "Steps: 549, tries: 18\r"
     ]
    },
    {
     "name": "stderr",
     "output_type": "stream",
     "text": [
      "┌ Warning: Mapping to the storage type failed; perhaps your data had out-of-range values?\n",
      "│ Try `map(clamp01nan, img)` to clamp values to a valid range.\n",
      "└ @ ImageMagick C:\\Users\\Lukas\\.julia\\packages\\ImageMagick\\b8swT\\src\\ImageMagick.jl:180\n",
      "\r"
     ]
    },
    {
     "name": "stdout",
     "output_type": "stream",
     "text": [
      "Steps: 116, tries: 59\r"
     ]
    },
    {
     "name": "stderr",
     "output_type": "stream",
     "text": [
      "\u001b[32mProgress:  90%|██████████████████████████████████████   |  ETA: 0:02:40\u001b[39m"
     ]
    },
    {
     "name": "stdout",
     "output_type": "stream",
     "text": [
      "Steps: 549, tries: 11\r"
     ]
    },
    {
     "name": "stderr",
     "output_type": "stream",
     "text": [
      "┌ Warning: Mapping to the storage type failed; perhaps your data had out-of-range values?\n",
      "│ Try `map(clamp01nan, img)` to clamp values to a valid range.\n",
      "└ @ ImageMagick C:\\Users\\Lukas\\.julia\\packages\\ImageMagick\\b8swT\\src\\ImageMagick.jl:180\n",
      "\u001b[32mProgress:  90%|██████████████████████████████████████   |  ETA: 0:02:38\u001b[39m"
     ]
    },
    {
     "name": "stdout",
     "output_type": "stream",
     "text": [
      "Steps: 549, tries: 15\r"
     ]
    },
    {
     "name": "stderr",
     "output_type": "stream",
     "text": [
      "┌ Warning: Mapping to the storage type failed; perhaps your data had out-of-range values?\n",
      "│ Try `map(clamp01nan, img)` to clamp values to a valid range.\n",
      "└ @ ImageMagick C:\\Users\\Lukas\\.julia\\packages\\ImageMagick\\b8swT\\src\\ImageMagick.jl:180\n",
      "\u001b[32mProgress:  90%|██████████████████████████████████████   |  ETA: 0:02:36\u001b[39m"
     ]
    },
    {
     "name": "stdout",
     "output_type": "stream",
     "text": [
      "Steps: 549, tries: 43\r"
     ]
    },
    {
     "name": "stderr",
     "output_type": "stream",
     "text": [
      "┌ Warning: Mapping to the storage type failed; perhaps your data had out-of-range values?\n",
      "│ Try `map(clamp01nan, img)` to clamp values to a valid range.\n",
      "└ @ ImageMagick C:\\Users\\Lukas\\.julia\\packages\\ImageMagick\\b8swT\\src\\ImageMagick.jl:180\n",
      "\u001b[32mProgress:  91%|██████████████████████████████████████   |  ETA: 0:02:34\u001b[39m"
     ]
    },
    {
     "name": "stdout",
     "output_type": "stream",
     "text": [
      "Steps: 549, tries: 23\r"
     ]
    },
    {
     "name": "stderr",
     "output_type": "stream",
     "text": [
      "┌ Warning: Mapping to the storage type failed; perhaps your data had out-of-range values?\n",
      "│ Try `map(clamp01nan, img)` to clamp values to a valid range.\n",
      "└ @ ImageMagick C:\\Users\\Lukas\\.julia\\packages\\ImageMagick\\b8swT\\src\\ImageMagick.jl:180\n",
      "\u001b[32mProgress:  91%|██████████████████████████████████████   |  ETA: 0:02:32\u001b[39m"
     ]
    },
    {
     "name": "stdout",
     "output_type": "stream",
     "text": [
      "Steps: 549, tries: 28\r"
     ]
    },
    {
     "name": "stderr",
     "output_type": "stream",
     "text": [
      "┌ Warning: Mapping to the storage type failed; perhaps your data had out-of-range values?\n",
      "│ Try `map(clamp01nan, img)` to clamp values to a valid range.\n",
      "└ @ ImageMagick C:\\Users\\Lukas\\.julia\\packages\\ImageMagick\\b8swT\\src\\ImageMagick.jl:180\n",
      "\u001b[32mProgress:  91%|██████████████████████████████████████   |  ETA: 0:02:30\u001b[39m"
     ]
    },
    {
     "name": "stdout",
     "output_type": "stream",
     "text": [
      "Steps: 549, tries: 12\r"
     ]
    },
    {
     "name": "stderr",
     "output_type": "stream",
     "text": [
      "┌ Warning: Mapping to the storage type failed; perhaps your data had out-of-range values?\n",
      "│ Try `map(clamp01nan, img)` to clamp values to a valid range.\n",
      "└ @ ImageMagick C:\\Users\\Lukas\\.julia\\packages\\ImageMagick\\b8swT\\src\\ImageMagick.jl:180\n",
      "\u001b[32mProgress:  91%|██████████████████████████████████████   |  ETA: 0:02:28\u001b[39m"
     ]
    },
    {
     "name": "stdout",
     "output_type": "stream",
     "text": [
      "Steps: 549, tries: 27\r"
     ]
    },
    {
     "name": "stderr",
     "output_type": "stream",
     "text": [
      "┌ Warning: Mapping to the storage type failed; perhaps your data had out-of-range values?\n",
      "│ Try `map(clamp01nan, img)` to clamp values to a valid range.\n",
      "└ @ ImageMagick C:\\Users\\Lukas\\.julia\\packages\\ImageMagick\\b8swT\\src\\ImageMagick.jl:180\n",
      "\u001b[32mProgress:  91%|██████████████████████████████████████   |  ETA: 0:02:26\u001b[39m"
     ]
    },
    {
     "name": "stdout",
     "output_type": "stream",
     "text": [
      "Steps: 549, tries: 47\r"
     ]
    },
    {
     "name": "stderr",
     "output_type": "stream",
     "text": [
      "┌ Warning: Mapping to the storage type failed; perhaps your data had out-of-range values?\n",
      "│ Try `map(clamp01nan, img)` to clamp values to a valid range.\n",
      "└ @ ImageMagick C:\\Users\\Lukas\\.julia\\packages\\ImageMagick\\b8swT\\src\\ImageMagick.jl:180\n",
      "\u001b[32mProgress:  91%|██████████████████████████████████████   |  ETA: 0:02:24\u001b[39m"
     ]
    },
    {
     "name": "stdout",
     "output_type": "stream",
     "text": [
      "Steps: 549, tries: 39\r"
     ]
    },
    {
     "name": "stderr",
     "output_type": "stream",
     "text": [
      "┌ Warning: Mapping to the storage type failed; perhaps your data had out-of-range values?\n",
      "│ Try `map(clamp01nan, img)` to clamp values to a valid range.\n",
      "└ @ ImageMagick C:\\Users\\Lukas\\.julia\\packages\\ImageMagick\\b8swT\\src\\ImageMagick.jl:180\n",
      "\u001b[32mProgress:  91%|██████████████████████████████████████   |  ETA: 0:02:22\u001b[39m"
     ]
    },
    {
     "name": "stdout",
     "output_type": "stream",
     "text": [
      "Steps: 549, tries: 17\r"
     ]
    },
    {
     "name": "stderr",
     "output_type": "stream",
     "text": [
      "┌ Warning: Mapping to the storage type failed; perhaps your data had out-of-range values?\n",
      "│ Try `map(clamp01nan, img)` to clamp values to a valid range.\n",
      "└ @ ImageMagick C:\\Users\\Lukas\\.julia\\packages\\ImageMagick\\b8swT\\src\\ImageMagick.jl:180\n",
      "\u001b[32mProgress:  92%|██████████████████████████████████████   |  ETA: 0:02:20\u001b[39m"
     ]
    },
    {
     "name": "stdout",
     "output_type": "stream",
     "text": [
      "Steps: 549, tries: 23\r"
     ]
    },
    {
     "name": "stderr",
     "output_type": "stream",
     "text": [
      "┌ Warning: Mapping to the storage type failed; perhaps your data had out-of-range values?\n",
      "│ Try `map(clamp01nan, img)` to clamp values to a valid range.\n",
      "└ @ ImageMagick C:\\Users\\Lukas\\.julia\\packages\\ImageMagick\\b8swT\\src\\ImageMagick.jl:180\n",
      "\u001b[32mProgress:  92%|██████████████████████████████████████   |  ETA: 0:02:18\u001b[39m"
     ]
    },
    {
     "name": "stdout",
     "output_type": "stream",
     "text": [
      "Steps: 549, tries: 33\r"
     ]
    },
    {
     "name": "stderr",
     "output_type": "stream",
     "text": [
      "┌ Warning: Mapping to the storage type failed; perhaps your data had out-of-range values?\n",
      "│ Try `map(clamp01nan, img)` to clamp values to a valid range.\n",
      "└ @ ImageMagick C:\\Users\\Lukas\\.julia\\packages\\ImageMagick\\b8swT\\src\\ImageMagick.jl:180\n",
      "\u001b[32mProgress:  92%|██████████████████████████████████████   |  ETA: 0:02:16\u001b[39m"
     ]
    },
    {
     "name": "stdout",
     "output_type": "stream",
     "text": [
      "Steps: 549, tries: 32\r"
     ]
    },
    {
     "name": "stderr",
     "output_type": "stream",
     "text": [
      "┌ Warning: Mapping to the storage type failed; perhaps your data had out-of-range values?\n",
      "│ Try `map(clamp01nan, img)` to clamp values to a valid range.\n",
      "└ @ ImageMagick C:\\Users\\Lukas\\.julia\\packages\\ImageMagick\\b8swT\\src\\ImageMagick.jl:180\n",
      "\u001b[32mProgress:  92%|██████████████████████████████████████   |  ETA: 0:02:14\u001b[39m"
     ]
    },
    {
     "name": "stdout",
     "output_type": "stream",
     "text": [
      "Steps: 549, tries: 25\r"
     ]
    },
    {
     "name": "stderr",
     "output_type": "stream",
     "text": [
      "┌ Warning: Mapping to the storage type failed; perhaps your data had out-of-range values?\n",
      "│ Try `map(clamp01nan, img)` to clamp values to a valid range.\n",
      "└ @ ImageMagick C:\\Users\\Lukas\\.julia\\packages\\ImageMagick\\b8swT\\src\\ImageMagick.jl:180\n",
      "\u001b[32mProgress:  92%|██████████████████████████████████████   |  ETA: 0:02:12\u001b[39m"
     ]
    },
    {
     "name": "stdout",
     "output_type": "stream",
     "text": [
      "Steps: 549, tries: 76\r"
     ]
    },
    {
     "name": "stderr",
     "output_type": "stream",
     "text": [
      "┌ Warning: Mapping to the storage type failed; perhaps your data had out-of-range values?\n",
      "│ Try `map(clamp01nan, img)` to clamp values to a valid range.\n",
      "└ @ ImageMagick C:\\Users\\Lukas\\.julia\\packages\\ImageMagick\\b8swT\\src\\ImageMagick.jl:180\n",
      "\u001b[32mProgress:  92%|██████████████████████████████████████   |  ETA: 0:02:10\u001b[39m"
     ]
    },
    {
     "name": "stdout",
     "output_type": "stream",
     "text": [
      "Steps: 549, tries: 53\r"
     ]
    },
    {
     "name": "stderr",
     "output_type": "stream",
     "text": [
      "┌ Warning: Mapping to the storage type failed; perhaps your data had out-of-range values?\n",
      "│ Try `map(clamp01nan, img)` to clamp values to a valid range.\n",
      "└ @ ImageMagick C:\\Users\\Lukas\\.julia\\packages\\ImageMagick\\b8swT\\src\\ImageMagick.jl:180\n",
      "\u001b[32mProgress:  92%|██████████████████████████████████████   |  ETA: 0:02:08\u001b[39m"
     ]
    },
    {
     "name": "stdout",
     "output_type": "stream",
     "text": [
      "Steps: 549, tries: 10\r"
     ]
    },
    {
     "name": "stderr",
     "output_type": "stream",
     "text": [
      "┌ Warning: Mapping to the storage type failed; perhaps your data had out-of-range values?\n",
      "│ Try `map(clamp01nan, img)` to clamp values to a valid range.\n",
      "└ @ ImageMagick C:\\Users\\Lukas\\.julia\\packages\\ImageMagick\\b8swT\\src\\ImageMagick.jl:180\n",
      "\u001b[32mProgress:  92%|██████████████████████████████████████   |  ETA: 0:02:05\u001b[39m"
     ]
    },
    {
     "name": "stdout",
     "output_type": "stream",
     "text": [
      "Steps: 549, tries: 01\r"
     ]
    },
    {
     "name": "stderr",
     "output_type": "stream",
     "text": [
      "┌ Warning: Mapping to the storage type failed; perhaps your data had out-of-range values?\n",
      "│ Try `map(clamp01nan, img)` to clamp values to a valid range.\n",
      "└ @ ImageMagick C:\\Users\\Lukas\\.julia\\packages\\ImageMagick\\b8swT\\src\\ImageMagick.jl:180\n",
      "\u001b[32mProgress:  92%|██████████████████████████████████████   |  ETA: 0:02:03\u001b[39m"
     ]
    },
    {
     "name": "stdout",
     "output_type": "stream",
     "text": [
      "Steps: 549, tries: 57\r"
     ]
    },
    {
     "name": "stderr",
     "output_type": "stream",
     "text": [
      "┌ Warning: Mapping to the storage type failed; perhaps your data had out-of-range values?\n",
      "│ Try `map(clamp01nan, img)` to clamp values to a valid range.\n",
      "└ @ ImageMagick C:\\Users\\Lukas\\.julia\\packages\\ImageMagick\\b8swT\\src\\ImageMagick.jl:180\n",
      "\u001b[32mProgress:  93%|██████████████████████████████████████   |  ETA: 0:02:01\u001b[39m"
     ]
    },
    {
     "name": "stdout",
     "output_type": "stream",
     "text": [
      "Steps: 325, tries: 99\r"
     ]
    },
    {
     "name": "stderr",
     "output_type": "stream",
     "text": [
      "┌ Warning: Mapping to the storage type failed; perhaps your data had out-of-range values?\n",
      "│ Try `map(clamp01nan, img)` to clamp values to a valid range.\n",
      "└ @ ImageMagick C:\\Users\\Lukas\\.julia\\packages\\ImageMagick\\b8swT\\src\\ImageMagick.jl:180\n",
      "\u001b[32mProgress:  93%|███████████████████████████████████████  |  ETA: 0:01:59\u001b[39m"
     ]
    },
    {
     "name": "stdout",
     "output_type": "stream",
     "text": [
      "Steps: 549, tries: 10\r"
     ]
    },
    {
     "name": "stderr",
     "output_type": "stream",
     "text": [
      "┌ Warning: Mapping to the storage type failed; perhaps your data had out-of-range values?\n",
      "│ Try `map(clamp01nan, img)` to clamp values to a valid range.\n",
      "└ @ ImageMagick C:\\Users\\Lukas\\.julia\\packages\\ImageMagick\\b8swT\\src\\ImageMagick.jl:180\n",
      "\u001b[32mProgress:  93%|███████████████████████████████████████  |  ETA: 0:01:57\u001b[39m"
     ]
    },
    {
     "name": "stdout",
     "output_type": "stream",
     "text": [
      "Steps: 549, tries: 08\r"
     ]
    },
    {
     "name": "stderr",
     "output_type": "stream",
     "text": [
      "┌ Warning: Mapping to the storage type failed; perhaps your data had out-of-range values?\n",
      "│ Try `map(clamp01nan, img)` to clamp values to a valid range.\n",
      "└ @ ImageMagick C:\\Users\\Lukas\\.julia\\packages\\ImageMagick\\b8swT\\src\\ImageMagick.jl:180\n",
      "\u001b[32mProgress:  93%|███████████████████████████████████████  |  ETA: 0:01:55\u001b[39m"
     ]
    },
    {
     "name": "stdout",
     "output_type": "stream",
     "text": [
      "Steps: 549, tries: 19\r"
     ]
    },
    {
     "name": "stderr",
     "output_type": "stream",
     "text": [
      "┌ Warning: Mapping to the storage type failed; perhaps your data had out-of-range values?\n",
      "│ Try `map(clamp01nan, img)` to clamp values to a valid range.\n",
      "└ @ ImageMagick C:\\Users\\Lukas\\.julia\\packages\\ImageMagick\\b8swT\\src\\ImageMagick.jl:180\n",
      "\u001b[32mProgress:  93%|███████████████████████████████████████  |  ETA: 0:01:53\u001b[39m"
     ]
    },
    {
     "name": "stdout",
     "output_type": "stream",
     "text": [
      "Steps: 549, tries: 38\r"
     ]
    },
    {
     "name": "stderr",
     "output_type": "stream",
     "text": [
      "┌ Warning: Mapping to the storage type failed; perhaps your data had out-of-range values?\n",
      "│ Try `map(clamp01nan, img)` to clamp values to a valid range.\n",
      "└ @ ImageMagick C:\\Users\\Lukas\\.julia\\packages\\ImageMagick\\b8swT\\src\\ImageMagick.jl:180\n",
      "\u001b[32mProgress:  93%|███████████████████████████████████████  |  ETA: 0:01:51\u001b[39m"
     ]
    },
    {
     "name": "stdout",
     "output_type": "stream",
     "text": [
      "Steps: 549, tries: 55\r"
     ]
    },
    {
     "name": "stderr",
     "output_type": "stream",
     "text": [
      "┌ Warning: Mapping to the storage type failed; perhaps your data had out-of-range values?\n",
      "│ Try `map(clamp01nan, img)` to clamp values to a valid range.\n",
      "└ @ ImageMagick C:\\Users\\Lukas\\.julia\\packages\\ImageMagick\\b8swT\\src\\ImageMagick.jl:180\n",
      "\u001b[32mProgress:  93%|███████████████████████████████████████  |  ETA: 0:01:49\u001b[39m"
     ]
    },
    {
     "name": "stdout",
     "output_type": "stream",
     "text": [
      "Steps: 549, tries: 25\r"
     ]
    },
    {
     "name": "stderr",
     "output_type": "stream",
     "text": [
      "┌ Warning: Mapping to the storage type failed; perhaps your data had out-of-range values?\n",
      "│ Try `map(clamp01nan, img)` to clamp values to a valid range.\n",
      "└ @ ImageMagick C:\\Users\\Lukas\\.julia\\packages\\ImageMagick\\b8swT\\src\\ImageMagick.jl:180\n",
      "\u001b[32mProgress:  94%|███████████████████████████████████████  |  ETA: 0:01:47\u001b[39m"
     ]
    },
    {
     "name": "stdout",
     "output_type": "stream",
     "text": [
      "Steps: 549, tries: 10\r"
     ]
    },
    {
     "name": "stderr",
     "output_type": "stream",
     "text": [
      "┌ Warning: Mapping to the storage type failed; perhaps your data had out-of-range values?\n",
      "│ Try `map(clamp01nan, img)` to clamp values to a valid range.\n",
      "└ @ ImageMagick C:\\Users\\Lukas\\.julia\\packages\\ImageMagick\\b8swT\\src\\ImageMagick.jl:180\n",
      "\u001b[32mProgress:  94%|███████████████████████████████████████  |  ETA: 0:01:45\u001b[39m"
     ]
    },
    {
     "name": "stdout",
     "output_type": "stream",
     "text": [
      "Steps: 549, tries: 73\r"
     ]
    },
    {
     "name": "stderr",
     "output_type": "stream",
     "text": [
      "┌ Warning: Mapping to the storage type failed; perhaps your data had out-of-range values?\n",
      "│ Try `map(clamp01nan, img)` to clamp values to a valid range.\n",
      "└ @ ImageMagick C:\\Users\\Lukas\\.julia\\packages\\ImageMagick\\b8swT\\src\\ImageMagick.jl:180\n",
      "\u001b[32mProgress:  94%|███████████████████████████████████████  |  ETA: 0:01:43\u001b[39m"
     ]
    },
    {
     "name": "stdout",
     "output_type": "stream",
     "text": [
      "Steps: 549, tries: 14\r"
     ]
    },
    {
     "name": "stderr",
     "output_type": "stream",
     "text": [
      "┌ Warning: Mapping to the storage type failed; perhaps your data had out-of-range values?\n",
      "│ Try `map(clamp01nan, img)` to clamp values to a valid range.\n",
      "└ @ ImageMagick C:\\Users\\Lukas\\.julia\\packages\\ImageMagick\\b8swT\\src\\ImageMagick.jl:180\n",
      "\u001b[32mProgress:  94%|███████████████████████████████████████  |  ETA: 0:01:41\u001b[39m"
     ]
    },
    {
     "name": "stdout",
     "output_type": "stream",
     "text": [
      "Steps: 549, tries: 98\r"
     ]
    },
    {
     "name": "stderr",
     "output_type": "stream",
     "text": [
      "┌ Warning: Mapping to the storage type failed; perhaps your data had out-of-range values?\n",
      "│ Try `map(clamp01nan, img)` to clamp values to a valid range.\n",
      "└ @ ImageMagick C:\\Users\\Lukas\\.julia\\packages\\ImageMagick\\b8swT\\src\\ImageMagick.jl:180\n",
      "\u001b[32mProgress:  94%|███████████████████████████████████████  |  ETA: 0:01:39\u001b[39m"
     ]
    },
    {
     "name": "stdout",
     "output_type": "stream",
     "text": [
      "Steps: 549, tries: 17\r"
     ]
    },
    {
     "name": "stderr",
     "output_type": "stream",
     "text": [
      "┌ Warning: Mapping to the storage type failed; perhaps your data had out-of-range values?\n",
      "│ Try `map(clamp01nan, img)` to clamp values to a valid range.\n",
      "└ @ ImageMagick C:\\Users\\Lukas\\.julia\\packages\\ImageMagick\\b8swT\\src\\ImageMagick.jl:180\n",
      "\u001b[32mProgress:  94%|███████████████████████████████████████  |  ETA: 0:01:37\u001b[39m"
     ]
    },
    {
     "name": "stdout",
     "output_type": "stream",
     "text": [
      "Steps: 549, tries: 11\r"
     ]
    },
    {
     "name": "stderr",
     "output_type": "stream",
     "text": [
      "┌ Warning: Mapping to the storage type failed; perhaps your data had out-of-range values?\n",
      "│ Try `map(clamp01nan, img)` to clamp values to a valid range.\n",
      "└ @ ImageMagick C:\\Users\\Lukas\\.julia\\packages\\ImageMagick\\b8swT\\src\\ImageMagick.jl:180\n",
      "\u001b[32mProgress:  94%|███████████████████████████████████████  |  ETA: 0:01:35\u001b[39m"
     ]
    },
    {
     "name": "stdout",
     "output_type": "stream",
     "text": [
      "Steps: 549, tries: 00\r"
     ]
    },
    {
     "name": "stderr",
     "output_type": "stream",
     "text": [
      "┌ Warning: Mapping to the storage type failed; perhaps your data had out-of-range values?\n",
      "│ Try `map(clamp01nan, img)` to clamp values to a valid range.\n",
      "└ @ ImageMagick C:\\Users\\Lukas\\.julia\\packages\\ImageMagick\\b8swT\\src\\ImageMagick.jl:180\n",
      "\u001b[32mProgress:  94%|███████████████████████████████████████  |  ETA: 0:01:33\u001b[39m"
     ]
    },
    {
     "name": "stdout",
     "output_type": "stream",
     "text": [
      "Steps: 549, tries: 01\r"
     ]
    },
    {
     "name": "stderr",
     "output_type": "stream",
     "text": [
      "┌ Warning: Mapping to the storage type failed; perhaps your data had out-of-range values?\n",
      "│ Try `map(clamp01nan, img)` to clamp values to a valid range.\n",
      "└ @ ImageMagick C:\\Users\\Lukas\\.julia\\packages\\ImageMagick\\b8swT\\src\\ImageMagick.jl:180\n",
      "\u001b[32mProgress:  94%|███████████████████████████████████████  |  ETA: 0:01:31\u001b[39m"
     ]
    },
    {
     "name": "stdout",
     "output_type": "stream",
     "text": [
      "Steps: 549, tries: 31\r"
     ]
    },
    {
     "name": "stderr",
     "output_type": "stream",
     "text": [
      "┌ Warning: Mapping to the storage type failed; perhaps your data had out-of-range values?\n",
      "│ Try `map(clamp01nan, img)` to clamp values to a valid range.\n",
      "└ @ ImageMagick C:\\Users\\Lukas\\.julia\\packages\\ImageMagick\\b8swT\\src\\ImageMagick.jl:180\n",
      "\u001b[32mProgress:  95%|███████████████████████████████████████  |  ETA: 0:01:29\u001b[39m"
     ]
    },
    {
     "name": "stdout",
     "output_type": "stream",
     "text": [
      "Steps: 549, tries: 34\r"
     ]
    },
    {
     "name": "stderr",
     "output_type": "stream",
     "text": [
      "┌ Warning: Mapping to the storage type failed; perhaps your data had out-of-range values?\n",
      "│ Try `map(clamp01nan, img)` to clamp values to a valid range.\n",
      "└ @ ImageMagick C:\\Users\\Lukas\\.julia\\packages\\ImageMagick\\b8swT\\src\\ImageMagick.jl:180\n",
      "\u001b[32mProgress:  95%|███████████████████████████████████████  |  ETA: 0:01:27\u001b[39m"
     ]
    },
    {
     "name": "stdout",
     "output_type": "stream",
     "text": [
      "Steps: 549, tries: 96\r"
     ]
    },
    {
     "name": "stderr",
     "output_type": "stream",
     "text": [
      "┌ Warning: Mapping to the storage type failed; perhaps your data had out-of-range values?\n",
      "│ Try `map(clamp01nan, img)` to clamp values to a valid range.\n",
      "└ @ ImageMagick C:\\Users\\Lukas\\.julia\\packages\\ImageMagick\\b8swT\\src\\ImageMagick.jl:180\n",
      "\u001b[32mProgress:  95%|███████████████████████████████████████  |  ETA: 0:01:24\u001b[39m"
     ]
    },
    {
     "name": "stdout",
     "output_type": "stream",
     "text": [
      "Steps: 549, tries: 92\r"
     ]
    },
    {
     "name": "stderr",
     "output_type": "stream",
     "text": [
      "┌ Warning: Mapping to the storage type failed; perhaps your data had out-of-range values?\n",
      "│ Try `map(clamp01nan, img)` to clamp values to a valid range.\n",
      "└ @ ImageMagick C:\\Users\\Lukas\\.julia\\packages\\ImageMagick\\b8swT\\src\\ImageMagick.jl:180\n",
      "\u001b[32mProgress:  95%|███████████████████████████████████████  |  ETA: 0:01:22\u001b[39m"
     ]
    },
    {
     "name": "stdout",
     "output_type": "stream",
     "text": [
      "Steps: 549, tries: 07\r"
     ]
    },
    {
     "name": "stderr",
     "output_type": "stream",
     "text": [
      "┌ Warning: Mapping to the storage type failed; perhaps your data had out-of-range values?\n",
      "│ Try `map(clamp01nan, img)` to clamp values to a valid range.\n",
      "└ @ ImageMagick C:\\Users\\Lukas\\.julia\\packages\\ImageMagick\\b8swT\\src\\ImageMagick.jl:180\n",
      "\u001b[32mProgress:  95%|████████████████████████████████████████ |  ETA: 0:01:20\u001b[39m"
     ]
    },
    {
     "name": "stdout",
     "output_type": "stream",
     "text": [
      "Steps: 549, tries: 21\r"
     ]
    },
    {
     "name": "stderr",
     "output_type": "stream",
     "text": [
      "┌ Warning: Mapping to the storage type failed; perhaps your data had out-of-range values?\n",
      "│ Try `map(clamp01nan, img)` to clamp values to a valid range.\n",
      "└ @ ImageMagick C:\\Users\\Lukas\\.julia\\packages\\ImageMagick\\b8swT\\src\\ImageMagick.jl:180\n",
      "\u001b[32mProgress:  95%|████████████████████████████████████████ |  ETA: 0:01:18\u001b[39m"
     ]
    },
    {
     "name": "stdout",
     "output_type": "stream",
     "text": [
      "Steps: 549, tries: 35\r"
     ]
    },
    {
     "name": "stderr",
     "output_type": "stream",
     "text": [
      "┌ Warning: Mapping to the storage type failed; perhaps your data had out-of-range values?\n",
      "│ Try `map(clamp01nan, img)` to clamp values to a valid range.\n",
      "└ @ ImageMagick C:\\Users\\Lukas\\.julia\\packages\\ImageMagick\\b8swT\\src\\ImageMagick.jl:180\n",
      "\u001b[32mProgress:  95%|████████████████████████████████████████ |  ETA: 0:01:16\u001b[39m"
     ]
    },
    {
     "name": "stdout",
     "output_type": "stream",
     "text": [
      "Steps: 549, tries: 35\r"
     ]
    },
    {
     "name": "stderr",
     "output_type": "stream",
     "text": [
      "┌ Warning: Mapping to the storage type failed; perhaps your data had out-of-range values?\n",
      "│ Try `map(clamp01nan, img)` to clamp values to a valid range.\n",
      "└ @ ImageMagick C:\\Users\\Lukas\\.julia\\packages\\ImageMagick\\b8swT\\src\\ImageMagick.jl:180\n",
      "\r"
     ]
    },
    {
     "name": "stdout",
     "output_type": "stream",
     "text": [
      "Steps: 121, tries: 08\r"
     ]
    },
    {
     "name": "stderr",
     "output_type": "stream",
     "text": [
      "\u001b[32mProgress:  96%|████████████████████████████████████████ |  ETA: 0:01:14\u001b[39m"
     ]
    },
    {
     "name": "stdout",
     "output_type": "stream",
     "text": [
      "Steps: 549, tries: 13\r"
     ]
    },
    {
     "name": "stderr",
     "output_type": "stream",
     "text": [
      "┌ Warning: Mapping to the storage type failed; perhaps your data had out-of-range values?\n",
      "│ Try `map(clamp01nan, img)` to clamp values to a valid range.\n",
      "└ @ ImageMagick C:\\Users\\Lukas\\.julia\\packages\\ImageMagick\\b8swT\\src\\ImageMagick.jl:180\n",
      "\u001b[32mProgress:  96%|████████████████████████████████████████ |  ETA: 0:01:12\u001b[39m"
     ]
    },
    {
     "name": "stdout",
     "output_type": "stream",
     "text": [
      "Steps: 549, tries: 23\r"
     ]
    },
    {
     "name": "stderr",
     "output_type": "stream",
     "text": [
      "┌ Warning: Mapping to the storage type failed; perhaps your data had out-of-range values?\n",
      "│ Try `map(clamp01nan, img)` to clamp values to a valid range.\n",
      "└ @ ImageMagick C:\\Users\\Lukas\\.julia\\packages\\ImageMagick\\b8swT\\src\\ImageMagick.jl:180\n",
      "\u001b[32mProgress:  96%|████████████████████████████████████████ |  ETA: 0:01:10\u001b[39m"
     ]
    },
    {
     "name": "stdout",
     "output_type": "stream",
     "text": [
      "Steps: 549, tries: 12\r"
     ]
    },
    {
     "name": "stderr",
     "output_type": "stream",
     "text": [
      "┌ Warning: Mapping to the storage type failed; perhaps your data had out-of-range values?\n",
      "│ Try `map(clamp01nan, img)` to clamp values to a valid range.\n",
      "└ @ ImageMagick C:\\Users\\Lukas\\.julia\\packages\\ImageMagick\\b8swT\\src\\ImageMagick.jl:180\n",
      "\u001b[32mProgress:  96%|████████████████████████████████████████ |  ETA: 0:01:08\u001b[39m"
     ]
    },
    {
     "name": "stdout",
     "output_type": "stream",
     "text": [
      "Steps: 549, tries: 67\r"
     ]
    },
    {
     "name": "stderr",
     "output_type": "stream",
     "text": [
      "┌ Warning: Mapping to the storage type failed; perhaps your data had out-of-range values?\n",
      "│ Try `map(clamp01nan, img)` to clamp values to a valid range.\n",
      "└ @ ImageMagick C:\\Users\\Lukas\\.julia\\packages\\ImageMagick\\b8swT\\src\\ImageMagick.jl:180\n",
      "\u001b[32mProgress:  96%|████████████████████████████████████████ |  ETA: 0:01:06\u001b[39m"
     ]
    },
    {
     "name": "stdout",
     "output_type": "stream",
     "text": [
      "Steps: 549, tries: 71\r"
     ]
    },
    {
     "name": "stderr",
     "output_type": "stream",
     "text": [
      "┌ Warning: Mapping to the storage type failed; perhaps your data had out-of-range values?\n",
      "│ Try `map(clamp01nan, img)` to clamp values to a valid range.\n",
      "└ @ ImageMagick C:\\Users\\Lukas\\.julia\\packages\\ImageMagick\\b8swT\\src\\ImageMagick.jl:180\n",
      "\u001b[32mProgress:  96%|████████████████████████████████████████ |  ETA: 0:01:04\u001b[39m"
     ]
    },
    {
     "name": "stdout",
     "output_type": "stream",
     "text": [
      "Steps: 549, tries: 45\r"
     ]
    },
    {
     "name": "stderr",
     "output_type": "stream",
     "text": [
      "┌ Warning: Mapping to the storage type failed; perhaps your data had out-of-range values?\n",
      "│ Try `map(clamp01nan, img)` to clamp values to a valid range.\n",
      "└ @ ImageMagick C:\\Users\\Lukas\\.julia\\packages\\ImageMagick\\b8swT\\src\\ImageMagick.jl:180\n",
      "\u001b[32mProgress:  96%|████████████████████████████████████████ |  ETA: 0:01:02\u001b[39m"
     ]
    },
    {
     "name": "stdout",
     "output_type": "stream",
     "text": [
      "Steps: 549, tries: 12\r"
     ]
    },
    {
     "name": "stderr",
     "output_type": "stream",
     "text": [
      "┌ Warning: Mapping to the storage type failed; perhaps your data had out-of-range values?\n",
      "│ Try `map(clamp01nan, img)` to clamp values to a valid range.\n",
      "└ @ ImageMagick C:\\Users\\Lukas\\.julia\\packages\\ImageMagick\\b8swT\\src\\ImageMagick.jl:180\n",
      "\u001b[32mProgress:  96%|████████████████████████████████████████ |  ETA: 0:01:00\u001b[39m"
     ]
    },
    {
     "name": "stdout",
     "output_type": "stream",
     "text": [
      "Steps: 549, tries: 18\r"
     ]
    },
    {
     "name": "stderr",
     "output_type": "stream",
     "text": [
      "┌ Warning: Mapping to the storage type failed; perhaps your data had out-of-range values?\n",
      "│ Try `map(clamp01nan, img)` to clamp values to a valid range.\n",
      "└ @ ImageMagick C:\\Users\\Lukas\\.julia\\packages\\ImageMagick\\b8swT\\src\\ImageMagick.jl:180\n",
      "\u001b[32mProgress:  96%|████████████████████████████████████████ |  ETA: 0:00:58\u001b[39m"
     ]
    },
    {
     "name": "stdout",
     "output_type": "stream",
     "text": [
      "Steps: 549, tries: 28\r"
     ]
    },
    {
     "name": "stderr",
     "output_type": "stream",
     "text": [
      "┌ Warning: Mapping to the storage type failed; perhaps your data had out-of-range values?\n",
      "│ Try `map(clamp01nan, img)` to clamp values to a valid range.\n",
      "└ @ ImageMagick C:\\Users\\Lukas\\.julia\\packages\\ImageMagick\\b8swT\\src\\ImageMagick.jl:180\n",
      "\u001b[32mProgress:  97%|████████████████████████████████████████ |  ETA: 0:00:56\u001b[39m"
     ]
    },
    {
     "name": "stdout",
     "output_type": "stream",
     "text": [
      "Steps: 549, tries: 35\r"
     ]
    },
    {
     "name": "stderr",
     "output_type": "stream",
     "text": [
      "┌ Warning: Mapping to the storage type failed; perhaps your data had out-of-range values?\n",
      "│ Try `map(clamp01nan, img)` to clamp values to a valid range.\n",
      "└ @ ImageMagick C:\\Users\\Lukas\\.julia\\packages\\ImageMagick\\b8swT\\src\\ImageMagick.jl:180\n",
      "\u001b[32mProgress:  97%|████████████████████████████████████████ |  ETA: 0:00:54\u001b[39m"
     ]
    },
    {
     "name": "stdout",
     "output_type": "stream",
     "text": [
      "Steps: 549, tries: 79\r"
     ]
    },
    {
     "name": "stderr",
     "output_type": "stream",
     "text": [
      "┌ Warning: Mapping to the storage type failed; perhaps your data had out-of-range values?\n",
      "│ Try `map(clamp01nan, img)` to clamp values to a valid range.\n",
      "└ @ ImageMagick C:\\Users\\Lukas\\.julia\\packages\\ImageMagick\\b8swT\\src\\ImageMagick.jl:180\n",
      "\u001b[32mProgress:  97%|████████████████████████████████████████ |  ETA: 0:00:52\u001b[39m"
     ]
    },
    {
     "name": "stdout",
     "output_type": "stream",
     "text": [
      "Steps: 549, tries: 13\r"
     ]
    },
    {
     "name": "stderr",
     "output_type": "stream",
     "text": [
      "┌ Warning: Mapping to the storage type failed; perhaps your data had out-of-range values?\n",
      "│ Try `map(clamp01nan, img)` to clamp values to a valid range.\n",
      "└ @ ImageMagick C:\\Users\\Lukas\\.julia\\packages\\ImageMagick\\b8swT\\src\\ImageMagick.jl:180\n",
      "\u001b[32mProgress:  97%|████████████████████████████████████████ |  ETA: 0:00:50\u001b[39m"
     ]
    },
    {
     "name": "stdout",
     "output_type": "stream",
     "text": [
      "Steps: 549, tries: 17\r"
     ]
    },
    {
     "name": "stderr",
     "output_type": "stream",
     "text": [
      "┌ Warning: Mapping to the storage type failed; perhaps your data had out-of-range values?\n",
      "│ Try `map(clamp01nan, img)` to clamp values to a valid range.\n",
      "└ @ ImageMagick C:\\Users\\Lukas\\.julia\\packages\\ImageMagick\\b8swT\\src\\ImageMagick.jl:180\n",
      "\u001b[32mProgress:  97%|████████████████████████████████████████ |  ETA: 0:00:47\u001b[39m"
     ]
    },
    {
     "name": "stdout",
     "output_type": "stream",
     "text": [
      "Steps: 549, tries: 66\r"
     ]
    },
    {
     "name": "stderr",
     "output_type": "stream",
     "text": [
      "┌ Warning: Mapping to the storage type failed; perhaps your data had out-of-range values?\n",
      "│ Try `map(clamp01nan, img)` to clamp values to a valid range.\n",
      "└ @ ImageMagick C:\\Users\\Lukas\\.julia\\packages\\ImageMagick\\b8swT\\src\\ImageMagick.jl:180\n",
      "\u001b[32mProgress:  97%|████████████████████████████████████████ |  ETA: 0:00:45\u001b[39m"
     ]
    },
    {
     "name": "stdout",
     "output_type": "stream",
     "text": [
      "Steps: 549, tries: 00\r"
     ]
    },
    {
     "name": "stderr",
     "output_type": "stream",
     "text": [
      "┌ Warning: Mapping to the storage type failed; perhaps your data had out-of-range values?\n",
      "│ Try `map(clamp01nan, img)` to clamp values to a valid range.\n",
      "└ @ ImageMagick C:\\Users\\Lukas\\.julia\\packages\\ImageMagick\\b8swT\\src\\ImageMagick.jl:180\n",
      "\u001b[32mProgress:  97%|████████████████████████████████████████ |  ETA: 0:00:43\u001b[39m"
     ]
    },
    {
     "name": "stdout",
     "output_type": "stream",
     "text": [
      "Steps: 549, tries: 34\r"
     ]
    },
    {
     "name": "stderr",
     "output_type": "stream",
     "text": [
      "┌ Warning: Mapping to the storage type failed; perhaps your data had out-of-range values?\n",
      "│ Try `map(clamp01nan, img)` to clamp values to a valid range.\n",
      "└ @ ImageMagick C:\\Users\\Lukas\\.julia\\packages\\ImageMagick\\b8swT\\src\\ImageMagick.jl:180\n",
      "\u001b[32mProgress:  98%|████████████████████████████████████████ |  ETA: 0:00:41\u001b[39m"
     ]
    },
    {
     "name": "stdout",
     "output_type": "stream",
     "text": [
      "Steps: 549, tries: 06\r"
     ]
    },
    {
     "name": "stderr",
     "output_type": "stream",
     "text": [
      "┌ Warning: Mapping to the storage type failed; perhaps your data had out-of-range values?\n",
      "│ Try `map(clamp01nan, img)` to clamp values to a valid range.\n",
      "└ @ ImageMagick C:\\Users\\Lukas\\.julia\\packages\\ImageMagick\\b8swT\\src\\ImageMagick.jl:180\n",
      "\u001b[32mProgress:  98%|█████████████████████████████████████████|  ETA: 0:00:39\u001b[39m"
     ]
    },
    {
     "name": "stdout",
     "output_type": "stream",
     "text": [
      "Steps: 549, tries: 36\r"
     ]
    },
    {
     "name": "stderr",
     "output_type": "stream",
     "text": [
      "┌ Warning: Mapping to the storage type failed; perhaps your data had out-of-range values?\n",
      "│ Try `map(clamp01nan, img)` to clamp values to a valid range.\n",
      "└ @ ImageMagick C:\\Users\\Lukas\\.julia\\packages\\ImageMagick\\b8swT\\src\\ImageMagick.jl:180\n",
      "\u001b[32mProgress:  98%|█████████████████████████████████████████|  ETA: 0:00:37\u001b[39m"
     ]
    },
    {
     "name": "stdout",
     "output_type": "stream",
     "text": [
      "Steps: 549, tries: 24\r"
     ]
    },
    {
     "name": "stderr",
     "output_type": "stream",
     "text": [
      "┌ Warning: Mapping to the storage type failed; perhaps your data had out-of-range values?\n",
      "│ Try `map(clamp01nan, img)` to clamp values to a valid range.\n",
      "└ @ ImageMagick C:\\Users\\Lukas\\.julia\\packages\\ImageMagick\\b8swT\\src\\ImageMagick.jl:180\n",
      "\r"
     ]
    },
    {
     "name": "stdout",
     "output_type": "stream",
     "text": [
      "Steps: 123, tries: 28\r"
     ]
    },
    {
     "name": "stderr",
     "output_type": "stream",
     "text": [
      "\u001b[32mProgress:  98%|█████████████████████████████████████████|  ETA: 0:00:35\u001b[39m"
     ]
    },
    {
     "name": "stdout",
     "output_type": "stream",
     "text": [
      "Steps: 549, tries: 70\r"
     ]
    },
    {
     "name": "stderr",
     "output_type": "stream",
     "text": [
      "┌ Warning: Mapping to the storage type failed; perhaps your data had out-of-range values?\n",
      "│ Try `map(clamp01nan, img)` to clamp values to a valid range.\n",
      "└ @ ImageMagick C:\\Users\\Lukas\\.julia\\packages\\ImageMagick\\b8swT\\src\\ImageMagick.jl:180\n",
      "\u001b[32mProgress:  98%|█████████████████████████████████████████|  ETA: 0:00:33\u001b[39m"
     ]
    },
    {
     "name": "stdout",
     "output_type": "stream",
     "text": [
      "Steps: 549, tries: 09\r"
     ]
    },
    {
     "name": "stderr",
     "output_type": "stream",
     "text": [
      "┌ Warning: Mapping to the storage type failed; perhaps your data had out-of-range values?\n",
      "│ Try `map(clamp01nan, img)` to clamp values to a valid range.\n",
      "└ @ ImageMagick C:\\Users\\Lukas\\.julia\\packages\\ImageMagick\\b8swT\\src\\ImageMagick.jl:180\n",
      "\u001b[32mProgress:  98%|█████████████████████████████████████████|  ETA: 0:00:31\u001b[39m"
     ]
    },
    {
     "name": "stdout",
     "output_type": "stream",
     "text": [
      "Steps: 421, tries: 99\r"
     ]
    },
    {
     "name": "stderr",
     "output_type": "stream",
     "text": [
      "┌ Warning: Mapping to the storage type failed; perhaps your data had out-of-range values?\n",
      "│ Try `map(clamp01nan, img)` to clamp values to a valid range.\n",
      "└ @ ImageMagick C:\\Users\\Lukas\\.julia\\packages\\ImageMagick\\b8swT\\src\\ImageMagick.jl:180\n",
      "\u001b[32mProgress:  98%|█████████████████████████████████████████|  ETA: 0:00:29\u001b[39m"
     ]
    },
    {
     "name": "stdout",
     "output_type": "stream",
     "text": [
      "Steps: 354, tries: 99\r"
     ]
    },
    {
     "name": "stderr",
     "output_type": "stream",
     "text": [
      "┌ Warning: Mapping to the storage type failed; perhaps your data had out-of-range values?\n",
      "│ Try `map(clamp01nan, img)` to clamp values to a valid range.\n",
      "└ @ ImageMagick C:\\Users\\Lukas\\.julia\\packages\\ImageMagick\\b8swT\\src\\ImageMagick.jl:180\n",
      "\u001b[32mProgress:  98%|█████████████████████████████████████████|  ETA: 0:00:27\u001b[39m"
     ]
    },
    {
     "name": "stdout",
     "output_type": "stream",
     "text": [
      "Steps: 549, tries: 12\r"
     ]
    },
    {
     "name": "stderr",
     "output_type": "stream",
     "text": [
      "┌ Warning: Mapping to the storage type failed; perhaps your data had out-of-range values?\n",
      "│ Try `map(clamp01nan, img)` to clamp values to a valid range.\n",
      "└ @ ImageMagick C:\\Users\\Lukas\\.julia\\packages\\ImageMagick\\b8swT\\src\\ImageMagick.jl:180\n",
      "\u001b[32mProgress:  98%|█████████████████████████████████████████|  ETA: 0:00:25\u001b[39m"
     ]
    },
    {
     "name": "stdout",
     "output_type": "stream",
     "text": [
      "Steps: 549, tries: 08\r"
     ]
    },
    {
     "name": "stderr",
     "output_type": "stream",
     "text": [
      "┌ Warning: Mapping to the storage type failed; perhaps your data had out-of-range values?\n",
      "│ Try `map(clamp01nan, img)` to clamp values to a valid range.\n",
      "└ @ ImageMagick C:\\Users\\Lukas\\.julia\\packages\\ImageMagick\\b8swT\\src\\ImageMagick.jl:180\n",
      "\u001b[32mProgress:  99%|█████████████████████████████████████████|  ETA: 0:00:23\u001b[39m"
     ]
    },
    {
     "name": "stdout",
     "output_type": "stream",
     "text": [
      "Steps: 549, tries: 57\r"
     ]
    },
    {
     "name": "stderr",
     "output_type": "stream",
     "text": [
      "┌ Warning: Mapping to the storage type failed; perhaps your data had out-of-range values?\n",
      "│ Try `map(clamp01nan, img)` to clamp values to a valid range.\n",
      "└ @ ImageMagick C:\\Users\\Lukas\\.julia\\packages\\ImageMagick\\b8swT\\src\\ImageMagick.jl:180\n",
      "\u001b[32mProgress:  99%|█████████████████████████████████████████|  ETA: 0:00:21\u001b[39m"
     ]
    },
    {
     "name": "stdout",
     "output_type": "stream",
     "text": [
      "Steps: 549, tries: 32\r"
     ]
    },
    {
     "name": "stderr",
     "output_type": "stream",
     "text": [
      "┌ Warning: Mapping to the storage type failed; perhaps your data had out-of-range values?\n",
      "│ Try `map(clamp01nan, img)` to clamp values to a valid range.\n",
      "└ @ ImageMagick C:\\Users\\Lukas\\.julia\\packages\\ImageMagick\\b8swT\\src\\ImageMagick.jl:180\n",
      "\u001b[32mProgress:  99%|█████████████████████████████████████████|  ETA: 0:00:19\u001b[39m"
     ]
    },
    {
     "name": "stdout",
     "output_type": "stream",
     "text": [
      "Steps: 549, tries: 37\r"
     ]
    },
    {
     "name": "stderr",
     "output_type": "stream",
     "text": [
      "┌ Warning: Mapping to the storage type failed; perhaps your data had out-of-range values?\n",
      "│ Try `map(clamp01nan, img)` to clamp values to a valid range.\n",
      "└ @ ImageMagick C:\\Users\\Lukas\\.julia\\packages\\ImageMagick\\b8swT\\src\\ImageMagick.jl:180\n",
      "\r"
     ]
    },
    {
     "name": "stdout",
     "output_type": "stream",
     "text": [
      "Steps: 106, tries: 90\r"
     ]
    },
    {
     "name": "stderr",
     "output_type": "stream",
     "text": [
      "\u001b[32mProgress:  99%|█████████████████████████████████████████|  ETA: 0:00:17\u001b[39m"
     ]
    },
    {
     "name": "stdout",
     "output_type": "stream",
     "text": [
      "Steps: 549, tries: 14\r"
     ]
    },
    {
     "name": "stderr",
     "output_type": "stream",
     "text": [
      "┌ Warning: Mapping to the storage type failed; perhaps your data had out-of-range values?\n",
      "│ Try `map(clamp01nan, img)` to clamp values to a valid range.\n",
      "└ @ ImageMagick C:\\Users\\Lukas\\.julia\\packages\\ImageMagick\\b8swT\\src\\ImageMagick.jl:180\n",
      "\u001b[32mProgress:  99%|█████████████████████████████████████████|  ETA: 0:00:15\u001b[39m"
     ]
    },
    {
     "name": "stdout",
     "output_type": "stream",
     "text": [
      "Steps: 549, tries: 37\r"
     ]
    },
    {
     "name": "stderr",
     "output_type": "stream",
     "text": [
      "┌ Warning: Mapping to the storage type failed; perhaps your data had out-of-range values?\n",
      "│ Try `map(clamp01nan, img)` to clamp values to a valid range.\n",
      "└ @ ImageMagick C:\\Users\\Lukas\\.julia\\packages\\ImageMagick\\b8swT\\src\\ImageMagick.jl:180\n",
      "\u001b[32mProgress:  99%|█████████████████████████████████████████|  ETA: 0:00:12\u001b[39m"
     ]
    },
    {
     "name": "stdout",
     "output_type": "stream",
     "text": [
      "Steps: 549, tries: 15\r"
     ]
    },
    {
     "name": "stderr",
     "output_type": "stream",
     "text": [
      "┌ Warning: Mapping to the storage type failed; perhaps your data had out-of-range values?\n",
      "│ Try `map(clamp01nan, img)` to clamp values to a valid range.\n",
      "└ @ ImageMagick C:\\Users\\Lukas\\.julia\\packages\\ImageMagick\\b8swT\\src\\ImageMagick.jl:180\n",
      "\u001b[32mProgress:  99%|█████████████████████████████████████████|  ETA: 0:00:10\u001b[39m"
     ]
    },
    {
     "name": "stdout",
     "output_type": "stream",
     "text": [
      "Steps: 435, tries: 99\r"
     ]
    },
    {
     "name": "stderr",
     "output_type": "stream",
     "text": [
      "┌ Warning: Mapping to the storage type failed; perhaps your data had out-of-range values?\n",
      "│ Try `map(clamp01nan, img)` to clamp values to a valid range.\n",
      "└ @ ImageMagick C:\\Users\\Lukas\\.julia\\packages\\ImageMagick\\b8swT\\src\\ImageMagick.jl:180\n",
      "\u001b[32mProgress: 100%|█████████████████████████████████████████|  ETA: 0:00:08\u001b[39m"
     ]
    },
    {
     "name": "stdout",
     "output_type": "stream",
     "text": [
      "Steps: 549, tries: 17\r"
     ]
    },
    {
     "name": "stderr",
     "output_type": "stream",
     "text": [
      "┌ Warning: Mapping to the storage type failed; perhaps your data had out-of-range values?\n",
      "│ Try `map(clamp01nan, img)` to clamp values to a valid range.\n",
      "└ @ ImageMagick C:\\Users\\Lukas\\.julia\\packages\\ImageMagick\\b8swT\\src\\ImageMagick.jl:180\n",
      "\u001b[32mProgress: 100%|█████████████████████████████████████████|  ETA: 0:00:06\u001b[39m"
     ]
    },
    {
     "name": "stdout",
     "output_type": "stream",
     "text": [
      "Steps: 549, tries: 23\r"
     ]
    },
    {
     "name": "stderr",
     "output_type": "stream",
     "text": [
      "┌ Warning: Mapping to the storage type failed; perhaps your data had out-of-range values?\n",
      "│ Try `map(clamp01nan, img)` to clamp values to a valid range.\n",
      "└ @ ImageMagick C:\\Users\\Lukas\\.julia\\packages\\ImageMagick\\b8swT\\src\\ImageMagick.jl:180\n",
      "\u001b[32mProgress: 100%|█████████████████████████████████████████|  ETA: 0:00:04\u001b[39m"
     ]
    },
    {
     "name": "stdout",
     "output_type": "stream",
     "text": [
      "Steps: 549, tries: 37\r"
     ]
    },
    {
     "name": "stderr",
     "output_type": "stream",
     "text": [
      "┌ Warning: Mapping to the storage type failed; perhaps your data had out-of-range values?\n",
      "│ Try `map(clamp01nan, img)` to clamp values to a valid range.\n",
      "└ @ ImageMagick C:\\Users\\Lukas\\.julia\\packages\\ImageMagick\\b8swT\\src\\ImageMagick.jl:180\n",
      "\u001b[32mProgress: 100%|█████████████████████████████████████████|  ETA: 0:00:02\u001b[39m"
     ]
    },
    {
     "name": "stdout",
     "output_type": "stream",
     "text": [
      "Steps: 549, tries: 12\r"
     ]
    },
    {
     "name": "stderr",
     "output_type": "stream",
     "text": [
      "┌ Warning: Mapping to the storage type failed; perhaps your data had out-of-range values?\n",
      "│ Try `map(clamp01nan, img)` to clamp values to a valid range.\n",
      "└ @ ImageMagick C:\\Users\\Lukas\\.julia\\packages\\ImageMagick\\b8swT\\src\\ImageMagick.jl:180\n",
      "\u001b[32mProgress: 100%|█████████████████████████████████████████| Time: 0:27:38\u001b[39m\n"
     ]
    }
   ],
   "source": [
    "J = [10. 0. 1; 0. 0. 0.; 1. 0. 10.]\n",
    "h = zeros(500, 500)\n",
    "h[100:400, 200:300] = -5*ones(301, 101)\n",
    "h[100:200, 300:400] = -5*ones(101, 101)\n",
    "h[250:320, 300:370] = -5*ones(71, 71)\n",
    "\n",
    "model = IsingFixed(ones(500, 500), J, β=4, h=h)\n",
    "randomize!(model)\n",
    "\n",
    "@showprogress for j=1:800\n",
    "    evolve!(model, 550)\n",
    "    plot(model)\n",
    "    save(\"files/\" * lpad(j, 4, \"0\") * \".png\", plot(model))\n",
    "    # the result is saved to animate.mp4\n",
    "end"
   ]
  },
  {
   "cell_type": "code",
   "execution_count": null,
   "id": "4dbbac10-c9a8-4bcd-b562-1684a82967ea",
   "metadata": {},
   "outputs": [],
   "source": []
  }
 ],
 "metadata": {
  "kernelspec": {
   "display_name": "Julia 1.8.0",
   "language": "julia",
   "name": "julia-1.8"
  },
  "language_info": {
   "file_extension": ".jl",
   "mimetype": "application/julia",
   "name": "julia",
   "version": "1.8.0"
  }
 },
 "nbformat": 4,
 "nbformat_minor": 5
}
