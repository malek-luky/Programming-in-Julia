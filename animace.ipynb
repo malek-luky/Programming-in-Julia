{
 "cells": [
  {
   "cell_type": "markdown",
   "id": "1aa802d4-1fe9-4562-8535-fb4aab140e49",
   "metadata": {},
   "source": [
    "# Animace"
   ]
  },
  {
   "cell_type": "code",
   "execution_count": 1,
   "id": "664feace-6e12-48d3-8552-fafd941cf17e",
   "metadata": {},
   "outputs": [],
   "source": [
    "include(\"ising.jl\")\n",
    "using .Ising, LinearAlgebra, ProgressMeter, Images"
   ]
  },
  {
   "cell_type": "code",
   "execution_count": null,
   "id": "2bb55ac2-3acc-427f-a72a-c77b15884ec3",
   "metadata": {},
   "outputs": [
    {
     "name": "stdout",
     "output_type": "stream",
     "text": [
      "Steps: 299, tries: 0\r"
     ]
    }
   ],
   "source": [
    "J = [10. 0. 1; 0. 0. 0.; 1. 0. 10.]\n",
    "h = zeros(500, 500)\n",
    "h[100:400, 200:300] = -5*ones(301, 101)\n",
    "h[100:200, 300:400] = -5*ones(101, 101)\n",
    "h[250:320, 300:370] = -5*ones(71, 71)\n",
    "\n",
    "model = IsingFixed(ones(500, 500), J, β=4, h=h)\n",
    "randomize!(model)\n",
    "\n",
    "@showprogress for j=1:800\n",
    "    evolve!(model, 550)\n",
    "    write(\"files/\" * lpad(j, 4, \"0\") * \".png\", plot(model))\n",
    "end"
   ]
  },
  {
   "cell_type": "code",
   "execution_count": null,
   "id": "4dbbac10-c9a8-4bcd-b562-1684a82967ea",
   "metadata": {},
   "outputs": [],
   "source": []
  }
 ],
 "metadata": {
  "kernelspec": {
   "display_name": "Julia 1.8.0",
   "language": "julia",
   "name": "julia-1.8"
  },
  "language_info": {
   "file_extension": ".jl",
   "mimetype": "application/julia",
   "name": "julia",
   "version": "1.8.0"
  }
 },
 "nbformat": 4,
 "nbformat_minor": 5
}
