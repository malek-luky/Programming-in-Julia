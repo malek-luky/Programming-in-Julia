{
 "cells": [
  {
   "cell_type": "markdown",
   "id": "c2b96a30-dff4-4581-a50d-443b98e1fbaf",
   "metadata": {},
   "source": [
    "# Demonstrační kód"
   ]
  },
  {
   "cell_type": "code",
   "execution_count": 1,
   "id": "195fc7db-d35e-439c-8626-63824a253833",
   "metadata": {},
   "outputs": [
    {
     "name": "stdout",
     "output_type": "stream",
     "text": [
      "1.862645149230957e-9\n"
     ]
    },
    {
     "data": {
      "text/plain": [
       "1.8626451518330422e-9"
      ]
     },
     "execution_count": 1,
     "metadata": {},
     "output_type": "execute_result"
    }
   ],
   "source": [
    "# FLOAT64\n",
    "x = Float64(1 + 2^(-29))\n",
    "y = Float64(1 + 2^(-30))\n",
    "res_float = x^2-y^2\n",
    "println(res_float)\n",
    "res_float2 = (x+y)*(x−y)"
   ]
  },
  {
   "cell_type": "code",
   "execution_count": 2,
   "id": "3035cb11-c306-4ab9-974a-cb0ad6a0a336",
   "metadata": {},
   "outputs": [
    {
     "name": "stdout",
     "output_type": "stream",
     "text": [
      "1.862645151833042245215210641617886722087860107421875e-09\n"
     ]
    },
    {
     "data": {
      "text/plain": [
       "1.862645151833042245215210641617886722087860107421875e-09"
      ]
     },
     "execution_count": 2,
     "metadata": {},
     "output_type": "execute_result"
    }
   ],
   "source": [
    "# BIG FLOAT\n",
    "x = BigFloat(1 + 2^(-29)) #není exaktní pro např 1/3\n",
    "y = BigFloat(1 + 2^(-30))\n",
    "res_big = x^2-y^2\n",
    "println(res_big)\n",
    "res_big2 = (x+y)*(x−y)"
   ]
  },
  {
   "cell_type": "code",
   "execution_count": 3,
   "id": "41334669-6c56-47e5-b8d2-3fd3873400be",
   "metadata": {},
   "outputs": [
    {
     "name": "stdout",
     "output_type": "stream",
     "text": [
      "3//1152921504606846976\n"
     ]
    },
    {
     "data": {
      "text/plain": [
       "3//1152921504606846976"
      ]
     },
     "execution_count": 3,
     "metadata": {},
     "output_type": "execute_result"
    }
   ],
   "source": [
    "# RATIONAL\n",
    "x = 1 // 2^(29) #nejpresnejsi\n",
    "y = 1 // 2^(30)\n",
    "res_rational = x^2-y^2\n",
    "println(res_rational)\n",
    "res_rational2 = (x+y)*(x−y)"
   ]
  },
  {
   "cell_type": "code",
   "execution_count": 4,
   "id": "6e3148f1-8a0c-4bed-9c17-35611fe29b8e",
   "metadata": {
    "tags": []
   },
   "outputs": [
    {
     "data": {
      "text/plain": [
       "0.0"
      ]
     },
     "execution_count": 4,
     "metadata": {},
     "output_type": "execute_result"
    }
   ],
   "source": [
    "# PRO BIG FLOAT VYJDOU VYSLEDKY STEJNE\n",
    "# nahoda, pro 1/3 by to bylo chybne\n",
    "res_big - res_big2"
   ]
  },
  {
   "cell_type": "code",
   "execution_count": 5,
   "id": "2ef68daa-fd69-4443-aef4-0a4392030134",
   "metadata": {},
   "outputs": [
    {
     "data": {
      "text/plain": [
       "0//1"
      ]
     },
     "execution_count": 5,
     "metadata": {},
     "output_type": "execute_result"
    }
   ],
   "source": [
    "# RATIONAL\n",
    "# nejpresnejsi, pokud nepreteceme\n",
    "res_rational - res_rational2"
   ]
  },
  {
   "cell_type": "code",
   "execution_count": 6,
   "id": "2c756f1c-d867-4cd8-8be0-05f00f26f3f6",
   "metadata": {},
   "outputs": [
    {
     "data": {
      "text/plain": [
       "1.8626451466288718e-9"
      ]
     },
     "execution_count": 6,
     "metadata": {},
     "output_type": "execute_result"
    }
   ],
   "source": [
    "abs(res_float-res_rational)"
   ]
  },
  {
   "cell_type": "code",
   "execution_count": 7,
   "id": "d7245059-c07e-4dce-8832-1f50d23097dc",
   "metadata": {},
   "outputs": [
    {
     "data": {
      "text/plain": [
       "1.862645149230957e-9"
      ]
     },
     "execution_count": 7,
     "metadata": {},
     "output_type": "execute_result"
    }
   ],
   "source": [
    "abs(res_float2-res_rational)"
   ]
  },
  {
   "cell_type": "markdown",
   "id": "c58b99e8-a1d8-4ffb-a36d-082c52455c20",
   "metadata": {},
   "source": [
    "# Intervalová aritmetika"
   ]
  },
  {
   "cell_type": "code",
   "execution_count": 8,
   "id": "57c9ec5e-ab05-4c3c-a182-7be304a535c0",
   "metadata": {},
   "outputs": [],
   "source": [
    "using IntervalArithmetic"
   ]
  },
  {
   "cell_type": "code",
   "execution_count": 9,
   "id": "b189ae88-79f6-4731-94c9-87be779a42e6",
   "metadata": {},
   "outputs": [
    {
     "data": {
      "text/plain": [
       "true"
      ]
     },
     "execution_count": 9,
     "metadata": {},
     "output_type": "execute_result"
    }
   ],
   "source": [
    "x = Interval(Float64(1 + 2^(-29))) + Interval(-eps(Float64),eps(Float64))\n",
    "y = Interval(Float64(1 + 2^(-30))) + Interval(-eps(Float64),eps(Float64))\n",
    "res_interval = x*x - y*y\n",
    "res_interval2 = (x+y)*(x−y)\n",
    "res_interval < res_interval2 # x^2+y^2 je přesnější!"
   ]
  },
  {
   "cell_type": "markdown",
   "id": "c40f50c5-dd09-4224-99bf-ed75007766e6",
   "metadata": {},
   "source": [
    "# Otázky + Odpovědi"
   ]
  },
  {
   "cell_type": "markdown",
   "id": "d4c7be7d-e567-4e68-b68c-7ed1e3d6ab86",
   "metadata": {},
   "source": [
    "1) Jak se tato přesná hodnota liší od hodnoty získané pomocí standardních operací s čísly typu Float64?\n",
    "    * Přesnou hodnotu neznáme, nejblíže se k ní dokážeme přiblížit použitím `BigFloat`\n",
    "\n",
    "2. Jak se tato přesná hodnota liší od hodnoty (z matematicky identického) výrazu `(x+y)(x−y)` opět vyhodnoceného v aritmetice strojových čísel?\n",
    "    * Pro `Float64` se nám to liší v řádu miliontin, pro `BigFloat` máme totožná čísla\n",
    "    \n",
    "3. Která z hodnot získaná počítáním se strojovými čísly je přesnější (to bez znalosti exaktní hodnoty nelze určit)?\n",
    "    * Vidíme, že `(x+y)*(x-y)` je přesnější, respektive počítání druhé mocniny nevede k tak přesným výsledkům\n",
    "    \n",
    "4. Získáme z příslušných výsledků (intervalové aritmetiky) nějakou informaci, kterou jsme v předchozích výpočtech s obyčejnými strojovými čísly neměli?\n",
    "    * Využitím intervalové aritmetiky získáme nějakou představu o přesnosti. Vidíme, že interval vypočítaný jako `x^2 + y^2` je kupodivu přesnější"
   ]
  }
 ],
 "metadata": {
  "kernelspec": {
   "display_name": "Julia 1.8.0",
   "language": "julia",
   "name": "julia-1.8"
  },
  "language_info": {
   "file_extension": ".jl",
   "mimetype": "application/julia",
   "name": "julia",
   "version": "1.8.0"
  }
 },
 "nbformat": 4,
 "nbformat_minor": 5
}
