{
 "cells": [
  {
   "cell_type": "markdown",
   "id": "803fd972-fc84-4653-aed9-98113471d3b3",
   "metadata": {},
   "source": [
    "# SLOVNICEK POJMU\n",
    "* funkce: nami definovana funkce - viz níže same_type()\n",
    "* metoda: \"podfunkce\" dane funkce (muzeme nadefinovat pro ruzne typy parametru ruzne vysledky)\n",
    "* typ: druh vstupniho parametru (Float64, Int, Nubmer, String...)\n",
    "* parametr: vstupni promenna, lze priradit konkretni typ\n",
    "* :: priradi parametru konkretni typ (Float64, Int apod)\n",
    "* <: subtype, napriklad T<:Float64 se pta zda T je type Float64\n",
    "* ::T nam priradi neznamy typ T, musime urcit pomocí where\n",
    "* where {} nam blize definuje neznamy typ T\n",
    "* where {T} nejobecnejsi - jedine co rika je ze oba parametry musi mit stejny typ, jedno jaky\n",
    "* where {T<:Float64} uz rika, ze neznamy typ T musi byt typem Float64\n"
   ]
  },
  {
   "cell_type": "code",
   "execution_count": 1,
   "id": "48852df4-1198-4e8e-9cfc-e50bff30936a",
   "metadata": {},
   "outputs": [
    {
     "data": {
      "text/plain": [
       "same_type (generic function with 4 methods)"
      ]
     },
     "execution_count": 1,
     "metadata": {},
     "output_type": "execute_result"
    }
   ],
   "source": [
    "# METODA 1\n",
    "same_type(x::T, y::T) where {T<:Float64} = 1 #plati pouze pro Float64, pokud bychom nechali pouze {T}, plati pro libovolne dva stejne typy\n",
    "\n",
    "# METODA 2\n",
    "same_type(x::T, y::T) where {T} = 2\n",
    "\n",
    "# METODA 3\n",
    "same_type(x::Float64, y::Float64)= 3 #prepise metodu 1\n",
    "\n",
    "# METODA 4\n",
    "same_type(x::Int64, y::Int64)= 4\n",
    "\n",
    "# METODA 5\n",
    "same_type(x,y) = 5 #pochyta ostatni pripady, kdy se nesplni metody nadefinovane vyse"
   ]
  },
  {
   "cell_type": "code",
   "execution_count": 2,
   "id": "45787b70-6a7a-4aa4-970c-4fc103ca36b6",
   "metadata": {},
   "outputs": [
    {
     "data": {
      "text/html": [
       "# 4 methods for generic function <b>same_type</b>:<ul><li> same_type(x::<b>Float64</b>, y::<b>Float64</b>) in Main at In[1]:8</li> <li> same_type(x::<b>Int64</b>, y::<b>Int64</b>) in Main at In[1]:11</li> <li> same_type(x::<b>T</b>, y::<b>T</b>)<i> where T</i> in Main at In[1]:5</li> <li> same_type(x, y) in Main at In[1]:14</li> </ul>"
      ],
      "text/plain": [
       "# 4 methods for generic function \"same_type\":\n",
       "[1] same_type(x::Float64, y::Float64) in Main at In[1]:8\n",
       "[2] same_type(x::Int64, y::Int64) in Main at In[1]:11\n",
       "[3] same_type(x::T, y::T) where T in Main at In[1]:5\n",
       "[4] same_type(x, y) in Main at In[1]:14"
      ]
     },
     "execution_count": 2,
     "metadata": {},
     "output_type": "execute_result"
    }
   ],
   "source": [
    "methods(same_type) #chybi prepsana metoda 1"
   ]
  },
  {
   "cell_type": "code",
   "execution_count": 3,
   "id": "77b7e368-47b6-4865-88f1-e96fe4244cf0",
   "metadata": {},
   "outputs": [
    {
     "data": {
      "text/html": [
       "# 3 methods for generic function <b>same_type</b>:<ul><li> same_type(x::<b>Float64</b>, y::<b>Float64</b>) in Main at In[1]:8</li> <li> same_type(x::<b>Int64</b>, y::<b>Int64</b>) in Main at In[1]:11</li> <li> same_type(x::<b>T</b>, y::<b>T</b>)<i> where T</i> in Main at In[1]:5</li> </ul>"
      ],
      "text/plain": [
       "# 3 methods for generic function \"same_type\":\n",
       "[1] same_type(x::Float64, y::Float64) in Main at In[1]:8\n",
       "[2] same_type(x::Int64, y::Int64) in Main at In[1]:11\n",
       "[3] same_type(x::T, y::T) where T in Main at In[1]:5"
      ]
     },
     "execution_count": 3,
     "metadata": {},
     "output_type": "execute_result"
    }
   ],
   "source": [
    "# DELETING METHOD\n",
    "m = @which same_type(\"ahoj\",2.0)\n",
    "typeof(same_type)\n",
    "Base.delete_method(m) #vymaze info o metode 5\n",
    "methods(same_type)"
   ]
  },
  {
   "cell_type": "code",
   "execution_count": 4,
   "id": "2aebaa39-66af-41d8-acc2-21ee021f7bfd",
   "metadata": {},
   "outputs": [
    {
     "data": {
      "text/plain": [
       "3"
      ]
     },
     "execution_count": 4,
     "metadata": {},
     "output_type": "execute_result"
    }
   ],
   "source": [
    "same_type(1.0, 2.0) #metoda"
   ]
  },
  {
   "cell_type": "markdown",
   "id": "5bacb3b5-68aa-4070-983f-3b6f04253e81",
   "metadata": {},
   "source": [
    "# PRACTICAL EXAMPLE"
   ]
  },
  {
   "cell_type": "code",
   "execution_count": 5,
   "id": "6a60a829-7db8-4936-a1c9-fd5c5792bdef",
   "metadata": {},
   "outputs": [
    {
     "data": {
      "text/plain": [
       "15"
      ]
     },
     "execution_count": 5,
     "metadata": {},
     "output_type": "execute_result"
    }
   ],
   "source": [
    "# APPEND\n",
    "myappend(v::Vector{T}, x::T) where {T} = [v..., x]\n",
    "\n",
    "# SUMA\n",
    "∑(v) = +(v...) #+(2,3)=5, here we some all inputs"
   ]
  },
  {
   "cell_type": "code",
   "execution_count": null,
   "id": "2973c342-19f4-4a5b-a849-4b72c77b30c4",
   "metadata": {},
   "outputs": [],
   "source": [
    "∑([1,2,3,4,5])"
   ]
  },
  {
   "cell_type": "code",
   "execution_count": 6,
   "id": "1a428a2e-259c-4138-927a-095544bdbbbf",
   "metadata": {},
   "outputs": [
    {
     "data": {
      "text/plain": [
       "6-element Vector{Int64}:\n",
       " 1\n",
       " 2\n",
       " 3\n",
       " 4\n",
       " 5\n",
       " 6"
      ]
     },
     "execution_count": 6,
     "metadata": {},
     "output_type": "execute_result"
    }
   ],
   "source": [
    "myappend([1,2,3,4,5],6)"
   ]
  }
 ],
 "metadata": {
  "kernelspec": {
   "display_name": "Julia 1.8.0",
   "language": "julia",
   "name": "julia-1.8"
  },
  "language_info": {
   "file_extension": ".jl",
   "mimetype": "application/julia",
   "name": "julia",
   "version": "1.8.0"
  }
 },
 "nbformat": 4,
 "nbformat_minor": 5
}
