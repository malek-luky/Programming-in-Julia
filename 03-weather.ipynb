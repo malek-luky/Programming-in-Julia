{
 "cells": [
  {
   "cell_type": "markdown",
   "id": "c49931dd-dead-47fe-9bc5-7e23bc3c6518",
   "metadata": {},
   "source": [
    "# 3. Domácí úkol BI-JUL: Počasí"
   ]
  },
  {
   "cell_type": "code",
   "execution_count": null,
   "id": "2f8b6671-6f69-498f-866b-794acac0c619",
   "metadata": {},
   "outputs": [],
   "source": [
    "using DataFrames, CSV #, PyPlot, WLS, XLSX, ..."
   ]
  },
  {
   "cell_type": "markdown",
   "id": "ba886f8a-2fc2-4740-8070-7cb3c439bb9d",
   "metadata": {},
   "source": [
    "# Mauna Loa"
   ]
  },
  {
   "cell_type": "code",
   "execution_count": null,
   "id": "a36da122-94f4-4152-867c-bb62da50e3c5",
   "metadata": {},
   "outputs": [],
   "source": []
  },
  {
   "cell_type": "markdown",
   "id": "b802de78-9481-421d-8a10-c36145bf1a2c",
   "metadata": {},
   "source": [
    "# Klementinum"
   ]
  },
  {
   "cell_type": "code",
   "execution_count": null,
   "id": "014a372d-d1f9-42ab-9061-7bb96dcae54b",
   "metadata": {},
   "outputs": [],
   "source": []
  },
  {
   "cell_type": "markdown",
   "id": "9e9b0e0e-456d-4b5d-936e-0d5d79973e46",
   "metadata": {},
   "source": [
    "## Oceány"
   ]
  },
  {
   "cell_type": "code",
   "execution_count": null,
   "id": "4c5be961-d6de-49fd-bba1-9db9bf199c15",
   "metadata": {},
   "outputs": [],
   "source": []
  }
 ],
 "metadata": {
  "kernelspec": {
   "display_name": "Julia 1.8.2",
   "language": "julia",
   "name": "julia-1.8"
  },
  "language_info": {
   "file_extension": ".jl",
   "mimetype": "application/julia",
   "name": "julia",
   "version": "1.8.3"
  }
 },
 "nbformat": 4,
 "nbformat_minor": 5
}
